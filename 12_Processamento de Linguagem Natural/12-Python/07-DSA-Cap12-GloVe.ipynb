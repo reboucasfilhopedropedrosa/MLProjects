{
 "cells": [
  {
   "cell_type": "markdown",
   "metadata": {},
   "source": [
    "# <font color='blue'>Data Science Academy - Machine Learning</font>\n",
    "\n",
    "# <font color='blue'>Capítulo 12 - Processamento de Linguagem Natural</font>"
   ]
  },
  {
   "cell_type": "code",
   "execution_count": 1,
   "metadata": {},
   "outputs": [
    {
     "name": "stdout",
     "output_type": "stream",
     "text": [
      "Versão da Linguagem Python Usada Neste Jupyter Notebook: 3.7.6\n"
     ]
    }
   ],
   "source": [
    "# Versão da Linguagem Python\n",
    "from platform import python_version\n",
    "print('Versão da Linguagem Python Usada Neste Jupyter Notebook:', python_version())"
   ]
  },
  {
   "cell_type": "markdown",
   "metadata": {},
   "source": [
    "Obs: Este é um material de bônus incluído neste curso. PyTorch é estudado em detalhes no curso <a href=\"https://www.datascienceacademy.com.br/course?courseid=deep-learning-frameworks\">Deep Learning Frameworks</a> e aplicado em PLN no curso <a href=\"https://www.datascienceacademy.com.br/course?courseid=processamento-de-linguagem-natural-e-reconhecimento-de-voz\">Processamento de Linguagem Natural</a>."
   ]
  },
  {
   "cell_type": "markdown",
   "metadata": {},
   "source": [
    "### Estudo de Caso - Buscador de Palavras em Texto Por Similaridade"
   ]
  },
  {
   "cell_type": "markdown",
   "metadata": {},
   "source": [
    "![title](imagens/buscador.png)"
   ]
  },
  {
   "cell_type": "markdown",
   "metadata": {},
   "source": [
    "**A definição deste estudo de caso está no manual em pdf no Capítulo 12 do Curso de <a href=\"https://www.datascienceacademy.com.br/course?courseid=machine-learning-engineer\">Machine Learning</a>**. \n",
    "\n",
    "Faça a leitura do manual antes de prosseguir com o Estudo de Caso."
   ]
  },
  {
   "cell_type": "code",
   "execution_count": 2,
   "metadata": {},
   "outputs": [],
   "source": [
    "# Para atualizar um pacote, execute o comando abaixo no terminal ou prompt de comando:\n",
    "# pip install -U nome_pacote\n",
    "\n",
    "# Para instalar a versão exata de um pacote, execute o comando abaixo no terminal ou prompt de comando:\n",
    "# !pip install torch==1.5.0\n",
    "\n",
    "# Depois de instalar ou atualizar o pacote, reinicie o jupyter notebook.\n",
    "\n",
    "# Instala o pacote watermark. \n",
    "# Esse pacote é usado para gravar as versões de outros pacotes usados neste jupyter notebook.\n",
    "!pip install -q -U watermark"
   ]
  },
  {
   "cell_type": "code",
   "execution_count": 3,
   "metadata": {},
   "outputs": [],
   "source": [
    "# Instala o PyTorch\n",
    "!pip install -q torch "
   ]
  },
  {
   "cell_type": "code",
   "execution_count": 4,
   "metadata": {},
   "outputs": [
    {
     "data": {
      "text/plain": [
       "<torch._C.Generator at 0x7fedc0087810>"
      ]
     },
     "execution_count": 4,
     "metadata": {},
     "output_type": "execute_result"
    }
   ],
   "source": [
    "# Imports\n",
    "import torch\n",
    "import numpy as np\n",
    "import torch.nn as nn\n",
    "import torch.optim as optim\n",
    "import matplotlib\n",
    "import matplotlib.pyplot as plt\n",
    "from tqdm import tqdm\n",
    "from torch.autograd import Variable\n",
    "from nltk.tokenize import word_tokenize\n",
    "%matplotlib inline\n",
    "torch.manual_seed(1)"
   ]
  },
  {
   "cell_type": "code",
   "execution_count": 5,
   "metadata": {},
   "outputs": [
    {
     "name": "stdout",
     "output_type": "stream",
     "text": [
      "matplotlib 3.2.1\n",
      "numpy      1.18.4\n",
      "torch      1.5.0\n",
      "Data Science Academy\n"
     ]
    }
   ],
   "source": [
    "# Versões dos pacotes usados neste jupyter notebook\n",
    "%reload_ext watermark\n",
    "%watermark -a \"Data Science Academy\" --iversions"
   ]
  },
  {
   "cell_type": "markdown",
   "metadata": {},
   "source": [
    "### Carregando e Processando os Dados\n",
    "\n",
    "Para este estudo de caso, usaremos o famoso texto de Isaac Asimov: The Last Question.\n",
    "\n",
    "http://users.ece.cmu.edu/~gamvrosi/thelastq.html\n",
    "\n",
    "Traduzimos o texto e usaremos para treinar o modelo GloVe e depois buscar palavras por similaridade. Recomendados a leitura do arquivo asimov.txt (usado na célula abaixo) antes de executar o restante do Jupyter Notebook."
   ]
  },
  {
   "cell_type": "code",
   "execution_count": 6,
   "metadata": {},
   "outputs": [],
   "source": [
    "# Abre o arquivo para leitura e carrega na variável arquivo_texto\n",
    "arquivo_texto = open('dados/asimov.txt', 'r')"
   ]
  },
  {
   "cell_type": "code",
   "execution_count": 7,
   "metadata": {},
   "outputs": [],
   "source": [
    "# Converte as palavars para minúsculo\n",
    "texto = arquivo_texto.read().lower()"
   ]
  },
  {
   "cell_type": "code",
   "execution_count": 8,
   "metadata": {},
   "outputs": [],
   "source": [
    "# Fecha o arquivo\n",
    "arquivo_texto.close()"
   ]
  },
  {
   "cell_type": "code",
   "execution_count": 9,
   "metadata": {},
   "outputs": [],
   "source": [
    "# Tokenização do texto\n",
    "texto_token = word_tokenize(texto)"
   ]
  },
  {
   "cell_type": "code",
   "execution_count": 10,
   "metadata": {},
   "outputs": [],
   "source": [
    "# Variável para o comprimento total dos tokens\n",
    "comp_tokens = len(texto_token)"
   ]
  },
  {
   "cell_type": "code",
   "execution_count": 11,
   "metadata": {},
   "outputs": [
    {
     "name": "stdout",
     "output_type": "stream",
     "text": [
      "Número de Tokens:  5282\n"
     ]
    }
   ],
   "source": [
    "print(\"Número de Tokens: \", comp_tokens)"
   ]
  },
  {
   "cell_type": "markdown",
   "metadata": {},
   "source": [
    "### Criando o Vocabulário"
   ]
  },
  {
   "cell_type": "code",
   "execution_count": 12,
   "metadata": {},
   "outputs": [
    {
     "name": "stdout",
     "output_type": "stream",
     "text": [
      "Tamanho do Vocabulário: 1397\n"
     ]
    }
   ],
   "source": [
    "# Criando o vocabulário\n",
    "vocab = set(texto_token)\n",
    "vocab_size = len(vocab)\n",
    "print(\"Tamanho do Vocabulário:\", vocab_size)"
   ]
  },
  {
   "cell_type": "code",
   "execution_count": 13,
   "metadata": {},
   "outputs": [
    {
     "data": {
      "text/plain": [
       "{'tinha': 0,\n",
       " 'alcançou': 1,\n",
       " 'parar': 2,\n",
       " 'preciso': 3,\n",
       " 'descaso': 4,\n",
       " 'quadradas': 5,\n",
       " 'morrendo': 6,\n",
       " 'conheciam': 7,\n",
       " 'dessas': 8,\n",
       " 'estelar': 9,\n",
       " 'fazia-se': 10,\n",
       " 'filamentos': 11,\n",
       " 'tornavam-se': 12,\n",
       " 'enxergar': 13,\n",
       " 'cruzados': 14,\n",
       " 'aconchegante': 15,\n",
       " 'acredita': 16,\n",
       " 'consistiam-se': 17,\n",
       " 'anos…': 18,\n",
       " 'primitivo': 19,\n",
       " 'único': 20,\n",
       " 'nervosamente': 21,\n",
       " 'fundamentação': 22,\n",
       " 'maior': 23,\n",
       " 'te': 24,\n",
       " 'nosso': 25,\n",
       " 'deve': 26,\n",
       " 'computação': 27,\n",
       " 'farei': 28,\n",
       " 'risadas': 29,\n",
       " 'simples': 30,\n",
       " 'tentar': 31,\n",
       " 'i': 32,\n",
       " 'carcaça': 33,\n",
       " 'afigurava': 34,\n",
       " 'respiração': 35,\n",
       " 'fim.': 36,\n",
       " 'vezes': 37,\n",
       " 'pára': 38,\n",
       " 'creio': 39,\n",
       " 'planetário': 40,\n",
       " 'abaixo': 41,\n",
       " 'solucionou': 42,\n",
       " 'planetária': 43,\n",
       " 'estou': 44,\n",
       " 'nada': 45,\n",
       " 'finais': 46,\n",
       " 'questão': 47,\n",
       " 'ligar': 48,\n",
       " 'bilhões': 49,\n",
       " 'remoto': 50,\n",
       " 'exasperada': 51,\n",
       " 'produz': 52,\n",
       " 'contando': 53,\n",
       " 'ficariam': 54,\n",
       " 'máquinas': 55,\n",
       " 'abrigando': 56,\n",
       " 'centralizada': 57,\n",
       " 'lentamente': 58,\n",
       " 'boa': 59,\n",
       " 'sua': 60,\n",
       " 'resultado': 61,\n",
       " 'cujo': 62,\n",
       " 'colapso': 63,\n",
       " 'quero': 64,\n",
       " 'polegadas': 65,\n",
       " 'incrivelmente': 66,\n",
       " 'convertida': 67,\n",
       " 'insolúvel': 68,\n",
       " 'é': 69,\n",
       " 'será': 70,\n",
       " 'duas': 71,\n",
       " 'pense': 72,\n",
       " 'servia': 73,\n",
       " 'gota': 74,\n",
       " 'uniu-se': 75,\n",
       " 'cabeça': 76,\n",
       " 'ano.': 77,\n",
       " 'ela': 78,\n",
       " 'gasta': 79,\n",
       " 'feita': 80,\n",
       " 'crianças': 81,\n",
       " 'momentos': 82,\n",
       " 'aposto': 83,\n",
       " 'brilhantes': 84,\n",
       " 'milhão': 85,\n",
       " 'jerrodete': 86,\n",
       " 'lhes': 87,\n",
       " 'papel': 88,\n",
       " 'contaremos': 89,\n",
       " 'escolhido': 90,\n",
       " 'calmamente': 91,\n",
       " 'pouco.': 92,\n",
       " 'passou': 93,\n",
       " 'cabelo': 94,\n",
       " 'sala': 95,\n",
       " 'descansar': 96,\n",
       " 'recuperá-la': 97,\n",
       " 'sensação': 98,\n",
       " 'da': 99,\n",
       " 'companhia': 100,\n",
       " 'daquela': 101,\n",
       " 'dentro': 102,\n",
       " 'compartilhar': 103,\n",
       " 'agora.': 104,\n",
       " 'algo': 105,\n",
       " 'prontamente': 106,\n",
       " 'universo': 107,\n",
       " 'cuja': 108,\n",
       " 'agora': 109,\n",
       " 'humano': 110,\n",
       " 'individual': 111,\n",
       " 'gole': 112,\n",
       " 'abrigava': 113,\n",
       " 'infinidade': 114,\n",
       " 'incontável': 115,\n",
       " 'essência': 116,\n",
       " 'robô': 117,\n",
       " 'chegado': 118,\n",
       " 'corpos': 119,\n",
       " 'outra': 120,\n",
       " 'conscientes': 121,\n",
       " 'pilhas': 122,\n",
       " 'vai': 123,\n",
       " 'nenhuma': 124,\n",
       " 'ouviu': 125,\n",
       " 'habitava': 126,\n",
       " 'álcool': 127,\n",
       " 'anos': 128,\n",
       " 'utilização': 129,\n",
       " 'dar': 130,\n",
       " 'mais': 131,\n",
       " 'brilhante': 132,\n",
       " 'bastante': 133,\n",
       " 'colocou': 134,\n",
       " 'exploração': 135,\n",
       " 'vida.': 136,\n",
       " 'estrela': 137,\n",
       " 'humana': 138,\n",
       " 'bertram': 139,\n",
       " 'capturada': 140,\n",
       " 'usinas': 141,\n",
       " 'insuficientes': 142,\n",
       " 'nasceu': 143,\n",
       " 'vagavam': 144,\n",
       " 'inserida': 145,\n",
       " 'tridimensional': 146,\n",
       " 'haver': 147,\n",
       " 'mas': 148,\n",
       " 'pouco': 149,\n",
       " 'mármore': 150,\n",
       " 'você': 151,\n",
       " 'sempre': 152,\n",
       " 'bom': 153,\n",
       " 'pois': 154,\n",
       " 'posta': 155,\n",
       " 'resto': 156,\n",
       " 'ocupando': 157,\n",
       " 'crianças.': 158,\n",
       " 'lua': 159,\n",
       " 'acabaram': 160,\n",
       " 'tomar-lhe': 161,\n",
       " 'deixava': 162,\n",
       " 'difusos': 163,\n",
       " 'multivac.': 164,\n",
       " 'passagem': 165,\n",
       " 'distância': 166,\n",
       " 'fusão': 167,\n",
       " 'lados': 168,\n",
       " 'enterrado': 169,\n",
       " 'lar.': 170,\n",
       " 'possamos': 171,\n",
       " 'teve': 172,\n",
       " 'perguntas': 173,\n",
       " 'punhado': 174,\n",
       " 'hà': 175,\n",
       " 'fizeram': 176,\n",
       " 'ano': 177,\n",
       " 'bisneto': 178,\n",
       " 'aos': 179,\n",
       " 'explosão': 180,\n",
       " 'longas': 181,\n",
       " 'escuridão': 182,\n",
       " 'esse': 183,\n",
       " 'esfumaçados': 184,\n",
       " 'vou.': 185,\n",
       " 'mãos': 186,\n",
       " 'centenas': 187,\n",
       " 'pessoas': 188,\n",
       " 'junto': 189,\n",
       " 'negro': 190,\n",
       " '”': 191,\n",
       " 'suspirou': 192,\n",
       " 'correlacionados': 193,\n",
       " 'hidrogênio': 194,\n",
       " 'viviam': 195,\n",
       " 'estão': 196,\n",
       " 'pigarreou': 197,\n",
       " 'anjinhos': 198,\n",
       " 'gente': 199,\n",
       " 'natural': 200,\n",
       " 'alegremente': 201,\n",
       " 'aumentar': 202,\n",
       " 'unidades': 203,\n",
       " 'desajeitadas': 204,\n",
       " 'indistintamente': 205,\n",
       " 'consciência': 206,\n",
       " 'me': 207,\n",
       " 'assegurar': 208,\n",
       " 'ac': 209,\n",
       " 'sistema': 210,\n",
       " 'controlada': 211,\n",
       " 'lupov': 212,\n",
       " 'essa': 213,\n",
       " 'enormes': 214,\n",
       " 'acaba': 215,\n",
       " 'mostrou': 216,\n",
       " 'guiada': 217,\n",
       " 'entre': 218,\n",
       " 'perda': 219,\n",
       " 'mentes': 220,\n",
       " 'poderoso': 221,\n",
       " 'pensamento': 222,\n",
       " 'ao': 223,\n",
       " 'pilhas.': 224,\n",
       " 'bagagem': 225,\n",
       " 'conta': 226,\n",
       " 'metal': 227,\n",
       " 'tenham': 228,\n",
       " 'início': 229,\n",
       " 'manhã': 230,\n",
       " 'começaram': 231,\n",
       " 'conectado': 232,\n",
       " 'assistentes': 233,\n",
       " 'bela': 234,\n",
       " 'podia': 235,\n",
       " 'humanos': 236,\n",
       " 'colocar': 237,\n",
       " 'estar': 238,\n",
       " 'muitas': 239,\n",
       " 'galáctico': 240,\n",
       " 'década': 241,\n",
       " 'foram': 242,\n",
       " 'limitados': 243,\n",
       " 'aleatoriamente': 244,\n",
       " 'semelhante': 245,\n",
       " 'incomodá-lo': 246,\n",
       " 'toda': 247,\n",
       " 'humanidade': 248,\n",
       " 'retirou': 249,\n",
       " 'alguma': 250,\n",
       " 'evitada': 251,\n",
       " 'tinham': 252,\n",
       " 'trabalhando': 253,\n",
       " 'sobre': 254,\n",
       " 'época': 255,\n",
       " 'maneiras': 256,\n",
       " 'irão': 257,\n",
       " 'querida': 258,\n",
       " 'terra.': 259,\n",
       " 'precisa': 260,\n",
       " 'morrendo.': 261,\n",
       " 'implementadas': 262,\n",
       " 'cúbicas': 263,\n",
       " 'seguros': 264,\n",
       " 'pensando.': 265,\n",
       " 'durante': 266,\n",
       " 'tubo': 267,\n",
       " 'devíamos': 268,\n",
       " 'arcaico': 269,\n",
       " 'pálidas': 270,\n",
       " 'parede': 271,\n",
       " 'devemos': 272,\n",
       " 'conseguir': 273,\n",
       " 'apagarem': 274,\n",
       " 'de': 275,\n",
       " 'esbanjadoras': 276,\n",
       " 'antigos': 277,\n",
       " 'preocuparmos': 278,\n",
       " 'está': 279,\n",
       " 'válvulas': 280,\n",
       " 'destruídas': 281,\n",
       " 'pelo': 282,\n",
       " 'volume': 283,\n",
       " 'estiver': 284,\n",
       " 'líquido': 285,\n",
       " 'dissipava': 286,\n",
       " 'olhar': 287,\n",
       " 'adell': 288,\n",
       " 'absoluto': 289,\n",
       " 'máximo.': 290,\n",
       " 'pensamentos': 291,\n",
       " 'muito': 292,\n",
       " 'ponto': 293,\n",
       " 'feito.': 294,\n",
       " 'assentava': 295,\n",
       " 'disse': 296,\n",
       " 'podemos': 297,\n",
       " 'resposta': 298,\n",
       " 'rede': 299,\n",
       " '.': 300,\n",
       " 'qual': 301,\n",
       " 'espaçonave': 302,\n",
       " 'última': 303,\n",
       " 'faltem': 304,\n",
       " 'pergunta': 305,\n",
       " 'acabado': 306,\n",
       " 'famílias': 307,\n",
       " 'vê-la': 308,\n",
       " 'tomado': 309,\n",
       " 'significativa.': 310,\n",
       " 'significavam': 311,\n",
       " 'tantas': 312,\n",
       " 'completamente': 313,\n",
       " 'já': 314,\n",
       " 'surpreso': 315,\n",
       " 'meu': 316,\n",
       " 'fino': 317,\n",
       " 'praticamente': 318,\n",
       " 'quer': 319,\n",
       " 'brotou': 320,\n",
       " 'no': 321,\n",
       " 'sustentar': 322,\n",
       " 'globo': 323,\n",
       " 'infinito': 324,\n",
       " 'ficaram': 325,\n",
       " 'merecer': 326,\n",
       " 'fazê-lo': 327,\n",
       " 'destruí-lo': 328,\n",
       " 'abarcou': 329,\n",
       " 'pequeno': 330,\n",
       " 'levar': 331,\n",
       " 'antes': 332,\n",
       " 'faça-se': 333,\n",
       " 'soltou-se': 334,\n",
       " 'milhas': 335,\n",
       " 'sussurrou': 336,\n",
       " 'perplexo': 337,\n",
       " 'férias': 338,\n",
       " 'juventude': 339,\n",
       " 'lhe': 340,\n",
       " 'esta': 341,\n",
       " 'planeta': 342,\n",
       " 'transformar': 343,\n",
       " 'fraco': 344,\n",
       " 'tantos': 345,\n",
       " 'emaranhados': 346,\n",
       " 'inteligência': 347,\n",
       " 'lado': 348,\n",
       " 'entrou': 349,\n",
       " 'acordo': 350,\n",
       " 'haviam': 351,\n",
       " 'importava': 352,\n",
       " 'benéfico': 353,\n",
       " 'técnico': 354,\n",
       " 'mãe': 355,\n",
       " 'direito': 356,\n",
       " 'colete': 357,\n",
       " 'eons': 358,\n",
       " 'começando': 359,\n",
       " 'estalos': 360,\n",
       " 'ou': 361,\n",
       " 'predescessores': 362,\n",
       " 'atividade': 363,\n",
       " 'ajustava-se': 364,\n",
       " 'espesso': 365,\n",
       " 'frente': 366,\n",
       " 'acabadas': 367,\n",
       " 'nossos': 368,\n",
       " 'nunca': 369,\n",
       " 'apontou': 370,\n",
       " 'profundas': 371,\n",
       " 'necessária': 372,\n",
       " 'balançou': 373,\n",
       " 'descansaram': 374,\n",
       " 'fios': 375,\n",
       " 'preocupação': 376,\n",
       " 'surpreendido': 377,\n",
       " 'acabado.': 378,\n",
       " 'colegas': 379,\n",
       " 'neste': 380,\n",
       " 'peso': 381,\n",
       " 'parece-me': 382,\n",
       " 'dedos': 383,\n",
       " 'necessário': 384,\n",
       " 'presença': 385,\n",
       " 'adicionais.': 386,\n",
       " 'outro': 387,\n",
       " 'fica': 388,\n",
       " 'responder': 389,\n",
       " 'orbitando': 390,\n",
       " 'mundo': 391,\n",
       " 'combustível': 392,\n",
       " 'dia.': 393,\n",
       " 'termos': 394,\n",
       " 'quiséssemos': 395,\n",
       " 'asperamente': 396,\n",
       " 'espaços': 397,\n",
       " 'jerrodette': 398,\n",
       " 'trocar': 399,\n",
       " 'venha': 400,\n",
       " 'solitário': 401,\n",
       " 'linhas': 402,\n",
       " 'após': 403,\n",
       " 'brilhar': 404,\n",
       " 'drink': 405,\n",
       " 'operavam': 406,\n",
       " 'sucessor': 407,\n",
       " 'erguido': 408,\n",
       " 'aquietá-las.': 409,\n",
       " 'mais.': 410,\n",
       " 'são': 411,\n",
       " 'embaixo': 412,\n",
       " 'carvão': 413,\n",
       " 'gentil': 414,\n",
       " 'nos': 415,\n",
       " 'proporção': 416,\n",
       " 'problemas': 417,\n",
       " 'falta': 418,\n",
       " 'segundos': 419,\n",
       " 'terão': 420,\n",
       " 'tempo': 421,\n",
       " 'confidência': 422,\n",
       " 'preocupem': 423,\n",
       " 'relatório': 424,\n",
       " 'isso': 425,\n",
       " 'sutil': 426,\n",
       " 'nave': 427,\n",
       " 'dee': 428,\n",
       " 'fundo': 429,\n",
       " 'acs': 430,\n",
       " 'muitos': 431,\n",
       " 'incidente': 432,\n",
       " 'cruzar': 433,\n",
       " 'conhecido': 434,\n",
       " 'levou': 435,\n",
       " 'geométrica': 436,\n",
       " 'nível': 437,\n",
       " 'alimentavam': 438,\n",
       " 'deus': 439,\n",
       " 'princípio': 440,\n",
       " 'perdendo': 441,\n",
       " 'entropia': 442,\n",
       " 'plutão': 443,\n",
       " 'matéria': 444,\n",
       " 'saiba.': 445,\n",
       " 'guiar': 446,\n",
       " 'observando': 447,\n",
       " 'máximo': 448,\n",
       " 'tido': 449,\n",
       " 'acho': 450,\n",
       " 'alavanca': 451,\n",
       " 'cinzas.': 452,\n",
       " 'sentiríamos': 453,\n",
       " 'irá': 454,\n",
       " 'lembravam': 455,\n",
       " 'estaremos': 456,\n",
       " 'urânio': 457,\n",
       " 'poupada': 458,\n",
       " 'deixar': 459,\n",
       " '2061': 460,\n",
       " 'navegou': 461,\n",
       " '–': 462,\n",
       " 'mq-17j': 463,\n",
       " 'reservas': 464,\n",
       " 'paisagem': 465,\n",
       " 'caos': 466,\n",
       " 'lameth': 467,\n",
       " 'durar': 468,\n",
       " 'deixou': 469,\n",
       " 'novo': 470,\n",
       " 'transistores': 471,\n",
       " 'apesar': 472,\n",
       " 'corre': 473,\n",
       " 'novos': 474,\n",
       " 'quase': 475,\n",
       " 'iguais.': 476,\n",
       " 'pessoal': 477,\n",
       " 'jeito': 478,\n",
       " 'natureza': 479,\n",
       " 'apaguem.': 480,\n",
       " 'anã': 481,\n",
       " 'submésons': 482,\n",
       " 'intervalo': 483,\n",
       " 'assustados': 484,\n",
       " 'modo': 485,\n",
       " 'poderia': 486,\n",
       " 'forças': 487,\n",
       " 'iremos': 488,\n",
       " 'subterrâneas': 489,\n",
       " 'até': 490,\n",
       " 'grupo': 491,\n",
       " 'falando': 492,\n",
       " 'fumaça': 493,\n",
       " 'geração': 494,\n",
       " 'nossa': 495,\n",
       " 'identidade': 496,\n",
       " 'tem': 497,\n",
       " 'desafio': 498,\n",
       " 'bêbado': 499,\n",
       " 'cessaram': 500,\n",
       " 'viabilizado': 501,\n",
       " 'negra': 502,\n",
       " 'vez': 503,\n",
       " 'progressão': 504,\n",
       " 'chamou': 505,\n",
       " 'enviar': 506,\n",
       " 'duvido': 507,\n",
       " 'voz': 508,\n",
       " 'seus': 509,\n",
       " 'dava': 510,\n",
       " 'disso': 511,\n",
       " 'pergunto': 512,\n",
       " 'robozinho': 513,\n",
       " 'estrelas': 514,\n",
       " 'meio': 515,\n",
       " 'todas': 516,\n",
       " 'resultantes': 517,\n",
       " 'ver': 518,\n",
       " 'posso': 519,\n",
       " 'primeira': 520,\n",
       " 'diretamente': 521,\n",
       " 'vizinha': 522,\n",
       " 'disponível': 523,\n",
       " 'fizera': 524,\n",
       " 'conselho': 525,\n",
       " 'quantos': 526,\n",
       " 'fez': 527,\n",
       " 'paradigma': 528,\n",
       " 'correr': 529,\n",
       " 'chance': 530,\n",
       " 'fazer': 531,\n",
       " 'árvore': 532,\n",
       " 'vênus': 533,\n",
       " 'fim': 534,\n",
       " 'organizou': 535,\n",
       " 'acontecia': 536,\n",
       " 'melodiosa': 537,\n",
       " 'processando': 538,\n",
       " 'coletar': 539,\n",
       " 'jazia': 540,\n",
       " 'automatic': 541,\n",
       " 'tontura': 542,\n",
       " 'ambos': 543,\n",
       " 'apagam': 544,\n",
       " 'companheiro': 545,\n",
       " 'tom': 546,\n",
       " 'você.': 547,\n",
       " 'raça': 548,\n",
       " 'vamos': 549,\n",
       " 'eternamente': 550,\n",
       " 'pré-estabelecido': 551,\n",
       " 'imprima': 552,\n",
       " 'fração': 553,\n",
       " 'aguardar': 554,\n",
       " 'encher': 555,\n",
       " 'altos': 556,\n",
       " '´para': 557,\n",
       " 'aproveitamos': 558,\n",
       " 'brincadeira': 559,\n",
       " 'maneira': 560,\n",
       " 'refinamento': 561,\n",
       " 'tristeza': 562,\n",
       " 'vinte': 563,\n",
       " 'teoria': 564,\n",
       " 'duzentos': 565,\n",
       " 'pela': 566,\n",
       " 'letras': 567,\n",
       " 'saber': 568,\n",
       " 'tonto': 569,\n",
       " 'alimentava': 570,\n",
       " 'questões': 571,\n",
       " 'filha': 572,\n",
       " 'todos': 573,\n",
       " 'torna': 574,\n",
       " 'procurá-los': 575,\n",
       " '*': 576,\n",
       " 'das': 577,\n",
       " 'todos.': 578,\n",
       " 'pra': 579,\n",
       " 'derradeira': 580,\n",
       " 'embriagado': 581,\n",
       " 'outra.': 582,\n",
       " 'dez': 583,\n",
       " 'cósmico': 584,\n",
       " 'diante': 585,\n",
       " 'sub-galácticas': 586,\n",
       " 'leve': 587,\n",
       " 'planejava': 588,\n",
       " 'adiar': 589,\n",
       " 'bilhão': 590,\n",
       " 'sem': 591,\n",
       " 'opacas': 592,\n",
       " 'transformassem': 593,\n",
       " 'ouvimos': 594,\n",
       " 'perfeitos': 595,\n",
       " 'alexander': 596,\n",
       " 'ondas': 597,\n",
       " 'grande': 598,\n",
       " 'talvez': 599,\n",
       " 'microvac': 600,\n",
       " 'retornaram': 601,\n",
       " 'interesse': 602,\n",
       " 'poderíamos': 603,\n",
       " 'duas.': 604,\n",
       " 'haverá': 605,\n",
       " 'gostaria': 606,\n",
       " 'momento': 607,\n",
       " 'quietas': 608,\n",
       " 'encheremos': 609,\n",
       " 'ir': 610,\n",
       " 'segurar': 611,\n",
       " 'cheia': 612,\n",
       " 'cercava-os': 613,\n",
       " 'igualmente': 614,\n",
       " 'computer': 615,\n",
       " 'parcos': 616,\n",
       " 'lembrar': 617,\n",
       " 'sim': 618,\n",
       " 'imortalidade': 619,\n",
       " 'graça': 620,\n",
       " 'problema': 621,\n",
       " 'computadores': 622,\n",
       " 'acabar': 623,\n",
       " '“': 624,\n",
       " 'desaparecendo': 625,\n",
       " 'imortais': 626,\n",
       " 'fundiu-se': 627,\n",
       " 'que': 628,\n",
       " 'fixou': 629,\n",
       " 'povoado.': 630,\n",
       " 'pensar…': 631,\n",
       " 'etéreos': 632,\n",
       " 'sólido': 633,\n",
       " 'pergunta.': 634,\n",
       " 'duram': 635,\n",
       " 'fizesse': 636,\n",
       " 'vida': 637,\n",
       " 'gás': 638,\n",
       " 'certo': 639,\n",
       " 'existe': 640,\n",
       " 'algum': 641,\n",
       " 'acostumei': 642,\n",
       " 'pioneira': 643,\n",
       " 'trêmulo': 644,\n",
       " 'original': 645,\n",
       " 'colidirse': 646,\n",
       " 'jerrodine': 647,\n",
       " 'sabia': 648,\n",
       " 'ii': 649,\n",
       " 'singular': 650,\n",
       " 'corrigia-se': 651,\n",
       " 'traduziam': 652,\n",
       " 'expandiu-se': 653,\n",
       " 'porque': 654,\n",
       " 'impedir': 655,\n",
       " 'devem': 656,\n",
       " 'permanecia': 657,\n",
       " 'ter': 658,\n",
       " 'tomaria': 659,\n",
       " 'faziam-se': 660,\n",
       " 'silenciassem': 661,\n",
       " 'havia': 662,\n",
       " 'abrigar': 663,\n",
       " 'sentido': 664,\n",
       " 'agir': 665,\n",
       " 'poderá': 666,\n",
       " 'questão.': 667,\n",
       " '100': 668,\n",
       " 'estiverem': 669,\n",
       " 'consumava-se': 670,\n",
       " 'glória': 671,\n",
       " 'procura': 672,\n",
       " 'papai': 673,\n",
       " 'descobriu': 674,\n",
       " 'apenas': 675,\n",
       " 'o': 676,\n",
       " 'meus': 677,\n",
       " 'símbolos': 678,\n",
       " 'certeza': 679,\n",
       " 'lembra': 680,\n",
       " ':': 681,\n",
       " 'som': 682,\n",
       " 'ombros': 683,\n",
       " 'super': 684,\n",
       " 'dor': 685,\n",
       " 'ficassem': 686,\n",
       " 'difícil': 687,\n",
       " 'sentença': 688,\n",
       " 'expandiu': 689,\n",
       " 'desertas': 690,\n",
       " 'precisávamos': 691,\n",
       " 'entanto': 692,\n",
       " 'várias': 693,\n",
       " 'quatro': 694,\n",
       " 'admito': 695,\n",
       " 'demorou': 696,\n",
       " 'observava': 697,\n",
       " 'preocupar.': 698,\n",
       " 'deu': 699,\n",
       " 'transporte': 700,\n",
       " 'sete': 701,\n",
       " 'trazido': 702,\n",
       " 'galáxias': 703,\n",
       " 'emendando': 704,\n",
       " 'visor': 705,\n",
       " 'desperdiçada': 706,\n",
       " 'se': 707,\n",
       " 'lógica': 708,\n",
       " 'físico': 709,\n",
       " 'componentes': 710,\n",
       " 'teremos': 711,\n",
       " 'particular': 712,\n",
       " 'séculos': 713,\n",
       " 'revertida': 714,\n",
       " 'consigo': 715,\n",
       " 'terá': 716,\n",
       " 'precisaremos': 717,\n",
       " 'lugar': 718,\n",
       " 'seguinte': 719,\n",
       " 'enredar': 720,\n",
       " 'homem': 721,\n",
       " 'acerca': 722,\n",
       " 'envelhecimento': 723,\n",
       " 'nas': 724,\n",
       " 'possuía': 725,\n",
       " 'quem': 726,\n",
       " 'chacoalhá-los': 727,\n",
       " 'autômatos': 728,\n",
       " 'lançou': 729,\n",
       " 'não': 730,\n",
       " 'seca': 731,\n",
       " 'realizar': 732,\n",
       " 'faziam': 733,\n",
       " 'processo': 734,\n",
       " 'diâmetro': 735,\n",
       " 'mim': 736,\n",
       " 'comunicador-ac': 737,\n",
       " 'novas': 738,\n",
       " 'suficientes': 739,\n",
       " 'metálica': 740,\n",
       " 'for': 741,\n",
       " 'tenho': 742,\n",
       " 'àquela': 743,\n",
       " 'tomada': 744,\n",
       " 'podem': 745,\n",
       " 'apertaram': 746,\n",
       " 'mesa': 747,\n",
       " 'homens': 748,\n",
       " 'eram': 749,\n",
       " 'população': 750,\n",
       " 'x-23': 751,\n",
       " 'plano': 752,\n",
       " 'bem': 753,\n",
       " 'diminuir': 754,\n",
       " 'mil': 755,\n",
       " 'suas': 756,\n",
       " 'wun': 757,\n",
       " 'aconteceu': 758,\n",
       " 'abandonar': 759,\n",
       " 'cálculos': 760,\n",
       " 'além': 761,\n",
       " 'calor': 762,\n",
       " 'do': 763,\n",
       " 'história': 764,\n",
       " 'precisava': 765,\n",
       " 'agradecer': 766,\n",
       " 'qualquer': 767,\n",
       " 'nicron': 768,\n",
       " 'eternidade': 769,\n",
       " 'concebíveis.': 770,\n",
       " 'mente': 771,\n",
       " 'abastecer-se': 772,\n",
       " 'dedicado': 773,\n",
       " 'silêncio': 774,\n",
       " 'nova': 775,\n",
       " 'possa': 776,\n",
       " 'murmurou': 777,\n",
       " 'direção': 778,\n",
       " 'incrível': 779,\n",
       " 'marte': 780,\n",
       " 'aparências': 781,\n",
       " 'expansão': 782,\n",
       " 'informações': 783,\n",
       " 'chamados': 784,\n",
       " 'dias': 785,\n",
       " 'incontáveis': 786,\n",
       " 'tínhamos': 787,\n",
       " 'era': 788,\n",
       " 'e': 789,\n",
       " 'continuava': 790,\n",
       " 'dobra': 791,\n",
       " 'reduzido': 792,\n",
       " 'reverter': 793,\n",
       " 'ferro': 794,\n",
       " 'resta': 795,\n",
       " 'permaneçam': 796,\n",
       " 'velho': 797,\n",
       " 'fissões': 798,\n",
       " 'parte': 799,\n",
       " 'guardava': 800,\n",
       " 'por': 801,\n",
       " 'afinal': 802,\n",
       " 'tamanho': 803,\n",
       " 'agitada': 804,\n",
       " 'tipo': 805,\n",
       " 'sério': 806,\n",
       " 'voltando': 807,\n",
       " 'sequer': 808,\n",
       " 'quaisquer': 809,\n",
       " 'maio': 810,\n",
       " 'permanece': 811,\n",
       " 'cinco': 812,\n",
       " 'exemplo': 813,\n",
       " 'necessidades': 814,\n",
       " 'capazes': 815,\n",
       " 'desgaste': 816,\n",
       " 'interessada': 817,\n",
       " ')': 818,\n",
       " 'apresentar': 819,\n",
       " 'abriram': 820,\n",
       " 'geral': 821,\n",
       " 'solar': 822,\n",
       " 'ficando': 823,\n",
       " 'respostas': 824,\n",
       " 'oh': 825,\n",
       " 'únicos': 826,\n",
       " 'tanto': 827,\n",
       " 'hora': 828,\n",
       " 'eficiência': 829,\n",
       " 'bert.': 830,\n",
       " 'demais': 831,\n",
       " 'definição': 832,\n",
       " 'conseguiam': 833,\n",
       " 'propôs': 834,\n",
       " 'rarefeita': 835,\n",
       " 'nem': 836,\n",
       " 'maciça': 837,\n",
       " 'intenção': 838,\n",
       " 'humanamente': 839,\n",
       " 'quando': 840,\n",
       " 'crescente': 841,\n",
       " 'novo.': 842,\n",
       " 'sabemos': 843,\n",
       " 'mental': 844,\n",
       " 'existir': 845,\n",
       " 'eternamente.': 846,\n",
       " 'finalmente': 847,\n",
       " 'baixo': 848,\n",
       " 'domou': 849,\n",
       " 'claro': 850,\n",
       " 'presentes': 851,\n",
       " 'apagar': 852,\n",
       " 'brancas': 853,\n",
       " 'em': 854,\n",
       " 'dedo': 855,\n",
       " 'foi': 856,\n",
       " 'distante': 857,\n",
       " 'observavam': 858,\n",
       " 'todo': 859,\n",
       " 'ajudou': 860,\n",
       " 'deste': 861,\n",
       " 'distantes': 862,\n",
       " 'insuficientes.': 863,\n",
       " 'rosto': 864,\n",
       " 'imensurável': 865,\n",
       " 'zero': 866,\n",
       " 'sentiu-se': 867,\n",
       " 'acompanhara': 868,\n",
       " 'pensando': 869,\n",
       " 'existiam': 870,\n",
       " 'tudo': 871,\n",
       " 'perguntar': 872,\n",
       " 'pergunte': 873,\n",
       " 'vou': 874,\n",
       " 'cuidados': 875,\n",
       " 'restos': 876,\n",
       " 'queria': 877,\n",
       " 'limite': 878,\n",
       " 'derreter': 879,\n",
       " 'integral': 880,\n",
       " 'percepção': 881,\n",
       " 'abriu': 882,\n",
       " 'circuitos': 883,\n",
       " 'devaneios': 884,\n",
       " 'conseguiria': 885,\n",
       " 'mesmo': 886,\n",
       " 'feito': 887,\n",
       " 'estações': 888,\n",
       " 'logo': 889,\n",
       " 'gelo': 890,\n",
       " 'fato': 891,\n",
       " 'cósmica': 892,\n",
       " 'morta.': 893,\n",
       " 'extremamente': 894,\n",
       " 'apagariam': 895,\n",
       " 'cuidar': 896,\n",
       " 'permitido': 897,\n",
       " 'utilizada': 898,\n",
       " 'definições': 899,\n",
       " 'viu': 900,\n",
       " 'estas': 901,\n",
       " 'negativo': 902,\n",
       " 'suficiente': 903,\n",
       " 'ninguém': 904,\n",
       " 'vaga': 905,\n",
       " 'às': 906,\n",
       " 'planetas': 907,\n",
       " 'dólares': 908,\n",
       " 'imortal': 909,\n",
       " 'prontificou': 910,\n",
       " 'como': 911,\n",
       " 'fundir-se': 912,\n",
       " 'cheguei': 913,\n",
       " 'força': 914,\n",
       " 'dia': 915,\n",
       " 'família': 916,\n",
       " 'porção': 917,\n",
       " 'subutilizado': 918,\n",
       " 'ajudar.': 919,\n",
       " 'conquistas.': 920,\n",
       " 'computador': 921,\n",
       " 'paralisou': 922,\n",
       " 'nós': 923,\n",
       " 'momentânea': 924,\n",
       " 'velocidade': 925,\n",
       " 'através': 926,\n",
       " 'aumentar.': 927,\n",
       " 'final': 928,\n",
       " 'experimentado': 929,\n",
       " 'cem': 930,\n",
       " 'isso.': 931,\n",
       " 'encontravam': 932,\n",
       " 'nunca.': 933,\n",
       " 'chamava': 934,\n",
       " 'satisfeito': 935,\n",
       " '?': 936,\n",
       " 'os': 937,\n",
       " 'incorruptível': 938,\n",
       " 'hiperespaço': 939,\n",
       " '`': 940,\n",
       " 'máquina': 941,\n",
       " 'bolso': 942,\n",
       " 'comprimento': 943,\n",
       " 'dissipado': 944,\n",
       " 'fulgurante': 945,\n",
       " 'cima': 946,\n",
       " 'enquanto': 947,\n",
       " 'eles': 948,\n",
       " 'quantas': 949,\n",
       " 'luminosa': 950,\n",
       " 'reconstituir': 951,\n",
       " 'adequada': 952,\n",
       " 'milha': 953,\n",
       " 'impressas': 954,\n",
       " 'viagens': 955,\n",
       " 'passos': 956,\n",
       " 'pequenas': 957,\n",
       " 'segredo': 958,\n",
       " 'abarrotar': 959,\n",
       " 'dignidade': 960,\n",
       " 'elevado': 961,\n",
       " 'olhando': 962,\n",
       " 'negros': 963,\n",
       " 'expandido': 964,\n",
       " 'diabos': 965,\n",
       " 'circunstâncias': 966,\n",
       " 'próprias': 967,\n",
       " 'precisamos': 968,\n",
       " 'ficou': 969,\n",
       " 'tampouco': 970,\n",
       " 'sarcástico': 971,\n",
       " 'elas': 972,\n",
       " 'árvores': 973,\n",
       " 'título': 974,\n",
       " 'fornecidas': 975,\n",
       " 'penetrado': 976,\n",
       " 'outras': 977,\n",
       " 'viagem': 978,\n",
       " 'acontecimento': 979,\n",
       " 'concebíveis': 980,\n",
       " 'luz': 981,\n",
       " 'pode': 982,\n",
       " 'ocupada': 983,\n",
       " 'precisar': 984,\n",
       " 'estarão': 985,\n",
       " 'chamamos': 986,\n",
       " 'estavam': 987,\n",
       " 'entendi': 988,\n",
       " 'chorar': 989,\n",
       " 'apagaram': 990,\n",
       " 'zee': 991,\n",
       " 'dê': 992,\n",
       " 'ficaremos': 993,\n",
       " 'gasto': 994,\n",
       " 'pararam': 995,\n",
       " 'encolhessem': 996,\n",
       " 'molhada': 997,\n",
       " 'gigantesco': 998,\n",
       " 'espera': 999,\n",
       " ...}"
      ]
     },
     "execution_count": 13,
     "metadata": {},
     "output_type": "execute_result"
    }
   ],
   "source": [
    "# Dicionário para mapear as palavras aos índices\n",
    "palavra_indice = {palavra: i for i, palavra in enumerate(vocab)}\n",
    "palavra_indice"
   ]
  },
  {
   "cell_type": "code",
   "execution_count": 14,
   "metadata": {},
   "outputs": [
    {
     "data": {
      "text/plain": [
       "{0: 'tinha',\n",
       " 1: 'alcançou',\n",
       " 2: 'parar',\n",
       " 3: 'preciso',\n",
       " 4: 'descaso',\n",
       " 5: 'quadradas',\n",
       " 6: 'morrendo',\n",
       " 7: 'conheciam',\n",
       " 8: 'dessas',\n",
       " 9: 'estelar',\n",
       " 10: 'fazia-se',\n",
       " 11: 'filamentos',\n",
       " 12: 'tornavam-se',\n",
       " 13: 'enxergar',\n",
       " 14: 'cruzados',\n",
       " 15: 'aconchegante',\n",
       " 16: 'acredita',\n",
       " 17: 'consistiam-se',\n",
       " 18: 'anos…',\n",
       " 19: 'primitivo',\n",
       " 20: 'único',\n",
       " 21: 'nervosamente',\n",
       " 22: 'fundamentação',\n",
       " 23: 'maior',\n",
       " 24: 'te',\n",
       " 25: 'nosso',\n",
       " 26: 'deve',\n",
       " 27: 'computação',\n",
       " 28: 'farei',\n",
       " 29: 'risadas',\n",
       " 30: 'simples',\n",
       " 31: 'tentar',\n",
       " 32: 'i',\n",
       " 33: 'carcaça',\n",
       " 34: 'afigurava',\n",
       " 35: 'respiração',\n",
       " 36: 'fim.',\n",
       " 37: 'vezes',\n",
       " 38: 'pára',\n",
       " 39: 'creio',\n",
       " 40: 'planetário',\n",
       " 41: 'abaixo',\n",
       " 42: 'solucionou',\n",
       " 43: 'planetária',\n",
       " 44: 'estou',\n",
       " 45: 'nada',\n",
       " 46: 'finais',\n",
       " 47: 'questão',\n",
       " 48: 'ligar',\n",
       " 49: 'bilhões',\n",
       " 50: 'remoto',\n",
       " 51: 'exasperada',\n",
       " 52: 'produz',\n",
       " 53: 'contando',\n",
       " 54: 'ficariam',\n",
       " 55: 'máquinas',\n",
       " 56: 'abrigando',\n",
       " 57: 'centralizada',\n",
       " 58: 'lentamente',\n",
       " 59: 'boa',\n",
       " 60: 'sua',\n",
       " 61: 'resultado',\n",
       " 62: 'cujo',\n",
       " 63: 'colapso',\n",
       " 64: 'quero',\n",
       " 65: 'polegadas',\n",
       " 66: 'incrivelmente',\n",
       " 67: 'convertida',\n",
       " 68: 'insolúvel',\n",
       " 69: 'é',\n",
       " 70: 'será',\n",
       " 71: 'duas',\n",
       " 72: 'pense',\n",
       " 73: 'servia',\n",
       " 74: 'gota',\n",
       " 75: 'uniu-se',\n",
       " 76: 'cabeça',\n",
       " 77: 'ano.',\n",
       " 78: 'ela',\n",
       " 79: 'gasta',\n",
       " 80: 'feita',\n",
       " 81: 'crianças',\n",
       " 82: 'momentos',\n",
       " 83: 'aposto',\n",
       " 84: 'brilhantes',\n",
       " 85: 'milhão',\n",
       " 86: 'jerrodete',\n",
       " 87: 'lhes',\n",
       " 88: 'papel',\n",
       " 89: 'contaremos',\n",
       " 90: 'escolhido',\n",
       " 91: 'calmamente',\n",
       " 92: 'pouco.',\n",
       " 93: 'passou',\n",
       " 94: 'cabelo',\n",
       " 95: 'sala',\n",
       " 96: 'descansar',\n",
       " 97: 'recuperá-la',\n",
       " 98: 'sensação',\n",
       " 99: 'da',\n",
       " 100: 'companhia',\n",
       " 101: 'daquela',\n",
       " 102: 'dentro',\n",
       " 103: 'compartilhar',\n",
       " 104: 'agora.',\n",
       " 105: 'algo',\n",
       " 106: 'prontamente',\n",
       " 107: 'universo',\n",
       " 108: 'cuja',\n",
       " 109: 'agora',\n",
       " 110: 'humano',\n",
       " 111: 'individual',\n",
       " 112: 'gole',\n",
       " 113: 'abrigava',\n",
       " 114: 'infinidade',\n",
       " 115: 'incontável',\n",
       " 116: 'essência',\n",
       " 117: 'robô',\n",
       " 118: 'chegado',\n",
       " 119: 'corpos',\n",
       " 120: 'outra',\n",
       " 121: 'conscientes',\n",
       " 122: 'pilhas',\n",
       " 123: 'vai',\n",
       " 124: 'nenhuma',\n",
       " 125: 'ouviu',\n",
       " 126: 'habitava',\n",
       " 127: 'álcool',\n",
       " 128: 'anos',\n",
       " 129: 'utilização',\n",
       " 130: 'dar',\n",
       " 131: 'mais',\n",
       " 132: 'brilhante',\n",
       " 133: 'bastante',\n",
       " 134: 'colocou',\n",
       " 135: 'exploração',\n",
       " 136: 'vida.',\n",
       " 137: 'estrela',\n",
       " 138: 'humana',\n",
       " 139: 'bertram',\n",
       " 140: 'capturada',\n",
       " 141: 'usinas',\n",
       " 142: 'insuficientes',\n",
       " 143: 'nasceu',\n",
       " 144: 'vagavam',\n",
       " 145: 'inserida',\n",
       " 146: 'tridimensional',\n",
       " 147: 'haver',\n",
       " 148: 'mas',\n",
       " 149: 'pouco',\n",
       " 150: 'mármore',\n",
       " 151: 'você',\n",
       " 152: 'sempre',\n",
       " 153: 'bom',\n",
       " 154: 'pois',\n",
       " 155: 'posta',\n",
       " 156: 'resto',\n",
       " 157: 'ocupando',\n",
       " 158: 'crianças.',\n",
       " 159: 'lua',\n",
       " 160: 'acabaram',\n",
       " 161: 'tomar-lhe',\n",
       " 162: 'deixava',\n",
       " 163: 'difusos',\n",
       " 164: 'multivac.',\n",
       " 165: 'passagem',\n",
       " 166: 'distância',\n",
       " 167: 'fusão',\n",
       " 168: 'lados',\n",
       " 169: 'enterrado',\n",
       " 170: 'lar.',\n",
       " 171: 'possamos',\n",
       " 172: 'teve',\n",
       " 173: 'perguntas',\n",
       " 174: 'punhado',\n",
       " 175: 'hà',\n",
       " 176: 'fizeram',\n",
       " 177: 'ano',\n",
       " 178: 'bisneto',\n",
       " 179: 'aos',\n",
       " 180: 'explosão',\n",
       " 181: 'longas',\n",
       " 182: 'escuridão',\n",
       " 183: 'esse',\n",
       " 184: 'esfumaçados',\n",
       " 185: 'vou.',\n",
       " 186: 'mãos',\n",
       " 187: 'centenas',\n",
       " 188: 'pessoas',\n",
       " 189: 'junto',\n",
       " 190: 'negro',\n",
       " 191: '”',\n",
       " 192: 'suspirou',\n",
       " 193: 'correlacionados',\n",
       " 194: 'hidrogênio',\n",
       " 195: 'viviam',\n",
       " 196: 'estão',\n",
       " 197: 'pigarreou',\n",
       " 198: 'anjinhos',\n",
       " 199: 'gente',\n",
       " 200: 'natural',\n",
       " 201: 'alegremente',\n",
       " 202: 'aumentar',\n",
       " 203: 'unidades',\n",
       " 204: 'desajeitadas',\n",
       " 205: 'indistintamente',\n",
       " 206: 'consciência',\n",
       " 207: 'me',\n",
       " 208: 'assegurar',\n",
       " 209: 'ac',\n",
       " 210: 'sistema',\n",
       " 211: 'controlada',\n",
       " 212: 'lupov',\n",
       " 213: 'essa',\n",
       " 214: 'enormes',\n",
       " 215: 'acaba',\n",
       " 216: 'mostrou',\n",
       " 217: 'guiada',\n",
       " 218: 'entre',\n",
       " 219: 'perda',\n",
       " 220: 'mentes',\n",
       " 221: 'poderoso',\n",
       " 222: 'pensamento',\n",
       " 223: 'ao',\n",
       " 224: 'pilhas.',\n",
       " 225: 'bagagem',\n",
       " 226: 'conta',\n",
       " 227: 'metal',\n",
       " 228: 'tenham',\n",
       " 229: 'início',\n",
       " 230: 'manhã',\n",
       " 231: 'começaram',\n",
       " 232: 'conectado',\n",
       " 233: 'assistentes',\n",
       " 234: 'bela',\n",
       " 235: 'podia',\n",
       " 236: 'humanos',\n",
       " 237: 'colocar',\n",
       " 238: 'estar',\n",
       " 239: 'muitas',\n",
       " 240: 'galáctico',\n",
       " 241: 'década',\n",
       " 242: 'foram',\n",
       " 243: 'limitados',\n",
       " 244: 'aleatoriamente',\n",
       " 245: 'semelhante',\n",
       " 246: 'incomodá-lo',\n",
       " 247: 'toda',\n",
       " 248: 'humanidade',\n",
       " 249: 'retirou',\n",
       " 250: 'alguma',\n",
       " 251: 'evitada',\n",
       " 252: 'tinham',\n",
       " 253: 'trabalhando',\n",
       " 254: 'sobre',\n",
       " 255: 'época',\n",
       " 256: 'maneiras',\n",
       " 257: 'irão',\n",
       " 258: 'querida',\n",
       " 259: 'terra.',\n",
       " 260: 'precisa',\n",
       " 261: 'morrendo.',\n",
       " 262: 'implementadas',\n",
       " 263: 'cúbicas',\n",
       " 264: 'seguros',\n",
       " 265: 'pensando.',\n",
       " 266: 'durante',\n",
       " 267: 'tubo',\n",
       " 268: 'devíamos',\n",
       " 269: 'arcaico',\n",
       " 270: 'pálidas',\n",
       " 271: 'parede',\n",
       " 272: 'devemos',\n",
       " 273: 'conseguir',\n",
       " 274: 'apagarem',\n",
       " 275: 'de',\n",
       " 276: 'esbanjadoras',\n",
       " 277: 'antigos',\n",
       " 278: 'preocuparmos',\n",
       " 279: 'está',\n",
       " 280: 'válvulas',\n",
       " 281: 'destruídas',\n",
       " 282: 'pelo',\n",
       " 283: 'volume',\n",
       " 284: 'estiver',\n",
       " 285: 'líquido',\n",
       " 286: 'dissipava',\n",
       " 287: 'olhar',\n",
       " 288: 'adell',\n",
       " 289: 'absoluto',\n",
       " 290: 'máximo.',\n",
       " 291: 'pensamentos',\n",
       " 292: 'muito',\n",
       " 293: 'ponto',\n",
       " 294: 'feito.',\n",
       " 295: 'assentava',\n",
       " 296: 'disse',\n",
       " 297: 'podemos',\n",
       " 298: 'resposta',\n",
       " 299: 'rede',\n",
       " 300: '.',\n",
       " 301: 'qual',\n",
       " 302: 'espaçonave',\n",
       " 303: 'última',\n",
       " 304: 'faltem',\n",
       " 305: 'pergunta',\n",
       " 306: 'acabado',\n",
       " 307: 'famílias',\n",
       " 308: 'vê-la',\n",
       " 309: 'tomado',\n",
       " 310: 'significativa.',\n",
       " 311: 'significavam',\n",
       " 312: 'tantas',\n",
       " 313: 'completamente',\n",
       " 314: 'já',\n",
       " 315: 'surpreso',\n",
       " 316: 'meu',\n",
       " 317: 'fino',\n",
       " 318: 'praticamente',\n",
       " 319: 'quer',\n",
       " 320: 'brotou',\n",
       " 321: 'no',\n",
       " 322: 'sustentar',\n",
       " 323: 'globo',\n",
       " 324: 'infinito',\n",
       " 325: 'ficaram',\n",
       " 326: 'merecer',\n",
       " 327: 'fazê-lo',\n",
       " 328: 'destruí-lo',\n",
       " 329: 'abarcou',\n",
       " 330: 'pequeno',\n",
       " 331: 'levar',\n",
       " 332: 'antes',\n",
       " 333: 'faça-se',\n",
       " 334: 'soltou-se',\n",
       " 335: 'milhas',\n",
       " 336: 'sussurrou',\n",
       " 337: 'perplexo',\n",
       " 338: 'férias',\n",
       " 339: 'juventude',\n",
       " 340: 'lhe',\n",
       " 341: 'esta',\n",
       " 342: 'planeta',\n",
       " 343: 'transformar',\n",
       " 344: 'fraco',\n",
       " 345: 'tantos',\n",
       " 346: 'emaranhados',\n",
       " 347: 'inteligência',\n",
       " 348: 'lado',\n",
       " 349: 'entrou',\n",
       " 350: 'acordo',\n",
       " 351: 'haviam',\n",
       " 352: 'importava',\n",
       " 353: 'benéfico',\n",
       " 354: 'técnico',\n",
       " 355: 'mãe',\n",
       " 356: 'direito',\n",
       " 357: 'colete',\n",
       " 358: 'eons',\n",
       " 359: 'começando',\n",
       " 360: 'estalos',\n",
       " 361: 'ou',\n",
       " 362: 'predescessores',\n",
       " 363: 'atividade',\n",
       " 364: 'ajustava-se',\n",
       " 365: 'espesso',\n",
       " 366: 'frente',\n",
       " 367: 'acabadas',\n",
       " 368: 'nossos',\n",
       " 369: 'nunca',\n",
       " 370: 'apontou',\n",
       " 371: 'profundas',\n",
       " 372: 'necessária',\n",
       " 373: 'balançou',\n",
       " 374: 'descansaram',\n",
       " 375: 'fios',\n",
       " 376: 'preocupação',\n",
       " 377: 'surpreendido',\n",
       " 378: 'acabado.',\n",
       " 379: 'colegas',\n",
       " 380: 'neste',\n",
       " 381: 'peso',\n",
       " 382: 'parece-me',\n",
       " 383: 'dedos',\n",
       " 384: 'necessário',\n",
       " 385: 'presença',\n",
       " 386: 'adicionais.',\n",
       " 387: 'outro',\n",
       " 388: 'fica',\n",
       " 389: 'responder',\n",
       " 390: 'orbitando',\n",
       " 391: 'mundo',\n",
       " 392: 'combustível',\n",
       " 393: 'dia.',\n",
       " 394: 'termos',\n",
       " 395: 'quiséssemos',\n",
       " 396: 'asperamente',\n",
       " 397: 'espaços',\n",
       " 398: 'jerrodette',\n",
       " 399: 'trocar',\n",
       " 400: 'venha',\n",
       " 401: 'solitário',\n",
       " 402: 'linhas',\n",
       " 403: 'após',\n",
       " 404: 'brilhar',\n",
       " 405: 'drink',\n",
       " 406: 'operavam',\n",
       " 407: 'sucessor',\n",
       " 408: 'erguido',\n",
       " 409: 'aquietá-las.',\n",
       " 410: 'mais.',\n",
       " 411: 'são',\n",
       " 412: 'embaixo',\n",
       " 413: 'carvão',\n",
       " 414: 'gentil',\n",
       " 415: 'nos',\n",
       " 416: 'proporção',\n",
       " 417: 'problemas',\n",
       " 418: 'falta',\n",
       " 419: 'segundos',\n",
       " 420: 'terão',\n",
       " 421: 'tempo',\n",
       " 422: 'confidência',\n",
       " 423: 'preocupem',\n",
       " 424: 'relatório',\n",
       " 425: 'isso',\n",
       " 426: 'sutil',\n",
       " 427: 'nave',\n",
       " 428: 'dee',\n",
       " 429: 'fundo',\n",
       " 430: 'acs',\n",
       " 431: 'muitos',\n",
       " 432: 'incidente',\n",
       " 433: 'cruzar',\n",
       " 434: 'conhecido',\n",
       " 435: 'levou',\n",
       " 436: 'geométrica',\n",
       " 437: 'nível',\n",
       " 438: 'alimentavam',\n",
       " 439: 'deus',\n",
       " 440: 'princípio',\n",
       " 441: 'perdendo',\n",
       " 442: 'entropia',\n",
       " 443: 'plutão',\n",
       " 444: 'matéria',\n",
       " 445: 'saiba.',\n",
       " 446: 'guiar',\n",
       " 447: 'observando',\n",
       " 448: 'máximo',\n",
       " 449: 'tido',\n",
       " 450: 'acho',\n",
       " 451: 'alavanca',\n",
       " 452: 'cinzas.',\n",
       " 453: 'sentiríamos',\n",
       " 454: 'irá',\n",
       " 455: 'lembravam',\n",
       " 456: 'estaremos',\n",
       " 457: 'urânio',\n",
       " 458: 'poupada',\n",
       " 459: 'deixar',\n",
       " 460: '2061',\n",
       " 461: 'navegou',\n",
       " 462: '–',\n",
       " 463: 'mq-17j',\n",
       " 464: 'reservas',\n",
       " 465: 'paisagem',\n",
       " 466: 'caos',\n",
       " 467: 'lameth',\n",
       " 468: 'durar',\n",
       " 469: 'deixou',\n",
       " 470: 'novo',\n",
       " 471: 'transistores',\n",
       " 472: 'apesar',\n",
       " 473: 'corre',\n",
       " 474: 'novos',\n",
       " 475: 'quase',\n",
       " 476: 'iguais.',\n",
       " 477: 'pessoal',\n",
       " 478: 'jeito',\n",
       " 479: 'natureza',\n",
       " 480: 'apaguem.',\n",
       " 481: 'anã',\n",
       " 482: 'submésons',\n",
       " 483: 'intervalo',\n",
       " 484: 'assustados',\n",
       " 485: 'modo',\n",
       " 486: 'poderia',\n",
       " 487: 'forças',\n",
       " 488: 'iremos',\n",
       " 489: 'subterrâneas',\n",
       " 490: 'até',\n",
       " 491: 'grupo',\n",
       " 492: 'falando',\n",
       " 493: 'fumaça',\n",
       " 494: 'geração',\n",
       " 495: 'nossa',\n",
       " 496: 'identidade',\n",
       " 497: 'tem',\n",
       " 498: 'desafio',\n",
       " 499: 'bêbado',\n",
       " 500: 'cessaram',\n",
       " 501: 'viabilizado',\n",
       " 502: 'negra',\n",
       " 503: 'vez',\n",
       " 504: 'progressão',\n",
       " 505: 'chamou',\n",
       " 506: 'enviar',\n",
       " 507: 'duvido',\n",
       " 508: 'voz',\n",
       " 509: 'seus',\n",
       " 510: 'dava',\n",
       " 511: 'disso',\n",
       " 512: 'pergunto',\n",
       " 513: 'robozinho',\n",
       " 514: 'estrelas',\n",
       " 515: 'meio',\n",
       " 516: 'todas',\n",
       " 517: 'resultantes',\n",
       " 518: 'ver',\n",
       " 519: 'posso',\n",
       " 520: 'primeira',\n",
       " 521: 'diretamente',\n",
       " 522: 'vizinha',\n",
       " 523: 'disponível',\n",
       " 524: 'fizera',\n",
       " 525: 'conselho',\n",
       " 526: 'quantos',\n",
       " 527: 'fez',\n",
       " 528: 'paradigma',\n",
       " 529: 'correr',\n",
       " 530: 'chance',\n",
       " 531: 'fazer',\n",
       " 532: 'árvore',\n",
       " 533: 'vênus',\n",
       " 534: 'fim',\n",
       " 535: 'organizou',\n",
       " 536: 'acontecia',\n",
       " 537: 'melodiosa',\n",
       " 538: 'processando',\n",
       " 539: 'coletar',\n",
       " 540: 'jazia',\n",
       " 541: 'automatic',\n",
       " 542: 'tontura',\n",
       " 543: 'ambos',\n",
       " 544: 'apagam',\n",
       " 545: 'companheiro',\n",
       " 546: 'tom',\n",
       " 547: 'você.',\n",
       " 548: 'raça',\n",
       " 549: 'vamos',\n",
       " 550: 'eternamente',\n",
       " 551: 'pré-estabelecido',\n",
       " 552: 'imprima',\n",
       " 553: 'fração',\n",
       " 554: 'aguardar',\n",
       " 555: 'encher',\n",
       " 556: 'altos',\n",
       " 557: '´para',\n",
       " 558: 'aproveitamos',\n",
       " 559: 'brincadeira',\n",
       " 560: 'maneira',\n",
       " 561: 'refinamento',\n",
       " 562: 'tristeza',\n",
       " 563: 'vinte',\n",
       " 564: 'teoria',\n",
       " 565: 'duzentos',\n",
       " 566: 'pela',\n",
       " 567: 'letras',\n",
       " 568: 'saber',\n",
       " 569: 'tonto',\n",
       " 570: 'alimentava',\n",
       " 571: 'questões',\n",
       " 572: 'filha',\n",
       " 573: 'todos',\n",
       " 574: 'torna',\n",
       " 575: 'procurá-los',\n",
       " 576: '*',\n",
       " 577: 'das',\n",
       " 578: 'todos.',\n",
       " 579: 'pra',\n",
       " 580: 'derradeira',\n",
       " 581: 'embriagado',\n",
       " 582: 'outra.',\n",
       " 583: 'dez',\n",
       " 584: 'cósmico',\n",
       " 585: 'diante',\n",
       " 586: 'sub-galácticas',\n",
       " 587: 'leve',\n",
       " 588: 'planejava',\n",
       " 589: 'adiar',\n",
       " 590: 'bilhão',\n",
       " 591: 'sem',\n",
       " 592: 'opacas',\n",
       " 593: 'transformassem',\n",
       " 594: 'ouvimos',\n",
       " 595: 'perfeitos',\n",
       " 596: 'alexander',\n",
       " 597: 'ondas',\n",
       " 598: 'grande',\n",
       " 599: 'talvez',\n",
       " 600: 'microvac',\n",
       " 601: 'retornaram',\n",
       " 602: 'interesse',\n",
       " 603: 'poderíamos',\n",
       " 604: 'duas.',\n",
       " 605: 'haverá',\n",
       " 606: 'gostaria',\n",
       " 607: 'momento',\n",
       " 608: 'quietas',\n",
       " 609: 'encheremos',\n",
       " 610: 'ir',\n",
       " 611: 'segurar',\n",
       " 612: 'cheia',\n",
       " 613: 'cercava-os',\n",
       " 614: 'igualmente',\n",
       " 615: 'computer',\n",
       " 616: 'parcos',\n",
       " 617: 'lembrar',\n",
       " 618: 'sim',\n",
       " 619: 'imortalidade',\n",
       " 620: 'graça',\n",
       " 621: 'problema',\n",
       " 622: 'computadores',\n",
       " 623: 'acabar',\n",
       " 624: '“',\n",
       " 625: 'desaparecendo',\n",
       " 626: 'imortais',\n",
       " 627: 'fundiu-se',\n",
       " 628: 'que',\n",
       " 629: 'fixou',\n",
       " 630: 'povoado.',\n",
       " 631: 'pensar…',\n",
       " 632: 'etéreos',\n",
       " 633: 'sólido',\n",
       " 634: 'pergunta.',\n",
       " 635: 'duram',\n",
       " 636: 'fizesse',\n",
       " 637: 'vida',\n",
       " 638: 'gás',\n",
       " 639: 'certo',\n",
       " 640: 'existe',\n",
       " 641: 'algum',\n",
       " 642: 'acostumei',\n",
       " 643: 'pioneira',\n",
       " 644: 'trêmulo',\n",
       " 645: 'original',\n",
       " 646: 'colidirse',\n",
       " 647: 'jerrodine',\n",
       " 648: 'sabia',\n",
       " 649: 'ii',\n",
       " 650: 'singular',\n",
       " 651: 'corrigia-se',\n",
       " 652: 'traduziam',\n",
       " 653: 'expandiu-se',\n",
       " 654: 'porque',\n",
       " 655: 'impedir',\n",
       " 656: 'devem',\n",
       " 657: 'permanecia',\n",
       " 658: 'ter',\n",
       " 659: 'tomaria',\n",
       " 660: 'faziam-se',\n",
       " 661: 'silenciassem',\n",
       " 662: 'havia',\n",
       " 663: 'abrigar',\n",
       " 664: 'sentido',\n",
       " 665: 'agir',\n",
       " 666: 'poderá',\n",
       " 667: 'questão.',\n",
       " 668: '100',\n",
       " 669: 'estiverem',\n",
       " 670: 'consumava-se',\n",
       " 671: 'glória',\n",
       " 672: 'procura',\n",
       " 673: 'papai',\n",
       " 674: 'descobriu',\n",
       " 675: 'apenas',\n",
       " 676: 'o',\n",
       " 677: 'meus',\n",
       " 678: 'símbolos',\n",
       " 679: 'certeza',\n",
       " 680: 'lembra',\n",
       " 681: ':',\n",
       " 682: 'som',\n",
       " 683: 'ombros',\n",
       " 684: 'super',\n",
       " 685: 'dor',\n",
       " 686: 'ficassem',\n",
       " 687: 'difícil',\n",
       " 688: 'sentença',\n",
       " 689: 'expandiu',\n",
       " 690: 'desertas',\n",
       " 691: 'precisávamos',\n",
       " 692: 'entanto',\n",
       " 693: 'várias',\n",
       " 694: 'quatro',\n",
       " 695: 'admito',\n",
       " 696: 'demorou',\n",
       " 697: 'observava',\n",
       " 698: 'preocupar.',\n",
       " 699: 'deu',\n",
       " 700: 'transporte',\n",
       " 701: 'sete',\n",
       " 702: 'trazido',\n",
       " 703: 'galáxias',\n",
       " 704: 'emendando',\n",
       " 705: 'visor',\n",
       " 706: 'desperdiçada',\n",
       " 707: 'se',\n",
       " 708: 'lógica',\n",
       " 709: 'físico',\n",
       " 710: 'componentes',\n",
       " 711: 'teremos',\n",
       " 712: 'particular',\n",
       " 713: 'séculos',\n",
       " 714: 'revertida',\n",
       " 715: 'consigo',\n",
       " 716: 'terá',\n",
       " 717: 'precisaremos',\n",
       " 718: 'lugar',\n",
       " 719: 'seguinte',\n",
       " 720: 'enredar',\n",
       " 721: 'homem',\n",
       " 722: 'acerca',\n",
       " 723: 'envelhecimento',\n",
       " 724: 'nas',\n",
       " 725: 'possuía',\n",
       " 726: 'quem',\n",
       " 727: 'chacoalhá-los',\n",
       " 728: 'autômatos',\n",
       " 729: 'lançou',\n",
       " 730: 'não',\n",
       " 731: 'seca',\n",
       " 732: 'realizar',\n",
       " 733: 'faziam',\n",
       " 734: 'processo',\n",
       " 735: 'diâmetro',\n",
       " 736: 'mim',\n",
       " 737: 'comunicador-ac',\n",
       " 738: 'novas',\n",
       " 739: 'suficientes',\n",
       " 740: 'metálica',\n",
       " 741: 'for',\n",
       " 742: 'tenho',\n",
       " 743: 'àquela',\n",
       " 744: 'tomada',\n",
       " 745: 'podem',\n",
       " 746: 'apertaram',\n",
       " 747: 'mesa',\n",
       " 748: 'homens',\n",
       " 749: 'eram',\n",
       " 750: 'população',\n",
       " 751: 'x-23',\n",
       " 752: 'plano',\n",
       " 753: 'bem',\n",
       " 754: 'diminuir',\n",
       " 755: 'mil',\n",
       " 756: 'suas',\n",
       " 757: 'wun',\n",
       " 758: 'aconteceu',\n",
       " 759: 'abandonar',\n",
       " 760: 'cálculos',\n",
       " 761: 'além',\n",
       " 762: 'calor',\n",
       " 763: 'do',\n",
       " 764: 'história',\n",
       " 765: 'precisava',\n",
       " 766: 'agradecer',\n",
       " 767: 'qualquer',\n",
       " 768: 'nicron',\n",
       " 769: 'eternidade',\n",
       " 770: 'concebíveis.',\n",
       " 771: 'mente',\n",
       " 772: 'abastecer-se',\n",
       " 773: 'dedicado',\n",
       " 774: 'silêncio',\n",
       " 775: 'nova',\n",
       " 776: 'possa',\n",
       " 777: 'murmurou',\n",
       " 778: 'direção',\n",
       " 779: 'incrível',\n",
       " 780: 'marte',\n",
       " 781: 'aparências',\n",
       " 782: 'expansão',\n",
       " 783: 'informações',\n",
       " 784: 'chamados',\n",
       " 785: 'dias',\n",
       " 786: 'incontáveis',\n",
       " 787: 'tínhamos',\n",
       " 788: 'era',\n",
       " 789: 'e',\n",
       " 790: 'continuava',\n",
       " 791: 'dobra',\n",
       " 792: 'reduzido',\n",
       " 793: 'reverter',\n",
       " 794: 'ferro',\n",
       " 795: 'resta',\n",
       " 796: 'permaneçam',\n",
       " 797: 'velho',\n",
       " 798: 'fissões',\n",
       " 799: 'parte',\n",
       " 800: 'guardava',\n",
       " 801: 'por',\n",
       " 802: 'afinal',\n",
       " 803: 'tamanho',\n",
       " 804: 'agitada',\n",
       " 805: 'tipo',\n",
       " 806: 'sério',\n",
       " 807: 'voltando',\n",
       " 808: 'sequer',\n",
       " 809: 'quaisquer',\n",
       " 810: 'maio',\n",
       " 811: 'permanece',\n",
       " 812: 'cinco',\n",
       " 813: 'exemplo',\n",
       " 814: 'necessidades',\n",
       " 815: 'capazes',\n",
       " 816: 'desgaste',\n",
       " 817: 'interessada',\n",
       " 818: ')',\n",
       " 819: 'apresentar',\n",
       " 820: 'abriram',\n",
       " 821: 'geral',\n",
       " 822: 'solar',\n",
       " 823: 'ficando',\n",
       " 824: 'respostas',\n",
       " 825: 'oh',\n",
       " 826: 'únicos',\n",
       " 827: 'tanto',\n",
       " 828: 'hora',\n",
       " 829: 'eficiência',\n",
       " 830: 'bert.',\n",
       " 831: 'demais',\n",
       " 832: 'definição',\n",
       " 833: 'conseguiam',\n",
       " 834: 'propôs',\n",
       " 835: 'rarefeita',\n",
       " 836: 'nem',\n",
       " 837: 'maciça',\n",
       " 838: 'intenção',\n",
       " 839: 'humanamente',\n",
       " 840: 'quando',\n",
       " 841: 'crescente',\n",
       " 842: 'novo.',\n",
       " 843: 'sabemos',\n",
       " 844: 'mental',\n",
       " 845: 'existir',\n",
       " 846: 'eternamente.',\n",
       " 847: 'finalmente',\n",
       " 848: 'baixo',\n",
       " 849: 'domou',\n",
       " 850: 'claro',\n",
       " 851: 'presentes',\n",
       " 852: 'apagar',\n",
       " 853: 'brancas',\n",
       " 854: 'em',\n",
       " 855: 'dedo',\n",
       " 856: 'foi',\n",
       " 857: 'distante',\n",
       " 858: 'observavam',\n",
       " 859: 'todo',\n",
       " 860: 'ajudou',\n",
       " 861: 'deste',\n",
       " 862: 'distantes',\n",
       " 863: 'insuficientes.',\n",
       " 864: 'rosto',\n",
       " 865: 'imensurável',\n",
       " 866: 'zero',\n",
       " 867: 'sentiu-se',\n",
       " 868: 'acompanhara',\n",
       " 869: 'pensando',\n",
       " 870: 'existiam',\n",
       " 871: 'tudo',\n",
       " 872: 'perguntar',\n",
       " 873: 'pergunte',\n",
       " 874: 'vou',\n",
       " 875: 'cuidados',\n",
       " 876: 'restos',\n",
       " 877: 'queria',\n",
       " 878: 'limite',\n",
       " 879: 'derreter',\n",
       " 880: 'integral',\n",
       " 881: 'percepção',\n",
       " 882: 'abriu',\n",
       " 883: 'circuitos',\n",
       " 884: 'devaneios',\n",
       " 885: 'conseguiria',\n",
       " 886: 'mesmo',\n",
       " 887: 'feito',\n",
       " 888: 'estações',\n",
       " 889: 'logo',\n",
       " 890: 'gelo',\n",
       " 891: 'fato',\n",
       " 892: 'cósmica',\n",
       " 893: 'morta.',\n",
       " 894: 'extremamente',\n",
       " 895: 'apagariam',\n",
       " 896: 'cuidar',\n",
       " 897: 'permitido',\n",
       " 898: 'utilizada',\n",
       " 899: 'definições',\n",
       " 900: 'viu',\n",
       " 901: 'estas',\n",
       " 902: 'negativo',\n",
       " 903: 'suficiente',\n",
       " 904: 'ninguém',\n",
       " 905: 'vaga',\n",
       " 906: 'às',\n",
       " 907: 'planetas',\n",
       " 908: 'dólares',\n",
       " 909: 'imortal',\n",
       " 910: 'prontificou',\n",
       " 911: 'como',\n",
       " 912: 'fundir-se',\n",
       " 913: 'cheguei',\n",
       " 914: 'força',\n",
       " 915: 'dia',\n",
       " 916: 'família',\n",
       " 917: 'porção',\n",
       " 918: 'subutilizado',\n",
       " 919: 'ajudar.',\n",
       " 920: 'conquistas.',\n",
       " 921: 'computador',\n",
       " 922: 'paralisou',\n",
       " 923: 'nós',\n",
       " 924: 'momentânea',\n",
       " 925: 'velocidade',\n",
       " 926: 'através',\n",
       " 927: 'aumentar.',\n",
       " 928: 'final',\n",
       " 929: 'experimentado',\n",
       " 930: 'cem',\n",
       " 931: 'isso.',\n",
       " 932: 'encontravam',\n",
       " 933: 'nunca.',\n",
       " 934: 'chamava',\n",
       " 935: 'satisfeito',\n",
       " 936: '?',\n",
       " 937: 'os',\n",
       " 938: 'incorruptível',\n",
       " 939: 'hiperespaço',\n",
       " 940: '`',\n",
       " 941: 'máquina',\n",
       " 942: 'bolso',\n",
       " 943: 'comprimento',\n",
       " 944: 'dissipado',\n",
       " 945: 'fulgurante',\n",
       " 946: 'cima',\n",
       " 947: 'enquanto',\n",
       " 948: 'eles',\n",
       " 949: 'quantas',\n",
       " 950: 'luminosa',\n",
       " 951: 'reconstituir',\n",
       " 952: 'adequada',\n",
       " 953: 'milha',\n",
       " 954: 'impressas',\n",
       " 955: 'viagens',\n",
       " 956: 'passos',\n",
       " 957: 'pequenas',\n",
       " 958: 'segredo',\n",
       " 959: 'abarrotar',\n",
       " 960: 'dignidade',\n",
       " 961: 'elevado',\n",
       " 962: 'olhando',\n",
       " 963: 'negros',\n",
       " 964: 'expandido',\n",
       " 965: 'diabos',\n",
       " 966: 'circunstâncias',\n",
       " 967: 'próprias',\n",
       " 968: 'precisamos',\n",
       " 969: 'ficou',\n",
       " 970: 'tampouco',\n",
       " 971: 'sarcástico',\n",
       " 972: 'elas',\n",
       " 973: 'árvores',\n",
       " 974: 'título',\n",
       " 975: 'fornecidas',\n",
       " 976: 'penetrado',\n",
       " 977: 'outras',\n",
       " 978: 'viagem',\n",
       " 979: 'acontecimento',\n",
       " 980: 'concebíveis',\n",
       " 981: 'luz',\n",
       " 982: 'pode',\n",
       " 983: 'ocupada',\n",
       " 984: 'precisar',\n",
       " 985: 'estarão',\n",
       " 986: 'chamamos',\n",
       " 987: 'estavam',\n",
       " 988: 'entendi',\n",
       " 989: 'chorar',\n",
       " 990: 'apagaram',\n",
       " 991: 'zee',\n",
       " 992: 'dê',\n",
       " 993: 'ficaremos',\n",
       " 994: 'gasto',\n",
       " 995: 'pararam',\n",
       " 996: 'encolhessem',\n",
       " 997: 'molhada',\n",
       " 998: 'gigantesco',\n",
       " 999: 'espera',\n",
       " ...}"
      ]
     },
     "execution_count": 14,
     "metadata": {},
     "output_type": "execute_result"
    }
   ],
   "source": [
    "# Dicionário para mapear os índices às palavras\n",
    "indice_palavra = {i: palavra for i, palavra in enumerate(vocab)}\n",
    "indice_palavra"
   ]
  },
  {
   "cell_type": "markdown",
   "metadata": {},
   "source": [
    "Salvo indicação em contrário, usamos um contexto de dez palavras à esquerda e dez palavras à direita."
   ]
  },
  {
   "cell_type": "code",
   "execution_count": 15,
   "metadata": {},
   "outputs": [],
   "source": [
    "# Tamanho do contexto\n",
    "CONTEXT_SIZE = 10"
   ]
  },
  {
   "cell_type": "code",
   "execution_count": 16,
   "metadata": {},
   "outputs": [
    {
     "data": {
      "text/plain": [
       "array([[0., 0., 0., ..., 0., 0., 0.],\n",
       "       [0., 0., 0., ..., 0., 0., 0.],\n",
       "       [0., 0., 0., ..., 0., 0., 0.],\n",
       "       ...,\n",
       "       [0., 0., 0., ..., 0., 0., 0.],\n",
       "       [0., 0., 0., ..., 0., 0., 0.],\n",
       "       [0., 0., 0., ..., 0., 0., 0.]])"
      ]
     },
     "execution_count": 16,
     "metadata": {},
     "output_type": "execute_result"
    }
   ],
   "source": [
    "# Matriz de co-ocorrência preenchida com zeros\n",
    "co_occ_mat = np.zeros((vocab_size, vocab_size))\n",
    "co_occ_mat"
   ]
  },
  {
   "cell_type": "markdown",
   "metadata": {},
   "source": [
    "Agora percorremos os dicionários de mapeamento criados anteriormente e preenchemos a matriz de co-ocorrência."
   ]
  },
  {
   "cell_type": "code",
   "execution_count": 17,
   "metadata": {},
   "outputs": [],
   "source": [
    "# Loop externo por todo comprimento do vocabulário\n",
    "for i in range(comp_tokens):\n",
    "    \n",
    "    # Loop interno pelo tamanho do contexto\n",
    "    for dist in range(1, CONTEXT_SIZE + 1):\n",
    "        \n",
    "        # Obtém o índice do token\n",
    "        ix = palavra_indice[texto_token[i]]\n",
    "        \n",
    "        # Se a palara estiver à esquerda, inserimos à esquerda na matriz de co-ocorrência\n",
    "        if i - dist > 0:\n",
    "            left_ix = palavra_indice[texto_token[i - dist]]\n",
    "            co_occ_mat[ix, left_ix] += 1.0 / dist\n",
    "            \n",
    "        # Se a palara estiver à direita, inserimos à direita na matriz de co-ocorrência\n",
    "        if i + dist < len(texto_token):\n",
    "            right_ix = palavra_indice[texto_token[i + dist]]\n",
    "            co_occ_mat[ix, right_ix] += 1.0 / dist"
   ]
  },
  {
   "cell_type": "code",
   "execution_count": 18,
   "metadata": {},
   "outputs": [
    {
     "data": {
      "text/plain": [
       "array([[0., 0., 0., ..., 0., 0., 0.],\n",
       "       [0., 0., 0., ..., 0., 0., 0.],\n",
       "       [0., 0., 0., ..., 0., 0., 0.],\n",
       "       ...,\n",
       "       [0., 0., 0., ..., 0., 0., 0.],\n",
       "       [0., 0., 0., ..., 0., 0., 0.],\n",
       "       [0., 0., 0., ..., 0., 0., 0.]])"
      ]
     },
     "execution_count": 18,
     "metadata": {},
     "output_type": "execute_result"
    }
   ],
   "source": [
    "# Matriz de co-ocorrência\n",
    "co_occ_mat"
   ]
  },
  {
   "cell_type": "code",
   "execution_count": 19,
   "metadata": {},
   "outputs": [],
   "source": [
    "# Transposta da matriz de co-ocorrências\n",
    "# Retorna um array 2-D com uma linha para cada elemento não-zero \n",
    "co_occs = np.transpose(np.nonzero(co_occ_mat))"
   ]
  },
  {
   "cell_type": "code",
   "execution_count": 20,
   "metadata": {},
   "outputs": [
    {
     "name": "stdout",
     "output_type": "stream",
     "text": [
      "Shape da Matriz de Co-Ocorrência: (1397, 1397)\n"
     ]
    }
   ],
   "source": [
    "# Print\n",
    "print(\"Shape da Matriz de Co-Ocorrência:\", co_occ_mat.shape)"
   ]
  },
  {
   "cell_type": "code",
   "execution_count": 21,
   "metadata": {},
   "outputs": [
    {
     "name": "stdout",
     "output_type": "stream",
     "text": [
      "Matriz de Co-Ocorrência Não-Zero:\n",
      " [[   0   41]\n",
      " [   0   45]\n",
      " [   0   65]\n",
      " ...\n",
      " [1396 1203]\n",
      " [1396 1305]\n",
      " [1396 1367]]\n"
     ]
    }
   ],
   "source": [
    "# Print\n",
    "print(\"Matriz de Co-Ocorrência Não-Zero:\\n\", co_occs)"
   ]
  },
  {
   "cell_type": "markdown",
   "metadata": {},
   "source": [
    "### Criando o Modelo"
   ]
  },
  {
   "cell_type": "code",
   "execution_count": 22,
   "metadata": {},
   "outputs": [],
   "source": [
    "# Tamanho da embedding\n",
    "EMBEDDING_SIZE = 50"
   ]
  },
  {
   "cell_type": "code",
   "execution_count": 23,
   "metadata": {},
   "outputs": [],
   "source": [
    "# Hiperparâmetros\n",
    "X_MAX = 100\n",
    "ALPHA = 0.75\n",
    "BATCH_SIZE = 32\n",
    "LEARNING_RATE = 0.05\n",
    "EPOCHS = 200"
   ]
  },
  {
   "cell_type": "code",
   "execution_count": 24,
   "metadata": {},
   "outputs": [],
   "source": [
    "# Classe para o modelo\n",
    "class Glove(nn.Module):\n",
    "\n",
    "    # Método construtor\n",
    "    def __init__(self, vocab_size, comat, embedding_size, x_max, alpha):\n",
    "        super(Glove, self).__init__()\n",
    "        \n",
    "        # Matriz de embeddings com as palavras centrais\n",
    "        self.embedding_V = nn.Embedding(vocab_size, embedding_size)\n",
    "        \n",
    "        # Matriz de embeddings com as palavras de contexto\n",
    "        self.embedding_U = nn.Embedding(vocab_size, embedding_size)\n",
    "\n",
    "        # Bias\n",
    "        self.v_bias = nn.Embedding(vocab_size, 1)\n",
    "        self.u_bias = nn.Embedding(vocab_size, 1)\n",
    "        \n",
    "        # Inicializa os parâmtetros (pesos que a rede aprende durante o treinamento)\n",
    "        for params in self.parameters():\n",
    "            nn.init.uniform_(params, a = -0.5, b = 0.5)\n",
    "            \n",
    "        # Define os hiperparâmetros (que controlam o treinamento)\n",
    "        self.x_max = x_max\n",
    "        self.alpha = alpha\n",
    "        self.comat = comat\n",
    "    \n",
    "    # Função de forward\n",
    "    def forward(self, center_word_lookup, context_word_lookup):\n",
    "        \n",
    "        # Matrizes embedding de pesos para centro e contexto\n",
    "        center_embed = self.embedding_V(center_word_lookup)\n",
    "        target_embed = self.embedding_U(context_word_lookup)\n",
    "\n",
    "        # Matrizes embedding de bias para centro e contexto\n",
    "        center_bias = self.v_bias(center_word_lookup).squeeze(1)\n",
    "        target_bias = self.u_bias(context_word_lookup).squeeze(1)\n",
    "\n",
    "        # Elementos da matriz de co-ocorrência\n",
    "        co_occurrences = torch.tensor([self.comat[center_word_lookup[i].item(), context_word_lookup[i].item()]\n",
    "                                       for i in range(BATCH_SIZE)])\n",
    "        \n",
    "        # Carrega os pesos\n",
    "        weights = torch.tensor([self.weight_fn(var) for var in co_occurrences])\n",
    "\n",
    "        # Funçã de perda\n",
    "        loss = torch.sum(torch.pow((torch.sum(center_embed * target_embed, dim = 1)\n",
    "            + center_bias + target_bias) - torch.log(co_occurrences), 2) * weights)\n",
    "        \n",
    "        return loss\n",
    "       \n",
    "    # Definição do peso\n",
    "    def weight_fn(self, x):\n",
    "        if x < self.x_max:\n",
    "            return (x / self.x_max) ** self.alpha\n",
    "        return 1\n",
    "        \n",
    "    # Soma de V e U como nossos vetores de palavras\n",
    "    def embeddings(self):\n",
    "        return self.embedding_V.weight.data + self.embedding_U.weight.data"
   ]
  },
  {
   "cell_type": "code",
   "execution_count": 25,
   "metadata": {},
   "outputs": [],
   "source": [
    "# Função para gerar um bacth de palavras\n",
    "def gera_batch(model, batch_size = BATCH_SIZE):\n",
    "    \n",
    "    # Extrai uma amostra\n",
    "    sample = np.random.choice(np.arange(len(co_occs)), size = batch_size, replace = False)\n",
    "    \n",
    "    # Listas de vetores\n",
    "    v_vecs_ix, u_vecs_ix = [], []\n",
    "    \n",
    "    # Loop pela amostra para gerar os vetores\n",
    "    for chosen in sample:\n",
    "        ind = tuple(co_occs[chosen])  \n",
    "        \n",
    "        lookup_ix_v = ind[0]\n",
    "        lookup_ix_u = ind[1]\n",
    "        \n",
    "        v_vecs_ix.append(lookup_ix_v)\n",
    "        u_vecs_ix.append(lookup_ix_u) \n",
    "        \n",
    "    return torch.tensor(v_vecs_ix), torch.tensor(u_vecs_ix)"
   ]
  },
  {
   "cell_type": "markdown",
   "metadata": {},
   "source": [
    "### Treinamento do Modelo"
   ]
  },
  {
   "cell_type": "code",
   "execution_count": 26,
   "metadata": {},
   "outputs": [],
   "source": [
    "# Função para o treinamento\n",
    "def treina_glove(comat):\n",
    "    \n",
    "    # Lista para os erros\n",
    "    losses = []\n",
    "    \n",
    "    # Cria o modelo Glove\n",
    "    model = Glove(vocab_size, comat, embedding_size = EMBEDDING_SIZE, x_max = X_MAX, alpha = ALPHA)\n",
    "    \n",
    "    # Otimizador\n",
    "    optimizer = optim.Adagrad(model.parameters(), lr = LEARNING_RATE)\n",
    "    \n",
    "    # Loop pelo número de épocas\n",
    "    for epoch in range(EPOCHS):\n",
    "        \n",
    "        # Erro total\n",
    "        total_loss = 0\n",
    "        \n",
    "        # Número de bacthes\n",
    "        num_batches = int(len(texto_token) / BATCH_SIZE)\n",
    "        \n",
    "        # Loop pelos batches\n",
    "        for batch in tqdm(range(num_batches)):\n",
    "            \n",
    "            # Zera os gradientes do modelo\n",
    "            model.zero_grad()\n",
    "            \n",
    "            # Obtém o bacth de dados\n",
    "            data = gera_batch(model, BATCH_SIZE)\n",
    "            \n",
    "            # Calcula o erro\n",
    "            loss = model(*data)\n",
    "            \n",
    "            # Executa o backpropagation\n",
    "            loss.backward()\n",
    "            \n",
    "            # Otimiza os pesos (aqui é onde ocorre o aprendizado)\n",
    "            optimizer.step()\n",
    "            \n",
    "            # Erro total para a epoch\n",
    "            total_loss += loss.item()\n",
    "            \n",
    "        # Erros do modelo\n",
    "        losses.append(total_loss)\n",
    "        \n",
    "        # Print da epoch e erro médio do modelo\n",
    "        print('Epoch : %d, Erro Médio : %.02f' % (epoch, np.mean(losses)))\n",
    "        \n",
    "    return model, losses "
   ]
  },
  {
   "cell_type": "code",
   "execution_count": 27,
   "metadata": {},
   "outputs": [
    {
     "name": "stderr",
     "output_type": "stream",
     "text": [
      "100%|██████████| 165/165 [00:00<00:00, 363.67it/s]\n",
      " 21%|██        | 35/165 [00:00<00:00, 348.41it/s]"
     ]
    },
    {
     "name": "stdout",
     "output_type": "stream",
     "text": [
      "Epoch : 0, Erro Médio : 228.97\n"
     ]
    },
    {
     "name": "stderr",
     "output_type": "stream",
     "text": [
      "100%|██████████| 165/165 [00:00<00:00, 335.18it/s]\n",
      " 24%|██▎       | 39/165 [00:00<00:00, 380.83it/s]"
     ]
    },
    {
     "name": "stdout",
     "output_type": "stream",
     "text": [
      "Epoch : 1, Erro Médio : 223.81\n"
     ]
    },
    {
     "name": "stderr",
     "output_type": "stream",
     "text": [
      "100%|██████████| 165/165 [00:00<00:00, 337.98it/s]\n",
      " 20%|██        | 33/165 [00:00<00:00, 329.14it/s]"
     ]
    },
    {
     "name": "stdout",
     "output_type": "stream",
     "text": [
      "Epoch : 2, Erro Médio : 210.91\n"
     ]
    },
    {
     "name": "stderr",
     "output_type": "stream",
     "text": [
      "100%|██████████| 165/165 [00:00<00:00, 327.18it/s]\n",
      " 19%|█▉        | 31/165 [00:00<00:00, 301.01it/s]"
     ]
    },
    {
     "name": "stdout",
     "output_type": "stream",
     "text": [
      "Epoch : 3, Erro Médio : 202.35\n"
     ]
    },
    {
     "name": "stderr",
     "output_type": "stream",
     "text": [
      "100%|██████████| 165/165 [00:00<00:00, 335.50it/s]\n",
      " 21%|██        | 34/165 [00:00<00:00, 334.29it/s]"
     ]
    },
    {
     "name": "stdout",
     "output_type": "stream",
     "text": [
      "Epoch : 4, Erro Médio : 192.85\n"
     ]
    },
    {
     "name": "stderr",
     "output_type": "stream",
     "text": [
      "100%|██████████| 165/165 [00:00<00:00, 338.15it/s]\n",
      " 20%|██        | 33/165 [00:00<00:00, 326.34it/s]"
     ]
    },
    {
     "name": "stdout",
     "output_type": "stream",
     "text": [
      "Epoch : 5, Erro Médio : 183.25\n"
     ]
    },
    {
     "name": "stderr",
     "output_type": "stream",
     "text": [
      "100%|██████████| 165/165 [00:00<00:00, 356.08it/s]\n",
      " 47%|████▋     | 77/165 [00:00<00:00, 382.17it/s]"
     ]
    },
    {
     "name": "stdout",
     "output_type": "stream",
     "text": [
      "Epoch : 6, Erro Médio : 179.76\n"
     ]
    },
    {
     "name": "stderr",
     "output_type": "stream",
     "text": [
      "100%|██████████| 165/165 [00:00<00:00, 389.77it/s]\n",
      " 21%|██        | 35/165 [00:00<00:00, 349.17it/s]"
     ]
    },
    {
     "name": "stdout",
     "output_type": "stream",
     "text": [
      "Epoch : 7, Erro Médio : 175.17\n"
     ]
    },
    {
     "name": "stderr",
     "output_type": "stream",
     "text": [
      "100%|██████████| 165/165 [00:00<00:00, 393.91it/s]\n",
      " 25%|██▌       | 42/165 [00:00<00:00, 411.59it/s]"
     ]
    },
    {
     "name": "stdout",
     "output_type": "stream",
     "text": [
      "Epoch : 8, Erro Médio : 169.71\n"
     ]
    },
    {
     "name": "stderr",
     "output_type": "stream",
     "text": [
      "100%|██████████| 165/165 [00:00<00:00, 414.25it/s]\n",
      " 24%|██▍       | 40/165 [00:00<00:00, 399.84it/s]"
     ]
    },
    {
     "name": "stdout",
     "output_type": "stream",
     "text": [
      "Epoch : 9, Erro Médio : 163.96\n"
     ]
    },
    {
     "name": "stderr",
     "output_type": "stream",
     "text": [
      "100%|██████████| 165/165 [00:00<00:00, 414.86it/s]\n",
      " 23%|██▎       | 38/165 [00:00<00:00, 371.95it/s]"
     ]
    },
    {
     "name": "stdout",
     "output_type": "stream",
     "text": [
      "Epoch : 10, Erro Médio : 158.06\n"
     ]
    },
    {
     "name": "stderr",
     "output_type": "stream",
     "text": [
      "100%|██████████| 165/165 [00:00<00:00, 375.61it/s]\n",
      " 47%|████▋     | 77/165 [00:00<00:00, 383.43it/s]"
     ]
    },
    {
     "name": "stdout",
     "output_type": "stream",
     "text": [
      "Epoch : 11, Erro Médio : 153.43\n"
     ]
    },
    {
     "name": "stderr",
     "output_type": "stream",
     "text": [
      "100%|██████████| 165/165 [00:00<00:00, 373.64it/s]\n",
      " 25%|██▍       | 41/165 [00:00<00:00, 406.81it/s]"
     ]
    },
    {
     "name": "stdout",
     "output_type": "stream",
     "text": [
      "Epoch : 12, Erro Médio : 150.70\n"
     ]
    },
    {
     "name": "stderr",
     "output_type": "stream",
     "text": [
      "100%|██████████| 165/165 [00:00<00:00, 386.15it/s]\n",
      " 23%|██▎       | 38/165 [00:00<00:00, 376.51it/s]"
     ]
    },
    {
     "name": "stdout",
     "output_type": "stream",
     "text": [
      "Epoch : 13, Erro Médio : 147.37\n"
     ]
    },
    {
     "name": "stderr",
     "output_type": "stream",
     "text": [
      "100%|██████████| 165/165 [00:00<00:00, 368.03it/s]\n",
      " 22%|██▏       | 36/165 [00:00<00:00, 351.94it/s]"
     ]
    },
    {
     "name": "stdout",
     "output_type": "stream",
     "text": [
      "Epoch : 14, Erro Médio : 144.06\n"
     ]
    },
    {
     "name": "stderr",
     "output_type": "stream",
     "text": [
      "100%|██████████| 165/165 [00:00<00:00, 363.62it/s]\n",
      " 24%|██▎       | 39/165 [00:00<00:00, 383.93it/s]"
     ]
    },
    {
     "name": "stdout",
     "output_type": "stream",
     "text": [
      "Epoch : 15, Erro Médio : 140.43\n"
     ]
    },
    {
     "name": "stderr",
     "output_type": "stream",
     "text": [
      "100%|██████████| 165/165 [00:00<00:00, 363.08it/s]\n",
      " 24%|██▎       | 39/165 [00:00<00:00, 381.85it/s]"
     ]
    },
    {
     "name": "stdout",
     "output_type": "stream",
     "text": [
      "Epoch : 16, Erro Médio : 137.49\n"
     ]
    },
    {
     "name": "stderr",
     "output_type": "stream",
     "text": [
      "100%|██████████| 165/165 [00:00<00:00, 384.13it/s]\n",
      " 48%|████▊     | 79/165 [00:00<00:00, 386.20it/s]"
     ]
    },
    {
     "name": "stdout",
     "output_type": "stream",
     "text": [
      "Epoch : 17, Erro Médio : 134.66\n"
     ]
    },
    {
     "name": "stderr",
     "output_type": "stream",
     "text": [
      "100%|██████████| 165/165 [00:00<00:00, 379.91it/s]\n",
      " 19%|█▉        | 32/165 [00:00<00:00, 319.57it/s]"
     ]
    },
    {
     "name": "stdout",
     "output_type": "stream",
     "text": [
      "Epoch : 18, Erro Médio : 131.35\n"
     ]
    },
    {
     "name": "stderr",
     "output_type": "stream",
     "text": [
      "100%|██████████| 165/165 [00:00<00:00, 320.89it/s]\n",
      " 20%|██        | 33/165 [00:00<00:00, 320.97it/s]"
     ]
    },
    {
     "name": "stdout",
     "output_type": "stream",
     "text": [
      "Epoch : 19, Erro Médio : 128.25\n"
     ]
    },
    {
     "name": "stderr",
     "output_type": "stream",
     "text": [
      "100%|██████████| 165/165 [00:00<00:00, 361.87it/s]\n",
      " 47%|████▋     | 77/165 [00:00<00:00, 388.39it/s]"
     ]
    },
    {
     "name": "stdout",
     "output_type": "stream",
     "text": [
      "Epoch : 20, Erro Médio : 125.93\n"
     ]
    },
    {
     "name": "stderr",
     "output_type": "stream",
     "text": [
      "100%|██████████| 165/165 [00:00<00:00, 357.27it/s]\n",
      " 21%|██        | 34/165 [00:00<00:00, 338.01it/s]"
     ]
    },
    {
     "name": "stdout",
     "output_type": "stream",
     "text": [
      "Epoch : 21, Erro Médio : 123.46\n"
     ]
    },
    {
     "name": "stderr",
     "output_type": "stream",
     "text": [
      "100%|██████████| 165/165 [00:00<00:00, 358.69it/s]\n",
      " 39%|███▉      | 64/165 [00:00<00:00, 314.15it/s]"
     ]
    },
    {
     "name": "stdout",
     "output_type": "stream",
     "text": [
      "Epoch : 22, Erro Médio : 120.86\n"
     ]
    },
    {
     "name": "stderr",
     "output_type": "stream",
     "text": [
      "100%|██████████| 165/165 [00:00<00:00, 338.56it/s]\n",
      " 22%|██▏       | 36/165 [00:00<00:00, 354.18it/s]"
     ]
    },
    {
     "name": "stdout",
     "output_type": "stream",
     "text": [
      "Epoch : 23, Erro Médio : 118.63\n"
     ]
    },
    {
     "name": "stderr",
     "output_type": "stream",
     "text": [
      "100%|██████████| 165/165 [00:00<00:00, 331.60it/s]\n",
      " 20%|██        | 33/165 [00:00<00:00, 324.97it/s]"
     ]
    },
    {
     "name": "stdout",
     "output_type": "stream",
     "text": [
      "Epoch : 24, Erro Médio : 116.40\n"
     ]
    },
    {
     "name": "stderr",
     "output_type": "stream",
     "text": [
      "100%|██████████| 165/165 [00:00<00:00, 330.89it/s]\n",
      " 22%|██▏       | 37/165 [00:00<00:00, 361.40it/s]"
     ]
    },
    {
     "name": "stdout",
     "output_type": "stream",
     "text": [
      "Epoch : 25, Erro Médio : 114.27\n"
     ]
    },
    {
     "name": "stderr",
     "output_type": "stream",
     "text": [
      "100%|██████████| 165/165 [00:00<00:00, 369.55it/s]\n",
      " 24%|██▎       | 39/165 [00:00<00:00, 388.50it/s]"
     ]
    },
    {
     "name": "stdout",
     "output_type": "stream",
     "text": [
      "Epoch : 26, Erro Médio : 112.15\n"
     ]
    },
    {
     "name": "stderr",
     "output_type": "stream",
     "text": [
      "100%|██████████| 165/165 [00:00<00:00, 348.27it/s]\n",
      " 43%|████▎     | 71/165 [00:00<00:00, 346.09it/s]"
     ]
    },
    {
     "name": "stdout",
     "output_type": "stream",
     "text": [
      "Epoch : 27, Erro Médio : 110.08\n"
     ]
    },
    {
     "name": "stderr",
     "output_type": "stream",
     "text": [
      "100%|██████████| 165/165 [00:00<00:00, 365.66it/s]\n",
      " 25%|██▍       | 41/165 [00:00<00:00, 396.78it/s]"
     ]
    },
    {
     "name": "stdout",
     "output_type": "stream",
     "text": [
      "Epoch : 28, Erro Médio : 108.23\n"
     ]
    },
    {
     "name": "stderr",
     "output_type": "stream",
     "text": [
      "100%|██████████| 165/165 [00:00<00:00, 362.82it/s]\n",
      " 41%|████      | 67/165 [00:00<00:00, 329.72it/s]"
     ]
    },
    {
     "name": "stdout",
     "output_type": "stream",
     "text": [
      "Epoch : 29, Erro Médio : 106.72\n"
     ]
    },
    {
     "name": "stderr",
     "output_type": "stream",
     "text": [
      "100%|██████████| 165/165 [00:00<00:00, 344.84it/s]\n",
      " 22%|██▏       | 36/165 [00:00<00:00, 356.51it/s]"
     ]
    },
    {
     "name": "stdout",
     "output_type": "stream",
     "text": [
      "Epoch : 30, Erro Médio : 104.87\n"
     ]
    },
    {
     "name": "stderr",
     "output_type": "stream",
     "text": [
      "100%|██████████| 165/165 [00:00<00:00, 359.76it/s]\n",
      " 24%|██▎       | 39/165 [00:00<00:00, 381.91it/s]"
     ]
    },
    {
     "name": "stdout",
     "output_type": "stream",
     "text": [
      "Epoch : 31, Erro Médio : 103.12\n"
     ]
    },
    {
     "name": "stderr",
     "output_type": "stream",
     "text": [
      "100%|██████████| 165/165 [00:00<00:00, 374.23it/s]\n",
      " 25%|██▍       | 41/165 [00:00<00:00, 403.88it/s]"
     ]
    },
    {
     "name": "stdout",
     "output_type": "stream",
     "text": [
      "Epoch : 32, Erro Médio : 101.46\n"
     ]
    },
    {
     "name": "stderr",
     "output_type": "stream",
     "text": [
      "100%|██████████| 165/165 [00:00<00:00, 363.56it/s]\n",
      " 20%|██        | 33/165 [00:00<00:00, 327.63it/s]"
     ]
    },
    {
     "name": "stdout",
     "output_type": "stream",
     "text": [
      "Epoch : 33, Erro Médio : 99.92\n"
     ]
    },
    {
     "name": "stderr",
     "output_type": "stream",
     "text": [
      "100%|██████████| 165/165 [00:00<00:00, 345.36it/s]\n",
      " 24%|██▍       | 40/165 [00:00<00:00, 396.57it/s]"
     ]
    },
    {
     "name": "stdout",
     "output_type": "stream",
     "text": [
      "Epoch : 34, Erro Médio : 98.38\n"
     ]
    },
    {
     "name": "stderr",
     "output_type": "stream",
     "text": [
      "100%|██████████| 165/165 [00:00<00:00, 382.43it/s]\n",
      " 23%|██▎       | 38/165 [00:00<00:00, 374.71it/s]"
     ]
    },
    {
     "name": "stdout",
     "output_type": "stream",
     "text": [
      "Epoch : 35, Erro Médio : 96.96\n"
     ]
    },
    {
     "name": "stderr",
     "output_type": "stream",
     "text": [
      "100%|██████████| 165/165 [00:00<00:00, 383.35it/s]\n",
      " 24%|██▍       | 40/165 [00:00<00:00, 397.20it/s]"
     ]
    },
    {
     "name": "stdout",
     "output_type": "stream",
     "text": [
      "Epoch : 36, Erro Médio : 95.57\n"
     ]
    },
    {
     "name": "stderr",
     "output_type": "stream",
     "text": [
      "100%|██████████| 165/165 [00:00<00:00, 362.50it/s]\n",
      " 21%|██        | 34/165 [00:00<00:00, 333.92it/s]"
     ]
    },
    {
     "name": "stdout",
     "output_type": "stream",
     "text": [
      "Epoch : 37, Erro Médio : 94.25\n"
     ]
    },
    {
     "name": "stderr",
     "output_type": "stream",
     "text": [
      "100%|██████████| 165/165 [00:00<00:00, 360.92it/s]\n",
      " 25%|██▌       | 42/165 [00:00<00:00, 415.77it/s]"
     ]
    },
    {
     "name": "stdout",
     "output_type": "stream",
     "text": [
      "Epoch : 38, Erro Médio : 92.97\n"
     ]
    },
    {
     "name": "stderr",
     "output_type": "stream",
     "text": [
      "100%|██████████| 165/165 [00:00<00:00, 404.35it/s]\n",
      " 24%|██▍       | 40/165 [00:00<00:00, 398.14it/s]"
     ]
    },
    {
     "name": "stdout",
     "output_type": "stream",
     "text": [
      "Epoch : 39, Erro Médio : 91.68\n"
     ]
    },
    {
     "name": "stderr",
     "output_type": "stream",
     "text": [
      "100%|██████████| 165/165 [00:00<00:00, 416.78it/s]\n",
      " 25%|██▌       | 42/165 [00:00<00:00, 419.90it/s]"
     ]
    },
    {
     "name": "stdout",
     "output_type": "stream",
     "text": [
      "Epoch : 40, Erro Médio : 90.44\n"
     ]
    },
    {
     "name": "stderr",
     "output_type": "stream",
     "text": [
      "100%|██████████| 165/165 [00:00<00:00, 412.88it/s]\n",
      " 24%|██▍       | 40/165 [00:00<00:00, 395.26it/s]"
     ]
    },
    {
     "name": "stdout",
     "output_type": "stream",
     "text": [
      "Epoch : 41, Erro Médio : 89.27\n"
     ]
    },
    {
     "name": "stderr",
     "output_type": "stream",
     "text": [
      "100%|██████████| 165/165 [00:00<00:00, 373.05it/s]\n",
      " 23%|██▎       | 38/165 [00:00<00:00, 378.78it/s]"
     ]
    },
    {
     "name": "stdout",
     "output_type": "stream",
     "text": [
      "Epoch : 42, Erro Médio : 88.09\n"
     ]
    },
    {
     "name": "stderr",
     "output_type": "stream",
     "text": [
      "100%|██████████| 165/165 [00:00<00:00, 364.24it/s]\n",
      " 23%|██▎       | 38/165 [00:00<00:00, 374.32it/s]"
     ]
    },
    {
     "name": "stdout",
     "output_type": "stream",
     "text": [
      "Epoch : 43, Erro Médio : 87.00\n"
     ]
    },
    {
     "name": "stderr",
     "output_type": "stream",
     "text": [
      "100%|██████████| 165/165 [00:00<00:00, 345.61it/s]\n",
      " 20%|██        | 33/165 [00:00<00:00, 324.74it/s]"
     ]
    },
    {
     "name": "stdout",
     "output_type": "stream",
     "text": [
      "Epoch : 44, Erro Médio : 86.00\n"
     ]
    },
    {
     "name": "stderr",
     "output_type": "stream",
     "text": [
      "100%|██████████| 165/165 [00:00<00:00, 338.06it/s]\n",
      " 24%|██▎       | 39/165 [00:00<00:00, 384.82it/s]"
     ]
    },
    {
     "name": "stdout",
     "output_type": "stream",
     "text": [
      "Epoch : 45, Erro Médio : 84.99\n"
     ]
    },
    {
     "name": "stderr",
     "output_type": "stream",
     "text": [
      "100%|██████████| 165/165 [00:00<00:00, 358.64it/s]\n",
      " 20%|██        | 33/165 [00:00<00:00, 324.67it/s]"
     ]
    },
    {
     "name": "stdout",
     "output_type": "stream",
     "text": [
      "Epoch : 46, Erro Médio : 84.03\n"
     ]
    },
    {
     "name": "stderr",
     "output_type": "stream",
     "text": [
      "100%|██████████| 165/165 [00:00<00:00, 330.42it/s]\n",
      " 21%|██        | 34/165 [00:00<00:00, 330.13it/s]"
     ]
    },
    {
     "name": "stdout",
     "output_type": "stream",
     "text": [
      "Epoch : 47, Erro Médio : 83.07\n"
     ]
    },
    {
     "name": "stderr",
     "output_type": "stream",
     "text": [
      "100%|██████████| 165/165 [00:00<00:00, 371.14it/s]\n",
      " 23%|██▎       | 38/165 [00:00<00:00, 372.57it/s]"
     ]
    },
    {
     "name": "stdout",
     "output_type": "stream",
     "text": [
      "Epoch : 48, Erro Médio : 82.13\n"
     ]
    },
    {
     "name": "stderr",
     "output_type": "stream",
     "text": [
      "100%|██████████| 165/165 [00:00<00:00, 384.16it/s]\n",
      " 19%|█▉        | 31/165 [00:00<00:00, 307.98it/s]"
     ]
    },
    {
     "name": "stdout",
     "output_type": "stream",
     "text": [
      "Epoch : 49, Erro Médio : 81.18\n"
     ]
    },
    {
     "name": "stderr",
     "output_type": "stream",
     "text": [
      "100%|██████████| 165/165 [00:00<00:00, 336.60it/s]\n",
      " 24%|██▎       | 39/165 [00:00<00:00, 381.26it/s]"
     ]
    },
    {
     "name": "stdout",
     "output_type": "stream",
     "text": [
      "Epoch : 50, Erro Médio : 80.29\n"
     ]
    },
    {
     "name": "stderr",
     "output_type": "stream",
     "text": [
      "100%|██████████| 165/165 [00:00<00:00, 388.14it/s]\n",
      " 24%|██▎       | 39/165 [00:00<00:00, 384.19it/s]"
     ]
    },
    {
     "name": "stdout",
     "output_type": "stream",
     "text": [
      "Epoch : 51, Erro Médio : 79.41\n"
     ]
    },
    {
     "name": "stderr",
     "output_type": "stream",
     "text": [
      "100%|██████████| 165/165 [00:00<00:00, 365.65it/s]\n",
      " 21%|██        | 34/165 [00:00<00:00, 338.50it/s]"
     ]
    },
    {
     "name": "stdout",
     "output_type": "stream",
     "text": [
      "Epoch : 52, Erro Médio : 78.63\n"
     ]
    },
    {
     "name": "stderr",
     "output_type": "stream",
     "text": [
      "100%|██████████| 165/165 [00:00<00:00, 316.29it/s]\n",
      " 18%|█▊        | 30/165 [00:00<00:00, 296.99it/s]"
     ]
    },
    {
     "name": "stdout",
     "output_type": "stream",
     "text": [
      "Epoch : 53, Erro Médio : 77.87\n"
     ]
    },
    {
     "name": "stderr",
     "output_type": "stream",
     "text": [
      "100%|██████████| 165/165 [00:00<00:00, 355.20it/s]\n",
      " 24%|██▍       | 40/165 [00:00<00:00, 397.22it/s]"
     ]
    },
    {
     "name": "stdout",
     "output_type": "stream",
     "text": [
      "Epoch : 54, Erro Médio : 77.10\n"
     ]
    },
    {
     "name": "stderr",
     "output_type": "stream",
     "text": [
      "100%|██████████| 165/165 [00:00<00:00, 386.65it/s]\n",
      " 24%|██▍       | 40/165 [00:00<00:00, 399.23it/s]"
     ]
    },
    {
     "name": "stdout",
     "output_type": "stream",
     "text": [
      "Epoch : 55, Erro Médio : 76.32\n"
     ]
    },
    {
     "name": "stderr",
     "output_type": "stream",
     "text": [
      "100%|██████████| 165/165 [00:00<00:00, 402.72it/s]\n",
      " 23%|██▎       | 38/165 [00:00<00:00, 371.37it/s]"
     ]
    },
    {
     "name": "stdout",
     "output_type": "stream",
     "text": [
      "Epoch : 56, Erro Médio : 75.55\n"
     ]
    },
    {
     "name": "stderr",
     "output_type": "stream",
     "text": [
      "100%|██████████| 165/165 [00:00<00:00, 372.04it/s]\n",
      " 24%|██▍       | 40/165 [00:00<00:00, 391.96it/s]"
     ]
    },
    {
     "name": "stdout",
     "output_type": "stream",
     "text": [
      "Epoch : 57, Erro Médio : 74.81\n"
     ]
    },
    {
     "name": "stderr",
     "output_type": "stream",
     "text": [
      "100%|██████████| 165/165 [00:00<00:00, 386.71it/s]\n",
      " 25%|██▍       | 41/165 [00:00<00:00, 402.77it/s]"
     ]
    },
    {
     "name": "stdout",
     "output_type": "stream",
     "text": [
      "Epoch : 58, Erro Médio : 74.09\n"
     ]
    },
    {
     "name": "stderr",
     "output_type": "stream",
     "text": [
      "100%|██████████| 165/165 [00:00<00:00, 358.30it/s]\n",
      " 24%|██▍       | 40/165 [00:00<00:00, 391.58it/s]"
     ]
    },
    {
     "name": "stdout",
     "output_type": "stream",
     "text": [
      "Epoch : 59, Erro Médio : 73.49\n"
     ]
    },
    {
     "name": "stderr",
     "output_type": "stream",
     "text": [
      "100%|██████████| 165/165 [00:00<00:00, 398.85it/s]\n",
      " 23%|██▎       | 38/165 [00:00<00:00, 379.51it/s]"
     ]
    },
    {
     "name": "stdout",
     "output_type": "stream",
     "text": [
      "Epoch : 60, Erro Médio : 72.82\n"
     ]
    },
    {
     "name": "stderr",
     "output_type": "stream",
     "text": [
      "100%|██████████| 165/165 [00:00<00:00, 389.49it/s]\n",
      " 23%|██▎       | 38/165 [00:00<00:00, 373.72it/s]"
     ]
    },
    {
     "name": "stdout",
     "output_type": "stream",
     "text": [
      "Epoch : 61, Erro Médio : 72.17\n"
     ]
    },
    {
     "name": "stderr",
     "output_type": "stream",
     "text": [
      "100%|██████████| 165/165 [00:00<00:00, 388.40it/s]\n",
      " 24%|██▍       | 40/165 [00:00<00:00, 395.00it/s]"
     ]
    },
    {
     "name": "stdout",
     "output_type": "stream",
     "text": [
      "Epoch : 62, Erro Médio : 71.52\n"
     ]
    },
    {
     "name": "stderr",
     "output_type": "stream",
     "text": [
      "100%|██████████| 165/165 [00:00<00:00, 385.38it/s]\n",
      " 22%|██▏       | 37/165 [00:00<00:00, 366.75it/s]"
     ]
    },
    {
     "name": "stdout",
     "output_type": "stream",
     "text": [
      "Epoch : 63, Erro Médio : 70.89\n"
     ]
    },
    {
     "name": "stderr",
     "output_type": "stream",
     "text": [
      "100%|██████████| 165/165 [00:00<00:00, 388.88it/s]\n",
      " 24%|██▎       | 39/165 [00:00<00:00, 382.93it/s]"
     ]
    },
    {
     "name": "stdout",
     "output_type": "stream",
     "text": [
      "Epoch : 64, Erro Médio : 70.26\n"
     ]
    },
    {
     "name": "stderr",
     "output_type": "stream",
     "text": [
      "100%|██████████| 165/165 [00:00<00:00, 369.61it/s]\n",
      " 25%|██▍       | 41/165 [00:00<00:00, 409.88it/s]"
     ]
    },
    {
     "name": "stdout",
     "output_type": "stream",
     "text": [
      "Epoch : 65, Erro Médio : 69.64\n"
     ]
    },
    {
     "name": "stderr",
     "output_type": "stream",
     "text": [
      "100%|██████████| 165/165 [00:00<00:00, 312.03it/s]\n",
      " 18%|█▊        | 30/165 [00:00<00:00, 295.86it/s]"
     ]
    },
    {
     "name": "stdout",
     "output_type": "stream",
     "text": [
      "Epoch : 66, Erro Médio : 69.06\n"
     ]
    },
    {
     "name": "stderr",
     "output_type": "stream",
     "text": [
      "100%|██████████| 165/165 [00:00<00:00, 292.66it/s]\n",
      " 18%|█▊        | 30/165 [00:00<00:00, 291.47it/s]"
     ]
    },
    {
     "name": "stdout",
     "output_type": "stream",
     "text": [
      "Epoch : 67, Erro Médio : 68.48\n"
     ]
    },
    {
     "name": "stderr",
     "output_type": "stream",
     "text": [
      "100%|██████████| 165/165 [00:00<00:00, 290.17it/s]\n",
      " 18%|█▊        | 30/165 [00:00<00:00, 293.62it/s]"
     ]
    },
    {
     "name": "stdout",
     "output_type": "stream",
     "text": [
      "Epoch : 68, Erro Médio : 67.93\n"
     ]
    },
    {
     "name": "stderr",
     "output_type": "stream",
     "text": [
      "100%|██████████| 165/165 [00:00<00:00, 271.55it/s]\n",
      " 18%|█▊        | 30/165 [00:00<00:00, 291.96it/s]"
     ]
    },
    {
     "name": "stdout",
     "output_type": "stream",
     "text": [
      "Epoch : 69, Erro Médio : 67.38\n"
     ]
    },
    {
     "name": "stderr",
     "output_type": "stream",
     "text": [
      "100%|██████████| 165/165 [00:00<00:00, 291.97it/s]\n",
      " 18%|█▊        | 29/165 [00:00<00:00, 289.90it/s]"
     ]
    },
    {
     "name": "stdout",
     "output_type": "stream",
     "text": [
      "Epoch : 70, Erro Médio : 66.84\n"
     ]
    },
    {
     "name": "stderr",
     "output_type": "stream",
     "text": [
      "100%|██████████| 165/165 [00:00<00:00, 292.75it/s]\n",
      " 18%|█▊        | 30/165 [00:00<00:00, 295.54it/s]"
     ]
    },
    {
     "name": "stdout",
     "output_type": "stream",
     "text": [
      "Epoch : 71, Erro Médio : 66.36\n"
     ]
    },
    {
     "name": "stderr",
     "output_type": "stream",
     "text": [
      "100%|██████████| 165/165 [00:00<00:00, 292.43it/s]\n",
      " 18%|█▊        | 30/165 [00:00<00:00, 295.32it/s]"
     ]
    },
    {
     "name": "stdout",
     "output_type": "stream",
     "text": [
      "Epoch : 72, Erro Médio : 65.84\n"
     ]
    },
    {
     "name": "stderr",
     "output_type": "stream",
     "text": [
      "100%|██████████| 165/165 [00:00<00:00, 270.27it/s]\n",
      " 16%|█▋        | 27/165 [00:00<00:00, 263.75it/s]"
     ]
    },
    {
     "name": "stdout",
     "output_type": "stream",
     "text": [
      "Epoch : 73, Erro Médio : 65.32\n"
     ]
    },
    {
     "name": "stderr",
     "output_type": "stream",
     "text": [
      "100%|██████████| 165/165 [00:00<00:00, 341.78it/s]\n",
      " 45%|████▍     | 74/165 [00:00<00:00, 362.29it/s]"
     ]
    },
    {
     "name": "stdout",
     "output_type": "stream",
     "text": [
      "Epoch : 74, Erro Médio : 64.86\n"
     ]
    },
    {
     "name": "stderr",
     "output_type": "stream",
     "text": [
      "100%|██████████| 165/165 [00:00<00:00, 393.90it/s]\n",
      " 23%|██▎       | 38/165 [00:00<00:00, 373.82it/s]"
     ]
    },
    {
     "name": "stdout",
     "output_type": "stream",
     "text": [
      "Epoch : 75, Erro Médio : 64.38\n"
     ]
    },
    {
     "name": "stderr",
     "output_type": "stream",
     "text": [
      "100%|██████████| 165/165 [00:00<00:00, 372.52it/s]\n",
      " 24%|██▍       | 40/165 [00:00<00:00, 399.01it/s]"
     ]
    },
    {
     "name": "stdout",
     "output_type": "stream",
     "text": [
      "Epoch : 76, Erro Médio : 63.89\n"
     ]
    },
    {
     "name": "stderr",
     "output_type": "stream",
     "text": [
      "100%|██████████| 165/165 [00:00<00:00, 381.12it/s]\n",
      " 48%|████▊     | 79/165 [00:00<00:00, 396.26it/s]"
     ]
    },
    {
     "name": "stdout",
     "output_type": "stream",
     "text": [
      "Epoch : 77, Erro Médio : 63.43\n"
     ]
    },
    {
     "name": "stderr",
     "output_type": "stream",
     "text": [
      "100%|██████████| 165/165 [00:00<00:00, 382.95it/s]\n",
      " 24%|██▎       | 39/165 [00:00<00:00, 387.72it/s]"
     ]
    },
    {
     "name": "stdout",
     "output_type": "stream",
     "text": [
      "Epoch : 78, Erro Médio : 62.96\n"
     ]
    },
    {
     "name": "stderr",
     "output_type": "stream",
     "text": [
      "100%|██████████| 165/165 [00:00<00:00, 382.99it/s]\n",
      " 22%|██▏       | 36/165 [00:00<00:00, 355.57it/s]"
     ]
    },
    {
     "name": "stdout",
     "output_type": "stream",
     "text": [
      "Epoch : 79, Erro Médio : 62.51\n"
     ]
    },
    {
     "name": "stderr",
     "output_type": "stream",
     "text": [
      "100%|██████████| 165/165 [00:00<00:00, 391.86it/s]\n",
      " 25%|██▌       | 42/165 [00:00<00:00, 410.90it/s]"
     ]
    },
    {
     "name": "stdout",
     "output_type": "stream",
     "text": [
      "Epoch : 80, Erro Médio : 62.05\n"
     ]
    },
    {
     "name": "stderr",
     "output_type": "stream",
     "text": [
      "100%|██████████| 165/165 [00:00<00:00, 384.67it/s]\n",
      " 22%|██▏       | 37/165 [00:00<00:00, 363.20it/s]"
     ]
    },
    {
     "name": "stdout",
     "output_type": "stream",
     "text": [
      "Epoch : 81, Erro Médio : 61.63\n"
     ]
    },
    {
     "name": "stderr",
     "output_type": "stream",
     "text": [
      "100%|██████████| 165/165 [00:00<00:00, 398.76it/s]\n",
      " 24%|██▍       | 40/165 [00:00<00:00, 393.43it/s]"
     ]
    },
    {
     "name": "stdout",
     "output_type": "stream",
     "text": [
      "Epoch : 82, Erro Médio : 61.19\n"
     ]
    },
    {
     "name": "stderr",
     "output_type": "stream",
     "text": [
      "100%|██████████| 165/165 [00:00<00:00, 400.23it/s]\n",
      " 25%|██▌       | 42/165 [00:00<00:00, 414.44it/s]"
     ]
    },
    {
     "name": "stdout",
     "output_type": "stream",
     "text": [
      "Epoch : 83, Erro Médio : 60.78\n"
     ]
    },
    {
     "name": "stderr",
     "output_type": "stream",
     "text": [
      "100%|██████████| 165/165 [00:00<00:00, 419.19it/s]\n",
      " 24%|██▍       | 40/165 [00:00<00:00, 392.12it/s]"
     ]
    },
    {
     "name": "stdout",
     "output_type": "stream",
     "text": [
      "Epoch : 84, Erro Médio : 60.36\n"
     ]
    },
    {
     "name": "stderr",
     "output_type": "stream",
     "text": [
      "100%|██████████| 165/165 [00:00<00:00, 371.37it/s]\n",
      " 24%|██▍       | 40/165 [00:00<00:00, 391.44it/s]"
     ]
    },
    {
     "name": "stdout",
     "output_type": "stream",
     "text": [
      "Epoch : 85, Erro Médio : 59.96\n"
     ]
    },
    {
     "name": "stderr",
     "output_type": "stream",
     "text": [
      "100%|██████████| 165/165 [00:00<00:00, 386.51it/s]\n",
      " 24%|██▎       | 39/165 [00:00<00:00, 386.99it/s]"
     ]
    },
    {
     "name": "stdout",
     "output_type": "stream",
     "text": [
      "Epoch : 86, Erro Médio : 59.57\n"
     ]
    },
    {
     "name": "stderr",
     "output_type": "stream",
     "text": [
      "100%|██████████| 165/165 [00:00<00:00, 404.99it/s]\n",
      " 24%|██▍       | 40/165 [00:00<00:00, 393.47it/s]"
     ]
    },
    {
     "name": "stdout",
     "output_type": "stream",
     "text": [
      "Epoch : 87, Erro Médio : 59.17\n"
     ]
    },
    {
     "name": "stderr",
     "output_type": "stream",
     "text": [
      "100%|██████████| 165/165 [00:00<00:00, 360.08it/s]\n",
      " 24%|██▎       | 39/165 [00:00<00:00, 387.54it/s]"
     ]
    },
    {
     "name": "stdout",
     "output_type": "stream",
     "text": [
      "Epoch : 88, Erro Médio : 58.78\n"
     ]
    },
    {
     "name": "stderr",
     "output_type": "stream",
     "text": [
      "100%|██████████| 165/165 [00:00<00:00, 402.37it/s]\n",
      " 24%|██▎       | 39/165 [00:00<00:00, 380.13it/s]"
     ]
    },
    {
     "name": "stdout",
     "output_type": "stream",
     "text": [
      "Epoch : 89, Erro Médio : 58.40\n"
     ]
    },
    {
     "name": "stderr",
     "output_type": "stream",
     "text": [
      "100%|██████████| 165/165 [00:00<00:00, 359.86it/s]\n",
      " 48%|████▊     | 80/165 [00:00<00:00, 393.24it/s]"
     ]
    },
    {
     "name": "stdout",
     "output_type": "stream",
     "text": [
      "Epoch : 90, Erro Médio : 58.04\n"
     ]
    },
    {
     "name": "stderr",
     "output_type": "stream",
     "text": [
      "100%|██████████| 165/165 [00:00<00:00, 402.53it/s]\n",
      " 26%|██▌       | 43/165 [00:00<00:00, 420.88it/s]"
     ]
    },
    {
     "name": "stdout",
     "output_type": "stream",
     "text": [
      "Epoch : 91, Erro Médio : 57.67\n"
     ]
    },
    {
     "name": "stderr",
     "output_type": "stream",
     "text": [
      "100%|██████████| 165/165 [00:00<00:00, 413.61it/s]\n",
      " 49%|████▉     | 81/165 [00:00<00:00, 395.70it/s]"
     ]
    },
    {
     "name": "stdout",
     "output_type": "stream",
     "text": [
      "Epoch : 92, Erro Médio : 57.30\n"
     ]
    },
    {
     "name": "stderr",
     "output_type": "stream",
     "text": [
      "100%|██████████| 165/165 [00:00<00:00, 397.22it/s]\n",
      " 24%|██▎       | 39/165 [00:00<00:00, 384.68it/s]"
     ]
    },
    {
     "name": "stdout",
     "output_type": "stream",
     "text": [
      "Epoch : 93, Erro Médio : 56.95\n"
     ]
    },
    {
     "name": "stderr",
     "output_type": "stream",
     "text": [
      "100%|██████████| 165/165 [00:00<00:00, 414.97it/s]\n",
      " 24%|██▍       | 40/165 [00:00<00:00, 399.52it/s]"
     ]
    },
    {
     "name": "stdout",
     "output_type": "stream",
     "text": [
      "Epoch : 94, Erro Médio : 56.60\n"
     ]
    },
    {
     "name": "stderr",
     "output_type": "stream",
     "text": [
      "100%|██████████| 165/165 [00:00<00:00, 367.16it/s]\n",
      " 21%|██        | 34/165 [00:00<00:00, 330.52it/s]"
     ]
    },
    {
     "name": "stdout",
     "output_type": "stream",
     "text": [
      "Epoch : 95, Erro Médio : 56.25\n"
     ]
    },
    {
     "name": "stderr",
     "output_type": "stream",
     "text": [
      "100%|██████████| 165/165 [00:00<00:00, 326.63it/s]\n",
      " 20%|██        | 33/165 [00:00<00:00, 320.41it/s]"
     ]
    },
    {
     "name": "stdout",
     "output_type": "stream",
     "text": [
      "Epoch : 96, Erro Médio : 55.90\n"
     ]
    },
    {
     "name": "stderr",
     "output_type": "stream",
     "text": [
      "100%|██████████| 165/165 [00:00<00:00, 322.94it/s]\n",
      " 22%|██▏       | 36/165 [00:00<00:00, 355.54it/s]"
     ]
    },
    {
     "name": "stdout",
     "output_type": "stream",
     "text": [
      "Epoch : 97, Erro Médio : 55.56\n"
     ]
    },
    {
     "name": "stderr",
     "output_type": "stream",
     "text": [
      "100%|██████████| 165/165 [00:00<00:00, 381.55it/s]\n",
      " 23%|██▎       | 38/165 [00:00<00:00, 371.53it/s]"
     ]
    },
    {
     "name": "stdout",
     "output_type": "stream",
     "text": [
      "Epoch : 98, Erro Médio : 55.23\n"
     ]
    },
    {
     "name": "stderr",
     "output_type": "stream",
     "text": [
      "100%|██████████| 165/165 [00:00<00:00, 327.18it/s]\n",
      " 25%|██▍       | 41/165 [00:00<00:00, 401.59it/s]"
     ]
    },
    {
     "name": "stdout",
     "output_type": "stream",
     "text": [
      "Epoch : 99, Erro Médio : 54.90\n"
     ]
    },
    {
     "name": "stderr",
     "output_type": "stream",
     "text": [
      "100%|██████████| 165/165 [00:00<00:00, 359.38it/s]\n",
      " 44%|████▍     | 73/165 [00:00<00:00, 352.40it/s]"
     ]
    },
    {
     "name": "stdout",
     "output_type": "stream",
     "text": [
      "Epoch : 100, Erro Médio : 54.59\n"
     ]
    },
    {
     "name": "stderr",
     "output_type": "stream",
     "text": [
      "100%|██████████| 165/165 [00:00<00:00, 377.93it/s]\n",
      " 24%|██▎       | 39/165 [00:00<00:00, 382.37it/s]"
     ]
    },
    {
     "name": "stdout",
     "output_type": "stream",
     "text": [
      "Epoch : 101, Erro Médio : 54.27\n"
     ]
    },
    {
     "name": "stderr",
     "output_type": "stream",
     "text": [
      "100%|██████████| 165/165 [00:00<00:00, 353.35it/s]\n",
      " 22%|██▏       | 36/165 [00:00<00:00, 355.31it/s]"
     ]
    },
    {
     "name": "stdout",
     "output_type": "stream",
     "text": [
      "Epoch : 102, Erro Médio : 53.95\n"
     ]
    },
    {
     "name": "stderr",
     "output_type": "stream",
     "text": [
      "100%|██████████| 165/165 [00:00<00:00, 381.61it/s]\n",
      " 24%|██▍       | 40/165 [00:00<00:00, 397.81it/s]"
     ]
    },
    {
     "name": "stdout",
     "output_type": "stream",
     "text": [
      "Epoch : 103, Erro Médio : 53.63\n"
     ]
    },
    {
     "name": "stderr",
     "output_type": "stream",
     "text": [
      "100%|██████████| 165/165 [00:00<00:00, 368.98it/s]\n",
      " 19%|█▉        | 31/165 [00:00<00:00, 308.56it/s]"
     ]
    },
    {
     "name": "stdout",
     "output_type": "stream",
     "text": [
      "Epoch : 104, Erro Médio : 53.32\n"
     ]
    },
    {
     "name": "stderr",
     "output_type": "stream",
     "text": [
      "100%|██████████| 165/165 [00:00<00:00, 233.78it/s]\n",
      " 21%|██        | 34/165 [00:00<00:00, 335.69it/s]"
     ]
    },
    {
     "name": "stdout",
     "output_type": "stream",
     "text": [
      "Epoch : 105, Erro Médio : 53.02\n"
     ]
    },
    {
     "name": "stderr",
     "output_type": "stream",
     "text": [
      "100%|██████████| 165/165 [00:00<00:00, 312.56it/s]\n",
      " 17%|█▋        | 28/165 [00:00<00:00, 279.62it/s]"
     ]
    },
    {
     "name": "stdout",
     "output_type": "stream",
     "text": [
      "Epoch : 106, Erro Médio : 52.72\n"
     ]
    },
    {
     "name": "stderr",
     "output_type": "stream",
     "text": [
      "100%|██████████| 165/165 [00:00<00:00, 319.06it/s]\n",
      " 21%|██        | 35/165 [00:00<00:00, 346.07it/s]"
     ]
    },
    {
     "name": "stdout",
     "output_type": "stream",
     "text": [
      "Epoch : 107, Erro Médio : 52.42\n"
     ]
    },
    {
     "name": "stderr",
     "output_type": "stream",
     "text": [
      "100%|██████████| 165/165 [00:00<00:00, 326.69it/s]\n",
      " 21%|██        | 35/165 [00:00<00:00, 349.17it/s]"
     ]
    },
    {
     "name": "stdout",
     "output_type": "stream",
     "text": [
      "Epoch : 108, Erro Médio : 52.13\n"
     ]
    },
    {
     "name": "stderr",
     "output_type": "stream",
     "text": [
      "100%|██████████| 165/165 [00:00<00:00, 378.62it/s]\n",
      " 23%|██▎       | 38/165 [00:00<00:00, 370.34it/s]"
     ]
    },
    {
     "name": "stdout",
     "output_type": "stream",
     "text": [
      "Epoch : 109, Erro Médio : 51.85\n"
     ]
    },
    {
     "name": "stderr",
     "output_type": "stream",
     "text": [
      "100%|██████████| 165/165 [00:00<00:00, 390.79it/s]\n",
      " 24%|██▍       | 40/165 [00:00<00:00, 394.48it/s]"
     ]
    },
    {
     "name": "stdout",
     "output_type": "stream",
     "text": [
      "Epoch : 110, Erro Médio : 51.57\n"
     ]
    },
    {
     "name": "stderr",
     "output_type": "stream",
     "text": [
      "100%|██████████| 165/165 [00:00<00:00, 393.60it/s]\n",
      " 24%|██▍       | 40/165 [00:00<00:00, 393.36it/s]"
     ]
    },
    {
     "name": "stdout",
     "output_type": "stream",
     "text": [
      "Epoch : 111, Erro Médio : 51.29\n"
     ]
    },
    {
     "name": "stderr",
     "output_type": "stream",
     "text": [
      "100%|██████████| 165/165 [00:00<00:00, 385.30it/s]\n",
      " 25%|██▌       | 42/165 [00:00<00:00, 416.07it/s]"
     ]
    },
    {
     "name": "stdout",
     "output_type": "stream",
     "text": [
      "Epoch : 112, Erro Médio : 51.01\n"
     ]
    },
    {
     "name": "stderr",
     "output_type": "stream",
     "text": [
      "100%|██████████| 165/165 [00:00<00:00, 418.90it/s]\n",
      " 24%|██▍       | 40/165 [00:00<00:00, 392.01it/s]"
     ]
    },
    {
     "name": "stdout",
     "output_type": "stream",
     "text": [
      "Epoch : 113, Erro Médio : 50.73\n"
     ]
    },
    {
     "name": "stderr",
     "output_type": "stream",
     "text": [
      "100%|██████████| 165/165 [00:00<00:00, 371.20it/s]\n",
      " 20%|██        | 33/165 [00:00<00:00, 320.80it/s]"
     ]
    },
    {
     "name": "stdout",
     "output_type": "stream",
     "text": [
      "Epoch : 114, Erro Médio : 50.47\n"
     ]
    },
    {
     "name": "stderr",
     "output_type": "stream",
     "text": [
      "100%|██████████| 165/165 [00:00<00:00, 367.98it/s]\n",
      " 22%|██▏       | 37/165 [00:00<00:00, 364.90it/s]"
     ]
    },
    {
     "name": "stdout",
     "output_type": "stream",
     "text": [
      "Epoch : 115, Erro Médio : 50.22\n"
     ]
    },
    {
     "name": "stderr",
     "output_type": "stream",
     "text": [
      "100%|██████████| 165/165 [00:00<00:00, 376.58it/s]\n",
      " 47%|████▋     | 78/165 [00:00<00:00, 382.94it/s]"
     ]
    },
    {
     "name": "stdout",
     "output_type": "stream",
     "text": [
      "Epoch : 116, Erro Médio : 49.96\n"
     ]
    },
    {
     "name": "stderr",
     "output_type": "stream",
     "text": [
      "100%|██████████| 165/165 [00:00<00:00, 390.94it/s]\n",
      " 23%|██▎       | 38/165 [00:00<00:00, 371.42it/s]"
     ]
    },
    {
     "name": "stdout",
     "output_type": "stream",
     "text": [
      "Epoch : 117, Erro Médio : 49.70\n"
     ]
    },
    {
     "name": "stderr",
     "output_type": "stream",
     "text": [
      "100%|██████████| 165/165 [00:00<00:00, 373.53it/s]\n",
      " 22%|██▏       | 37/165 [00:00<00:00, 369.02it/s]"
     ]
    },
    {
     "name": "stdout",
     "output_type": "stream",
     "text": [
      "Epoch : 118, Erro Médio : 49.46\n"
     ]
    },
    {
     "name": "stderr",
     "output_type": "stream",
     "text": [
      "100%|██████████| 165/165 [00:00<00:00, 392.46it/s]\n",
      " 22%|██▏       | 37/165 [00:00<00:00, 363.47it/s]"
     ]
    },
    {
     "name": "stdout",
     "output_type": "stream",
     "text": [
      "Epoch : 119, Erro Médio : 49.21\n"
     ]
    },
    {
     "name": "stderr",
     "output_type": "stream",
     "text": [
      "100%|██████████| 165/165 [00:00<00:00, 384.08it/s]\n",
      " 24%|██▍       | 40/165 [00:00<00:00, 394.31it/s]"
     ]
    },
    {
     "name": "stdout",
     "output_type": "stream",
     "text": [
      "Epoch : 120, Erro Médio : 48.97\n"
     ]
    },
    {
     "name": "stderr",
     "output_type": "stream",
     "text": [
      "100%|██████████| 165/165 [00:00<00:00, 390.75it/s]\n",
      " 25%|██▍       | 41/165 [00:00<00:00, 405.47it/s]"
     ]
    },
    {
     "name": "stdout",
     "output_type": "stream",
     "text": [
      "Epoch : 121, Erro Médio : 48.72\n"
     ]
    },
    {
     "name": "stderr",
     "output_type": "stream",
     "text": [
      "100%|██████████| 165/165 [00:00<00:00, 375.65it/s]\n",
      " 43%|████▎     | 71/165 [00:00<00:00, 350.76it/s]"
     ]
    },
    {
     "name": "stdout",
     "output_type": "stream",
     "text": [
      "Epoch : 122, Erro Médio : 48.48\n"
     ]
    },
    {
     "name": "stderr",
     "output_type": "stream",
     "text": [
      "100%|██████████| 165/165 [00:00<00:00, 359.58it/s]\n",
      " 24%|██▎       | 39/165 [00:00<00:00, 385.62it/s]"
     ]
    },
    {
     "name": "stdout",
     "output_type": "stream",
     "text": [
      "Epoch : 123, Erro Médio : 48.24\n"
     ]
    },
    {
     "name": "stderr",
     "output_type": "stream",
     "text": [
      "100%|██████████| 165/165 [00:00<00:00, 358.75it/s]\n",
      " 20%|██        | 33/165 [00:00<00:00, 325.06it/s]"
     ]
    },
    {
     "name": "stdout",
     "output_type": "stream",
     "text": [
      "Epoch : 124, Erro Médio : 48.01\n"
     ]
    },
    {
     "name": "stderr",
     "output_type": "stream",
     "text": [
      "100%|██████████| 165/165 [00:00<00:00, 348.80it/s]\n",
      " 21%|██        | 34/165 [00:00<00:00, 336.42it/s]"
     ]
    },
    {
     "name": "stdout",
     "output_type": "stream",
     "text": [
      "Epoch : 125, Erro Médio : 47.78\n"
     ]
    },
    {
     "name": "stderr",
     "output_type": "stream",
     "text": [
      "100%|██████████| 165/165 [00:00<00:00, 362.96it/s]\n",
      " 23%|██▎       | 38/165 [00:00<00:00, 378.74it/s]"
     ]
    },
    {
     "name": "stdout",
     "output_type": "stream",
     "text": [
      "Epoch : 126, Erro Médio : 47.54\n"
     ]
    },
    {
     "name": "stderr",
     "output_type": "stream",
     "text": [
      "100%|██████████| 165/165 [00:00<00:00, 358.54it/s]\n",
      " 24%|██▎       | 39/165 [00:00<00:00, 384.15it/s]"
     ]
    },
    {
     "name": "stdout",
     "output_type": "stream",
     "text": [
      "Epoch : 127, Erro Médio : 47.32\n"
     ]
    },
    {
     "name": "stderr",
     "output_type": "stream",
     "text": [
      "100%|██████████| 165/165 [00:00<00:00, 407.73it/s]\n",
      " 26%|██▌       | 43/165 [00:00<00:00, 423.48it/s]"
     ]
    },
    {
     "name": "stdout",
     "output_type": "stream",
     "text": [
      "Epoch : 128, Erro Médio : 47.10\n"
     ]
    },
    {
     "name": "stderr",
     "output_type": "stream",
     "text": [
      "100%|██████████| 165/165 [00:00<00:00, 415.57it/s]\n",
      " 25%|██▌       | 42/165 [00:00<00:00, 418.59it/s]"
     ]
    },
    {
     "name": "stdout",
     "output_type": "stream",
     "text": [
      "Epoch : 129, Erro Médio : 46.87\n"
     ]
    },
    {
     "name": "stderr",
     "output_type": "stream",
     "text": [
      "100%|██████████| 165/165 [00:00<00:00, 418.23it/s]\n",
      " 24%|██▍       | 40/165 [00:00<00:00, 392.48it/s]"
     ]
    },
    {
     "name": "stdout",
     "output_type": "stream",
     "text": [
      "Epoch : 130, Erro Médio : 46.66\n"
     ]
    },
    {
     "name": "stderr",
     "output_type": "stream",
     "text": [
      "100%|██████████| 165/165 [00:00<00:00, 405.26it/s]\n",
      " 24%|██▍       | 40/165 [00:00<00:00, 390.09it/s]"
     ]
    },
    {
     "name": "stdout",
     "output_type": "stream",
     "text": [
      "Epoch : 131, Erro Médio : 46.44\n"
     ]
    },
    {
     "name": "stderr",
     "output_type": "stream",
     "text": [
      "100%|██████████| 165/165 [00:00<00:00, 389.66it/s]\n",
      " 24%|██▍       | 40/165 [00:00<00:00, 392.19it/s]"
     ]
    },
    {
     "name": "stdout",
     "output_type": "stream",
     "text": [
      "Epoch : 132, Erro Médio : 46.22\n"
     ]
    },
    {
     "name": "stderr",
     "output_type": "stream",
     "text": [
      "100%|██████████| 165/165 [00:00<00:00, 406.93it/s]\n",
      " 24%|██▎       | 39/165 [00:00<00:00, 385.58it/s]"
     ]
    },
    {
     "name": "stdout",
     "output_type": "stream",
     "text": [
      "Epoch : 133, Erro Médio : 46.01\n"
     ]
    },
    {
     "name": "stderr",
     "output_type": "stream",
     "text": [
      "100%|██████████| 165/165 [00:00<00:00, 390.86it/s]\n",
      " 24%|██▍       | 40/165 [00:00<00:00, 390.69it/s]"
     ]
    },
    {
     "name": "stdout",
     "output_type": "stream",
     "text": [
      "Epoch : 134, Erro Médio : 45.80\n"
     ]
    },
    {
     "name": "stderr",
     "output_type": "stream",
     "text": [
      "100%|██████████| 165/165 [00:00<00:00, 358.41it/s]\n",
      " 46%|████▌     | 76/165 [00:00<00:00, 383.50it/s]"
     ]
    },
    {
     "name": "stdout",
     "output_type": "stream",
     "text": [
      "Epoch : 135, Erro Médio : 45.59\n"
     ]
    },
    {
     "name": "stderr",
     "output_type": "stream",
     "text": [
      "100%|██████████| 165/165 [00:00<00:00, 392.03it/s]\n",
      " 24%|██▍       | 40/165 [00:00<00:00, 393.43it/s]"
     ]
    },
    {
     "name": "stdout",
     "output_type": "stream",
     "text": [
      "Epoch : 136, Erro Médio : 45.39\n"
     ]
    },
    {
     "name": "stderr",
     "output_type": "stream",
     "text": [
      "100%|██████████| 165/165 [00:00<00:00, 400.97it/s]\n",
      " 23%|██▎       | 38/165 [00:00<00:00, 372.32it/s]"
     ]
    },
    {
     "name": "stdout",
     "output_type": "stream",
     "text": [
      "Epoch : 137, Erro Médio : 45.19\n"
     ]
    },
    {
     "name": "stderr",
     "output_type": "stream",
     "text": [
      "100%|██████████| 165/165 [00:00<00:00, 397.37it/s]\n",
      " 27%|██▋       | 44/165 [00:00<00:00, 432.50it/s]"
     ]
    },
    {
     "name": "stdout",
     "output_type": "stream",
     "text": [
      "Epoch : 138, Erro Médio : 44.99\n"
     ]
    },
    {
     "name": "stderr",
     "output_type": "stream",
     "text": [
      "100%|██████████| 165/165 [00:00<00:00, 427.51it/s]\n",
      " 27%|██▋       | 44/165 [00:00<00:00, 432.58it/s]"
     ]
    },
    {
     "name": "stdout",
     "output_type": "stream",
     "text": [
      "Epoch : 139, Erro Médio : 44.80\n"
     ]
    },
    {
     "name": "stderr",
     "output_type": "stream",
     "text": [
      "100%|██████████| 165/165 [00:00<00:00, 417.58it/s]\n",
      " 27%|██▋       | 44/165 [00:00<00:00, 432.41it/s]"
     ]
    },
    {
     "name": "stdout",
     "output_type": "stream",
     "text": [
      "Epoch : 140, Erro Médio : 44.60\n"
     ]
    },
    {
     "name": "stderr",
     "output_type": "stream",
     "text": [
      "100%|██████████| 165/165 [00:00<00:00, 431.47it/s]\n",
      " 47%|████▋     | 77/165 [00:00<00:00, 384.33it/s]"
     ]
    },
    {
     "name": "stdout",
     "output_type": "stream",
     "text": [
      "Epoch : 141, Erro Médio : 44.41\n"
     ]
    },
    {
     "name": "stderr",
     "output_type": "stream",
     "text": [
      "100%|██████████| 165/165 [00:00<00:00, 404.09it/s]\n",
      " 26%|██▌       | 43/165 [00:00<00:00, 429.22it/s]"
     ]
    },
    {
     "name": "stdout",
     "output_type": "stream",
     "text": [
      "Epoch : 142, Erro Médio : 44.22\n"
     ]
    },
    {
     "name": "stderr",
     "output_type": "stream",
     "text": [
      "100%|██████████| 165/165 [00:00<00:00, 425.38it/s]\n",
      " 25%|██▍       | 41/165 [00:00<00:00, 404.47it/s]"
     ]
    },
    {
     "name": "stdout",
     "output_type": "stream",
     "text": [
      "Epoch : 143, Erro Médio : 44.03\n"
     ]
    },
    {
     "name": "stderr",
     "output_type": "stream",
     "text": [
      "100%|██████████| 165/165 [00:00<00:00, 429.08it/s]\n",
      " 27%|██▋       | 44/165 [00:00<00:00, 432.30it/s]"
     ]
    },
    {
     "name": "stdout",
     "output_type": "stream",
     "text": [
      "Epoch : 144, Erro Médio : 43.84\n"
     ]
    },
    {
     "name": "stderr",
     "output_type": "stream",
     "text": [
      "100%|██████████| 165/165 [00:00<00:00, 425.54it/s]\n",
      " 27%|██▋       | 44/165 [00:00<00:00, 432.63it/s]"
     ]
    },
    {
     "name": "stdout",
     "output_type": "stream",
     "text": [
      "Epoch : 145, Erro Médio : 43.65\n"
     ]
    },
    {
     "name": "stderr",
     "output_type": "stream",
     "text": [
      "100%|██████████| 165/165 [00:00<00:00, 427.06it/s]\n",
      " 26%|██▌       | 43/165 [00:00<00:00, 423.67it/s]"
     ]
    },
    {
     "name": "stdout",
     "output_type": "stream",
     "text": [
      "Epoch : 146, Erro Médio : 43.47\n"
     ]
    },
    {
     "name": "stderr",
     "output_type": "stream",
     "text": [
      "100%|██████████| 165/165 [00:00<00:00, 423.25it/s]\n",
      " 26%|██▌       | 43/165 [00:00<00:00, 422.40it/s]"
     ]
    },
    {
     "name": "stdout",
     "output_type": "stream",
     "text": [
      "Epoch : 147, Erro Médio : 43.28\n"
     ]
    },
    {
     "name": "stderr",
     "output_type": "stream",
     "text": [
      "100%|██████████| 165/165 [00:00<00:00, 419.27it/s]\n",
      " 26%|██▌       | 43/165 [00:00<00:00, 425.56it/s]"
     ]
    },
    {
     "name": "stdout",
     "output_type": "stream",
     "text": [
      "Epoch : 148, Erro Médio : 43.10\n"
     ]
    },
    {
     "name": "stderr",
     "output_type": "stream",
     "text": [
      "100%|██████████| 165/165 [00:00<00:00, 398.55it/s]\n",
      " 25%|██▍       | 41/165 [00:00<00:00, 408.49it/s]"
     ]
    },
    {
     "name": "stdout",
     "output_type": "stream",
     "text": [
      "Epoch : 149, Erro Médio : 42.93\n"
     ]
    },
    {
     "name": "stderr",
     "output_type": "stream",
     "text": [
      "100%|██████████| 165/165 [00:00<00:00, 395.68it/s]\n",
      " 25%|██▌       | 42/165 [00:00<00:00, 413.51it/s]"
     ]
    },
    {
     "name": "stdout",
     "output_type": "stream",
     "text": [
      "Epoch : 150, Erro Médio : 42.75\n"
     ]
    },
    {
     "name": "stderr",
     "output_type": "stream",
     "text": [
      "100%|██████████| 165/165 [00:00<00:00, 401.11it/s]\n",
      " 24%|██▎       | 39/165 [00:00<00:00, 380.46it/s]"
     ]
    },
    {
     "name": "stdout",
     "output_type": "stream",
     "text": [
      "Epoch : 151, Erro Médio : 42.58\n"
     ]
    },
    {
     "name": "stderr",
     "output_type": "stream",
     "text": [
      "100%|██████████| 165/165 [00:00<00:00, 393.34it/s]\n",
      " 24%|██▎       | 39/165 [00:00<00:00, 381.70it/s]"
     ]
    },
    {
     "name": "stdout",
     "output_type": "stream",
     "text": [
      "Epoch : 152, Erro Médio : 42.40\n"
     ]
    },
    {
     "name": "stderr",
     "output_type": "stream",
     "text": [
      "100%|██████████| 165/165 [00:00<00:00, 386.71it/s]\n",
      " 23%|██▎       | 38/165 [00:00<00:00, 371.81it/s]"
     ]
    },
    {
     "name": "stdout",
     "output_type": "stream",
     "text": [
      "Epoch : 153, Erro Médio : 42.23\n"
     ]
    },
    {
     "name": "stderr",
     "output_type": "stream",
     "text": [
      "100%|██████████| 165/165 [00:00<00:00, 393.43it/s]\n",
      " 24%|██▎       | 39/165 [00:00<00:00, 387.70it/s]"
     ]
    },
    {
     "name": "stdout",
     "output_type": "stream",
     "text": [
      "Epoch : 154, Erro Médio : 42.06\n"
     ]
    },
    {
     "name": "stderr",
     "output_type": "stream",
     "text": [
      "100%|██████████| 165/165 [00:00<00:00, 397.38it/s]\n",
      " 24%|██▎       | 39/165 [00:00<00:00, 388.41it/s]"
     ]
    },
    {
     "name": "stdout",
     "output_type": "stream",
     "text": [
      "Epoch : 155, Erro Médio : 41.90\n"
     ]
    },
    {
     "name": "stderr",
     "output_type": "stream",
     "text": [
      "100%|██████████| 165/165 [00:00<00:00, 382.16it/s]\n",
      " 24%|██▍       | 40/165 [00:00<00:00, 397.39it/s]"
     ]
    },
    {
     "name": "stdout",
     "output_type": "stream",
     "text": [
      "Epoch : 156, Erro Médio : 41.73\n"
     ]
    },
    {
     "name": "stderr",
     "output_type": "stream",
     "text": [
      "100%|██████████| 165/165 [00:00<00:00, 335.99it/s]\n",
      " 21%|██        | 35/165 [00:00<00:00, 339.32it/s]"
     ]
    },
    {
     "name": "stdout",
     "output_type": "stream",
     "text": [
      "Epoch : 157, Erro Médio : 41.57\n"
     ]
    },
    {
     "name": "stderr",
     "output_type": "stream",
     "text": [
      "100%|██████████| 165/165 [00:00<00:00, 376.12it/s]\n",
      " 23%|██▎       | 38/165 [00:00<00:00, 372.18it/s]"
     ]
    },
    {
     "name": "stdout",
     "output_type": "stream",
     "text": [
      "Epoch : 158, Erro Médio : 41.40\n"
     ]
    },
    {
     "name": "stderr",
     "output_type": "stream",
     "text": [
      "100%|██████████| 165/165 [00:00<00:00, 396.02it/s]\n",
      " 24%|██▍       | 40/165 [00:00<00:00, 397.87it/s]"
     ]
    },
    {
     "name": "stdout",
     "output_type": "stream",
     "text": [
      "Epoch : 159, Erro Médio : 41.24\n"
     ]
    },
    {
     "name": "stderr",
     "output_type": "stream",
     "text": [
      "100%|██████████| 165/165 [00:00<00:00, 373.25it/s]\n",
      " 48%|████▊     | 80/165 [00:00<00:00, 385.36it/s]"
     ]
    },
    {
     "name": "stdout",
     "output_type": "stream",
     "text": [
      "Epoch : 160, Erro Médio : 41.08\n"
     ]
    },
    {
     "name": "stderr",
     "output_type": "stream",
     "text": [
      "100%|██████████| 165/165 [00:00<00:00, 393.88it/s]\n",
      " 21%|██        | 35/165 [00:00<00:00, 340.26it/s]"
     ]
    },
    {
     "name": "stdout",
     "output_type": "stream",
     "text": [
      "Epoch : 161, Erro Médio : 40.92\n"
     ]
    },
    {
     "name": "stderr",
     "output_type": "stream",
     "text": [
      "100%|██████████| 165/165 [00:00<00:00, 355.29it/s]\n",
      " 25%|██▍       | 41/165 [00:00<00:00, 400.97it/s]"
     ]
    },
    {
     "name": "stdout",
     "output_type": "stream",
     "text": [
      "Epoch : 162, Erro Médio : 40.76\n"
     ]
    },
    {
     "name": "stderr",
     "output_type": "stream",
     "text": [
      "100%|██████████| 165/165 [00:00<00:00, 400.55it/s]\n",
      " 25%|██▌       | 42/165 [00:00<00:00, 415.74it/s]"
     ]
    },
    {
     "name": "stdout",
     "output_type": "stream",
     "text": [
      "Epoch : 163, Erro Médio : 40.60\n"
     ]
    },
    {
     "name": "stderr",
     "output_type": "stream",
     "text": [
      "100%|██████████| 165/165 [00:00<00:00, 412.68it/s]\n",
      " 24%|██▍       | 40/165 [00:00<00:00, 397.10it/s]"
     ]
    },
    {
     "name": "stdout",
     "output_type": "stream",
     "text": [
      "Epoch : 164, Erro Médio : 40.44\n"
     ]
    },
    {
     "name": "stderr",
     "output_type": "stream",
     "text": [
      "100%|██████████| 165/165 [00:00<00:00, 396.24it/s]\n",
      " 22%|██▏       | 36/165 [00:00<00:00, 359.97it/s]"
     ]
    },
    {
     "name": "stdout",
     "output_type": "stream",
     "text": [
      "Epoch : 165, Erro Médio : 40.29\n"
     ]
    },
    {
     "name": "stderr",
     "output_type": "stream",
     "text": [
      "100%|██████████| 165/165 [00:00<00:00, 382.49it/s]\n",
      " 25%|██▍       | 41/165 [00:00<00:00, 408.51it/s]"
     ]
    },
    {
     "name": "stdout",
     "output_type": "stream",
     "text": [
      "Epoch : 166, Erro Médio : 40.14\n"
     ]
    },
    {
     "name": "stderr",
     "output_type": "stream",
     "text": [
      "100%|██████████| 165/165 [00:00<00:00, 405.45it/s]\n",
      " 25%|██▌       | 42/165 [00:00<00:00, 419.05it/s]"
     ]
    },
    {
     "name": "stdout",
     "output_type": "stream",
     "text": [
      "Epoch : 167, Erro Médio : 39.98\n"
     ]
    },
    {
     "name": "stderr",
     "output_type": "stream",
     "text": [
      "100%|██████████| 165/165 [00:00<00:00, 387.21it/s]\n",
      " 24%|██▍       | 40/165 [00:00<00:00, 393.22it/s]"
     ]
    },
    {
     "name": "stdout",
     "output_type": "stream",
     "text": [
      "Epoch : 168, Erro Médio : 39.83\n"
     ]
    },
    {
     "name": "stderr",
     "output_type": "stream",
     "text": [
      "100%|██████████| 165/165 [00:00<00:00, 401.24it/s]\n",
      " 24%|██▎       | 39/165 [00:00<00:00, 386.26it/s]"
     ]
    },
    {
     "name": "stdout",
     "output_type": "stream",
     "text": [
      "Epoch : 169, Erro Médio : 39.68\n"
     ]
    },
    {
     "name": "stderr",
     "output_type": "stream",
     "text": [
      "100%|██████████| 165/165 [00:00<00:00, 389.92it/s]\n",
      " 24%|██▍       | 40/165 [00:00<00:00, 393.63it/s]"
     ]
    },
    {
     "name": "stdout",
     "output_type": "stream",
     "text": [
      "Epoch : 170, Erro Médio : 39.54\n"
     ]
    },
    {
     "name": "stderr",
     "output_type": "stream",
     "text": [
      "100%|██████████| 165/165 [00:00<00:00, 381.07it/s]\n",
      " 20%|██        | 33/165 [00:00<00:00, 320.74it/s]"
     ]
    },
    {
     "name": "stdout",
     "output_type": "stream",
     "text": [
      "Epoch : 171, Erro Médio : 39.39\n"
     ]
    },
    {
     "name": "stderr",
     "output_type": "stream",
     "text": [
      "100%|██████████| 165/165 [00:00<00:00, 326.30it/s]\n",
      " 19%|█▉        | 31/165 [00:00<00:00, 302.24it/s]"
     ]
    },
    {
     "name": "stdout",
     "output_type": "stream",
     "text": [
      "Epoch : 172, Erro Médio : 39.26\n"
     ]
    },
    {
     "name": "stderr",
     "output_type": "stream",
     "text": [
      "100%|██████████| 165/165 [00:00<00:00, 366.64it/s]\n",
      " 25%|██▍       | 41/165 [00:00<00:00, 402.83it/s]"
     ]
    },
    {
     "name": "stdout",
     "output_type": "stream",
     "text": [
      "Epoch : 173, Erro Médio : 39.11\n"
     ]
    },
    {
     "name": "stderr",
     "output_type": "stream",
     "text": [
      "100%|██████████| 165/165 [00:00<00:00, 329.12it/s]\n",
      " 48%|████▊     | 79/165 [00:00<00:00, 377.09it/s]"
     ]
    },
    {
     "name": "stdout",
     "output_type": "stream",
     "text": [
      "Epoch : 174, Erro Médio : 38.97\n"
     ]
    },
    {
     "name": "stderr",
     "output_type": "stream",
     "text": [
      "100%|██████████| 165/165 [00:00<00:00, 370.74it/s]\n",
      " 25%|██▌       | 42/165 [00:00<00:00, 410.81it/s]"
     ]
    },
    {
     "name": "stdout",
     "output_type": "stream",
     "text": [
      "Epoch : 175, Erro Médio : 38.82\n"
     ]
    },
    {
     "name": "stderr",
     "output_type": "stream",
     "text": [
      "100%|██████████| 165/165 [00:00<00:00, 386.82it/s]\n",
      " 20%|██        | 33/165 [00:00<00:00, 325.23it/s]"
     ]
    },
    {
     "name": "stdout",
     "output_type": "stream",
     "text": [
      "Epoch : 176, Erro Médio : 38.68\n"
     ]
    },
    {
     "name": "stderr",
     "output_type": "stream",
     "text": [
      "100%|██████████| 165/165 [00:00<00:00, 330.32it/s]\n",
      " 23%|██▎       | 38/165 [00:00<00:00, 371.95it/s]"
     ]
    },
    {
     "name": "stdout",
     "output_type": "stream",
     "text": [
      "Epoch : 177, Erro Médio : 38.55\n"
     ]
    },
    {
     "name": "stderr",
     "output_type": "stream",
     "text": [
      "100%|██████████| 165/165 [00:00<00:00, 367.59it/s]\n",
      " 24%|██▍       | 40/165 [00:00<00:00, 393.00it/s]"
     ]
    },
    {
     "name": "stdout",
     "output_type": "stream",
     "text": [
      "Epoch : 178, Erro Médio : 38.40\n"
     ]
    },
    {
     "name": "stderr",
     "output_type": "stream",
     "text": [
      "100%|██████████| 165/165 [00:00<00:00, 380.64it/s]\n",
      " 21%|██        | 34/165 [00:00<00:00, 335.76it/s]"
     ]
    },
    {
     "name": "stdout",
     "output_type": "stream",
     "text": [
      "Epoch : 179, Erro Médio : 38.27\n"
     ]
    },
    {
     "name": "stderr",
     "output_type": "stream",
     "text": [
      "100%|██████████| 165/165 [00:00<00:00, 364.24it/s]\n",
      " 46%|████▌     | 76/165 [00:00<00:00, 374.72it/s]"
     ]
    },
    {
     "name": "stdout",
     "output_type": "stream",
     "text": [
      "Epoch : 180, Erro Médio : 38.13\n"
     ]
    },
    {
     "name": "stderr",
     "output_type": "stream",
     "text": [
      "100%|██████████| 165/165 [00:00<00:00, 381.39it/s]\n",
      " 24%|██▍       | 40/165 [00:00<00:00, 394.40it/s]"
     ]
    },
    {
     "name": "stdout",
     "output_type": "stream",
     "text": [
      "Epoch : 181, Erro Médio : 38.00\n"
     ]
    },
    {
     "name": "stderr",
     "output_type": "stream",
     "text": [
      "100%|██████████| 165/165 [00:00<00:00, 378.93it/s]\n",
      " 23%|██▎       | 38/165 [00:00<00:00, 378.42it/s]"
     ]
    },
    {
     "name": "stdout",
     "output_type": "stream",
     "text": [
      "Epoch : 182, Erro Médio : 37.87\n"
     ]
    },
    {
     "name": "stderr",
     "output_type": "stream",
     "text": [
      "100%|██████████| 165/165 [00:00<00:00, 363.43it/s]\n",
      " 24%|██▎       | 39/165 [00:00<00:00, 388.75it/s]"
     ]
    },
    {
     "name": "stdout",
     "output_type": "stream",
     "text": [
      "Epoch : 183, Erro Médio : 37.74\n"
     ]
    },
    {
     "name": "stderr",
     "output_type": "stream",
     "text": [
      "100%|██████████| 165/165 [00:00<00:00, 383.30it/s]\n",
      " 24%|██▎       | 39/165 [00:00<00:00, 387.81it/s]"
     ]
    },
    {
     "name": "stdout",
     "output_type": "stream",
     "text": [
      "Epoch : 184, Erro Médio : 37.61\n"
     ]
    },
    {
     "name": "stderr",
     "output_type": "stream",
     "text": [
      "100%|██████████| 165/165 [00:00<00:00, 378.35it/s]\n",
      " 22%|██▏       | 36/165 [00:00<00:00, 358.08it/s]"
     ]
    },
    {
     "name": "stdout",
     "output_type": "stream",
     "text": [
      "Epoch : 185, Erro Médio : 37.48\n"
     ]
    },
    {
     "name": "stderr",
     "output_type": "stream",
     "text": [
      "100%|██████████| 165/165 [00:00<00:00, 367.53it/s]\n",
      " 22%|██▏       | 37/165 [00:00<00:00, 361.93it/s]"
     ]
    },
    {
     "name": "stdout",
     "output_type": "stream",
     "text": [
      "Epoch : 186, Erro Médio : 37.35\n"
     ]
    },
    {
     "name": "stderr",
     "output_type": "stream",
     "text": [
      "100%|██████████| 165/165 [00:00<00:00, 362.16it/s]\n",
      " 22%|██▏       | 36/165 [00:00<00:00, 354.79it/s]"
     ]
    },
    {
     "name": "stdout",
     "output_type": "stream",
     "text": [
      "Epoch : 187, Erro Médio : 37.22\n"
     ]
    },
    {
     "name": "stderr",
     "output_type": "stream",
     "text": [
      "100%|██████████| 165/165 [00:00<00:00, 337.91it/s]\n",
      " 43%|████▎     | 71/165 [00:00<00:00, 334.29it/s]"
     ]
    },
    {
     "name": "stdout",
     "output_type": "stream",
     "text": [
      "Epoch : 188, Erro Médio : 37.09\n"
     ]
    },
    {
     "name": "stderr",
     "output_type": "stream",
     "text": [
      "100%|██████████| 165/165 [00:00<00:00, 343.68it/s]\n",
      " 17%|█▋        | 28/165 [00:00<00:00, 277.06it/s]"
     ]
    },
    {
     "name": "stdout",
     "output_type": "stream",
     "text": [
      "Epoch : 189, Erro Médio : 36.97\n"
     ]
    },
    {
     "name": "stderr",
     "output_type": "stream",
     "text": [
      "100%|██████████| 165/165 [00:00<00:00, 296.30it/s]\n",
      " 19%|█▉        | 32/165 [00:00<00:00, 319.97it/s]"
     ]
    },
    {
     "name": "stdout",
     "output_type": "stream",
     "text": [
      "Epoch : 190, Erro Médio : 36.85\n"
     ]
    },
    {
     "name": "stderr",
     "output_type": "stream",
     "text": [
      "100%|██████████| 165/165 [00:00<00:00, 323.30it/s]\n",
      " 19%|█▉        | 32/165 [00:00<00:00, 312.60it/s]"
     ]
    },
    {
     "name": "stdout",
     "output_type": "stream",
     "text": [
      "Epoch : 191, Erro Médio : 36.73\n"
     ]
    },
    {
     "name": "stderr",
     "output_type": "stream",
     "text": [
      "100%|██████████| 165/165 [00:00<00:00, 304.59it/s]\n",
      " 16%|█▋        | 27/165 [00:00<00:00, 268.74it/s]"
     ]
    },
    {
     "name": "stdout",
     "output_type": "stream",
     "text": [
      "Epoch : 192, Erro Médio : 36.61\n"
     ]
    },
    {
     "name": "stderr",
     "output_type": "stream",
     "text": [
      "100%|██████████| 165/165 [00:00<00:00, 267.48it/s]\n",
      " 19%|█▉        | 32/165 [00:00<00:00, 307.11it/s]"
     ]
    },
    {
     "name": "stdout",
     "output_type": "stream",
     "text": [
      "Epoch : 193, Erro Médio : 36.48\n"
     ]
    },
    {
     "name": "stderr",
     "output_type": "stream",
     "text": [
      "100%|██████████| 165/165 [00:00<00:00, 257.83it/s]\n",
      " 18%|█▊        | 30/165 [00:00<00:00, 294.08it/s]"
     ]
    },
    {
     "name": "stdout",
     "output_type": "stream",
     "text": [
      "Epoch : 194, Erro Médio : 36.36\n"
     ]
    },
    {
     "name": "stderr",
     "output_type": "stream",
     "text": [
      "100%|██████████| 165/165 [00:00<00:00, 302.67it/s]\n",
      " 22%|██▏       | 37/165 [00:00<00:00, 367.01it/s]"
     ]
    },
    {
     "name": "stdout",
     "output_type": "stream",
     "text": [
      "Epoch : 195, Erro Médio : 36.24\n"
     ]
    },
    {
     "name": "stderr",
     "output_type": "stream",
     "text": [
      "100%|██████████| 165/165 [00:00<00:00, 372.37it/s]\n",
      " 20%|██        | 33/165 [00:00<00:00, 327.29it/s]"
     ]
    },
    {
     "name": "stdout",
     "output_type": "stream",
     "text": [
      "Epoch : 196, Erro Médio : 36.12\n"
     ]
    },
    {
     "name": "stderr",
     "output_type": "stream",
     "text": [
      "100%|██████████| 165/165 [00:00<00:00, 327.80it/s]\n",
      " 20%|██        | 33/165 [00:00<00:00, 320.79it/s]"
     ]
    },
    {
     "name": "stdout",
     "output_type": "stream",
     "text": [
      "Epoch : 197, Erro Médio : 36.01\n"
     ]
    },
    {
     "name": "stderr",
     "output_type": "stream",
     "text": [
      "100%|██████████| 165/165 [00:00<00:00, 325.94it/s]\n",
      " 38%|███▊      | 62/165 [00:00<00:00, 309.53it/s]"
     ]
    },
    {
     "name": "stdout",
     "output_type": "stream",
     "text": [
      "Epoch : 198, Erro Médio : 35.89\n"
     ]
    },
    {
     "name": "stderr",
     "output_type": "stream",
     "text": [
      "100%|██████████| 165/165 [00:00<00:00, 316.58it/s]"
     ]
    },
    {
     "name": "stdout",
     "output_type": "stream",
     "text": [
      "Epoch : 199, Erro Médio : 35.77\n"
     ]
    },
    {
     "name": "stderr",
     "output_type": "stream",
     "text": [
      "\n"
     ]
    }
   ],
   "source": [
    "# Executa a função de treinamento e retorna o modelo e os erros\n",
    "model, losses = treina_glove(co_occ_mat)"
   ]
  },
  {
   "cell_type": "code",
   "execution_count": 28,
   "metadata": {},
   "outputs": [],
   "source": [
    "# Função para o plot do erro durante o treinamento\n",
    "def plot_loss(losses, title):\n",
    "    plt.plot(range(len(losses)), losses)\n",
    "    plt.xlabel('Epoch')\n",
    "    plt.ylabel('Erro')\n",
    "    plt.title(title)\n",
    "    plt.figure()"
   ]
  },
  {
   "cell_type": "code",
   "execution_count": 29,
   "metadata": {},
   "outputs": [
    {
     "data": {
      "image/png": "[encoded data removed]",
      "text/plain": [
       "<Figure size 432x288 with 1 Axes>"
      ]
     },
     "metadata": {
      "needs_background": "light"
     },
     "output_type": "display_data"
    },
    {
     "data": {
      "text/plain": [
       "<Figure size 432x288 with 0 Axes>"
      ]
     },
     "metadata": {},
     "output_type": "display_data"
    }
   ],
   "source": [
    "# Plot\n",
    "plot_loss(losses, \"Erro de Treinamento do Modelo GloVe\")"
   ]
  },
  {
   "cell_type": "markdown",
   "metadata": {
    "collapsed": true
   },
   "source": [
    "### Testando o Modelo: Similaridade de Palavras, analogias de palavras"
   ]
  },
  {
   "cell_type": "code",
   "execution_count": 30,
   "metadata": {},
   "outputs": [],
   "source": [
    "# Função que retorna a embedding de uma palavra\n",
    "def get_palavra(palavra, modelo, word_to_ix):\n",
    "    return model.embeddings()[word_to_ix[palavra]]"
   ]
  },
  {
   "cell_type": "code",
   "execution_count": 31,
   "metadata": {},
   "outputs": [],
   "source": [
    "# Função para busca a palavra mais próxima\n",
    "def busca_palavra_similaridade(vec, word_to_ix, n = 10):\n",
    "    all_dists = [(w, torch.dist(vec, get_palavra(w, model, palavra_indice))) for w in palavra_indice]\n",
    "    return sorted(all_dists, key = lambda t: t[1])[:n]"
   ]
  },
  {
   "cell_type": "code",
   "execution_count": 32,
   "metadata": {},
   "outputs": [
    {
     "name": "stdout",
     "output_type": "stream",
     "text": [
      "tensor([-0.0124, -0.5947, -0.0883,  0.5640,  0.3035, -0.6678,  0.4230,  0.0146,\n",
      "         0.2400,  0.7081,  0.1035, -0.4612, -0.2528,  0.3038,  0.1329, -0.1289,\n",
      "        -0.1518, -0.0757,  0.2818,  0.0247,  0.3099, -0.0802,  0.3004, -0.1054,\n",
      "        -0.0220,  0.3048,  0.0454, -0.4634,  0.2354, -0.0744,  0.3017,  0.2695,\n",
      "        -0.0649,  0.4866,  0.6310,  0.3225,  0.7442,  0.0016, -0.4590,  0.5760,\n",
      "         0.7642,  0.3953,  0.0135,  0.3234,  0.7794,  0.3377, -0.5954, -0.0756,\n",
      "        -0.4878, -0.8152])\n"
     ]
    }
   ],
   "source": [
    "# Gerando o vetor (embedding) de uma palavra \n",
    "vector = get_palavra(\"espaço\", model, palavra_indice)\n",
    "print(vector)"
   ]
  },
  {
   "cell_type": "code",
   "execution_count": 33,
   "metadata": {},
   "outputs": [
    {
     "data": {
      "text/plain": [
       "[('espaço', tensor(0.)),\n",
       " ('bastante', tensor(3.0557)),\n",
       " ('adell', tensor(3.0597)),\n",
       " ('idéia', tensor(3.1041)),\n",
       " ('seu', tensor(3.1619)),\n",
       " ('através', tensor(3.3125)),\n",
       " ('no', tensor(3.3224)),\n",
       " ('planeta', tensor(3.3244)),\n",
       " ('do', tensor(3.3582)),\n",
       " ('universal', tensor(3.3651))]"
      ]
     },
     "execution_count": 33,
     "metadata": {},
     "output_type": "execute_result"
    }
   ],
   "source": [
    "# Busca as palavras similares à palavra \"espaço\"\n",
    "busca_palavra_similaridade(vector, palavra_indice)"
   ]
  },
  {
   "cell_type": "markdown",
   "metadata": {},
   "source": [
    "Observe que a palavra \"espaço\" tem 0 de distância para si mesma. A próxima palavra mais parecida com \"espaço\" é \"universo\" e assim por diante. Quanto menor a distância, mais parecida a palavra. Lembrando que a busca por similaridade é feita com as embeddings treinadas com o modelo GloVe. \n",
    "\n",
    "Mais um exemplo:"
   ]
  },
  {
   "cell_type": "code",
   "execution_count": 34,
   "metadata": {},
   "outputs": [
    {
     "name": "stdout",
     "output_type": "stream",
     "text": [
      "tensor([-0.9094, -0.0347,  0.5243, -0.0567,  0.1456,  0.2944,  0.0997,  0.0872,\n",
      "         0.5289,  0.1036, -0.0066,  0.0943,  0.1176, -0.9509,  0.6255,  0.1434,\n",
      "         0.7931,  0.3519, -0.3004, -0.4084, -0.4742, -0.4470, -0.0810,  0.4965,\n",
      "        -0.1519, -0.5030,  0.2381, -0.8046, -0.6578,  0.1641, -0.0772, -0.6230,\n",
      "         0.0886,  0.2771,  0.1311, -0.4296, -0.1786, -0.7938, -0.1034,  0.1406,\n",
      "         0.4024,  0.3476, -0.0766,  0.2706, -0.0209,  0.9463,  0.7693, -0.1750,\n",
      "         0.2486, -0.1345])\n"
     ]
    }
   ],
   "source": [
    "# Gerando o vetor (embedding) de uma palavra \n",
    "vector = get_palavra(\"solar\", model, palavra_indice)\n",
    "print(vector)"
   ]
  },
  {
   "cell_type": "code",
   "execution_count": 35,
   "metadata": {},
   "outputs": [
    {
     "data": {
      "text/plain": [
       "[('solar', tensor(0.)),\n",
       " ('energia', tensor(2.4050)),\n",
       " ('por', tensor(2.9151)),\n",
       " ('faça-se', tensor(3.2939)),\n",
       " ('férias', tensor(3.4036)),\n",
       " ('brilhar', tensor(3.4510)),\n",
       " ('sempre', tensor(3.4596)),\n",
       " ('repente', tensor(3.4761)),\n",
       " ('paisagem', tensor(3.4786)),\n",
       " ('empreendimento', tensor(3.4916))]"
      ]
     },
     "execution_count": 35,
     "metadata": {},
     "output_type": "execute_result"
    }
   ],
   "source": [
    "# Busca as palavras similares à palavra \"solar\"\n",
    "busca_palavra_similaridade(vector, palavra_indice)"
   ]
  },
  {
   "cell_type": "markdown",
   "metadata": {},
   "source": [
    "A distância da palavra \"solar\" para si mesma é 0 e a palavra com maior similaridade é \"energia\" o que faz todo sentido se você leu o texto do Asimov usado para treinar o modelo."
   ]
  },
  {
   "cell_type": "markdown",
   "metadata": {},
   "source": [
    "### Analogia\n",
    "\n",
    "![title](imagens/glove.png)"
   ]
  },
  {
   "cell_type": "markdown",
   "metadata": {},
   "source": [
    "Observe na imagem acima que criamos uma \"fórmula\" com 3 palavras visando buscar a quarta palavra, o que é feito por analogia das embeddings (vetores de palavras).\n",
    "\n",
    "Criamos então uma função para buscar a palavra por analogia no formato: \n",
    "\n",
    "palavra1 : palavra2 :: palavra3 : ?"
   ]
  },
  {
   "cell_type": "code",
   "execution_count": 36,
   "metadata": {},
   "outputs": [],
   "source": [
    "# Função para busca de palavra por analogia\n",
    "def busca_analogia(p1, p2, p3, n = 5, filtro = True):\n",
    "    \n",
    "    # Print\n",
    "    print('\\n[%s : %s :: %s : ?]' % (p1, p2, p3))\n",
    "   \n",
    "    # p2 - p1 + p3 = p4\n",
    "    closest_words = busca_palavra_similaridade(get_palavra(p2, model, palavra_indice) - \n",
    "                                               get_palavra(p1, model, palavra_indice) + \n",
    "                                               get_palavra(p3, model, palavra_indice), \n",
    "                                               palavra_indice)\n",
    "    \n",
    "    # Vamos excluir as 3 palavras passadas como parâmetro\n",
    "    if filtro:\n",
    "        closest_words = [t for t in closest_words if t[0] not in [p1, p2, p3]]\n",
    "        \n",
    "    for tuple in closest_words[:n]:\n",
    "        print('(%.4f) %s' % (tuple[1], tuple[0]))"
   ]
  },
  {
   "cell_type": "code",
   "execution_count": 37,
   "metadata": {},
   "outputs": [
    {
     "name": "stdout",
     "output_type": "stream",
     "text": [
      "\n",
      "[família : crianças :: humano : ?]\n",
      "(5.5363) conectou\n",
      "(5.6292) circuitos\n",
      "(5.6808) longa\n",
      "(5.7000) nossos\n",
      "(5.7226) paralisou\n"
     ]
    }
   ],
   "source": [
    "# Busca por analogia\n",
    "busca_analogia(\"família\", \"crianças\", \"humano\")"
   ]
  },
  {
   "cell_type": "markdown",
   "metadata": {},
   "source": [
    "E aí estão as palavras que melhor se encaixam na quarta palavra, de acordo com nosso modelo.\n",
    "\n",
    "Quanto maior a distância, menor a similaridade! Treine o modelo com seus próprios textos e experimente a busca por similaridade."
   ]
  },
  {
   "cell_type": "markdown",
   "metadata": {
    "collapsed": true
   },
   "source": [
    "# Fim"
   ]
  }
 ],
 "metadata": {
  "anaconda-cloud": {},
  "kernelspec": {
   "display_name": "Python 3",
   "language": "python",
   "name": "python3"
  },
  "language_info": {
   "codemirror_mode": {
    "name": "ipython",
    "version": 3
   },
   "file_extension": ".py",
   "mimetype": "text/x-python",
   "name": "python",
   "nbconvert_exporter": "python",
   "pygments_lexer": "ipython3",
   "version": "3.7.6"
  }
 },
 "nbformat": 4,
 "nbformat_minor": 1
}
