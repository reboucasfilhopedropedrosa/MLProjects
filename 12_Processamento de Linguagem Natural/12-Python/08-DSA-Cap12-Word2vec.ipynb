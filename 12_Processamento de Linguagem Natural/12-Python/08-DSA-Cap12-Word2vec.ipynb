{
 "cells": [
  {
   "cell_type": "markdown",
   "metadata": {},
   "source": [
    "# <font color='blue'>Data Science Academy - Machine Learning</font>\n",
    "\n",
    "# <font color='blue'>Capítulo 12 - Processamento de Linguagem Natural</font>"
   ]
  },
  {
   "cell_type": "code",
   "execution_count": 1,
   "metadata": {},
   "outputs": [
    {
     "name": "stdout",
     "output_type": "stream",
     "text": [
      "Versão da Linguagem Python Usada Neste Jupyter Notebook: 3.7.6\n"
     ]
    }
   ],
   "source": [
    "# Versão da Linguagem Python\n",
    "from platform import python_version\n",
    "print('Versão da Linguagem Python Usada Neste Jupyter Notebook:', python_version())"
   ]
  },
  {
   "cell_type": "markdown",
   "metadata": {},
   "source": [
    "Obs: Este é um material de bônus incluído neste curso. PyTorch é estudado em detalhes no curso <a href=\"https://www.datascienceacademy.com.br/course?courseid=deep-learning-frameworks\">Deep Learning Frameworks</a> e aplicado em PLN no curso <a href=\"https://www.datascienceacademy.com.br/course?courseid=processamento-de-linguagem-natural-e-reconhecimento-de-voz\">Processamento de Linguagem Natural</a>."
   ]
  },
  {
   "cell_type": "markdown",
   "metadata": {},
   "source": [
    "## Estudo de Caso - Previsão de Palavras com Base no Contexto e Visualização com PCA\n",
    "\n",
    "![title](imagens/word2vec.png)"
   ]
  },
  {
   "cell_type": "markdown",
   "metadata": {},
   "source": [
    "**A definição deste estudo de caso está no manual em pdf no Capítulo 12 do Curso de <a href=\"https://www.datascienceacademy.com.br/course?courseid=machine-learning-engineer\">Machine Learning</a>**. \n",
    "\n",
    "Faça a leitura do manual antes de prosseguir com o Estudo de Caso."
   ]
  },
  {
   "cell_type": "code",
   "execution_count": 2,
   "metadata": {},
   "outputs": [],
   "source": [
    "# Para atualizar um pacote, execute o comando abaixo no terminal ou prompt de comando:\n",
    "# pip install -U nome_pacote\n",
    "\n",
    "# Para instalar a versão exata de um pacote, execute o comando abaixo no terminal ou prompt de comando:\n",
    "# !pip install torch==1.5.0\n",
    "\n",
    "# Depois de instalar ou atualizar o pacote, reinicie o jupyter notebook.\n",
    "\n",
    "# Instala o pacote watermark. \n",
    "# Esse pacote é usado para gravar as versões de outros pacotes usados neste jupyter notebook.\n",
    "!pip install -q -U watermark"
   ]
  },
  {
   "cell_type": "code",
   "execution_count": 3,
   "metadata": {},
   "outputs": [],
   "source": [
    "# Instala o PyTorch\n",
    "!pip install -q torch "
   ]
  },
  {
   "cell_type": "code",
   "execution_count": 4,
   "metadata": {},
   "outputs": [],
   "source": [
    "# Pacote para gráficos com Scikit-learn\n",
    "!pip install -q scikit-plot"
   ]
  },
  {
   "cell_type": "code",
   "execution_count": 5,
   "metadata": {},
   "outputs": [],
   "source": [
    "# Imports\n",
    "import torch\n",
    "import scipy\n",
    "import sklearn\n",
    "import scikitplot\n",
    "import numpy as np\n",
    "import torch.nn.functional as F\n",
    "from torch.optim import SGD\n",
    "from torch.autograd import Variable, profiler\n",
    "from sklearn.decomposition import PCA\n",
    "from scipy.spatial.distance import cosine\n",
    "from scikitplot.decomposition import plot_pca_2d_projection\n",
    "%matplotlib inline"
   ]
  },
  {
   "cell_type": "code",
   "execution_count": 6,
   "metadata": {},
   "outputs": [
    {
     "name": "stdout",
     "output_type": "stream",
     "text": [
      "sklearn    0.22.1\n",
      "scipy      1.4.1\n",
      "scikitplot 0.3.7\n",
      "numpy      1.18.4\n",
      "torch      1.5.0\n",
      "Data Science Academy\n"
     ]
    }
   ],
   "source": [
    "# Versões dos pacotes usados neste jupyter notebook\n",
    "%reload_ext watermark\n",
    "%watermark -a \"Data Science Academy\" --iversions"
   ]
  },
  {
   "cell_type": "markdown",
   "metadata": {},
   "source": [
    "### Preparação dos Dados"
   ]
  },
  {
   "cell_type": "code",
   "execution_count": 7,
   "metadata": {},
   "outputs": [],
   "source": [
    "# Corpus\n",
    "corpus = ['ele é um rei',\n",
    "          'ela é uma rainha',\n",
    "          'ele é um homem',\n",
    "          'ela é uma mulher',\n",
    "          'Madrid é a capital da Espanha',\n",
    "          'Berlim é a capital da Alemanha',\n",
    "          'Lisboa é a capital de Portugal']"
   ]
  },
  {
   "cell_type": "code",
   "execution_count": 8,
   "metadata": {},
   "outputs": [],
   "source": [
    "# Construindo o vocabulário com tokenização\n",
    "palavras = []\n",
    "for sentence in corpus:\n",
    "    for palavra in sentence.split():\n",
    "         if palavra not in palavras:\n",
    "            palavras.append(palavra)"
   ]
  },
  {
   "cell_type": "code",
   "execution_count": 9,
   "metadata": {},
   "outputs": [
    {
     "data": {
      "text/plain": [
       "['ele',\n",
       " 'é',\n",
       " 'um',\n",
       " 'rei',\n",
       " 'ela',\n",
       " 'uma',\n",
       " 'rainha',\n",
       " 'homem',\n",
       " 'mulher',\n",
       " 'Madrid',\n",
       " 'a',\n",
       " 'capital',\n",
       " 'da',\n",
       " 'Espanha',\n",
       " 'Berlim',\n",
       " 'Alemanha',\n",
       " 'Lisboa',\n",
       " 'de',\n",
       " 'Portugal']"
      ]
     },
     "execution_count": 9,
     "metadata": {},
     "output_type": "execute_result"
    }
   ],
   "source": [
    "# Visualiza os dados\n",
    "palavras"
   ]
  },
  {
   "cell_type": "code",
   "execution_count": 10,
   "metadata": {},
   "outputs": [
    {
     "data": {
      "text/plain": [
       "{'ele': 0,\n",
       " 'é': 1,\n",
       " 'um': 2,\n",
       " 'rei': 3,\n",
       " 'ela': 4,\n",
       " 'uma': 5,\n",
       " 'rainha': 6,\n",
       " 'homem': 7,\n",
       " 'mulher': 8,\n",
       " 'Madrid': 9,\n",
       " 'a': 10,\n",
       " 'capital': 11,\n",
       " 'da': 12,\n",
       " 'Espanha': 13,\n",
       " 'Berlim': 14,\n",
       " 'Alemanha': 15,\n",
       " 'Lisboa': 16,\n",
       " 'de': 17,\n",
       " 'Portugal': 18}"
      ]
     },
     "execution_count": 10,
     "metadata": {},
     "output_type": "execute_result"
    }
   ],
   "source": [
    "# Criamos o mapeamento palavra - índice   \n",
    "word2idx = {w:idx for (idx, w) in enumerate(palavras)}\n",
    "word2idx"
   ]
  },
  {
   "cell_type": "code",
   "execution_count": 11,
   "metadata": {},
   "outputs": [
    {
     "data": {
      "text/plain": [
       "{0: 'ele',\n",
       " 1: 'é',\n",
       " 2: 'um',\n",
       " 3: 'rei',\n",
       " 4: 'ela',\n",
       " 5: 'uma',\n",
       " 6: 'rainha',\n",
       " 7: 'homem',\n",
       " 8: 'mulher',\n",
       " 9: 'Madrid',\n",
       " 10: 'a',\n",
       " 11: 'capital',\n",
       " 12: 'da',\n",
       " 13: 'Espanha',\n",
       " 14: 'Berlim',\n",
       " 15: 'Alemanha',\n",
       " 16: 'Lisboa',\n",
       " 17: 'de',\n",
       " 18: 'Portugal'}"
      ]
     },
     "execution_count": 11,
     "metadata": {},
     "output_type": "execute_result"
    }
   ],
   "source": [
    "# Criamos o mapeamento inverso índice - palavra\n",
    "idx2word = {idx:w for (idx, w) in enumerate(palavras)}\n",
    "idx2word"
   ]
  },
  {
   "cell_type": "code",
   "execution_count": 12,
   "metadata": {},
   "outputs": [
    {
     "data": {
      "text/plain": [
       "19"
      ]
     },
     "execution_count": 12,
     "metadata": {},
     "output_type": "execute_result"
    }
   ],
   "source": [
    "# Tamanho do vocabulário\n",
    "tamanho_vocab = len(word2idx)\n",
    "tamanho_vocab"
   ]
  },
  {
   "cell_type": "markdown",
   "metadata": {},
   "source": [
    "### Construção do Modelo"
   ]
  },
  {
   "cell_type": "code",
   "execution_count": 13,
   "metadata": {},
   "outputs": [],
   "source": [
    "# Função para gerar os embeddings\n",
    "def get_word_embedding(word):\n",
    "    word_vec_one_hot = np.zeros(tamanho_vocab)\n",
    "    word_vec_one_hot[word2idx[word]] = 1\n",
    "    return word_vec_one_hot"
   ]
  },
  {
   "cell_type": "code",
   "execution_count": 14,
   "metadata": {},
   "outputs": [],
   "source": [
    "# Função para gerar os vetores, da palavra central e do contexto\n",
    "def gera_vetores():\n",
    "    for sentence in corpus:\n",
    "        words = sentence.split()\n",
    "        indices = [word2idx[w] for w in words]\n",
    "        \n",
    "        # Loop pelo range de índices\n",
    "        # Aqui geramos o vetor da palavra central em i\n",
    "        # E geramos o vetor de contexto\n",
    "        for i in range(len(indices)):\n",
    "            for w in range(-window_size, window_size + 1):\n",
    "                context_idx = i + w\n",
    "                if context_idx < 0 or context_idx >= len(indices) or i == context_idx:\n",
    "                    continue\n",
    "                    \n",
    "                # Gera os vetores    \n",
    "                center_vec_one_hot = np.zeros(tamanho_vocab)\n",
    "                center_vec_one_hot[indices[i]] = 1\n",
    "                context_idx = indices[context_idx]\n",
    "                                \n",
    "                yield center_vec_one_hot, context_idx"
   ]
  },
  {
   "cell_type": "code",
   "execution_count": 15,
   "metadata": {},
   "outputs": [],
   "source": [
    "# Hiperparâmetros\n",
    "embedding_dims = 10\n",
    "window_size = 2"
   ]
  },
  {
   "cell_type": "markdown",
   "metadata": {},
   "source": [
    "Definição dos pesos da rede neural.\n",
    "\n",
    "- W1 é uma matriz de pesos de dimensões embedding_dims x tamanho_vocab\n",
    "- W2 é uma matriz de pesos de dimensões tamanho_vocab x embedding_dims\n",
    "\n",
    "Os pesos (ou coeficientes ou parâmetros) é aquilo que a rede aprende durante o treinamento. Como no início não sabemos qual o valor ideal de pesos (isso é o que queremos descobrir) iniciamos com valores randômicos usando torch.randn().\n",
    "\n",
    "Ao final do aprendizado, o modelo em si nada mais é do que os valores ideais de W1 e W2."
   ]
  },
  {
   "cell_type": "code",
   "execution_count": 16,
   "metadata": {
    "scrolled": true
   },
   "outputs": [],
   "source": [
    "# Definição dos pesos da rede neural\n",
    "W1 = Variable(torch.randn(embedding_dims, tamanho_vocab).float(), requires_grad = True)\n",
    "W2 = Variable(torch.randn(tamanho_vocab, embedding_dims).float(), requires_grad = True)"
   ]
  },
  {
   "cell_type": "code",
   "execution_count": 17,
   "metadata": {},
   "outputs": [
    {
     "name": "stdout",
     "output_type": "stream",
     "text": [
      "\n",
      "Iniciando o Treinamento...\n",
      "\n",
      "Erro de Treinamento: 5.22385479700058\n",
      "Erro de Treinamento: 3.860058443977478\n",
      "Erro de Treinamento: 3.2681373268999954\n",
      "Erro de Treinamento: 2.9334868706287223\n",
      "Erro de Treinamento: 2.7041754703572454\n",
      "Erro de Treinamento: 2.5358102543556944\n",
      "Erro de Treinamento: 2.4052776795752506\n",
      "Erro de Treinamento: 2.299734469423903\n",
      "Erro de Treinamento: 2.2126814317195973\n",
      "Erro de Treinamento: 2.140747587731544\n",
      "Erro de Treinamento: 2.081373210917128\n",
      "Erro de Treinamento: 2.0319503219203745\n",
      "Erro de Treinamento: 1.9900661621322022\n",
      "Erro de Treinamento: 1.9538266554157784\n",
      "Erro de Treinamento: 1.9218834797118574\n",
      "Erro de Treinamento: 1.8933224414891385\n",
      "Erro de Treinamento: 1.867533139091857\n",
      "Erro de Treinamento: 1.8441056298448684\n",
      "Erro de Treinamento: 1.8227571299735537\n",
      "Erro de Treinamento: 1.8032803253290501\n",
      "Erro de Treinamento: 1.7855086015894057\n",
      "Erro de Treinamento: 1.7692917956316725\n",
      "Erro de Treinamento: 1.7544840853264991\n",
      "Erro de Treinamento: 1.7409412743563348\n",
      "Erro de Treinamento: 1.7285245685501303\n",
      "Erro de Treinamento: 1.7171061749153949\n",
      "Erro de Treinamento: 1.706572470512796\n",
      "Erro de Treinamento: 1.696826065791414\n",
      "Erro de Treinamento: 1.6877848039916221\n",
      "Erro de Treinamento: 1.679378569760221\n",
      "Erro de Treinamento: 1.6715484908286562\n",
      "Erro de Treinamento: 1.664243460969722\n",
      "Erro de Treinamento: 1.6574196016534846\n",
      "Erro de Treinamento: 1.65103783442619\n",
      "Erro de Treinamento: 1.6450632880342768\n",
      "Erro de Treinamento: 1.6394647175961352\n",
      "Erro de Treinamento: 1.634214145706055\n",
      "Erro de Treinamento: 1.629285546059304\n",
      "Erro de Treinamento: 1.6246563063022939\n",
      "Erro de Treinamento: 1.6203051875246333\n",
      "Erro de Treinamento: 1.616213506840645\n",
      "Erro de Treinamento: 1.612363760141616\n",
      "Erro de Treinamento: 1.6087406271315636\n",
      "Erro de Treinamento: 1.6053294748701947\n",
      "Erro de Treinamento: 1.6021176525887022\n",
      "Erro de Treinamento: 1.5990927656914324\n",
      "Erro de Treinamento: 1.5962440523695438\n",
      "Erro de Treinamento: 1.5935606544322156\n",
      "Erro de Treinamento: 1.5910331816115277\n",
      "Erro de Treinamento: 1.58865225315094\n",
      "Erro de Treinamento: 1.5864089156718963\n",
      "Erro de Treinamento: 1.584295190395193\n",
      "Erro de Treinamento: 1.582302764375159\n",
      "Erro de Treinamento: 1.5804240849423916\n",
      "Erro de Treinamento: 1.5786521396738418\n",
      "Erro de Treinamento: 1.5769798070826428\n",
      "Erro de Treinamento: 1.5754006428921477\n",
      "Erro de Treinamento: 1.5739083689578035\n",
      "Erro de Treinamento: 1.572497383711186\n",
      "Erro de Treinamento: 1.571162169284009\n",
      "Erro de Treinamento: 1.5698976091882015\n",
      "Erro de Treinamento: 1.5686989451976532\n",
      "Erro de Treinamento: 1.5675616993549022\n",
      "Erro de Treinamento: 1.5664819485329566\n",
      "Erro de Treinamento: 1.5654558355503894\n",
      "Erro de Treinamento: 1.564479965478816\n",
      "Erro de Treinamento: 1.563551202733466\n",
      "Erro de Treinamento: 1.5626663527590163\n",
      "Erro de Treinamento: 1.5618228202170514\n",
      "Erro de Treinamento: 1.5610179400190394\n",
      "Erro de Treinamento: 1.5602496767297704\n",
      "Erro de Treinamento: 1.5595154121835182\n",
      "Erro de Treinamento: 1.5588132282520861\n",
      "Erro de Treinamento: 1.5581415244873533\n",
      "Erro de Treinamento: 1.5574984563157914\n",
      "Erro de Treinamento: 1.556882347198243\n",
      "Erro de Treinamento: 1.5562917152617841\n",
      "Erro de Treinamento: 1.5557250526357205\n",
      "Erro de Treinamento: 1.555181197029479\n",
      "Erro de Treinamento: 1.5546589252796579\n",
      "Erro de Treinamento: 1.5541570598774768\n",
      "Erro de Treinamento: 1.5536744930642716\n",
      "Erro de Treinamento: 1.5532104100318664\n",
      "Erro de Treinamento: 1.552763749944403\n",
      "Erro de Treinamento: 1.5523338172029941\n",
      "Erro de Treinamento: 1.5519195148285398\n",
      "Erro de Treinamento: 1.5515202347268449\n",
      "Erro de Treinamento: 1.551135148773802\n",
      "Erro de Treinamento: 1.550763817543679\n",
      "Erro de Treinamento: 1.5504053387236088\n",
      "Erro de Treinamento: 1.5500591904559033\n",
      "Erro de Treinamento: 1.5497247938145982\n",
      "Erro de Treinamento: 1.54940161552835\n",
      "Erro de Treinamento: 1.5490890906212178\n",
      "Erro de Treinamento: 1.5487868329311938\n",
      "Erro de Treinamento: 1.5484945336554914\n",
      "Erro de Treinamento: 1.5482113919359572\n",
      "Erro de Treinamento: 1.5479373025133254\n",
      "Erro de Treinamento: 1.5476717004116545\n",
      "Erro de Treinamento: 1.5474143770146878\n",
      "Erro de Treinamento: 1.5471649626468091\n",
      "\n",
      "Treinamento Concluído.\n"
     ]
    }
   ],
   "source": [
    "# Treinamento\n",
    "print(\"\\nIniciando o Treinamento...\\n\")\n",
    "for epoch in range(1001):\n",
    "    \n",
    "    # Inicializa o erro médio da rede\n",
    "    avg_loss = 0\n",
    "    \n",
    "    # Inicializa o controle do número de amostras\n",
    "    samples = 0\n",
    "    \n",
    "    # Loop pelos dados (vetores de entrada)\n",
    "    for data, target in gera_vetores():\n",
    "        \n",
    "        # Coleta x (vetor da palavra central)\n",
    "        x = Variable(torch.from_numpy(data)).float()\n",
    "        \n",
    "        # Coleta y (vetor do contexto)\n",
    "        y_true = Variable(torch.from_numpy(np.array([target])).long())\n",
    "        \n",
    "        # Atualiza o número de amostras\n",
    "        samples += len(y_true)\n",
    "        \n",
    "        # Resultado da multiplicação entre os pesos e as primeiras camadas da rede\n",
    "        a1 = torch.matmul(W1, x)\n",
    "        a2 = torch.matmul(W2, a1)\n",
    "\n",
    "        # A função softmax entrega a probabilidade da previsão da rede\n",
    "        log_softmax = F.log_softmax(a2, dim = 0)\n",
    "\n",
    "        # Previsão da rede\n",
    "        network_pred_dist = F.softmax(log_softmax, dim = 0)\n",
    "        \n",
    "        # Calcula o erro, comparando a previsão da rede com o valor real \n",
    "        # (como fazemos em qualquer modelo de aprendizagem supervisionada)\n",
    "        loss = F.nll_loss(log_softmax.view(1,-1), y_true)\n",
    "        \n",
    "        # Erro médio\n",
    "        avg_loss += loss.item()\n",
    "        \n",
    "        # Inicia o backpropagation\n",
    "        loss.backward()\n",
    "\n",
    "        # Atualiza o valor dos pesos para a próxima passada\n",
    "        W1.data -= 0.002 * W1.grad.data\n",
    "        W2.data -= 0.002 * W2.grad.data\n",
    "\n",
    "        # Zera o valor do gradiente depois de atualizar os pesos\n",
    "        W1.grad.data.zero_()\n",
    "        W2.grad.data.zero_()\n",
    "        \n",
    "    # Imprime o erro da rede\n",
    "    if epoch % 10 == 0:\n",
    "        print('Erro de Treinamento:', avg_loss / samples)\n",
    "\n",
    "print(\"\\nTreinamento Concluído.\")"
   ]
  },
  {
   "cell_type": "markdown",
   "metadata": {},
   "source": [
    "### Teste do Modelo e Redução de Dimensionalidade com PCA\n",
    "\n",
    "Para testar o modelo, tudo que precisamos é dos pesos, em nosso exemplo W1 e W2. Mas visualizar os dados é desafiador, pois a dimensionalidade é alta e quanto maior o número de palavras do vocabulário, mais complicado.\n",
    "\n",
    "Uma alternativa, é reduzir a diemensionalidade dos dados. Convertemos todos os atributos em 2 componentes principais usando PCA (Principal Component Analysis) e com 2 componentes podemos visualizar os dados.\n",
    "\n",
    "Cada componentes principal nada mais é do que a junção matemática da informação em outras variáveis. O PCA é um algoritmo de Machine Learning por si mesmo, da categoria de aprendizagem não supervisionada.\n",
    "\n",
    "Vamos aplicar o PCA para visualizar os dados."
   ]
  },
  {
   "cell_type": "code",
   "execution_count": 18,
   "metadata": {
    "scrolled": true
   },
   "outputs": [],
   "source": [
    "# Cria o objeto para redução de dimensionalidade\n",
    "pca = PCA(n_components = 2)"
   ]
  },
  {
   "cell_type": "code",
   "execution_count": 19,
   "metadata": {},
   "outputs": [
    {
     "data": {
      "text/plain": [
       "PCA(copy=True, iterated_power='auto', n_components=2, random_state=None,\n",
       "    svd_solver='auto', tol=0.0, whiten=False)"
      ]
     },
     "execution_count": 19,
     "metadata": {},
     "output_type": "execute_result"
    }
   ],
   "source": [
    "# Treina o modelo PCA\n",
    "pca.fit(W1.data.numpy().T)"
   ]
  },
  {
   "cell_type": "code",
   "execution_count": 20,
   "metadata": {},
   "outputs": [],
   "source": [
    "# Calcula a projeção PCA para o Plot\n",
    "proj = pca.transform(W1.data.numpy().T)"
   ]
  },
  {
   "cell_type": "code",
   "execution_count": 21,
   "metadata": {},
   "outputs": [
    {
     "data": {
      "image/png": "[encoded data removed]",
      "text/plain": [
       "<Figure size 1152x720 with 1 Axes>"
      ]
     },
     "metadata": {
      "needs_background": "light"
     },
     "output_type": "display_data"
    }
   ],
   "source": [
    "# Plot\n",
    "ax = plot_pca_2d_projection(pca, \n",
    "                            W1.data.numpy().T, \n",
    "                            np.array(palavras), \n",
    "                            feature_labels = palavras, \n",
    "                            figsize = (16,10), \n",
    "                            text_fontsize = 12)\n",
    "\n",
    "# Legenda\n",
    "for i, txt in enumerate(palavras):\n",
    "    ax.annotate(txt, (proj[i,0], proj[i,1]), size = 15)"
   ]
  },
  {
   "cell_type": "markdown",
   "metadata": {},
   "source": [
    "Observe a legenda no gráfico acima! Palavras similares com base no contexto, estão com a \"bolinha\" com cores parecidas. No topo da lista temos países e cidades, depois pronomes e a palavra \"capital\", temos então homem, mulher, rainha e rei e por fim artigos e um verbo.\n",
    "\n",
    "Tudo isso foi aprendido pela rede com base no contexto, que nada mais é do que a distância de cosseno entre as embeddings, os vetores que representam as palavras.\n",
    "\n",
    "A visualização acima mostra que palavras que estão na mesma direção possui alguma similaridade, por exemplo \"Alemanha\" e \"Berlim\". Passe uma linha reta imaginária que \"corta\" as palavras \"Alemanha\" e \"Berlim\". Consegue? Se a resposta for sim, as palavras são similares. Abaixo terá outro exemplo.\n",
    "\n",
    "Vamos extrair as distâncias com base na pergunta:"
   ]
  },
  {
   "cell_type": "markdown",
   "metadata": {},
   "source": [
    "**Espanha está para Madrid, assim como Alemanha está para ?**\n",
    "\n",
    "Vamos perguntar ao modelo."
   ]
  },
  {
   "cell_type": "code",
   "execution_count": 22,
   "metadata": {},
   "outputs": [],
   "source": [
    "# Função para obter um vetor de palavras no peso W1 (esse é o contexto)\n",
    "def get_word_vector_v(word):\n",
    "    return W1[:, word2idx[word]].data.numpy()"
   ]
  },
  {
   "cell_type": "code",
   "execution_count": 23,
   "metadata": {},
   "outputs": [],
   "source": [
    "# Função para obter um vetor de palavras no peso W2 (essa é a palavra central)\n",
    "def get_word_vector_u(word):\n",
    "    return W2[word2idx[word],:].data.numpy()"
   ]
  },
  {
   "cell_type": "code",
   "execution_count": 25,
   "metadata": {},
   "outputs": [],
   "source": [
    "# Vamos obter os vetores das palavras\n",
    "espanha = 1 * get_word_vector_v('Espanha') + 1 * get_word_vector_u('Espanha')\n",
    "alemanha = 1 * get_word_vector_v('Alemanha') + 1 * get_word_vector_u('Alemanha') \n",
    "madrid = 1 * get_word_vector_v('Madrid') + 1 * get_word_vector_u('Madrid') "
   ]
  },
  {
   "cell_type": "code",
   "execution_count": 26,
   "metadata": {},
   "outputs": [],
   "source": [
    "# Resultado\n",
    "resultado = madrid - espanha + alemanha"
   ]
  },
  {
   "cell_type": "markdown",
   "metadata": {},
   "source": [
    "O que fizemos acima foi um cálculo vetorial e toda a Matemática por trás desse processo é estudada em detalhes no curso <a href=\"https://www.datascienceacademy.com.br/course?courseid=matematica-para-machine-learning\">Matemática Para Machine Learning</a>."
   ]
  },
  {
   "cell_type": "code",
   "execution_count": 27,
   "metadata": {},
   "outputs": [
    {
     "data": {
      "text/plain": [
       "array([-0.40513015,  0.7897184 , -2.2216756 ,  3.2241647 ,  2.8210957 ,\n",
       "       -0.6236031 , -1.7174951 ,  2.8691614 , -2.4253767 , -2.8065045 ],\n",
       "      dtype=float32)"
      ]
     },
     "execution_count": 27,
     "metadata": {},
     "output_type": "execute_result"
    }
   ],
   "source": [
    "# Este é o resultado, ou seja, uma embedding que representa a palavra mais similar à palavra \"Alemanha\",\n",
    "# com base na similaridade (contexto) entre \"Polônia\" e \"Varsóvia\".\n",
    "resultado"
   ]
  },
  {
   "cell_type": "code",
   "execution_count": 28,
   "metadata": {},
   "outputs": [],
   "source": [
    "# Vamos extrair as distâncias de todas as outras palavras para a nossa palavra \"secreta\" que está \n",
    "# no vetor embedding chamado \"resultado\"\n",
    "# Usamos a função cosine() do SciPy para calcular as distâncias\n",
    "distancias = [(v, cosine(resultado, 1 * get_word_vector_u(v) + 1 * get_word_vector_v(v))) for v in palavras]"
   ]
  },
  {
   "cell_type": "code",
   "execution_count": 29,
   "metadata": {},
   "outputs": [
    {
     "data": {
      "text/plain": [
       "[('ele', 1.3965722024440765),\n",
       " ('é', 0.9767543282359838),\n",
       " ('um', 1.1265821009874344),\n",
       " ('rei', 1.2847048044204712),\n",
       " ('ela', 1.611805021762848),\n",
       " ('uma', 1.1790071874856949),\n",
       " ('rainha', 1.5804210901260376),\n",
       " ('homem', 0.9397386945784092),\n",
       " ('mulher', 1.0231596734374762),\n",
       " ('Madrid', 0.2463206648826599),\n",
       " ('a', 0.6906205117702484),\n",
       " ('capital', 1.5314018726348877),\n",
       " ('da', 1.2638142704963684),\n",
       " ('Espanha', 1.4653907418251038),\n",
       " ('Berlim', 0.5861693322658539),\n",
       " ('Alemanha', 0.7063304781913757),\n",
       " ('Lisboa', 0.819067195057869),\n",
       " ('de', 1.1880789548158646),\n",
       " ('Portugal', 1.3572377264499664)]"
      ]
     },
     "execution_count": 29,
     "metadata": {},
     "output_type": "execute_result"
    }
   ],
   "source": [
    "# Visualiza as distâncias\n",
    "distancias"
   ]
  },
  {
   "cell_type": "markdown",
   "metadata": {},
   "source": [
    "Acima temos uma lista de tuplas com as distâncias de cada palavra para nosso \"resultado\". Vamos ordenar isso."
   ]
  },
  {
   "cell_type": "code",
   "execution_count": 30,
   "metadata": {},
   "outputs": [],
   "source": [
    "# Ordenando a lista de tuplas pelo segundo elemento da tupla\n",
    "distancias.sort(key = lambda tup: tup[1])  "
   ]
  },
  {
   "cell_type": "code",
   "execution_count": 31,
   "metadata": {},
   "outputs": [
    {
     "data": {
      "text/plain": [
       "[('Madrid', 0.2463206648826599),\n",
       " ('Berlim', 0.5861693322658539),\n",
       " ('a', 0.6906205117702484),\n",
       " ('Alemanha', 0.7063304781913757),\n",
       " ('Lisboa', 0.819067195057869),\n",
       " ('homem', 0.9397386945784092),\n",
       " ('é', 0.9767543282359838),\n",
       " ('mulher', 1.0231596734374762),\n",
       " ('um', 1.1265821009874344),\n",
       " ('uma', 1.1790071874856949),\n",
       " ('de', 1.1880789548158646),\n",
       " ('da', 1.2638142704963684),\n",
       " ('rei', 1.2847048044204712),\n",
       " ('Portugal', 1.3572377264499664),\n",
       " ('ele', 1.3965722024440765),\n",
       " ('Espanha', 1.4653907418251038),\n",
       " ('capital', 1.5314018726348877),\n",
       " ('rainha', 1.5804210901260376),\n",
       " ('ela', 1.611805021762848)]"
      ]
     },
     "execution_count": 31,
     "metadata": {},
     "output_type": "execute_result"
    }
   ],
   "source": [
    "# Agora sim\n",
    "distancias"
   ]
  },
  {
   "cell_type": "markdown",
   "metadata": {},
   "source": [
    "O vetor \"resultado\" foi uma previsão do nosso modelo e as palavras \"Madrid\" e \"Berlim\" são as mais similares. Observe que \"Berlim\" é a palavra mais similar com base no conexto, uma vez que Madrid já foi usada em nossa fórmula.\n",
    "\n",
    "Imagine que um vetor (uma flecha) sai da origem do sistema de coordenadas (Honestidade = 0 e Experiência = 0, chamaremos de ponto O) e termina no ponto X. Este vetor é usado para localizar o ponto no nosso espaço de características. Não é diferente de simplesmente dizer que X possui H = 0.4 e E = 0.2, é apenas outra maneira de ver isso.\n",
    "\n",
    "![title](imagens/cos.png)\n",
    "\n",
    "Se soubermos qual é o ângulo entre os vetores X e A, podemos usar uma calculadora simples e calcular a similaridade. Podemos ver pela imagem acima que os vetores de X e A estão sobre a mesma linha reta (observe as cores dos círculos na legenda), logo o ângulo entre eles é zero graus e sua similaridade é cos(0) = 1. Já para a similaridade entre X e B não sabemos o ângulo e precisamos usar uma equação. O numerador (a parte de cima da divisão) significa multiplicar os valores de Honestidade de X e B e somar com a multiplicação dos valores de Experiência de X e B.\n",
    "\n",
    "Isso é o que faz o Word2vec. Brihante, não?"
   ]
  },
  {
   "cell_type": "markdown",
   "metadata": {},
   "source": [
    "**Em que contexto aparece a palavra Lisboa?**\n",
    "\n",
    "Aqui é como se estivéssemos usando o modelo para previsão."
   ]
  },
  {
   "cell_type": "code",
   "execution_count": 33,
   "metadata": {},
   "outputs": [
    {
     "name": "stdout",
     "output_type": "stream",
     "text": [
      "ele: 0.0001222703722305596\n",
      "é: 0.4867992699146271\n",
      "um: 5.335334572009742e-05\n",
      "rei: 0.00023161662102211267\n",
      "ela: 2.728262188611552e-05\n",
      "uma: 0.007864093407988548\n",
      "rainha: 0.0006475533591583371\n",
      "homem: 0.0009029505308717489\n",
      "mulher: 0.00039312048465944827\n",
      "Madrid: 0.0013700221898034215\n",
      "a: 0.487895667552948\n",
      "capital: 0.0003848224296234548\n",
      "da: 0.0018237640615552664\n",
      "Espanha: 0.00018272449960932136\n",
      "Berlim: 0.00152174464892596\n",
      "Alemanha: 0.0006373585783876479\n",
      "Lisboa: 0.003759471233934164\n",
      "de: 0.0024602694902569056\n",
      "Portugal: 0.002922620391473174\n"
     ]
    }
   ],
   "source": [
    "# Extrai o contexto\n",
    "context_to_predict = get_word_vector_v('Lisboa')\n",
    "\n",
    "# Variável com o contexto a prever\n",
    "hidden = Variable(torch.from_numpy(context_to_predict)).float()\n",
    "\n",
    "# Executa o modelo e extrai as probabilidades \n",
    "# (executar o modelo nada mais é do que multiplicar os novos dados de entrada pelos pesos aprendidos no treinamento)\n",
    "a = torch.matmul(W2, hidden)\n",
    "probs = F.softmax(a, dim = 0).data.numpy()\n",
    "\n",
    "# Imprime o resultado\n",
    "for context, prob in zip(palavras, probs):\n",
    "    print(f'{context}: {prob}')"
   ]
  },
  {
   "cell_type": "markdown",
   "metadata": {},
   "source": [
    "O contexto da palavra \"Lisboa\" é representado pelas palavras \"é\", \"a\", \"Portugal\".\n",
    "\n",
    "Nosso modelo não conseguiu aprender o contexto \"capital\". Quem sabe você consegue otimizar o treinamento do modelo e aumentar sua precisão."
   ]
  },
  {
   "cell_type": "markdown",
   "metadata": {},
   "source": [
    "# Fim"
   ]
  }
 ],
 "metadata": {
  "kernelspec": {
   "display_name": "Python 3",
   "language": "python",
   "name": "python3"
  },
  "language_info": {
   "codemirror_mode": {
    "name": "ipython",
    "version": 3
   },
   "file_extension": ".py",
   "mimetype": "text/x-python",
   "name": "python",
   "nbconvert_exporter": "python",
   "pygments_lexer": "ipython3",
   "version": "3.7.6"
  }
 },
 "nbformat": 4,
 "nbformat_minor": 2
}
