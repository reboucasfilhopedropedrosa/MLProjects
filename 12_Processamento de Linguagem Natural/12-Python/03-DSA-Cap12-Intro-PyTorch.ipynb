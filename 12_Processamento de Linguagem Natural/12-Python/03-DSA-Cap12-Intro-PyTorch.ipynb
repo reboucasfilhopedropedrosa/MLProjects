{
 "cells": [
  {
   "cell_type": "markdown",
   "metadata": {},
   "source": [
    "# <font color='blue'>Data Science Academy - Machine Learning</font>\n",
    "\n",
    "# <font color='blue'>Capítulo 12 - Processamento de Linguagem Natural</font>"
   ]
  },
  {
   "cell_type": "code",
   "execution_count": 1,
   "metadata": {},
   "outputs": [
    {
     "name": "stdout",
     "output_type": "stream",
     "text": [
      "Versão da Linguagem Python Usada Neste Jupyter Notebook: 3.7.6\n"
     ]
    }
   ],
   "source": [
    "# Versão da Linguagem Python\n",
    "from platform import python_version\n",
    "print('Versão da Linguagem Python Usada Neste Jupyter Notebook:', python_version())"
   ]
  },
  {
   "cell_type": "markdown",
   "metadata": {},
   "source": [
    "Obs: Este é um material de bônus incluído neste curso. PyTorch é estudado em detalhes no curso <a href=\"https://www.datascienceacademy.com.br/course?courseid=deep-learning-frameworks\">Deep Learning Frameworks</a> e aplicado em PLN no curso <a href=\"https://www.datascienceacademy.com.br/course?courseid=processamento-de-linguagem-natural-e-reconhecimento-de-voz\">Processamento de Linguagem Natural</a>."
   ]
  },
  {
   "cell_type": "markdown",
   "metadata": {},
   "source": [
    "## Introdução ao Framework PyTorch"
   ]
  },
  {
   "cell_type": "markdown",
   "metadata": {},
   "source": [
    "A computação em modelos de Deep Learning é feita com tensores, que são generalizações de uma matriz que pode ser indexada em mais de duas dimensões. O PyTorch é um framework que aplica operações matemáticas a tensores para então treinar modelos de Deep Learning."
   ]
  },
  {
   "cell_type": "markdown",
   "metadata": {},
   "source": [
    "https://pytorch.org/"
   ]
  },
  {
   "cell_type": "markdown",
   "metadata": {},
   "source": [
    "**TorchScript**\n",
    "\n",
    "O PyTorch TorchScript ajuda a criar modelos serializáveis e otimizáveis. Depois que treinamos esses modelos, eles também podem ser executados independentemente. Isso ajuda quando estamos no estágio de implantação do modelo de um projeto de Data Science.\n",
    "\n",
    "Você pode treinar um modelo no PyTorch usando Python e depois exportá-lo via TorchScript para um ambiente de produção em que Python não esteja disponível. \n",
    "\n",
    "**Treinamento Distribuído**\n",
    "\n",
    "O PyTorch também oferece suporte a treinamento distribuído que permite que pesquisadores e profissionais paralelizem seus cálculos. O treinamento distribuído possibilita o uso de várias GPUs para processar lotes maiores de dados de entrada. Isso, por sua vez, reduz o tempo de computação.\n",
    "\n",
    "**Suporte para Python**\n",
    "\n",
    "O PyTorch tem uma interação muito boa com o Python. De fato, a codificação no PyTorch é bastante semelhante ao que fazemos em Python. Portanto, se você se sentir confortável com o Python, vai adorar trabalhar com o PyTorch."
   ]
  },
  {
   "cell_type": "markdown",
   "metadata": {},
   "source": [
    "### O Que São Tensores?\n",
    "\n",
    "![title](imagens/tensores.png)"
   ]
  },
  {
   "cell_type": "code",
   "execution_count": 2,
   "metadata": {},
   "outputs": [],
   "source": [
    "# Para atualizar um pacote, execute o comando abaixo no terminal ou prompt de comando:\n",
    "# pip install -U nome_pacote\n",
    "\n",
    "# Para instalar a versão exata de um pacote, execute o comando abaixo no terminal ou prompt de comando:\n",
    "# !pip install torch==1.5.0\n",
    "\n",
    "# Depois de instalar ou atualizar o pacote, reinicie o jupyter notebook.\n",
    "\n",
    "# Instala o pacote watermark. \n",
    "# Esse pacote é usado para gravar as versões de outros pacotes usados neste jupyter notebook.\n",
    "!pip install -q -U watermark"
   ]
  },
  {
   "cell_type": "code",
   "execution_count": 3,
   "metadata": {},
   "outputs": [],
   "source": [
    "# Instala o PyTorch\n",
    "!pip install -q -U torch torchvision"
   ]
  },
  {
   "cell_type": "code",
   "execution_count": 4,
   "metadata": {},
   "outputs": [],
   "source": [
    "# Imports\n",
    "import numpy \n",
    "import torch\n",
    "import torchvision"
   ]
  },
  {
   "cell_type": "code",
   "execution_count": 5,
   "metadata": {},
   "outputs": [
    {
     "name": "stdout",
     "output_type": "stream",
     "text": [
      "torchvision 0.6.0\n",
      "torch       1.5.0\n",
      "numpy       1.18.4\n",
      "Data Science Academy\n"
     ]
    }
   ],
   "source": [
    "# Versões dos pacotes usados neste jupyter notebook\n",
    "%reload_ext watermark\n",
    "%watermark -a \"Data Science Academy\" --iversions"
   ]
  },
  {
   "cell_type": "markdown",
   "metadata": {},
   "source": [
    "### Criando e Manipulando Tensores"
   ]
  },
  {
   "cell_type": "markdown",
   "metadata": {},
   "source": [
    "A razão pela qual usamos o Numpy em Machine Learning é que é muito mais rápido do que as listas Python na execução de operações de matriz. \n",
    "\n",
    "Por quê? Internamente, NumPy faz a maior parte do trabalho pesado em Linguagem C, que é muito mais veloz que Python. \n",
    "\n",
    "Mas, no caso de treinar redes neurais profundas (<a href=\"http://www.deeplearningbook.com.br/\">Deep Learning</a>), os arrays NumPy levariam meses para treinar algumas das redes de ponta. É aqui que os tensores entram em cena. O PyTorch nos fornece uma estrutura de dados chamada Tensor, que é muito semelhante à matriz ND do NumPy. Mas, diferentemente do último, os tensores podem aproveitar os recursos de uma GPU para acelerar significativamente as operações com matrizes."
   ]
  },
  {
   "cell_type": "code",
   "execution_count": 6,
   "metadata": {},
   "outputs": [],
   "source": [
    "# Criando um tensor\n",
    "x = torch.tensor([1., 2.])"
   ]
  },
  {
   "cell_type": "code",
   "execution_count": 7,
   "metadata": {},
   "outputs": [
    {
     "name": "stdout",
     "output_type": "stream",
     "text": [
      "tensor([1., 2.])\n"
     ]
    }
   ],
   "source": [
    "# Visualiza o tensor\n",
    "print(x)"
   ]
  },
  {
   "cell_type": "code",
   "execution_count": 8,
   "metadata": {},
   "outputs": [
    {
     "name": "stdout",
     "output_type": "stream",
     "text": [
      "torch.Size([2])\n"
     ]
    }
   ],
   "source": [
    "# Shape\n",
    "print(x.shape)"
   ]
  },
  {
   "cell_type": "code",
   "execution_count": 9,
   "metadata": {},
   "outputs": [],
   "source": [
    "# Criando um tensor\n",
    "t = torch.tensor([[1,1,1,1],\n",
    "                  [2,2,2,2],\n",
    "                  [3,3,3,3]], dtype = torch.float32)"
   ]
  },
  {
   "cell_type": "markdown",
   "metadata": {},
   "source": [
    "Para determinar a forma desse tensor, examinamos primeiro as linhas (3) e depois as colunas (4). Portanto, esse tensor é 3 x 4 de classificação (rank) 2. \n",
    "\n",
    "Rank é uma palavra comumente usada e significa apenas o número de dimensões presentes no tensor.\n",
    "\n",
    "No PyTorch, temos duas maneiras de obter a forma (shape):"
   ]
  },
  {
   "cell_type": "code",
   "execution_count": 10,
   "metadata": {},
   "outputs": [
    {
     "data": {
      "text/plain": [
       "torch.Size([3, 4])"
      ]
     },
     "execution_count": 10,
     "metadata": {},
     "output_type": "execute_result"
    }
   ],
   "source": [
    "t.size()"
   ]
  },
  {
   "cell_type": "code",
   "execution_count": 11,
   "metadata": {},
   "outputs": [
    {
     "data": {
      "text/plain": [
       "torch.Size([3, 4])"
      ]
     },
     "execution_count": 11,
     "metadata": {},
     "output_type": "execute_result"
    }
   ],
   "source": [
    "t.shape"
   ]
  },
  {
   "cell_type": "markdown",
   "metadata": {},
   "source": [
    "No PyTorch, o tamanho e a forma de um tensor significam a mesma coisa.\n",
    "\n",
    "Normalmente, depois de conhecermos a forma de um tensor, podemos deduzir algumas coisas. Primeiro, podemos deduzir o rank do tensor. O rank de um tensor é igual ao comprimento da forma do tensor."
   ]
  },
  {
   "cell_type": "code",
   "execution_count": 12,
   "metadata": {},
   "outputs": [
    {
     "data": {
      "text/plain": [
       "2"
      ]
     },
     "execution_count": 12,
     "metadata": {},
     "output_type": "execute_result"
    }
   ],
   "source": [
    "len(t.shape)"
   ]
  },
  {
   "cell_type": "code",
   "execution_count": 13,
   "metadata": {},
   "outputs": [
    {
     "data": {
      "text/plain": [
       "1"
      ]
     },
     "execution_count": 13,
     "metadata": {},
     "output_type": "execute_result"
    }
   ],
   "source": [
    "len(x.shape)"
   ]
  },
  {
   "cell_type": "markdown",
   "metadata": {},
   "source": [
    "Também podemos deduzir o número de elementos contidos no tensor. O número de elementos dentro de um tensor (12 no nosso caso do tensor t e 2 no tensor x) é igual ao produto dos valores dos componentes da forma."
   ]
  },
  {
   "cell_type": "code",
   "execution_count": 14,
   "metadata": {},
   "outputs": [
    {
     "data": {
      "text/plain": [
       "tensor(12)"
      ]
     },
     "execution_count": 14,
     "metadata": {},
     "output_type": "execute_result"
    }
   ],
   "source": [
    "torch.tensor(t.shape).prod()"
   ]
  },
  {
   "cell_type": "code",
   "execution_count": 15,
   "metadata": {},
   "outputs": [
    {
     "data": {
      "text/plain": [
       "tensor(2)"
      ]
     },
     "execution_count": 15,
     "metadata": {},
     "output_type": "execute_result"
    }
   ],
   "source": [
    "torch.tensor(x.shape).prod()"
   ]
  },
  {
   "cell_type": "code",
   "execution_count": 16,
   "metadata": {},
   "outputs": [],
   "source": [
    "# Retornando um elemento de um tensor\n",
    "z = torch.tensor([[1., 2.],[5., 3.],[0., 4.]])"
   ]
  },
  {
   "cell_type": "code",
   "execution_count": 17,
   "metadata": {},
   "outputs": [
    {
     "name": "stdout",
     "output_type": "stream",
     "text": [
      "tensor([[1., 2.],\n",
      "        [5., 3.],\n",
      "        [0., 4.]])\n"
     ]
    }
   ],
   "source": [
    "print(z)"
   ]
  },
  {
   "cell_type": "code",
   "execution_count": 18,
   "metadata": {},
   "outputs": [
    {
     "name": "stdout",
     "output_type": "stream",
     "text": [
      "torch.Size([3, 2])\n"
     ]
    }
   ],
   "source": [
    "# Shape\n",
    "print(z.shape)"
   ]
  },
  {
   "cell_type": "code",
   "execution_count": 19,
   "metadata": {},
   "outputs": [
    {
     "name": "stdout",
     "output_type": "stream",
     "text": [
      "tensor(2.)\n"
     ]
    }
   ],
   "source": [
    "# Retornamos a primeira linha (índice 0) e segunda coluna (índice 1)\n",
    "# O retorno é no formato de tensor\n",
    "print(z[0][1])"
   ]
  },
  {
   "cell_type": "code",
   "execution_count": 20,
   "metadata": {},
   "outputs": [
    {
     "name": "stdout",
     "output_type": "stream",
     "text": [
      "2.0\n"
     ]
    }
   ],
   "source": [
    "# Retornamos a primeira linha (índice 0) e segunda coluna (índice 1)\n",
    "# O retorno é no formato de escalar (apenas o valor)\n",
    "print(z[0][1].item())"
   ]
  },
  {
   "cell_type": "markdown",
   "metadata": {},
   "source": [
    "Quando criamos tensores com valores randômicos, passamos apenas o número de dimensões."
   ]
  },
  {
   "cell_type": "code",
   "execution_count": 21,
   "metadata": {},
   "outputs": [],
   "source": [
    "input1 = torch.randn([1, 4, 4, 2])"
   ]
  },
  {
   "cell_type": "code",
   "execution_count": 22,
   "metadata": {},
   "outputs": [],
   "source": [
    "input2 = torch.randn(1, 4, 4, 2)"
   ]
  },
  {
   "cell_type": "code",
   "execution_count": 23,
   "metadata": {},
   "outputs": [
    {
     "data": {
      "text/plain": [
       "torch.Size([1, 4, 4, 2])"
      ]
     },
     "execution_count": 23,
     "metadata": {},
     "output_type": "execute_result"
    }
   ],
   "source": [
    "input1.shape"
   ]
  },
  {
   "cell_type": "code",
   "execution_count": 24,
   "metadata": {},
   "outputs": [
    {
     "data": {
      "text/plain": [
       "torch.Size([1, 4, 4, 2])"
      ]
     },
     "execution_count": 24,
     "metadata": {},
     "output_type": "execute_result"
    }
   ],
   "source": [
    "input2.shape"
   ]
  },
  {
   "cell_type": "code",
   "execution_count": 25,
   "metadata": {},
   "outputs": [
    {
     "data": {
      "text/plain": [
       "4"
      ]
     },
     "execution_count": 25,
     "metadata": {},
     "output_type": "execute_result"
    }
   ],
   "source": [
    "len(input1.shape)"
   ]
  },
  {
   "cell_type": "code",
   "execution_count": 26,
   "metadata": {},
   "outputs": [
    {
     "data": {
      "text/plain": [
       "4"
      ]
     },
     "execution_count": 26,
     "metadata": {},
     "output_type": "execute_result"
    }
   ],
   "source": [
    "len(input2.shape)"
   ]
  },
  {
   "cell_type": "code",
   "execution_count": 27,
   "metadata": {},
   "outputs": [
    {
     "data": {
      "text/plain": [
       "tensor([[[[-0.9482, -2.0921],\n",
       "          [ 0.3113, -0.2121],\n",
       "          [-0.1855, -1.5270],\n",
       "          [-2.1619,  0.5348]],\n",
       "\n",
       "         [[ 0.0283,  0.8341],\n",
       "          [-0.2790, -1.8271],\n",
       "          [-1.1628,  1.1019],\n",
       "          [ 1.2481,  0.6488]],\n",
       "\n",
       "         [[-0.1437,  0.3013],\n",
       "          [-1.9909,  0.4203],\n",
       "          [-0.0676,  0.4896],\n",
       "          [ 1.7732,  0.1931]],\n",
       "\n",
       "         [[ 1.0709, -1.0066],\n",
       "          [-1.5297,  0.4276],\n",
       "          [-0.4646, -0.1275],\n",
       "          [ 0.4280, -0.8285]]]])"
      ]
     },
     "execution_count": 27,
     "metadata": {},
     "output_type": "execute_result"
    }
   ],
   "source": [
    "input1"
   ]
  },
  {
   "cell_type": "code",
   "execution_count": 28,
   "metadata": {},
   "outputs": [
    {
     "data": {
      "text/plain": [
       "tensor([[[[ 0.6759,  0.3791],\n",
       "          [-1.9885, -1.3901],\n",
       "          [ 0.1562, -0.2756],\n",
       "          [-1.2489,  1.4699]],\n",
       "\n",
       "         [[ 0.7904,  1.2076],\n",
       "          [-0.3212,  0.8936],\n",
       "          [ 0.0537,  0.4397],\n",
       "          [-0.0280,  0.8703]],\n",
       "\n",
       "         [[ 0.6236, -0.5518],\n",
       "          [-0.4955, -1.3179],\n",
       "          [-0.2664, -0.5521],\n",
       "          [ 1.7409, -0.0457]],\n",
       "\n",
       "         [[ 1.0288, -0.0135],\n",
       "          [-2.0351,  0.5283],\n",
       "          [-1.9646,  0.2570],\n",
       "          [-2.1678,  1.1651]]]])"
      ]
     },
     "execution_count": 28,
     "metadata": {},
     "output_type": "execute_result"
    }
   ],
   "source": [
    "input2"
   ]
  },
  {
   "cell_type": "markdown",
   "metadata": {},
   "source": [
    "Considere tensores como o número de listas que uma dimensão contém. Por exemplo, um tensor (1, 4, 4, 2) terá:\n",
    "\n",
    "1 lista contendo 4 elementos de 4 elementos de 2 elementos.\n",
    "\n",
    "- A primeira dimensão pode conter 1 elemento.\n",
    "- A segunda dimensão pode conter 4 elementos.\n",
    "- A terceira dimensão pode conter 4 elementos.\n",
    "- A quarta dimensão pode conter 2 elementos.\n",
    "\n",
    "![title](imagens/tensor.jpg)"
   ]
  },
  {
   "cell_type": "markdown",
   "metadata": {},
   "source": [
    "### Array NumPy x Tensor PyTorch"
   ]
  },
  {
   "cell_type": "code",
   "execution_count": 29,
   "metadata": {},
   "outputs": [],
   "source": [
    "# Cria um array NumPy\n",
    "a = numpy.array(1)\n",
    "\n",
    "# Cria um tensor PyTorch\n",
    "b = torch.tensor(1)"
   ]
  },
  {
   "cell_type": "code",
   "execution_count": 30,
   "metadata": {},
   "outputs": [
    {
     "data": {
      "text/plain": [
       "numpy.ndarray"
      ]
     },
     "execution_count": 30,
     "metadata": {},
     "output_type": "execute_result"
    }
   ],
   "source": [
    "# Tipo\n",
    "type(a)"
   ]
  },
  {
   "cell_type": "code",
   "execution_count": 31,
   "metadata": {},
   "outputs": [
    {
     "data": {
      "text/plain": [
       "torch.Tensor"
      ]
     },
     "execution_count": 31,
     "metadata": {},
     "output_type": "execute_result"
    }
   ],
   "source": [
    "# Tipo\n",
    "type(b)"
   ]
  },
  {
   "cell_type": "code",
   "execution_count": 32,
   "metadata": {},
   "outputs": [
    {
     "name": "stdout",
     "output_type": "stream",
     "text": [
      "1\n",
      "tensor(1)\n"
     ]
    }
   ],
   "source": [
    "# Print\n",
    "print(a)\n",
    "print(b)"
   ]
  },
  {
   "cell_type": "markdown",
   "metadata": {},
   "source": [
    "### Operações com Tensores"
   ]
  },
  {
   "cell_type": "code",
   "execution_count": 33,
   "metadata": {},
   "outputs": [
    {
     "name": "stdout",
     "output_type": "stream",
     "text": [
      "tensor(12) tensor(4)\n"
     ]
    }
   ],
   "source": [
    "# Criamos 2 tensores\n",
    "t1 = torch.tensor(12)\n",
    "t2 = torch.tensor(4)\n",
    "print(t1, t2)"
   ]
  },
  {
   "cell_type": "code",
   "execution_count": 34,
   "metadata": {},
   "outputs": [
    {
     "name": "stdout",
     "output_type": "stream",
     "text": [
      "tensor(16)\n"
     ]
    }
   ],
   "source": [
    "# Soma\n",
    "print(t1 + t2)"
   ]
  },
  {
   "cell_type": "code",
   "execution_count": 35,
   "metadata": {},
   "outputs": [
    {
     "name": "stdout",
     "output_type": "stream",
     "text": [
      "tensor(8)\n"
     ]
    }
   ],
   "source": [
    "# Subtração\n",
    "print(t1 - t2)"
   ]
  },
  {
   "cell_type": "code",
   "execution_count": 36,
   "metadata": {},
   "outputs": [
    {
     "name": "stdout",
     "output_type": "stream",
     "text": [
      "tensor(48)\n"
     ]
    }
   ],
   "source": [
    "# Multiplicação\n",
    "print(t1 * t2)"
   ]
  },
  {
   "cell_type": "code",
   "execution_count": 37,
   "metadata": {},
   "outputs": [
    {
     "name": "stdout",
     "output_type": "stream",
     "text": [
      "tensor(3)\n"
     ]
    }
   ],
   "source": [
    "# Divisão\n",
    "print(t1 // t2)"
   ]
  },
  {
   "cell_type": "markdown",
   "metadata": {},
   "source": [
    "### Operações com Matrizes"
   ]
  },
  {
   "cell_type": "code",
   "execution_count": 38,
   "metadata": {},
   "outputs": [
    {
     "data": {
      "text/plain": [
       "tensor([[ 0.7061, -0.7973, -0.8862],\n",
       "        [-0.8444,  0.3050, -0.6548],\n",
       "        [-0.5375,  0.2029, -0.2691]])"
      ]
     },
     "execution_count": 38,
     "metadata": {},
     "output_type": "execute_result"
    }
   ],
   "source": [
    "# Matriz (tensor rank 2) de números randômicos\n",
    "t_rank2 = torch.randn(3,3)\n",
    "t_rank2"
   ]
  },
  {
   "cell_type": "code",
   "execution_count": 39,
   "metadata": {},
   "outputs": [
    {
     "data": {
      "text/plain": [
       "tensor([[[ 1.3711,  0.9683,  1.7280],\n",
       "         [-0.5977, -1.2608,  1.8208],\n",
       "         [-0.3305, -0.2292, -1.1338]],\n",
       "\n",
       "        [[-0.6335,  0.2361, -0.5647],\n",
       "         [-1.5194,  0.8917, -0.9990],\n",
       "         [ 0.3578,  1.4174,  0.5577]],\n",
       "\n",
       "        [[ 1.8785,  0.8831,  0.3485],\n",
       "         [-0.4680,  0.0158, -0.2854],\n",
       "         [-0.5237, -0.1388, -0.0783]]])"
      ]
     },
     "execution_count": 39,
     "metadata": {},
     "output_type": "execute_result"
    }
   ],
   "source": [
    "# Tensor rank 3 de números randômicos\n",
    "t_rank3 = torch.randn(3,3,3)\n",
    "t_rank3"
   ]
  },
  {
   "cell_type": "code",
   "execution_count": 40,
   "metadata": {},
   "outputs": [
    {
     "data": {
      "text/plain": [
       "tensor([[[[-3.6111e-01,  1.7164e+00, -7.9318e-01],\n",
       "          [ 8.4382e-01,  1.4143e-01,  3.3228e-01],\n",
       "          [ 1.6688e-01,  1.1503e+00,  3.0483e-01]],\n",
       "\n",
       "         [[ 7.9292e-01,  1.5918e+00,  1.1394e+00],\n",
       "          [ 1.4560e-01,  8.0305e-01,  5.7699e-01],\n",
       "          [ 5.6801e-01, -1.0741e+00,  9.4300e-01]],\n",
       "\n",
       "         [[-1.3003e-01,  3.9009e-01,  4.5485e-01],\n",
       "          [-8.2032e-01, -1.2559e+00, -5.5603e-01],\n",
       "          [ 1.3153e+00,  3.4276e-01,  1.8879e-01]]],\n",
       "\n",
       "\n",
       "        [[[ 4.5932e-01, -2.6491e-01, -1.2201e+00],\n",
       "          [-3.5190e-01, -4.0191e-01, -5.3090e-01],\n",
       "          [-1.8362e+00, -9.7552e-01,  7.1177e-01]],\n",
       "\n",
       "         [[ 1.0260e+00, -3.6225e-01, -4.9959e-01],\n",
       "          [ 3.8540e-01,  2.4449e-01,  7.9880e-04],\n",
       "          [-2.7408e-01, -1.9710e-01,  1.2974e+00]],\n",
       "\n",
       "         [[-9.3920e-01,  1.7660e+00, -7.3842e-01],\n",
       "          [-7.7712e-01, -5.1067e-01, -3.6833e-01],\n",
       "          [ 8.0443e-01,  8.5275e-01,  1.7015e+00]]],\n",
       "\n",
       "\n",
       "        [[[ 2.2601e-01, -1.0045e+00,  3.7911e-01],\n",
       "          [-1.1205e+00,  1.2004e+00,  2.7302e-01],\n",
       "          [ 8.2563e-01, -1.5427e+00, -1.6966e+00]],\n",
       "\n",
       "         [[ 1.9641e+00,  1.7321e+00, -1.8023e+00],\n",
       "          [-4.0024e-01, -1.3177e-02,  9.8484e-02],\n",
       "          [-2.1506e+00, -1.9921e+00,  3.0806e-01]],\n",
       "\n",
       "         [[-1.0983e+00,  1.8885e+00, -1.1661e+00],\n",
       "          [-1.9059e+00, -9.5111e-01, -1.4300e+00],\n",
       "          [ 1.0803e+00,  1.2218e+00,  1.8886e-01]]]])"
      ]
     },
     "execution_count": 40,
     "metadata": {},
     "output_type": "execute_result"
    }
   ],
   "source": [
    "# Tensor rank 4 de números randômicos\n",
    "t_rank4 = torch.randn(3,3,3,3)\n",
    "t_rank4"
   ]
  },
  {
   "cell_type": "code",
   "execution_count": 41,
   "metadata": {},
   "outputs": [],
   "source": [
    "# Multiplicação entre 2 tensores\n",
    "A = torch.tensor([[1, 2, 3], [4, 5, 6], [7, 8, 9]])\n",
    "B = torch.tensor([[9, 8, 7], [6, 5, 4], [3, 2, 1]])"
   ]
  },
  {
   "cell_type": "code",
   "execution_count": 42,
   "metadata": {},
   "outputs": [
    {
     "data": {
      "text/plain": [
       "torch.Size([3, 3])"
      ]
     },
     "execution_count": 42,
     "metadata": {},
     "output_type": "execute_result"
    }
   ],
   "source": [
    "A.shape"
   ]
  },
  {
   "cell_type": "code",
   "execution_count": 43,
   "metadata": {},
   "outputs": [
    {
     "data": {
      "text/plain": [
       "torch.Size([3, 3])"
      ]
     },
     "execution_count": 43,
     "metadata": {},
     "output_type": "execute_result"
    }
   ],
   "source": [
    "B.shape"
   ]
  },
  {
   "cell_type": "code",
   "execution_count": 44,
   "metadata": {},
   "outputs": [
    {
     "data": {
      "text/plain": [
       "2"
      ]
     },
     "execution_count": 44,
     "metadata": {},
     "output_type": "execute_result"
    }
   ],
   "source": [
    "len(A.shape)"
   ]
  },
  {
   "cell_type": "code",
   "execution_count": 45,
   "metadata": {},
   "outputs": [
    {
     "data": {
      "text/plain": [
       "2"
      ]
     },
     "execution_count": 45,
     "metadata": {},
     "output_type": "execute_result"
    }
   ],
   "source": [
    "len(B.shape)"
   ]
  },
  {
   "cell_type": "code",
   "execution_count": 46,
   "metadata": {},
   "outputs": [
    {
     "data": {
      "text/plain": [
       "tensor([[1, 2, 3],\n",
       "        [4, 5, 6],\n",
       "        [7, 8, 9]])"
      ]
     },
     "execution_count": 46,
     "metadata": {},
     "output_type": "execute_result"
    }
   ],
   "source": [
    "A"
   ]
  },
  {
   "cell_type": "code",
   "execution_count": 47,
   "metadata": {},
   "outputs": [
    {
     "data": {
      "text/plain": [
       "tensor([[9, 8, 7],\n",
       "        [6, 5, 4],\n",
       "        [3, 2, 1]])"
      ]
     },
     "execution_count": 47,
     "metadata": {},
     "output_type": "execute_result"
    }
   ],
   "source": [
    "B"
   ]
  },
  {
   "cell_type": "code",
   "execution_count": 48,
   "metadata": {},
   "outputs": [],
   "source": [
    "resultado1 = A * B"
   ]
  },
  {
   "cell_type": "code",
   "execution_count": 49,
   "metadata": {},
   "outputs": [
    {
     "name": "stdout",
     "output_type": "stream",
     "text": [
      "tensor([[ 9, 16, 21],\n",
      "        [24, 25, 24],\n",
      "        [21, 16,  9]])\n"
     ]
    }
   ],
   "source": [
    "# Resultado\n",
    "print(resultado1)"
   ]
  },
  {
   "cell_type": "code",
   "execution_count": 50,
   "metadata": {},
   "outputs": [],
   "source": [
    "resultado2 = torch.matmul(A, B)"
   ]
  },
  {
   "cell_type": "code",
   "execution_count": 51,
   "metadata": {},
   "outputs": [
    {
     "name": "stdout",
     "output_type": "stream",
     "text": [
      "tensor([[ 30,  24,  18],\n",
      "        [ 84,  69,  54],\n",
      "        [138, 114,  90]])\n"
     ]
    }
   ],
   "source": [
    "# Resultado\n",
    "print(resultado2)"
   ]
  },
  {
   "cell_type": "code",
   "execution_count": 52,
   "metadata": {},
   "outputs": [],
   "source": [
    "resultado3 = torch.sum(A * B)"
   ]
  },
  {
   "cell_type": "code",
   "execution_count": 53,
   "metadata": {},
   "outputs": [
    {
     "name": "stdout",
     "output_type": "stream",
     "text": [
      "tensor(165)\n"
     ]
    }
   ],
   "source": [
    "# Resultado\n",
    "print(resultado3)"
   ]
  },
  {
   "cell_type": "markdown",
   "metadata": {},
   "source": [
    "![title](imagens/mat-mul.gif)"
   ]
  },
  {
   "cell_type": "markdown",
   "metadata": {},
   "source": [
    "Para multiplicação de matrizes, fazemos assim em PyTorch:"
   ]
  },
  {
   "cell_type": "code",
   "execution_count": 54,
   "metadata": {},
   "outputs": [],
   "source": [
    "AB1 = A.mm(B)\n",
    "# ou\n",
    "AB2 = torch.mm(A, B)\n",
    "# ou\n",
    "AB3 = torch.matmul(A, B)\n",
    "# Ou assim (Python 3.5+)\n",
    "AB4 = A @ B "
   ]
  },
  {
   "cell_type": "code",
   "execution_count": 55,
   "metadata": {},
   "outputs": [
    {
     "name": "stdout",
     "output_type": "stream",
     "text": [
      "tensor([[ 30,  24,  18],\n",
      "        [ 84,  69,  54],\n",
      "        [138, 114,  90]])\n",
      "tensor([[ 30,  24,  18],\n",
      "        [ 84,  69,  54],\n",
      "        [138, 114,  90]])\n",
      "tensor([[ 30,  24,  18],\n",
      "        [ 84,  69,  54],\n",
      "        [138, 114,  90]])\n",
      "tensor([[ 30,  24,  18],\n",
      "        [ 84,  69,  54],\n",
      "        [138, 114,  90]])\n"
     ]
    }
   ],
   "source": [
    "print(AB1)\n",
    "print(AB2)\n",
    "print(AB3)\n",
    "print(AB4)"
   ]
  },
  {
   "cell_type": "code",
   "execution_count": 56,
   "metadata": {},
   "outputs": [
    {
     "data": {
      "text/plain": [
       "tensor([[ 30,  24,  18],\n",
       "        [ 84,  69,  54],\n",
       "        [138, 114,  90]])"
      ]
     },
     "execution_count": 56,
     "metadata": {},
     "output_type": "execute_result"
    }
   ],
   "source": [
    "# Multiplicação de matrizes\n",
    "A @ B"
   ]
  },
  {
   "cell_type": "markdown",
   "metadata": {},
   "source": [
    "Essa notação realiza multiplicação element-wise:"
   ]
  },
  {
   "cell_type": "code",
   "execution_count": 57,
   "metadata": {},
   "outputs": [
    {
     "data": {
      "text/plain": [
       "tensor([[ 9, 16, 21],\n",
       "        [24, 25, 24],\n",
       "        [21, 16,  9]])"
      ]
     },
     "execution_count": 57,
     "metadata": {},
     "output_type": "execute_result"
    }
   ],
   "source": [
    "# Operação element-wise\n",
    "A * B"
   ]
  },
  {
   "cell_type": "code",
   "execution_count": 58,
   "metadata": {},
   "outputs": [],
   "source": [
    "# Usando seed para iniciar 2 tensores com valores randômicos\n",
    "torch.manual_seed(42)\n",
    "a = torch.randn(3,3)\n",
    "b = torch.randn(3,3)"
   ]
  },
  {
   "cell_type": "code",
   "execution_count": 59,
   "metadata": {},
   "outputs": [
    {
     "name": "stdout",
     "output_type": "stream",
     "text": [
      "tensor([[ 0.6040,  0.6637,  1.0438],\n",
      "        [ 1.3406, -2.8127, -1.1753],\n",
      "        [ 3.1662,  0.6841,  1.2788]])\n"
     ]
    }
   ],
   "source": [
    "# Adição de matrizes\n",
    "print(torch.add(a, b))"
   ]
  },
  {
   "cell_type": "code",
   "execution_count": 60,
   "metadata": {},
   "outputs": [
    {
     "name": "stdout",
     "output_type": "stream",
     "text": [
      "tensor([[ 0.0693, -0.4061, -0.5749],\n",
      "        [-0.8800,  0.5669,  0.8026],\n",
      "        [ 1.2502, -1.9601, -0.3555]])\n"
     ]
    }
   ],
   "source": [
    "# Subtração de matrizes\n",
    "print(torch.sub(a, b))"
   ]
  },
  {
   "cell_type": "code",
   "execution_count": 61,
   "metadata": {},
   "outputs": [
    {
     "name": "stdout",
     "output_type": "stream",
     "text": [
      "tensor([[ 0.4576,  0.2724,  0.3367],\n",
      "        [-1.3636,  1.7743,  1.1446],\n",
      "        [ 0.3243,  2.8696,  2.7954]])\n"
     ]
    }
   ],
   "source": [
    "# Multiplicação de matrizes\n",
    "print(torch.mm(a, b))"
   ]
  },
  {
   "cell_type": "code",
   "execution_count": 62,
   "metadata": {},
   "outputs": [
    {
     "name": "stdout",
     "output_type": "stream",
     "text": [
      "tensor([[ 1.2594,  0.2408,  0.2897],\n",
      "        [ 0.2075,  0.6645,  0.1884],\n",
      "        [ 2.3051, -0.4826,  0.5649]])\n"
     ]
    }
   ],
   "source": [
    "# Divisão de matrizes\n",
    "print(torch.div(a, b))"
   ]
  },
  {
   "cell_type": "code",
   "execution_count": 63,
   "metadata": {},
   "outputs": [
    {
     "name": "stdout",
     "output_type": "stream",
     "text": [
      "tensor([[ 0.3367,  0.1288,  0.2345],\n",
      "        [ 0.2303, -1.1229, -0.1863],\n",
      "        [ 2.2082, -0.6380,  0.4617]]) \n",
      "\n"
     ]
    },
    {
     "data": {
      "text/plain": [
       "tensor([[ 0.3367,  0.2303,  2.2082],\n",
       "        [ 0.1288, -1.1229, -0.6380],\n",
       "        [ 0.2345, -0.1863,  0.4617]])"
      ]
     },
     "execution_count": 63,
     "metadata": {},
     "output_type": "execute_result"
    }
   ],
   "source": [
    "# Matriz Original\n",
    "print(a, '\\n')\n",
    "\n",
    "# Matriz Transposta\n",
    "torch.t(a)"
   ]
  },
  {
   "cell_type": "markdown",
   "metadata": {
    "collapsed": true
   },
   "source": [
    "# Fim"
   ]
  }
 ],
 "metadata": {
  "kernelspec": {
   "display_name": "Python 3",
   "language": "python",
   "name": "python3"
  },
  "language_info": {
   "codemirror_mode": {
    "name": "ipython",
    "version": 3
   },
   "file_extension": ".py",
   "mimetype": "text/x-python",
   "name": "python",
   "nbconvert_exporter": "python",
   "pygments_lexer": "ipython3",
   "version": "3.7.6"
  }
 },
 "nbformat": 4,
 "nbformat_minor": 2
}
