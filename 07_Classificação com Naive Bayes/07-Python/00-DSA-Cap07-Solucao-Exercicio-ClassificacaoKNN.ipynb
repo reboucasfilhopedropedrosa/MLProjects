{
 "cells": [
  {
   "cell_type": "markdown",
   "metadata": {},
   "source": [
    "# <font color='blue'>Data Science Academy - Machine Learning</font>\n",
    "\n",
    "# <font color='blue'>Solução Exercício do Capítulo 6</font>"
   ]
  },
  {
   "cell_type": "markdown",
   "metadata": {},
   "source": [
    "Neste exercício você vai praticar suas habilidades de pesquisador, fundamental para quem pretende trabalhar como Cientista de Dados. Seu trabalho será desenvolver o algoritmo KNN usando apenas linguagem Python e Numpy, sem o uso de frameworks (como Scikit-Learn). Você poderá usar o paper abaixo como referência para montar o algoritmo."
   ]
  },
  {
   "cell_type": "markdown",
   "metadata": {},
   "source": [
    "Paper de referência do KNN: http://citeseerx.ist.psu.edu/viewdoc/download?doi=10.1.1.2.815&rep=rep1&type=pdf"
   ]
  },
  {
   "cell_type": "markdown",
   "metadata": {},
   "source": [
    "Seu problema de negócio é a classificação de plantas em 3 categorias. No dataset fornecido, cada planta possui 4 variáveis preditoras representando características da planta e uma variável representando a classe. Seu algoritmo KNN deve prever a classe de uma nova planta uma vez que as 4 características sejam fornecidas."
   ]
  },
  {
   "cell_type": "markdown",
   "metadata": {},
   "source": [
    "Para ajudar você, parte do código já está sendo fornecido. Analise e estude o código. Você deve incluir sua solução no espaço indicado por \"Escrever solução aqui\" nas células abaixo.\n",
    "\n",
    "A solução será apresentada no capítulo seguinte!"
   ]
  },
  {
   "cell_type": "code",
   "execution_count": 1,
   "metadata": {},
   "outputs": [],
   "source": [
    "# Imports\n",
    "import numpy as np\n",
    "import pandas as pd\n",
    "from sklearn.model_selection import train_test_split"
   ]
  },
  {
   "cell_type": "code",
   "execution_count": 2,
   "metadata": {},
   "outputs": [
    {
     "data": {
      "text/html": [
       "<div>\n",
       "<style scoped>\n",
       "    .dataframe tbody tr th:only-of-type {\n",
       "        vertical-align: middle;\n",
       "    }\n",
       "\n",
       "    .dataframe tbody tr th {\n",
       "        vertical-align: top;\n",
       "    }\n",
       "\n",
       "    .dataframe thead th {\n",
       "        text-align: right;\n",
       "    }\n",
       "</style>\n",
       "<table border=\"1\" class=\"dataframe\">\n",
       "  <thead>\n",
       "    <tr style=\"text-align: right;\">\n",
       "      <th></th>\n",
       "      <th>sepal_length</th>\n",
       "      <th>sepal_width</th>\n",
       "      <th>petal_length</th>\n",
       "      <th>petal_width</th>\n",
       "      <th>classe</th>\n",
       "    </tr>\n",
       "  </thead>\n",
       "  <tbody>\n",
       "    <tr>\n",
       "      <th>0</th>\n",
       "      <td>5.1</td>\n",
       "      <td>3.5</td>\n",
       "      <td>1.4</td>\n",
       "      <td>0.2</td>\n",
       "      <td>Iris-setosa</td>\n",
       "    </tr>\n",
       "    <tr>\n",
       "      <th>1</th>\n",
       "      <td>4.9</td>\n",
       "      <td>3.0</td>\n",
       "      <td>1.4</td>\n",
       "      <td>0.2</td>\n",
       "      <td>Iris-setosa</td>\n",
       "    </tr>\n",
       "    <tr>\n",
       "      <th>2</th>\n",
       "      <td>4.7</td>\n",
       "      <td>3.2</td>\n",
       "      <td>1.3</td>\n",
       "      <td>0.2</td>\n",
       "      <td>Iris-setosa</td>\n",
       "    </tr>\n",
       "    <tr>\n",
       "      <th>3</th>\n",
       "      <td>4.6</td>\n",
       "      <td>3.1</td>\n",
       "      <td>1.5</td>\n",
       "      <td>0.2</td>\n",
       "      <td>Iris-setosa</td>\n",
       "    </tr>\n",
       "    <tr>\n",
       "      <th>4</th>\n",
       "      <td>5.0</td>\n",
       "      <td>3.6</td>\n",
       "      <td>1.4</td>\n",
       "      <td>0.2</td>\n",
       "      <td>Iris-setosa</td>\n",
       "    </tr>\n",
       "  </tbody>\n",
       "</table>\n",
       "</div>"
      ],
      "text/plain": [
       "   sepal_length  sepal_width  petal_length  petal_width       classe\n",
       "0           5.1          3.5           1.4          0.2  Iris-setosa\n",
       "1           4.9          3.0           1.4          0.2  Iris-setosa\n",
       "2           4.7          3.2           1.3          0.2  Iris-setosa\n",
       "3           4.6          3.1           1.5          0.2  Iris-setosa\n",
       "4           5.0          3.6           1.4          0.2  Iris-setosa"
      ]
     },
     "execution_count": 2,
     "metadata": {},
     "output_type": "execute_result"
    }
   ],
   "source": [
    "# Carregando o dataset\n",
    "names = ['sepal_length', 'sepal_width', 'petal_length', 'petal_width', 'classe']\n",
    "iris_data = pd.read_csv('dados/iris.data', names = names)\n",
    "iris_data.head()"
   ]
  },
  {
   "cell_type": "code",
   "execution_count": 3,
   "metadata": {},
   "outputs": [],
   "source": [
    "# Separando variáveis preditoras e variável target\n",
    "X = iris_data.iloc[:,:4].values\n",
    "y = iris_data.iloc[:,4]\n",
    "\n",
    "# Labels da variável target\n",
    "target_class = pd.get_dummies(iris_data['classe']).columns\n",
    "target_names = np.array(target_class)"
   ]
  },
  {
   "cell_type": "code",
   "execution_count": 4,
   "metadata": {},
   "outputs": [],
   "source": [
    "# Convertendo as classes para valores numéricos correspondentes\n",
    "y = y.replace(target_names[0], 0)\n",
    "y = y.replace(target_names[1], 1)\n",
    "y = y.replace(target_names[2], 2)\n",
    "y = np.array(y)"
   ]
  },
  {
   "cell_type": "code",
   "execution_count": 5,
   "metadata": {},
   "outputs": [
    {
     "name": "stdout",
     "output_type": "stream",
     "text": [
      "(105, 4) (105,)\n"
     ]
    }
   ],
   "source": [
    "# Separando os dados em conjuntos de treino e teste\n",
    "X_train, X_test, y_train, y_test = train_test_split(X, y, test_size = 0.30, random_state = 33)\n",
    "print(X_train.shape, y_train.shape)"
   ]
  },
  {
   "cell_type": "code",
   "execution_count": 6,
   "metadata": {},
   "outputs": [],
   "source": [
    "# Função para calcular a distância euclidiana\n",
    "def distancia_euclidiana(att1, att2):\n",
    "    dist = 0\n",
    "    for i in range(len(att1)):\n",
    "        dist += pow((att1[i] - att2[i]),2)\n",
    "    return np.sqrt(dist)"
   ]
  },
  {
   "cell_type": "code",
   "execution_count": 7,
   "metadata": {},
   "outputs": [],
   "source": [
    "# Algoritmo KNN\n",
    "def KNN(array, k):\n",
    "    \n",
    "    # Array para o resultado final\n",
    "    resultado = []\n",
    "    \n",
    "    # Loop por todos os elementos do array recebido como entrada\n",
    "    for i in range(len(array)):\n",
    "        valor = array[i]\n",
    "        \n",
    "        # Votação\n",
    "        def vote(item):\n",
    "            val = []\n",
    "            for i in range(len(knn)):\n",
    "                temp = item[i][1]\n",
    "                val.append(temp)\n",
    "            class_val = max(set(val), key = val.count) \n",
    "            return class_val\n",
    "        \n",
    "        # Aplicando a função de distância aos dados\n",
    "        distance = []\n",
    "        for j in range(len(X_train)) :\n",
    "            \n",
    "            # Calcula a distância de cada ponto de dado de entrada (array) para cada ponto de dado de treino\n",
    "            euclidean_distance = distancia_euclidiana(valor, X_train[j])\n",
    "            \n",
    "            # Cria uma lista contendo a distância calculada e o valor do label do dado de treino em j\n",
    "            temp = [euclidean_distance, y_train[j]]\n",
    "            \n",
    "            # Adiciona o item anterior à lista de distâncias\n",
    "            distance.append(temp)\n",
    "            \n",
    "        # Ordena    \n",
    "        distance.sort()\n",
    "        \n",
    "        # Obtém o valor de k para os vizinhos mais próximos\n",
    "        knn = distance[:k]\n",
    "\n",
    "        # Faz a votação\n",
    "        resultado.append(vote(knn))\n",
    "    return resultado"
   ]
  },
  {
   "cell_type": "code",
   "execution_count": 8,
   "metadata": {},
   "outputs": [],
   "source": [
    "# Avaliando o modelo\n",
    "y_test_pred = KNN(X_test, 5)\n",
    "y_test_prediction = np.asarray(y_test_pred)"
   ]
  },
  {
   "cell_type": "code",
   "execution_count": 9,
   "metadata": {},
   "outputs": [
    {
     "data": {
      "text/plain": [
       "95.55555555555556"
      ]
     },
     "execution_count": 9,
     "metadata": {},
     "output_type": "execute_result"
    }
   ],
   "source": [
    "# Calculando a acurácia\n",
    "acc = y_test - y_test_prediction\n",
    "err = np.count_nonzero(acc)\n",
    "acuracia = ((len(y_test) - err) / len(y_test)) * 100\n",
    "acuracia"
   ]
  },
  {
   "cell_type": "code",
   "execution_count": 10,
   "metadata": {},
   "outputs": [
    {
     "data": {
      "text/plain": [
       "[1, 0, 0, 2, 2]"
      ]
     },
     "execution_count": 10,
     "metadata": {},
     "output_type": "execute_result"
    }
   ],
   "source": [
    "# Fazendo previsões para 5 novas plantas com K igual a 3\n",
    "previsoes = KNN([[6.7,3.1,4.4,1.4],[4.6,3.2,1.4,0.2],[4.6,3.2,1.4,0.2],[6.4,3.1,5.5,1.8],[6.3,3.2,5.6,1.9]], 3)\n",
    "previsoes"
   ]
  },
  {
   "cell_type": "code",
   "execution_count": 11,
   "metadata": {},
   "outputs": [
    {
     "data": {
      "text/plain": [
       "[1, 0, 0, 2, 2]"
      ]
     },
     "execution_count": 11,
     "metadata": {},
     "output_type": "execute_result"
    }
   ],
   "source": [
    "# Fazendo previsões para 5 novas plantas com K igual a 5\n",
    "previsoes = KNN([[6.7,3.1,4.4,1.4],[4.6,3.2,1.4,0.2],[4.6,3.2,1.4,0.2],[6.4,3.1,5.5,1.8],[6.3,3.2,5.6,1.9]], 5)\n",
    "previsoes"
   ]
  },
  {
   "cell_type": "markdown",
   "metadata": {
    "collapsed": true
   },
   "source": [
    "# Fim"
   ]
  },
  {
   "cell_type": "markdown",
   "metadata": {},
   "source": [
    "### Obrigado - Data Science Academy - <a href=\"http://facebook.com/dsacademybr\">facebook.com/dsacademybr</a>"
   ]
  }
 ],
 "metadata": {
  "anaconda-cloud": {},
  "kernelspec": {
   "display_name": "Python 3",
   "language": "python",
   "name": "python3"
  },
  "language_info": {
   "codemirror_mode": {
    "name": "ipython",
    "version": 3
   },
   "file_extension": ".py",
   "mimetype": "text/x-python",
   "name": "python",
   "nbconvert_exporter": "python",
   "pygments_lexer": "ipython3",
   "version": "3.7.3"
  }
 },
 "nbformat": 4,
 "nbformat_minor": 1
}
