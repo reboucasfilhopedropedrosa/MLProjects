{
 "cells": [
  {
   "cell_type": "markdown",
   "metadata": {},
   "source": [
    "# <font color='blue'>Data Science Academy - Machine Learning</font>\n",
    "\n",
    "# <font color='blue'>Capítulo 15</font>"
   ]
  },
  {
   "cell_type": "markdown",
   "metadata": {},
   "source": [
    "Este Jupyter Notebook é um bônus do Mini-Projeto 7. Aqui construímos um modelo de Machine Learning para nosso sistema de recomendação com o objetivo de prever a avaliação que o usuário dará a um filme. O modelo de Machine Learning será criado com o algoritmo XGBoost.\n",
    "\n",
    "Execute este Jupyter Notebook depois de executar o Jupyter **01-DSA-Cap15-Mini-Projeto7.ipynb** disponível no Capítulo 15 do curso de Machine Learning da DSA.\n",
    "\n",
    "Leia todos os comentários, inclua a função print() quando quiser compreender a saída de uma operação e estude todo o código usado neste trabalho.\n",
    "\n",
    "Bons estudos."
   ]
  },
  {
   "cell_type": "code",
   "execution_count": null,
   "metadata": {},
   "outputs": [],
   "source": [
    "# Versão da Linguagem Python\n",
    "from platform import python_version\n",
    "print('Versão da Linguagem Python Usada Neste Jupyter Notebook:', python_version())"
   ]
  },
  {
   "cell_type": "markdown",
   "metadata": {},
   "source": [
    "## Mini-Projeto 7\n",
    "\n",
    "## Sistema de Recomendação de Filmes da Netflix\n",
    "\n",
    "![title](imagens/mini-projeto7.png)"
   ]
  },
  {
   "cell_type": "markdown",
   "metadata": {},
   "source": [
    "## Instalando e Carregando os Pacotes"
   ]
  },
  {
   "cell_type": "code",
   "execution_count": null,
   "metadata": {},
   "outputs": [],
   "source": [
    "# Para atualizar um pacote, execute o comando abaixo no terminal ou prompt de comando:\n",
    "# pip install -U nome_pacote\n",
    "\n",
    "# Para instalar a versão exata de um pacote, execute o comando abaixo no terminal ou prompt de comando:\n",
    "# pip install nome_pacote==versão_desejada\n",
    "\n",
    "# Depois de instalar ou atualizar o pacote, reinicie o jupyter notebook."
   ]
  },
  {
   "cell_type": "code",
   "execution_count": null,
   "metadata": {},
   "outputs": [],
   "source": [
    "# Instala o pacote watermark. \n",
    "# Esse pacote é usado para gravar as versões de outros pacotes usados neste jupyter notebook.\n",
    "!pip install -q -U watermark"
   ]
  },
  {
   "cell_type": "code",
   "execution_count": null,
   "metadata": {},
   "outputs": [],
   "source": [
    "# Imports\n",
    "import os\n",
    "import random\n",
    "import numpy as np\n",
    "import pandas as pd\n",
    "import matplotlib\n",
    "import matplotlib.pyplot as plt\n",
    "import scipy\n",
    "from scipy import sparse\n",
    "import sklearn\n",
    "from sklearn.metrics.pairwise import cosine_similarity\n",
    "import xgboost as xgb\n",
    "from datetime import datetime"
   ]
  },
  {
   "cell_type": "code",
   "execution_count": null,
   "metadata": {},
   "outputs": [],
   "source": [
    "# Versões dos pacotes usados neste jupyter notebook\n",
    "%reload_ext watermark\n",
    "%watermark -a \"Data Science Academy\" --iversions"
   ]
  },
  {
   "cell_type": "markdown",
   "metadata": {},
   "source": [
    "## Preparação dos Dados\n",
    "\n",
    "Vamos trabalhar com amostras dos dados, caso contrário o Jupyter Notebook vai levar muitas horas para ser executado.\n",
    "\n",
    "A função abaixo será usada para extrair amostras de dados das matrizes esparsas criadas na parte 1 do Mini-Projeto."
   ]
  },
  {
   "cell_type": "code",
   "execution_count": null,
   "metadata": {
    "colab": {},
    "colab_type": "code",
    "id": "oBOQj4nmxrqD"
   },
   "outputs": [],
   "source": [
    "# Função para obter amostra da matriz esparsa\n",
    "def gera_amostra_matriz_esparsa(sparse_matrix, num_users, num_movies, path, verbose = True):\n",
    "\n",
    "    # Tupla: (row, col) e (rating) da matriz esparsa\n",
    "    row_ind, col_ind, ratings = sparse.find(sparse_matrix)\n",
    "    users = np.unique(row_ind)\n",
    "    movies = np.unique(col_ind)\n",
    "\n",
    "    # Random seed para reproduzir o processo aleatório\n",
    "    np.random.seed(15)\n",
    "    \n",
    "    # Amostras de usuários e filmes\n",
    "    sample_users = np.random.choice(users, num_users, replace = True)\n",
    "    sample_movies = np.random.choice(movies, num_movies, replace = True)\n",
    "    \n",
    "    # Gera a máscara booleana\n",
    "    mask = np.logical_and(np.isin(row_ind, sample_users), np.isin(col_ind, sample_movies))\n",
    "    \n",
    "    # Matriz esparsa com as amostras da matriz original\n",
    "    amostra_matriz_esparsa = sparse.csr_matrix((ratings[mask], (row_ind[mask], col_ind[mask])), \n",
    "                                               shape = (max(sample_users) + 1, max(sample_movies) + 1))\n",
    "    \n",
    "    # Salva em disco\n",
    "    print('Salvando em disco...')\n",
    "    sparse.save_npz(path, amostra_matriz_esparsa)\n",
    "    \n",
    "    if verbose:\n",
    "            print('Tarefa concluída.\\n')\n",
    "    \n",
    "    return amostra_matriz_esparsa"
   ]
  },
  {
   "cell_type": "markdown",
   "metadata": {
    "colab_type": "text",
    "id": "0jLFR-p1xrqG"
   },
   "source": [
    "### Gerando Amostra de Dados de Treino"
   ]
  },
  {
   "cell_type": "code",
   "execution_count": null,
   "metadata": {
    "colab": {},
    "colab_type": "code",
    "id": "l5dJ4yzVxrqH",
    "outputId": "acd9a972-167a-43d3-b5b5-59da9ee954b8"
   },
   "outputs": [],
   "source": [
    "%%time\n",
    "\n",
    "# Caminho onde está a matriz esparsa de treino gerada na Parte 1 do Mini-Projeto\n",
    "caminho_matriz_treino_original = \"dados/matriz_esparsa_treino.npz\"\n",
    "\n",
    "# Carregando a matriz esparsa\n",
    "matriz_esparsa_treino_loaded = sparse.load_npz(caminho_matriz_treino_original)\n",
    "print(\"Matriz Original Carregada.\")\n",
    "\n",
    "# Onde salvar a amostra\n",
    "path = 'dados/amostra_matriz_esparsa_treino.npz'\n",
    "\n",
    "# Obtemos avaliações de 1000 usuários a 100 filmes na matriz esparsa de treino\n",
    "amostra_matriz_esparsa_treino = gera_amostra_matriz_esparsa(matriz_esparsa_treino_loaded, \n",
    "                                                            num_users = 1000, \n",
    "                                                            num_movies = 100, \n",
    "                                                            path = path)"
   ]
  },
  {
   "cell_type": "markdown",
   "metadata": {
    "colab_type": "text",
    "id": "fQJ8BE0IxrqJ"
   },
   "source": [
    "### Gerando Amostra de Dados de Teste"
   ]
  },
  {
   "cell_type": "code",
   "execution_count": null,
   "metadata": {
    "colab": {},
    "colab_type": "code",
    "id": "8tPszXJ1xrqJ",
    "outputId": "1bba0063-64bc-4393-d14b-2eb0ddfccf7e"
   },
   "outputs": [],
   "source": [
    "%%time\n",
    "\n",
    "# Caminho onde está a matriz esparsa de treino gerada na Parte 1 do Mini-Projeto\n",
    "caminho_matriz_teste_original = \"dados/matriz_esparsa_teste.npz\"\n",
    "\n",
    "# Carregando a matriz de amostra, caso já exista\n",
    "matriz_esparsa_teste_loaded = sparse.load_npz(caminho_matriz_teste_original)\n",
    "print(\"Matriz Original Carregada.\")\n",
    "\n",
    "# Onde salvar a amostra\n",
    "path = 'dados/amostra_matriz_esparsa_teste.npz'\n",
    "\n",
    "# Obtemos avaliações de 200 usuários a 20 filmes na matriz esparsa de treino\n",
    "amostra_matriz_esparsa_teste = gera_amostra_matriz_esparsa(matriz_esparsa_teste_loaded, \n",
    "                                                           num_users = 200, \n",
    "                                                           num_movies = 20,\n",
    "                                                           path = path)"
   ]
  },
  {
   "cell_type": "code",
   "execution_count": null,
   "metadata": {},
   "outputs": [],
   "source": [
    "# Resumo\n",
    "print('Número de avaliações na matriz com amostras de treino: {}'.format(amostra_matriz_esparsa_treino.count_nonzero()))\n",
    "print('Número de avaliações na matriz com amostras de teste: {}'.format(amostra_matriz_esparsa_teste.count_nonzero()))"
   ]
  },
  {
   "cell_type": "markdown",
   "metadata": {},
   "source": [
    "Amostras criadas. Altere o número de usuários e número de filmes caso queira trabalhar com amostras maiores."
   ]
  },
  {
   "cell_type": "markdown",
   "metadata": {
    "colab_type": "text",
    "id": "BgTx-m-cxrqM"
   },
   "source": [
    "### Métricas Extraídas dos Dados\n",
    "\n",
    "Vamos verificar algumas métricas a partir dos dados. Nosso modelo vai prever a avaliação do usuário ao filme."
   ]
  },
  {
   "cell_type": "code",
   "execution_count": null,
   "metadata": {
    "colab": {},
    "colab_type": "code",
    "id": "Af8rljDExrqN"
   },
   "outputs": [],
   "source": [
    "# Cria o dicionário\n",
    "amostra_medias_treino = dict()"
   ]
  },
  {
   "cell_type": "markdown",
   "metadata": {},
   "source": [
    "A função abaixo será usada para calcular a média de avaliações."
   ]
  },
  {
   "cell_type": "code",
   "execution_count": null,
   "metadata": {},
   "outputs": [],
   "source": [
    "def calcula_media_ratings(sparse_matrix, of_users):\n",
    "    \n",
    "    # Média de avaliações\n",
    "    # 1 representa o eixo de usuários\n",
    "    # 0 representa o eixo de filmes\n",
    "    ax = 1 if of_users else 0 \n",
    "\n",
    "    # Soma das avaliações\n",
    "    sum_of_ratings = sparse_matrix.sum(axis=ax).A1\n",
    "    \n",
    "    # Matriz booleana de avaliações (se um usuário avaliou ou não um filme)\n",
    "    is_rated = sparse_matrix != 0\n",
    "    \n",
    "    # Número de avaliações de cada usuário ou filme\n",
    "    no_of_ratings = is_rated.sum(axis = ax).A1\n",
    "    \n",
    "    # Ids da matriz esparsa, u de usuário e m de movie\n",
    "    u,m = sparse_matrix.shape\n",
    "    \n",
    "    # Dicionário de usuários e suas avaliações\n",
    "    average_ratings = {i:sum_of_ratings[i] / no_of_ratings[i] \n",
    "                       for i in range(u if of_users else m) \n",
    "                       if no_of_ratings[i] != 0}\n",
    "\n",
    "    return average_ratings"
   ]
  },
  {
   "cell_type": "markdown",
   "metadata": {
    "colab_type": "text",
    "id": "ZNMVuqWHxrqP"
   },
   "source": [
    "Média global das avaliações dos filmes:"
   ]
  },
  {
   "cell_type": "code",
   "execution_count": null,
   "metadata": {
    "colab": {},
    "colab_type": "code",
    "id": "eJN92jujxrqQ",
    "outputId": "bfce9a93-dfa0-4c96-fbf4-fb597a2e336d"
   },
   "outputs": [],
   "source": [
    "# Média global\n",
    "media_global = amostra_matriz_esparsa_treino.sum() / amostra_matriz_esparsa_treino.count_nonzero()\n",
    "amostra_medias_treino['global'] = media_global\n",
    "amostra_medias_treino"
   ]
  },
  {
   "cell_type": "markdown",
   "metadata": {
    "colab_type": "text",
    "id": "A3ldVasnxrqS"
   },
   "source": [
    "Média de avaliação por usuário:"
   ]
  },
  {
   "cell_type": "code",
   "execution_count": null,
   "metadata": {
    "colab": {},
    "colab_type": "code",
    "id": "iLBPu2ObxrqT",
    "outputId": "85af4594-80f1-4dc9-9588-6372e62db396",
    "scrolled": true
   },
   "outputs": [],
   "source": [
    "# Calcula a média de avaliação dos usuários\n",
    "amostra_medias_treino['user'] = calcula_media_ratings(amostra_matriz_esparsa_treino, of_users = True)"
   ]
  },
  {
   "cell_type": "code",
   "execution_count": null,
   "metadata": {},
   "outputs": [],
   "source": [
    "# Vamos extrair um dos usuários do dicionário de filmes (o objetivo aqui é apenas automatizar o processo)\n",
    "um_usuario = [a for a, b in amostra_medias_treino['user'].items()][0]\n",
    "um_usuario"
   ]
  },
  {
   "cell_type": "code",
   "execution_count": null,
   "metadata": {},
   "outputs": [],
   "source": [
    "# Print\n",
    "print('Média de Avaliação do Usuário ' + str(um_usuario) + ':', amostra_medias_treino['user'][um_usuario])"
   ]
  },
  {
   "cell_type": "markdown",
   "metadata": {
    "colab_type": "text",
    "id": "qiVaPz6AxrqV"
   },
   "source": [
    "Média de avaliação por filme:"
   ]
  },
  {
   "cell_type": "code",
   "execution_count": null,
   "metadata": {
    "colab": {},
    "colab_type": "code",
    "id": "q8QD09k4xrqV",
    "outputId": "2b01a6e0-6a5e-4c90-d7f3-98c75cf14c3b",
    "scrolled": true
   },
   "outputs": [],
   "source": [
    "# Calcula a média de avaliação dos filmes\n",
    "amostra_medias_treino['movie'] =  calcula_media_ratings(amostra_matriz_esparsa_treino, of_users = False)"
   ]
  },
  {
   "cell_type": "code",
   "execution_count": null,
   "metadata": {},
   "outputs": [],
   "source": [
    "# Vamos extrair um dos filmes do dicionário de filmes (o objetivo aqui é apenas automatizar o processo)\n",
    "um_filme = [a for a, b in amostra_medias_treino['movie'].items()][0]\n",
    "um_filme"
   ]
  },
  {
   "cell_type": "code",
   "execution_count": null,
   "metadata": {},
   "outputs": [],
   "source": [
    "# Pring\n",
    "print('Média de Avaliação do Filme ' + str(um_filme) + ':', amostra_medias_treino['movie'][um_filme])"
   ]
  },
  {
   "cell_type": "markdown",
   "metadata": {
    "colab_type": "text",
    "id": "xVwLprg-xrqZ"
   },
   "source": [
    "## Formatando os Dados\n",
    "\n",
    "Iremos construir um modelo de regressão, uma vez que desejamos prever as avaliações (valores numéricos). Vamos preparar os dados de treino e teste nas células abaixo.\n",
    "\n",
    "Essas são as variáveis com as quais vamos construir o modelo:"
   ]
  },
  {
   "cell_type": "markdown",
   "metadata": {},
   "source": [
    "Variáveis Preditoras (entrada):\n",
    "\n",
    "- **GAvg** : Média global das avaliações\n",
    "\n",
    "\n",
    "- **Avaliação de usuários semelhantes**:\n",
    "    - sur1, sur2, sur3, sur4, sur5 (5 principais usuários similares a cada usuário que avaliou um filme)\n",
    "    \n",
    "\n",
    "- **Filmes semelhantes avaliados por um usuário**:\n",
    "    - smr1, smr2, smr3, smr4, smr5 (5 principais filmes similares a cada filme avaliado)\n",
    "\n",
    "\n",
    "- **UAvg** : Média de avaliações dos usuários\n",
    "\n",
    "\n",
    "- **MAvg** : Média de avaliação do filme\n",
    "\n",
    "\n",
    "Variável Alvo (saída):\n",
    "\n",
    "- **rating** : Avaliação do filme dada por um usuário"
   ]
  },
  {
   "cell_type": "markdown",
   "metadata": {
    "colab_type": "text",
    "id": "GZ7FYSibxrqc"
   },
   "source": [
    "### Preparando os Dados de Treino Para o Modelo de Regressão"
   ]
  },
  {
   "cell_type": "code",
   "execution_count": null,
   "metadata": {
    "colab": {},
    "colab_type": "code",
    "id": "jMTXqVR3xrqd"
   },
   "outputs": [],
   "source": [
    "# Extraindo os dados da matriz de amostras\n",
    "amostra_usuarios_treino, amostra_filmes_treino, amostra_avaliacoes_treino = sparse.find(amostra_matriz_esparsa_treino)"
   ]
  },
  {
   "cell_type": "markdown",
   "metadata": {},
   "source": [
    "A célula abaixo leva bastante tempo para ser executada."
   ]
  },
  {
   "cell_type": "code",
   "execution_count": null,
   "metadata": {
    "colab": {},
    "colab_type": "code",
    "id": "Hr_gXr0ixrqh",
    "outputId": "51abb095-433c-4404-be97-bbe8311b02f4",
    "scrolled": true
   },
   "outputs": [],
   "source": [
    "%%time\n",
    "\n",
    "# Verificamos se o arquivo já existe\n",
    "if os.path.isfile('dados/dados_treino_reg.csv'):\n",
    "    print(\"O arquivo já existe e não precisamos criar movamente...\" )\n",
    "else:\n",
    "    print('Preparando {} tuplas para o dataset..\\n'.format(len(amostra_medias_treino)))\n",
    "    with open('dados/dados_treino_reg.csv', mode = 'w') as reg_data_file:\n",
    "        count = 0\n",
    "        for (user, movie, rating) in zip(amostra_usuarios_treino, amostra_filmes_treino, amostra_avaliacoes_treino):\n",
    "             \n",
    "            ###### Avaliação de um \"filme\" por usuários similares ao usuário corrente ######\n",
    "            \n",
    "            # Calcula usuário similar ao usuário corrente        \n",
    "            user_sim = cosine_similarity(amostra_matriz_esparsa_treino[user], \n",
    "                                         amostra_matriz_esparsa_treino).ravel()\n",
    "            \n",
    "            # Obtém top users\n",
    "            top_sim_users = user_sim.argsort()[::-1][1:] \n",
    "            \n",
    "            # Obtém avaliações de usuários similares \n",
    "            top_ratings = amostra_matriz_esparsa_treino[top_sim_users, movie].toarray().ravel()\n",
    "            \n",
    "            # Top usuários similares até 5\n",
    "            top_sim_users_ratings = list(top_ratings[top_ratings != 0][:5])\n",
    "            top_sim_users_ratings.extend([amostra_medias_treino['movie'][movie]]*(5 - len(top_sim_users_ratings))) \n",
    "\n",
    "            ##### Avaliações por usuário para filmes similares ao filme corrente #####\n",
    "            \n",
    "            # Calcula filmes similares ao filme corrente       \n",
    "            movie_sim = cosine_similarity(amostra_matriz_esparsa_treino[:,movie].T, \n",
    "                                          amostra_matriz_esparsa_treino.T).ravel()\n",
    "            \n",
    "            # Top filmes\n",
    "            top_sim_movies = movie_sim.argsort()[::-1][1:] \n",
    "            \n",
    "            # Obtém avaliações do filme mais similar para o usuário corrente\n",
    "            top_ratings = amostra_matriz_esparsa_treino[user, top_sim_movies].toarray().ravel()\n",
    "            \n",
    "            # Top usuários similares até 5\n",
    "            top_sim_movies_ratings = list(top_ratings[top_ratings != 0][:5])\n",
    "            top_sim_movies_ratings.extend([amostra_medias_treino['user'][user]] * (5-len(top_sim_movies_ratings))) \n",
    "\n",
    "            ##### Prepara a linha que será armazenada no arquivo #####\n",
    "            row = list()\n",
    "            row.append(user)\n",
    "            row.append(movie)\n",
    "            \n",
    "            # Adicionamos outros atributos \n",
    "            row.append(amostra_medias_treino['global']) \n",
    "            row.extend(top_sim_users_ratings)\n",
    "            row.extend(top_sim_movies_ratings)\n",
    "            row.append(amostra_medias_treino['user'][user])\n",
    "            row.append(amostra_medias_treino['movie'][movie])\n",
    "\n",
    "            row.append(rating)\n",
    "            count = count + 1\n",
    "            \n",
    "            #if count == 10:\n",
    "            #    break\n",
    "\n",
    "            reg_data_file.write(','.join(map(str, row)))\n",
    "            reg_data_file.write('\\n')        \n",
    "            if (count)%10000 == 0:\n",
    "                print(\"Concluído para {} linhas----- {}\".format(count, datetime.now() - start))"
   ]
  },
  {
   "cell_type": "markdown",
   "metadata": {
    "colab_type": "text",
    "id": "k3xJ8aWyxrqj"
   },
   "source": [
    "Carregamos o arquivo e colocamos em um dataframe."
   ]
  },
  {
   "cell_type": "code",
   "execution_count": null,
   "metadata": {
    "colab": {},
    "colab_type": "code",
    "id": "oUs6s6AZxrqj",
    "outputId": "b19997be-2750-4ab7-bd92-8cd23ea2a64e"
   },
   "outputs": [],
   "source": [
    "df_dados_treino_reg = pd.read_csv('dados/dados_treino_reg.csv', \n",
    "                               names = ['user', \n",
    "                                        'movie', \n",
    "                                        'GAvg', \n",
    "                                        'sur1', \n",
    "                                        'sur2', \n",
    "                                        'sur3', \n",
    "                                        'sur4', \n",
    "                                        'sur5',\n",
    "                                        'smr1', \n",
    "                                        'smr2', \n",
    "                                        'smr3', \n",
    "                                        'smr4', \n",
    "                                        'smr5', \n",
    "                                        'UAvg', \n",
    "                                        'MAvg', \n",
    "                                        'rating'], \n",
    "                               header = None)"
   ]
  },
  {
   "cell_type": "code",
   "execution_count": null,
   "metadata": {},
   "outputs": [],
   "source": [
    "# Dados\n",
    "df_dados_treino_reg.head()"
   ]
  },
  {
   "cell_type": "markdown",
   "metadata": {
    "colab_type": "text",
    "id": "r9vMR-Edxrqm"
   },
   "source": [
    "### Preparando os Dados de Teste Para o Modelo de Regressão\n",
    "\n",
    "O processo aqui é igual ao que fizemos com dados de treino."
   ]
  },
  {
   "cell_type": "code",
   "execution_count": null,
   "metadata": {
    "colab": {},
    "colab_type": "code",
    "id": "M2QBhCcMxrqm"
   },
   "outputs": [],
   "source": [
    "# Extraindo os dados da matriz de amostras\n",
    "amostra_usuarios_teste, amostra_filmes_teste, amostra_avaliacoes_teste = sparse.find(amostra_matriz_esparsa_teste)"
   ]
  },
  {
   "cell_type": "code",
   "execution_count": null,
   "metadata": {
    "colab": {},
    "colab_type": "code",
    "id": "CLVejZA3xrqs",
    "outputId": "767f43c5-ad21-43db-c636-4bc220000fa2"
   },
   "outputs": [],
   "source": [
    "%%time\n",
    "\n",
    "if os.path.isfile('dados/dados_teste_reg.csv'):\n",
    "    print(\"O arquivo já existe e não precisamos criar movamente...\")\n",
    "else:\n",
    "\n",
    "    print('Preparando {} tuplas para o dataset..\\n'.format(len(amostra_avaliacoes_teste)))\n",
    "    with open('dados/dados_teste_reg.csv', mode='w') as reg_data_file:\n",
    "        count = 0 \n",
    "        for (user, movie, rating)  in zip(amostra_usuarios_teste, amostra_filmes_teste, amostra_avaliacoes_teste):\n",
    "            st = datetime.now()\n",
    "\n",
    "            # Similaridade de usuários\n",
    "            try:\n",
    "                user_sim = cosine_similarity(amostra_matriz_esparsa_treino[user], \n",
    "                                             amostra_matriz_esparsa_treino).ravel()\n",
    "                \n",
    "                top_sim_users = user_sim.argsort()[::-1][1:] \n",
    "                top_ratings = amostra_matriz_esparsa_treino[top_sim_users, movie].toarray().ravel()\n",
    "                top_sim_users_ratings = list(top_ratings[top_ratings != 0][:5])\n",
    "                top_sim_users_ratings.extend([amostra_medias_treino['movie'][movie]]*(5 - len(top_sim_users_ratings)))\n",
    "\n",
    "            except (IndexError, KeyError):\n",
    "                top_sim_users_ratings.extend([amostra_medias_treino['global']]*(5 - len(top_sim_users_ratings)))\n",
    "            except:\n",
    "                print(user, movie)\n",
    "                raise\n",
    "\n",
    "            # Similaridade de filmes\n",
    "            try:\n",
    "                movie_sim = cosine_similarity(amostra_matriz_esparsa_treino[:,movie].T, \n",
    "                                              amostra_matriz_esparsa_treino.T).ravel()\n",
    "                \n",
    "                top_sim_movies = movie_sim.argsort()[::-1][1:] \n",
    "                top_ratings = amostra_matriz_esparsa_treino[user, top_sim_movies].toarray().ravel()\n",
    "                top_sim_movies_ratings = list(top_ratings[top_ratings != 0][:5])\n",
    "                top_sim_movies_ratings.extend([amostra_medias_treino['user'][user]]*(5-len(top_sim_movies_ratings))) \n",
    "            except (IndexError, KeyError):\n",
    "                top_sim_movies_ratings.extend([amostra_medias_treino['global']]*(5-len(top_sim_movies_ratings)))\n",
    "            except :\n",
    "                raise\n",
    "\n",
    "            # Prepara os dados para gravar no arquivo\n",
    "            row = list()\n",
    "            row.append(user)\n",
    "            row.append(movie)\n",
    "            row.append(amostra_medias_treino['global']) \n",
    "            row.extend(top_sim_users_ratings)\n",
    "            row.extend(top_sim_movies_ratings)\n",
    "\n",
    "            try:\n",
    "                row.append(amostra_medias_treino['user'][user])\n",
    "            except KeyError:\n",
    "                row.append(amostra_medias_treino['global'])\n",
    "            except:\n",
    "                raise\n",
    "\n",
    "            try:\n",
    "                row.append(amostra_medias_treino['movie'][movie])\n",
    "            except KeyError:\n",
    "                row.append(amostra_medias_treino['global'])\n",
    "            except:\n",
    "                raise\n",
    "\n",
    "            row.append(rating)\n",
    "            \n",
    "            count = count + 1\n",
    "            \n",
    "            #if count == 5:\n",
    "            #    break\n",
    "    \n",
    "            reg_data_file.write(','.join(map(str, row)))\n",
    "            reg_data_file.write('\\n')        \n",
    "            if (count)%1000 == 0:\n",
    "                print(\"Concluído em {} linhas----- {}\".format(count, datetime.now() - start))"
   ]
  },
  {
   "cell_type": "markdown",
   "metadata": {
    "colab_type": "text",
    "id": "RgiFyKukxrqu"
   },
   "source": [
    "Carregamos o arquivo e colocamos em um dataframe."
   ]
  },
  {
   "cell_type": "code",
   "execution_count": null,
   "metadata": {
    "colab": {},
    "colab_type": "code",
    "id": "7mhv5Rztxrqv",
    "outputId": "21381d8c-b5da-499d-a1b2-9052b78f2549"
   },
   "outputs": [],
   "source": [
    "# Gera o dataset de teste\n",
    "df_dados_teste_reg = pd.read_csv('dados/dados_teste_reg.csv', names = ['user', \n",
    "                                                                       'movie', \n",
    "                                                                       'GAvg', \n",
    "                                                                       'sur1', \n",
    "                                                                       'sur2', \n",
    "                                                                       'sur3', \n",
    "                                                                       'sur4', \n",
    "                                                                       'sur5',\n",
    "                                                                       'smr1', \n",
    "                                                                       'smr2', \n",
    "                                                                       'smr3', \n",
    "                                                                       'smr4', \n",
    "                                                                       'smr5',\n",
    "                                                                       'UAvg', \n",
    "                                                                       'MAvg', \n",
    "                                                                       'rating'], \n",
    "                                 header = None)"
   ]
  },
  {
   "cell_type": "code",
   "execution_count": null,
   "metadata": {},
   "outputs": [],
   "source": [
    "df_dados_teste_reg.head()"
   ]
  },
  {
   "cell_type": "markdown",
   "metadata": {
    "colab_type": "text",
    "id": "ZzgDaBL_xrq8"
   },
   "source": [
    "## Construindo o Modelo de Machine Learning\n",
    "\n",
    "A última etapa do trabalho é construir, treinar e avaliar o modelo."
   ]
  },
  {
   "cell_type": "code",
   "execution_count": null,
   "metadata": {
    "colab": {},
    "colab_type": "code",
    "id": "9sKjPQMExrq9",
    "outputId": "4813287c-b810-4f5e-87b2-8917d75c28ca"
   },
   "outputs": [],
   "source": [
    "# Dicionários para avaliação do modelo\n",
    "models_evaluation_train = dict()\n",
    "models_evaluation_test = dict()"
   ]
  },
  {
   "cell_type": "markdown",
   "metadata": {
    "colab_type": "text",
    "id": "Cg4ii0eRxrrB"
   },
   "source": [
    "Abaixo algumas funções para executar o modelo."
   ]
  },
  {
   "cell_type": "code",
   "execution_count": null,
   "metadata": {},
   "outputs": [],
   "source": [
    "# Função para o cálculo do erro do modelo\n",
    "def calcula_metricas(y_true, y_pred):\n",
    "    rmse = np.sqrt(np.mean([ (y_true[i] - y_pred[i])**2 for i in range(len(y_pred)) ]))\n",
    "    mape = np.mean(np.abs( (y_true - y_pred)/y_true )) * 100\n",
    "    return rmse, mape"
   ]
  },
  {
   "cell_type": "code",
   "execution_count": null,
   "metadata": {},
   "outputs": [],
   "source": [
    "# Função para treino e teste do modelo\n",
    "def executa_modelo_xgboost(modelo, x_train, y_train, x_test, y_test, verbose = True):\n",
    "\n",
    "    # Dicionários\n",
    "    train_results = dict()\n",
    "    test_results = dict()\n",
    "    \n",
    "    # Treinamento do modelo\n",
    "    print('Treinando o modelo..')\n",
    "    start = datetime.now()\n",
    "    modelo.fit(x_train, y_train, eval_metric = 'rmse')\n",
    "    print('Concluído. Tempo total: {}\\n'.format(datetime.now() - start))\n",
    "\n",
    "    # Calculando o erro do modelo nos dados de treino\n",
    "    print('Calculando as Métricas com Dados de Treino.')\n",
    "    start = datetime.now()\n",
    "    y_train_pred = modelo.predict(x_train)\n",
    "    rmse_train, mape_train = calcula_metricas(y_train.values, y_train_pred)\n",
    "    \n",
    "    # Grava os resultados\n",
    "    train_results = {'rmse': rmse_train, 'mape' : mape_train, 'previsoes' : y_train_pred}\n",
    "    \n",
    "    if verbose:\n",
    "        print('\\nErro do Modelo em Dados de Treino')\n",
    "        print('-'*30)\n",
    "        print('RMSE : ', rmse_train)\n",
    "        print('MAPE : ', mape_train)\n",
    "        \n",
    "    # Avaliando o modelo com dados de teste\n",
    "    print('\\nAvaliando o modelo com dados de teste.')\n",
    "    y_test_pred = modelo.predict(x_test) \n",
    "    rmse_test, mape_test = calcula_metricas(y_true = y_test.values, y_pred = y_test_pred)\n",
    "    \n",
    "    # Grava os resultados\n",
    "    test_results = {'rmse': rmse_test, 'mape' : mape_test, 'previsoes':y_test_pred}\n",
    "    \n",
    "    if verbose:\n",
    "        print('\\nErro do Modelo em Dados de Teste')\n",
    "        print('-'*30)\n",
    "        print('RMSE : ', rmse_test)\n",
    "        print('MAPE : ', mape_test)\n",
    "        \n",
    "    return train_results, test_results"
   ]
  },
  {
   "cell_type": "code",
   "execution_count": null,
   "metadata": {},
   "outputs": [],
   "source": [
    "# Seed\n",
    "my_seed = 15\n",
    "random.seed(my_seed)\n",
    "np.random.seed(my_seed)"
   ]
  },
  {
   "cell_type": "markdown",
   "metadata": {
    "colab_type": "text",
    "id": "Jh6CNDb1xrrI"
   },
   "source": [
    "## Treinamento do Modelo"
   ]
  },
  {
   "cell_type": "code",
   "execution_count": null,
   "metadata": {},
   "outputs": [],
   "source": [
    "# Prepara os dados de treino\n",
    "x_treino = df_dados_treino_reg.drop(['user', 'movie', 'rating'], axis = 1)\n",
    "y_treino = df_dados_treino_reg['rating']"
   ]
  },
  {
   "cell_type": "code",
   "execution_count": null,
   "metadata": {},
   "outputs": [],
   "source": [
    "# Prepara os dados de teste\n",
    "x_teste = df_dados_teste_reg.drop(['user', 'movie', 'rating'], axis = 1)\n",
    "y_teste = df_dados_teste_reg['rating']"
   ]
  },
  {
   "cell_type": "code",
   "execution_count": null,
   "metadata": {},
   "outputs": [],
   "source": [
    "# Cria o modelo de regressão com 100 estimadores\n",
    "modelo_xgb = xgb.XGBRegressor(silent = False, random_state = 15, n_estimators = 100)"
   ]
  },
  {
   "cell_type": "code",
   "execution_count": null,
   "metadata": {},
   "outputs": [],
   "source": [
    "# Treinamento do modelo\n",
    "train_results, test_results = executa_modelo_xgboost(modelo_xgb, x_treino, y_treino, x_teste, y_teste)"
   ]
  },
  {
   "cell_type": "code",
   "execution_count": null,
   "metadata": {},
   "outputs": [],
   "source": [
    "# Armazena os resultados da avaliação do modelo\n",
    "models_evaluation_train['modelo_xgb'] = train_results\n",
    "models_evaluation_test['modelo_xgb'] = test_results"
   ]
  },
  {
   "cell_type": "code",
   "execution_count": null,
   "metadata": {
    "colab": {},
    "colab_type": "code",
    "id": "DoxUdAnFxrrK",
    "outputId": "e2dc745d-84d8-4468-cba2-6417fc5e6277"
   },
   "outputs": [],
   "source": [
    "# Variáveis mais importantes para o modelo\n",
    "xgb.plot_importance(modelo_xgb)\n",
    "plt.show()"
   ]
  },
  {
   "cell_type": "markdown",
   "metadata": {
    "colab_type": "text",
    "id": "DWm7knFrxrrO"
   },
   "source": [
    "Além de construir o modelo também identificamos as variáveis mais relevantes. Observe que não há surpresa. As avaliações de usuários são determinantes para recomendar os filmes avaliados para outros usuários."
   ]
  },
  {
   "cell_type": "markdown",
   "metadata": {
    "colab_type": "text",
    "id": "Yd0ye7O1xrsR"
   },
   "source": [
    "## Salvando o Resultado"
   ]
  },
  {
   "cell_type": "code",
   "execution_count": null,
   "metadata": {
    "colab": {},
    "colab_type": "code",
    "id": "DxsS3JKnxrsS",
    "outputId": "9124baa4-ff9f-4ab4-c9f4-4d4af70f46f7",
    "scrolled": false
   },
   "outputs": [],
   "source": [
    "# Salva os resultados em disco\n",
    "pd.DataFrame(models_evaluation_test).to_csv('dados/resultado.csv')\n",
    "models = pd.read_csv('dados/resultado.csv', index_col = 0)\n",
    "models.loc['rmse'].sort_values()"
   ]
  },
  {
   "cell_type": "markdown",
   "metadata": {},
   "source": [
    "# Fim"
   ]
  }
 ],
 "metadata": {
  "colab": {
   "name": "Netflix_Movie.ipynb",
   "provenance": []
  },
  "kernelspec": {
   "display_name": "Python 3",
   "language": "python",
   "name": "python3"
  },
  "language_info": {
   "codemirror_mode": {
    "name": "ipython",
    "version": 3
   },
   "file_extension": ".py",
   "mimetype": "text/x-python",
   "name": "python",
   "nbconvert_exporter": "python",
   "pygments_lexer": "ipython3",
   "version": "3.7.6"
  }
 },
 "nbformat": 4,
 "nbformat_minor": 1
}
