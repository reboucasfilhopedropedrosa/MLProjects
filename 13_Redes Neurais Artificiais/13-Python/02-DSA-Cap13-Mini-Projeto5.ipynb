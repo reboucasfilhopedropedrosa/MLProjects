{
 "cells": [
  {
   "cell_type": "markdown",
   "metadata": {},
   "source": [
    "# <font color='blue'>Data Science Academy - Machine Learning</font>\n",
    "\n",
    "# <font color='blue'>Capítulo 13</font>"
   ]
  },
  {
   "cell_type": "code",
   "execution_count": 1,
   "metadata": {},
   "outputs": [
    {
     "name": "stdout",
     "output_type": "stream",
     "text": [
      "Versão da Linguagem Python Usada Neste Jupyter Notebook: 3.7.6\n"
     ]
    }
   ],
   "source": [
    "# Versão da Linguagem Python\n",
    "from platform import python_version\n",
    "print('Versão da Linguagem Python Usada Neste Jupyter Notebook:', python_version())"
   ]
  },
  {
   "cell_type": "markdown",
   "metadata": {},
   "source": [
    "## Mini-Projeto 5\n",
    "\n",
    "### Rede Neural com TensorFlow Para Classificação de Imagens de Vestuário"
   ]
  },
  {
   "cell_type": "markdown",
   "metadata": {},
   "source": [
    "![title](imagens/mini-projeto5.png)"
   ]
  },
  {
   "cell_type": "markdown",
   "metadata": {},
   "source": [
    "Neste Mini-Projeto vamos construir uma rede neural artificial com TensorFlow para classificação de imagens, especificamente classificação de imagens de roupas e acessórios.\n",
    "\n",
    "Execute cada célula e acompanhe os comentários. Fique à vontade para fazer mudanças e experimentar diferentes configurações. Compare o que fazemos neste Mini-Projeto 5 com o que estudamos no Mini-Projeto 4 ao criar a rede usando apenas operações matemáticas. Aqui, usaremos o TensorFlow com o Keras."
   ]
  },
  {
   "cell_type": "markdown",
   "metadata": {},
   "source": [
    "## Instalando e Carregando os Pacotes"
   ]
  },
  {
   "cell_type": "code",
   "execution_count": 2,
   "metadata": {},
   "outputs": [],
   "source": [
    "# Para atualizar um pacote, execute o comando abaixo no terminal ou prompt de comando:\n",
    "# pip install -U nome_pacote\n",
    "\n",
    "# Para instalar a versão exata de um pacote, execute o comando abaixo no terminal ou prompt de comando:\n",
    "# pip install nome_pacote==versão_desejada\n",
    "\n",
    "# Depois de instalar ou atualizar o pacote, reinicie o jupyter notebook."
   ]
  },
  {
   "cell_type": "code",
   "execution_count": 3,
   "metadata": {},
   "outputs": [],
   "source": [
    "# Instala o pacote watermark. \n",
    "# Esse pacote é usado para gravar as versões de outros pacotes usados neste jupyter notebook.\n",
    "!pip install -q -U watermark"
   ]
  },
  {
   "cell_type": "markdown",
   "metadata": {},
   "source": [
    "> Atenção:"
   ]
  },
  {
   "cell_type": "markdown",
   "metadata": {},
   "source": [
    "Vamos criar um gráfico do modelo e para isso precisaremos de pacotes Python cujas versões disponíveis com o Anaconda não funcionam adequadamente. Sendo assim, buscaremos versões mais novas, o que requer o uso do conda.\n",
    "\n",
    "Encerre este Jupyter Notebook, acesse o terminal ou prompt de comando e execute os comandos abaixo:\n",
    "\n",
    "- conda install python-graphviz\n",
    "- conda install pydot\n",
    "- conda install pydotplus\n",
    "\n",
    "Digite **yes** quando solicitado. Então retorne ao Jupyter Notebook."
   ]
  },
  {
   "cell_type": "code",
   "execution_count": 4,
   "metadata": {},
   "outputs": [],
   "source": [
    "# Imports\n",
    "import os\n",
    "import numpy as np\n",
    "import pandas as pd\n",
    "import tensorflow as tf\n",
    "from tensorflow import keras\n",
    "\n",
    "# Configuração de gráficos\n",
    "%matplotlib inline\n",
    "import matplotlib as mpl\n",
    "import matplotlib.pyplot as plt\n",
    "mpl.rc('axes', labelsize=14)\n",
    "mpl.rc('xtick', labelsize=12)\n",
    "mpl.rc('ytick', labelsize=12)\n",
    "\n",
    "# Para tornar a saída deste notebook estável em todas as execuções\n",
    "np.random.seed(42)\n",
    "tf.random.set_seed(42)"
   ]
  },
  {
   "cell_type": "code",
   "execution_count": 5,
   "metadata": {},
   "outputs": [],
   "source": [
    "# Aqui definimos os diretórios onde salvaremos as imagens\n",
    "PROJECT_ROOT_DIR = \".\"\n",
    "PROJECT_NUM = \"Mini-Projeto5\"\n",
    "IMAGES_PATH = os.path.join(PROJECT_ROOT_DIR, \"dados\", PROJECT_NUM)\n",
    "os.makedirs(IMAGES_PATH, exist_ok = True)"
   ]
  },
  {
   "cell_type": "code",
   "execution_count": 6,
   "metadata": {},
   "outputs": [
    {
     "name": "stdout",
     "output_type": "stream",
     "text": [
      "tensorflow       2.2.0\n",
      "matplotlib       3.2.1\n",
      "pandas           1.0.5\n",
      "numpy            1.19.0\n",
      "tensorflow.keras 2.3.0-tf\n",
      "Data Science Academy\n"
     ]
    }
   ],
   "source": [
    "# Versões dos pacotes usados neste jupyter notebook\n",
    "%reload_ext watermark\n",
    "%watermark -a \"Data Science Academy\" --iversions"
   ]
  },
  {
   "cell_type": "markdown",
   "metadata": {},
   "source": [
    "Observe que estamos usando a versão do Keras dentro do TensorFlow."
   ]
  },
  {
   "cell_type": "markdown",
   "metadata": {},
   "source": [
    "## Carregando e Preparando os Dados"
   ]
  },
  {
   "cell_type": "markdown",
   "metadata": {},
   "source": [
    "Vamos começar carregando o conjunto de dados Fashion MNIST com artigos de moda masculina e feminina. O Keras possui várias funções para carregar conjuntos de dados populares no `keras.datasets`. O conjunto de dados já está dividido para você entre um conjunto de treinamento e um conjunto de testes, mas pode ser útil dividir ainda mais o conjunto de treinamento para ter um conjunto de validação."
   ]
  },
  {
   "cell_type": "code",
   "execution_count": 7,
   "metadata": {},
   "outputs": [],
   "source": [
    "# Carrega o dataset\n",
    "fashion_mnist = keras.datasets.fashion_mnist"
   ]
  },
  {
   "cell_type": "code",
   "execution_count": 8,
   "metadata": {},
   "outputs": [],
   "source": [
    "# Extraímos os dados de treino e de teste\n",
    "(X_treino_full, y_treino_full), (X_teste, y_teste) = fashion_mnist.load_data()"
   ]
  },
  {
   "cell_type": "markdown",
   "metadata": {},
   "source": [
    "O conjunto de treinamento contém 60.000 imagens em escala de cinza, cada uma com 28x28 pixels:"
   ]
  },
  {
   "cell_type": "code",
   "execution_count": 9,
   "metadata": {},
   "outputs": [
    {
     "data": {
      "text/plain": [
       "(60000, 28, 28)"
      ]
     },
     "execution_count": 9,
     "metadata": {},
     "output_type": "execute_result"
    }
   ],
   "source": [
    "# Shape\n",
    "X_treino_full.shape"
   ]
  },
  {
   "cell_type": "markdown",
   "metadata": {},
   "source": [
    "Cada intensidade de pixel é representada como um byte (0 a 255):"
   ]
  },
  {
   "cell_type": "code",
   "execution_count": 10,
   "metadata": {},
   "outputs": [
    {
     "data": {
      "text/plain": [
       "dtype('uint8')"
      ]
     },
     "execution_count": 10,
     "metadata": {},
     "output_type": "execute_result"
    }
   ],
   "source": [
    "# Tipo de dados\n",
    "X_treino_full.dtype"
   ]
  },
  {
   "cell_type": "markdown",
   "metadata": {},
   "source": [
    "Vamos dividir o conjunto de treinamento completo em um conjunto de validação e um conjunto de treinamento (menor). Também dimensionamos as intensidades de pixel para o intervalo de 0-1 (padronização) e as convertemos em float, dividindo por 255."
   ]
  },
  {
   "cell_type": "code",
   "execution_count": 11,
   "metadata": {},
   "outputs": [],
   "source": [
    "# Preparação dos dados\n",
    "X_valid, X_treino = X_treino_full[:5000] / 255., X_treino_full[5000:] / 255.\n",
    "y_valid, y_treino = y_treino_full[:5000], y_treino_full[5000:]\n",
    "X_teste = X_teste / 255."
   ]
  },
  {
   "cell_type": "markdown",
   "metadata": {},
   "source": [
    "Você pode plotar uma imagem usando a função `imshow ()` do Matplotlib, com um mapa de cores **binary**."
   ]
  },
  {
   "cell_type": "code",
   "execution_count": 12,
   "metadata": {},
   "outputs": [
    {
     "data": {
      "image/png": "[encoded data removed]",
      "text/plain": [
       "<Figure size 432x288 with 1 Axes>"
      ]
     },
     "metadata": {
      "needs_background": "light"
     },
     "output_type": "display_data"
    }
   ],
   "source": [
    "# Plot de uma imagem\n",
    "plt.imshow(X_treino[0], cmap = \"binary\")\n",
    "plt.axis('off')\n",
    "plt.show()"
   ]
  },
  {
   "cell_type": "markdown",
   "metadata": {},
   "source": [
    "Os rótulos são os IDs de classe (representados como uint8), de 0 a 9:"
   ]
  },
  {
   "cell_type": "code",
   "execution_count": 13,
   "metadata": {},
   "outputs": [
    {
     "data": {
      "text/plain": [
       "array([4, 0, 7, ..., 3, 0, 5], dtype=uint8)"
      ]
     },
     "execution_count": 13,
     "metadata": {},
     "output_type": "execute_result"
    }
   ],
   "source": [
    "# Labels (dados de saída) de treino\n",
    "y_treino"
   ]
  },
  {
   "cell_type": "markdown",
   "metadata": {},
   "source": [
    "Aqui estão os nomes de classe correspondentes:"
   ]
  },
  {
   "cell_type": "code",
   "execution_count": 14,
   "metadata": {},
   "outputs": [],
   "source": [
    "# Nomes das classes\n",
    "nomes_classes = [\"T-shirt/top\", \n",
    "                 \"Trouser\", \n",
    "                 \"Pullover\", \n",
    "                 \"Dress\", \n",
    "                 \"Coat\", \n",
    "                 \"Sandal\", \n",
    "                 \"Shirt\", \n",
    "                 \"Sneaker\", \n",
    "                 \"Bag\", \n",
    "                 \"Ankle boot\"]"
   ]
  },
  {
   "cell_type": "markdown",
   "metadata": {},
   "source": [
    "Mais detalhes do dataset aqui: https://www.tensorflow.org/datasets/catalog/fashion_mnist"
   ]
  },
  {
   "cell_type": "markdown",
   "metadata": {},
   "source": [
    "Portanto, a primeira imagem no conjunto de treinamento é um casaco:"
   ]
  },
  {
   "cell_type": "code",
   "execution_count": 15,
   "metadata": {},
   "outputs": [
    {
     "data": {
      "text/plain": [
       "'Coat'"
      ]
     },
     "execution_count": 15,
     "metadata": {},
     "output_type": "execute_result"
    }
   ],
   "source": [
    "# Nome de classe\n",
    "nomes_classes[y_treino[0]]"
   ]
  },
  {
   "cell_type": "markdown",
   "metadata": {},
   "source": [
    "O conjunto de validação contém 5.000 imagens e o conjunto de testes contém 10.000 imagens:"
   ]
  },
  {
   "cell_type": "code",
   "execution_count": 16,
   "metadata": {},
   "outputs": [
    {
     "data": {
      "text/plain": [
       "(5000, 28, 28)"
      ]
     },
     "execution_count": 16,
     "metadata": {},
     "output_type": "execute_result"
    }
   ],
   "source": [
    "# Shape\n",
    "X_valid.shape"
   ]
  },
  {
   "cell_type": "code",
   "execution_count": 17,
   "metadata": {},
   "outputs": [
    {
     "data": {
      "text/plain": [
       "(10000, 28, 28)"
      ]
     },
     "execution_count": 17,
     "metadata": {},
     "output_type": "execute_result"
    }
   ],
   "source": [
    "# Shape\n",
    "X_teste.shape"
   ]
  },
  {
   "cell_type": "markdown",
   "metadata": {},
   "source": [
    "Vamos dar uma olhada em uma amostra das imagens no conjunto de dados."
   ]
  },
  {
   "cell_type": "code",
   "execution_count": 18,
   "metadata": {},
   "outputs": [],
   "source": [
    "# Função para salvar as imagens\n",
    "def salva_imagem(fig_id, tight_layout = True, fig_extension = \"png\", resolution = 300):\n",
    "    path = os.path.join(IMAGES_PATH, fig_id + \".\" + fig_extension)\n",
    "    print(\"Salvando a imagem...\", fig_id)\n",
    "    if tight_layout:\n",
    "        plt.tight_layout()\n",
    "    plt.savefig(path, format = fig_extension, dpi = resolution)"
   ]
  },
  {
   "cell_type": "code",
   "execution_count": 19,
   "metadata": {},
   "outputs": [
    {
     "name": "stdout",
     "output_type": "stream",
     "text": [
      "Salvando a imagem... plot_fashion_mnist\n"
     ]
    },
    {
     "data": {
      "image/png": "[encoded data removed]",
      "text/plain": [
       "<Figure size 864x345.6 with 40 Axes>"
      ]
     },
     "metadata": {
      "needs_background": "light"
     },
     "output_type": "display_data"
    }
   ],
   "source": [
    "# Plot de algumas imagens\n",
    "\n",
    "# Vamos plotar 4 linhas e 10 coluns\n",
    "n_rows = 4\n",
    "n_cols = 10\n",
    "\n",
    "# Área de plotagem\n",
    "plt.figure(figsize=(n_cols * 1.2, n_rows * 1.2))\n",
    "\n",
    "# Loop pelas linhas e colunas\n",
    "for row in range(n_rows):\n",
    "    for col in range(n_cols):\n",
    "        index = n_cols * row + col\n",
    "        plt.subplot(n_rows, n_cols, index + 1)\n",
    "        plt.imshow(X_treino[index], cmap = \"binary\", interpolation = \"nearest\")\n",
    "        plt.axis('off')\n",
    "        plt.title(nomes_classes[y_treino[index]], fontsize = 12)\n",
    "\n",
    "# Ajusta os plots\n",
    "plt.subplots_adjust(wspace = 0.2, hspace = 0.5)\n",
    "\n",
    "# Salva a imagem em disco\n",
    "salva_imagem('plot_fashion_mnist', tight_layout = False)\n",
    "\n",
    "# Mostra a imagem\n",
    "plt.show()"
   ]
  },
  {
   "cell_type": "markdown",
   "metadata": {},
   "source": [
    "Perfeito! Os dados estão prontos. Vamos construir e treinar o modelo."
   ]
  },
  {
   "cell_type": "markdown",
   "metadata": {},
   "source": [
    "## Construção do Modelo"
   ]
  },
  {
   "cell_type": "code",
   "execution_count": 20,
   "metadata": {},
   "outputs": [],
   "source": [
    "# Modelo de Rede Neural com 2 Camadas Densas\n",
    "\n",
    "# Cria o objeto do tipo sequência\n",
    "modelo = keras.models.Sequential()\n",
    "\n",
    "# Camada para receber os dados de entrada\n",
    "modelo.add(keras.layers.Flatten(input_shape = [28, 28]))\n",
    "\n",
    "# Primeira camada oculta com ativação relu\n",
    "modelo.add(keras.layers.Dense(300, activation = \"relu\"))\n",
    "\n",
    "# Segunda camada oculta com ativação relu\n",
    "modelo.add(keras.layers.Dense(100, activation = \"relu\"))\n",
    "\n",
    "# Camada de saída com ativação softmax\n",
    "# Teremos uma probabilidade prevista para cada classe\n",
    "modelo.add(keras.layers.Dense(10, activation = \"softmax\"))"
   ]
  },
  {
   "cell_type": "code",
   "execution_count": 21,
   "metadata": {},
   "outputs": [],
   "source": [
    "# Limpamos a sessão Keras e \n",
    "keras.backend.clear_session()"
   ]
  },
  {
   "cell_type": "code",
   "execution_count": 22,
   "metadata": {},
   "outputs": [
    {
     "data": {
      "text/plain": [
       "[<tensorflow.python.keras.layers.core.Flatten at 0x7fc768471d10>,\n",
       " <tensorflow.python.keras.layers.core.Dense at 0x7fc768471910>,\n",
       " <tensorflow.python.keras.layers.core.Dense at 0x7fc7298e6050>,\n",
       " <tensorflow.python.keras.layers.core.Dense at 0x7fc748af4950>]"
      ]
     },
     "execution_count": 22,
     "metadata": {},
     "output_type": "execute_result"
    }
   ],
   "source": [
    "# Camadas do modelo\n",
    "modelo.layers"
   ]
  },
  {
   "cell_type": "code",
   "execution_count": 23,
   "metadata": {},
   "outputs": [
    {
     "name": "stdout",
     "output_type": "stream",
     "text": [
      "Model: \"sequential\"\n",
      "_________________________________________________________________\n",
      "Layer (type)                 Output Shape              Param #   \n",
      "=================================================================\n",
      "flatten (Flatten)            (None, 784)               0         \n",
      "_________________________________________________________________\n",
      "dense (Dense)                (None, 300)               235500    \n",
      "_________________________________________________________________\n",
      "dense_1 (Dense)              (None, 100)               30100     \n",
      "_________________________________________________________________\n",
      "dense_2 (Dense)              (None, 10)                1010      \n",
      "=================================================================\n",
      "Total params: 266,610\n",
      "Trainable params: 266,610\n",
      "Non-trainable params: 0\n",
      "_________________________________________________________________\n"
     ]
    }
   ],
   "source": [
    "# Sumário do modelo\n",
    "modelo.summary()"
   ]
  },
  {
   "cell_type": "code",
   "execution_count": 24,
   "metadata": {},
   "outputs": [
    {
     "data": {
      "image/png": "[encoded data removed]",
      "text/plain": [
       "<IPython.core.display.Image object>"
      ]
     },
     "execution_count": 24,
     "metadata": {},
     "output_type": "execute_result"
    }
   ],
   "source": [
    "# Vamos criar um plot com o modelo completo e salvar a imagem em disco\n",
    "keras.utils.plot_model(modelo, IMAGES_PATH + \"/modelo_fashion_mnist.png\", show_shapes = True)"
   ]
  },
  {
   "cell_type": "code",
   "execution_count": 25,
   "metadata": {},
   "outputs": [
    {
     "data": {
      "text/plain": [
       "'dense'"
      ]
     },
     "execution_count": 25,
     "metadata": {},
     "output_type": "execute_result"
    }
   ],
   "source": [
    "# Vamos nomear a primeira camada oculta do modelo\n",
    "hidden1 = modelo.layers[1]\n",
    "hidden1.name"
   ]
  },
  {
   "cell_type": "code",
   "execution_count": 26,
   "metadata": {},
   "outputs": [
    {
     "data": {
      "text/plain": [
       "True"
      ]
     },
     "execution_count": 26,
     "metadata": {},
     "output_type": "execute_result"
    }
   ],
   "source": [
    "# Verificamos se a camada com novo nome existe\n",
    "modelo.get_layer(hidden1.name) is hidden1"
   ]
  },
  {
   "cell_type": "code",
   "execution_count": 27,
   "metadata": {},
   "outputs": [],
   "source": [
    "# Extraímos pesos e bias da primeira camada oculta\n",
    "weights, biases = hidden1.get_weights()"
   ]
  },
  {
   "cell_type": "code",
   "execution_count": 28,
   "metadata": {},
   "outputs": [
    {
     "data": {
      "text/plain": [
       "array([[ 0.02448617, -0.00877795, -0.02189048, ..., -0.02766046,\n",
       "         0.03859074, -0.06889391],\n",
       "       [ 0.00476504, -0.03105379, -0.0586676 , ...,  0.00602964,\n",
       "        -0.02763776, -0.04165364],\n",
       "       [-0.06189284, -0.06901957,  0.07102345, ..., -0.04238207,\n",
       "         0.07121518, -0.07331658],\n",
       "       ...,\n",
       "       [-0.03048757,  0.02155137, -0.05400612, ..., -0.00113463,\n",
       "         0.00228987,  0.05581069],\n",
       "       [ 0.07061854, -0.06960931,  0.07038955, ..., -0.00384101,\n",
       "         0.00034875,  0.02878492],\n",
       "       [-0.06022581,  0.01577859, -0.02585464, ..., -0.00527829,\n",
       "         0.00272203, -0.06793761]], dtype=float32)"
      ]
     },
     "execution_count": 28,
     "metadata": {},
     "output_type": "execute_result"
    }
   ],
   "source": [
    "# Pesos que serão usados no começo do treinamento e são gerados de forma aleatória pelo Keras/TensorFlow\n",
    "weights"
   ]
  },
  {
   "cell_type": "code",
   "execution_count": 29,
   "metadata": {},
   "outputs": [
    {
     "data": {
      "text/plain": [
       "(784, 300)"
      ]
     },
     "execution_count": 29,
     "metadata": {},
     "output_type": "execute_result"
    }
   ],
   "source": [
    "# Shape\n",
    "weights.shape"
   ]
  },
  {
   "cell_type": "code",
   "execution_count": 30,
   "metadata": {},
   "outputs": [
    {
     "data": {
      "text/plain": [
       "array([0., 0., 0., 0., 0., 0., 0., 0., 0., 0., 0., 0., 0., 0., 0., 0., 0.,\n",
       "       0., 0., 0., 0., 0., 0., 0., 0., 0., 0., 0., 0., 0., 0., 0., 0., 0.,\n",
       "       0., 0., 0., 0., 0., 0., 0., 0., 0., 0., 0., 0., 0., 0., 0., 0., 0.,\n",
       "       0., 0., 0., 0., 0., 0., 0., 0., 0., 0., 0., 0., 0., 0., 0., 0., 0.,\n",
       "       0., 0., 0., 0., 0., 0., 0., 0., 0., 0., 0., 0., 0., 0., 0., 0., 0.,\n",
       "       0., 0., 0., 0., 0., 0., 0., 0., 0., 0., 0., 0., 0., 0., 0., 0., 0.,\n",
       "       0., 0., 0., 0., 0., 0., 0., 0., 0., 0., 0., 0., 0., 0., 0., 0., 0.,\n",
       "       0., 0., 0., 0., 0., 0., 0., 0., 0., 0., 0., 0., 0., 0., 0., 0., 0.,\n",
       "       0., 0., 0., 0., 0., 0., 0., 0., 0., 0., 0., 0., 0., 0., 0., 0., 0.,\n",
       "       0., 0., 0., 0., 0., 0., 0., 0., 0., 0., 0., 0., 0., 0., 0., 0., 0.,\n",
       "       0., 0., 0., 0., 0., 0., 0., 0., 0., 0., 0., 0., 0., 0., 0., 0., 0.,\n",
       "       0., 0., 0., 0., 0., 0., 0., 0., 0., 0., 0., 0., 0., 0., 0., 0., 0.,\n",
       "       0., 0., 0., 0., 0., 0., 0., 0., 0., 0., 0., 0., 0., 0., 0., 0., 0.,\n",
       "       0., 0., 0., 0., 0., 0., 0., 0., 0., 0., 0., 0., 0., 0., 0., 0., 0.,\n",
       "       0., 0., 0., 0., 0., 0., 0., 0., 0., 0., 0., 0., 0., 0., 0., 0., 0.,\n",
       "       0., 0., 0., 0., 0., 0., 0., 0., 0., 0., 0., 0., 0., 0., 0., 0., 0.,\n",
       "       0., 0., 0., 0., 0., 0., 0., 0., 0., 0., 0., 0., 0., 0., 0., 0., 0.,\n",
       "       0., 0., 0., 0., 0., 0., 0., 0., 0., 0., 0.], dtype=float32)"
      ]
     },
     "execution_count": 30,
     "metadata": {},
     "output_type": "execute_result"
    }
   ],
   "source": [
    "# Bias que serão usados no começo do treinamento\n",
    "biases"
   ]
  },
  {
   "cell_type": "code",
   "execution_count": 31,
   "metadata": {},
   "outputs": [
    {
     "data": {
      "text/plain": [
       "(300,)"
      ]
     },
     "execution_count": 31,
     "metadata": {},
     "output_type": "execute_result"
    }
   ],
   "source": [
    "# Shape\n",
    "biases.shape"
   ]
  },
  {
   "cell_type": "code",
   "execution_count": 32,
   "metadata": {},
   "outputs": [],
   "source": [
    "# Agora compilamos o modelo com o otimizador, função de custo e a métrica\n",
    "# https://www.tensorflow.org/api_docs/python/tf/keras/optimizers/SGD\n",
    "# https://www.tensorflow.org/api_docs/python/tf/keras/losses/sparse_categorical_crossentropy\n",
    "modelo.compile(optimizer = \"sgd\", loss = \"sparse_categorical_crossentropy\", metrics = [\"accuracy\"])"
   ]
  },
  {
   "cell_type": "markdown",
   "metadata": {},
   "source": [
    "Podemos então treinar o modelo."
   ]
  },
  {
   "cell_type": "code",
   "execution_count": 33,
   "metadata": {},
   "outputs": [
    {
     "name": "stdout",
     "output_type": "stream",
     "text": [
      "Epoch 1/50\n",
      "1719/1719 [==============================] - 2s 1ms/step - loss: 0.7237 - accuracy: 0.7644 - val_loss: 0.5207 - val_accuracy: 0.8234\n",
      "Epoch 2/50\n",
      "1719/1719 [==============================] - 2s 971us/step - loss: 0.4843 - accuracy: 0.8318 - val_loss: 0.4345 - val_accuracy: 0.8538\n",
      "Epoch 3/50\n",
      "1719/1719 [==============================] - 2s 952us/step - loss: 0.4392 - accuracy: 0.8455 - val_loss: 0.5334 - val_accuracy: 0.7982\n",
      "Epoch 4/50\n",
      "1719/1719 [==============================] - 2s 1ms/step - loss: 0.4124 - accuracy: 0.8567 - val_loss: 0.3916 - val_accuracy: 0.8652\n",
      "Epoch 5/50\n",
      "1719/1719 [==============================] - 2s 958us/step - loss: 0.3939 - accuracy: 0.8619 - val_loss: 0.3750 - val_accuracy: 0.8686\n",
      "Epoch 6/50\n",
      "1719/1719 [==============================] - 2s 958us/step - loss: 0.3752 - accuracy: 0.8673 - val_loss: 0.3709 - val_accuracy: 0.8718\n",
      "Epoch 7/50\n",
      "1719/1719 [==============================] - 2s 950us/step - loss: 0.3633 - accuracy: 0.8715 - val_loss: 0.3618 - val_accuracy: 0.8722\n",
      "Epoch 8/50\n",
      "1719/1719 [==============================] - 2s 948us/step - loss: 0.3520 - accuracy: 0.8754 - val_loss: 0.3862 - val_accuracy: 0.8618\n",
      "Epoch 9/50\n",
      "1719/1719 [==============================] - 2s 948us/step - loss: 0.3416 - accuracy: 0.8786 - val_loss: 0.3604 - val_accuracy: 0.8696\n",
      "Epoch 10/50\n",
      "1719/1719 [==============================] - 2s 1ms/step - loss: 0.3323 - accuracy: 0.8821 - val_loss: 0.3430 - val_accuracy: 0.8772\n",
      "Epoch 11/50\n",
      "1719/1719 [==============================] - 2s 972us/step - loss: 0.3242 - accuracy: 0.8833 - val_loss: 0.3439 - val_accuracy: 0.8772\n",
      "Epoch 12/50\n",
      "1719/1719 [==============================] - 2s 960us/step - loss: 0.3151 - accuracy: 0.8865 - val_loss: 0.3310 - val_accuracy: 0.8832\n",
      "Epoch 13/50\n",
      "1719/1719 [==============================] - 2s 952us/step - loss: 0.3082 - accuracy: 0.8893 - val_loss: 0.3263 - val_accuracy: 0.8878\n",
      "Epoch 14/50\n",
      "1719/1719 [==============================] - 2s 959us/step - loss: 0.3023 - accuracy: 0.8913 - val_loss: 0.3412 - val_accuracy: 0.8782\n",
      "Epoch 15/50\n",
      "1719/1719 [==============================] - 2s 949us/step - loss: 0.2950 - accuracy: 0.8935 - val_loss: 0.3218 - val_accuracy: 0.8848\n",
      "Epoch 16/50\n",
      "1719/1719 [==============================] - 2s 993us/step - loss: 0.2892 - accuracy: 0.8969 - val_loss: 0.3095 - val_accuracy: 0.8898\n",
      "Epoch 17/50\n",
      "1719/1719 [==============================] - 2s 963us/step - loss: 0.2841 - accuracy: 0.8974 - val_loss: 0.3572 - val_accuracy: 0.8736\n",
      "Epoch 18/50\n",
      "1719/1719 [==============================] - 2s 958us/step - loss: 0.2782 - accuracy: 0.9000 - val_loss: 0.3138 - val_accuracy: 0.8898\n",
      "Epoch 19/50\n",
      "1719/1719 [==============================] - 2s 956us/step - loss: 0.2732 - accuracy: 0.9020 - val_loss: 0.3130 - val_accuracy: 0.8894\n",
      "Epoch 20/50\n",
      "1719/1719 [==============================] - 2s 959us/step - loss: 0.2676 - accuracy: 0.9037 - val_loss: 0.3252 - val_accuracy: 0.8824\n",
      "Epoch 21/50\n",
      "1719/1719 [==============================] - 2s 959us/step - loss: 0.2625 - accuracy: 0.9056 - val_loss: 0.3049 - val_accuracy: 0.8930\n",
      "Epoch 22/50\n",
      "1719/1719 [==============================] - 2s 1ms/step - loss: 0.2579 - accuracy: 0.9072 - val_loss: 0.2976 - val_accuracy: 0.8976\n",
      "Epoch 23/50\n",
      "1719/1719 [==============================] - 2s 973us/step - loss: 0.2535 - accuracy: 0.9086 - val_loss: 0.2983 - val_accuracy: 0.8930\n",
      "Epoch 24/50\n",
      "1719/1719 [==============================] - 2s 969us/step - loss: 0.2487 - accuracy: 0.9101 - val_loss: 0.3079 - val_accuracy: 0.8892\n",
      "Epoch 25/50\n",
      "1719/1719 [==============================] - 2s 1ms/step - loss: 0.2446 - accuracy: 0.9123 - val_loss: 0.2975 - val_accuracy: 0.8956\n",
      "Epoch 26/50\n",
      "1719/1719 [==============================] - 2s 1ms/step - loss: 0.2407 - accuracy: 0.9138 - val_loss: 0.3068 - val_accuracy: 0.8888\n",
      "Epoch 27/50\n",
      "1719/1719 [==============================] - 2s 1ms/step - loss: 0.2364 - accuracy: 0.9159 - val_loss: 0.3023 - val_accuracy: 0.8938\n",
      "Epoch 28/50\n",
      "1719/1719 [==============================] - 2s 1ms/step - loss: 0.2329 - accuracy: 0.9167 - val_loss: 0.2992 - val_accuracy: 0.8930\n",
      "Epoch 29/50\n",
      "1719/1719 [==============================] - 2s 1ms/step - loss: 0.2287 - accuracy: 0.9184 - val_loss: 0.3053 - val_accuracy: 0.8896 - l\n",
      "Epoch 30/50\n",
      "1719/1719 [==============================] - 2s 1ms/step - loss: 0.2254 - accuracy: 0.9195 - val_loss: 0.3004 - val_accuracy: 0.8920\n",
      "Epoch 31/50\n",
      "1719/1719 [==============================] - 2s 1ms/step - loss: 0.2214 - accuracy: 0.9202 - val_loss: 0.2961 - val_accuracy: 0.8914\n",
      "Epoch 32/50\n",
      "1719/1719 [==============================] - 2s 1ms/step - loss: 0.2175 - accuracy: 0.9215 - val_loss: 0.3057 - val_accuracy: 0.8922\n",
      "Epoch 33/50\n",
      "1719/1719 [==============================] - 2s 1ms/step - loss: 0.2140 - accuracy: 0.9224 - val_loss: 0.2963 - val_accuracy: 0.8958\n",
      "Epoch 34/50\n",
      "1719/1719 [==============================] - 2s 1ms/step - loss: 0.2107 - accuracy: 0.9247 - val_loss: 0.3000 - val_accuracy: 0.8914\n",
      "Epoch 35/50\n",
      "1719/1719 [==============================] - 2s 1ms/step - loss: 0.2064 - accuracy: 0.9262 - val_loss: 0.2848 - val_accuracy: 0.8968\n",
      "Epoch 36/50\n",
      "1719/1719 [==============================] - 3s 2ms/step - loss: 0.2045 - accuracy: 0.9266 - val_loss: 0.3017 - val_accuracy: 0.8942\n",
      "Epoch 37/50\n",
      "1719/1719 [==============================] - 2s 1ms/step - loss: 0.2009 - accuracy: 0.9278 - val_loss: 0.2870 - val_accuracy: 0.8960\n",
      "Epoch 38/50\n",
      "1719/1719 [==============================] - 2s 1ms/step - loss: 0.1967 - accuracy: 0.9294 - val_loss: 0.2881 - val_accuracy: 0.8946\n",
      "Epoch 39/50\n",
      "1719/1719 [==============================] - 2s 1ms/step - loss: 0.1953 - accuracy: 0.9304 - val_loss: 0.2933 - val_accuracy: 0.8980\n",
      "Epoch 40/50\n",
      "1719/1719 [==============================] - 2s 1ms/step - loss: 0.1913 - accuracy: 0.9316 - val_loss: 0.2906 - val_accuracy: 0.8980\n",
      "Epoch 41/50\n",
      "1719/1719 [==============================] - 2s 1ms/step - loss: 0.1885 - accuracy: 0.9322 - val_loss: 0.2853 - val_accuracy: 0.9020\n",
      "Epoch 42/50\n",
      "1719/1719 [==============================] - 2s 1ms/step - loss: 0.1859 - accuracy: 0.9335 - val_loss: 0.2861 - val_accuracy: 0.9014\n",
      "Epoch 43/50\n",
      "1719/1719 [==============================] - 2s 1ms/step - loss: 0.1820 - accuracy: 0.9349 - val_loss: 0.3146 - val_accuracy: 0.8886\n",
      "Epoch 44/50\n",
      "1719/1719 [==============================] - 2s 1ms/step - loss: 0.1790 - accuracy: 0.9363 - val_loss: 0.3104 - val_accuracy: 0.8878\n",
      "Epoch 45/50\n",
      "1719/1719 [==============================] - 2s 1ms/step - loss: 0.1780 - accuracy: 0.9355 - val_loss: 0.2954 - val_accuracy: 0.8954\n",
      "Epoch 46/50\n",
      "1719/1719 [==============================] - 2s 1ms/step - loss: 0.1733 - accuracy: 0.9376 - val_loss: 0.3052 - val_accuracy: 0.8970\n",
      "Epoch 47/50\n",
      "1719/1719 [==============================] - 2s 1ms/step - loss: 0.1714 - accuracy: 0.9386 - val_loss: 0.2924 - val_accuracy: 0.9026\n",
      "Epoch 48/50\n",
      "1719/1719 [==============================] - 2s 1ms/step - loss: 0.1693 - accuracy: 0.9397 - val_loss: 0.3082 - val_accuracy: 0.8944\n",
      "Epoch 49/50\n",
      "1719/1719 [==============================] - 2s 1ms/step - loss: 0.1650 - accuracy: 0.9411 - val_loss: 0.2960 - val_accuracy: 0.8966\n",
      "Epoch 50/50\n",
      "1719/1719 [==============================] - 2s 1ms/step - loss: 0.1630 - accuracy: 0.9421 - val_loss: 0.2997 - val_accuracy: 0.8964\n"
     ]
    }
   ],
   "source": [
    "# Treinamento\n",
    "history = modelo.fit(X_treino, \n",
    "                     y_treino, \n",
    "                     epochs = 50, \n",
    "                     validation_data = (X_valid, y_valid))"
   ]
  },
  {
   "cell_type": "code",
   "execution_count": 34,
   "metadata": {},
   "outputs": [
    {
     "data": {
      "text/plain": [
       "{'verbose': 1, 'epochs': 50, 'steps': 1719}"
      ]
     },
     "execution_count": 34,
     "metadata": {},
     "output_type": "execute_result"
    }
   ],
   "source": [
    "# Hiperparâmetros do modelo\n",
    "history.params"
   ]
  },
  {
   "cell_type": "code",
   "execution_count": 35,
   "metadata": {},
   "outputs": [
    {
     "data": {
      "text/plain": [
       "dict_keys(['loss', 'accuracy', 'val_loss', 'val_accuracy'])"
      ]
     },
     "execution_count": 35,
     "metadata": {},
     "output_type": "execute_result"
    }
   ],
   "source": [
    "# Aqui estão as métricas disponíveis após o treinamento (erro e acurácia)\n",
    "history.history.keys()"
   ]
  },
  {
   "cell_type": "code",
   "execution_count": 36,
   "metadata": {},
   "outputs": [
    {
     "name": "stdout",
     "output_type": "stream",
     "text": [
      "Salvando a imagem... plot_keras_learning_curves\n"
     ]
    },
    {
     "data": {
      "image/png": "[encoded data removed]",
      "text/plain": [
       "<Figure size 576x360 with 1 Axes>"
      ]
     },
     "metadata": {
      "needs_background": "light"
     },
     "output_type": "display_data"
    }
   ],
   "source": [
    "# Colocamos o histórico de treinamento em um dataframe, plotamos e salvamos a figura\n",
    "pd.DataFrame(history.history).plot(figsize = (8, 5))\n",
    "plt.grid(True)\n",
    "plt.gca().set_ylim(0, 1)\n",
    "salva_imagem(\"plot_keras_learning_curves\")\n",
    "plt.show()"
   ]
  },
  {
   "cell_type": "markdown",
   "metadata": {},
   "source": [
    "## Avaliando o Modelo\n",
    "\n",
    "Você já conhece o ritual. Depois de treinar, testamos o modelo com dados de teste."
   ]
  },
  {
   "cell_type": "code",
   "execution_count": 37,
   "metadata": {},
   "outputs": [
    {
     "name": "stdout",
     "output_type": "stream",
     "text": [
      "313/313 [==============================] - 0s 722us/step - loss: 0.3342 - accuracy: 0.8870\n"
     ]
    },
    {
     "data": {
      "text/plain": [
       "[0.3341985046863556, 0.8870000243186951]"
      ]
     },
     "execution_count": 37,
     "metadata": {},
     "output_type": "execute_result"
    }
   ],
   "source": [
    "# Avalia o modelo\n",
    "modelo.evaluate(X_teste, y_teste)"
   ]
  },
  {
   "cell_type": "markdown",
   "metadata": {},
   "source": [
    "Conseguimos mais de 88% de acurácia em teste. Vamos fazer a previsão de algumas imagens."
   ]
  },
  {
   "cell_type": "code",
   "execution_count": 38,
   "metadata": {},
   "outputs": [],
   "source": [
    "# Vamos extrair 5 imagens de teste\n",
    "X_new = X_teste[:5]"
   ]
  },
  {
   "cell_type": "code",
   "execution_count": 39,
   "metadata": {},
   "outputs": [],
   "source": [
    "# E então prever a probabilidade de cada classe para cada imagem\n",
    "y_proba = modelo.predict(X_new)"
   ]
  },
  {
   "cell_type": "code",
   "execution_count": 40,
   "metadata": {},
   "outputs": [
    {
     "data": {
      "text/plain": [
       "array([[1.6294470e-07, 3.6253882e-09, 1.2579389e-05, 1.6609062e-06,\n",
       "        9.1626504e-08, 3.7001824e-04, 3.5667594e-07, 2.7769979e-03,\n",
       "        1.2492963e-05, 9.9682570e-01],\n",
       "       [4.3675071e-05, 4.4733114e-10, 9.9926728e-01, 3.8461594e-09,\n",
       "        6.5115863e-04, 2.6769021e-12, 3.7911195e-05, 2.9771508e-11,\n",
       "        3.3769032e-10, 3.7565415e-12],\n",
       "       [1.6622193e-08, 1.0000000e+00, 7.1750092e-11, 2.1921718e-08,\n",
       "        6.3398455e-09, 6.0851474e-15, 4.2657271e-12, 1.5100399e-15,\n",
       "        3.7022319e-10, 3.4262824e-15],\n",
       "       [2.8740137e-08, 9.9999809e-01, 4.1640952e-10, 1.8789664e-06,\n",
       "        2.5832906e-08, 1.4342712e-11, 9.6161239e-11, 2.7907025e-14,\n",
       "        1.9973985e-10, 1.8774730e-11],\n",
       "       [4.0516770e-01, 7.8377536e-07, 7.5198752e-03, 4.9693743e-04,\n",
       "        9.1814180e-04, 9.6045820e-09, 5.8589375e-01, 2.5862144e-07,\n",
       "        1.8393348e-06, 6.6949576e-07]], dtype=float32)"
      ]
     },
     "execution_count": 40,
     "metadata": {},
     "output_type": "execute_result"
    }
   ],
   "source": [
    "# Previsões de probabilidade\n",
    "y_proba"
   ]
  },
  {
   "cell_type": "code",
   "execution_count": 41,
   "metadata": {},
   "outputs": [
    {
     "data": {
      "text/plain": [
       "array([[0.  , 0.  , 0.  , 0.  , 0.  , 0.  , 0.  , 0.  , 0.  , 1.  ],\n",
       "       [0.  , 0.  , 1.  , 0.  , 0.  , 0.  , 0.  , 0.  , 0.  , 0.  ],\n",
       "       [0.  , 1.  , 0.  , 0.  , 0.  , 0.  , 0.  , 0.  , 0.  , 0.  ],\n",
       "       [0.  , 1.  , 0.  , 0.  , 0.  , 0.  , 0.  , 0.  , 0.  , 0.  ],\n",
       "       [0.41, 0.  , 0.01, 0.  , 0.  , 0.  , 0.59, 0.  , 0.  , 0.  ]],\n",
       "      dtype=float32)"
      ]
     },
     "execution_count": 41,
     "metadata": {},
     "output_type": "execute_result"
    }
   ],
   "source": [
    "# As previsões de classes são mais fáceis de interpretar\n",
    "y_proba.round(2)"
   ]
  },
  {
   "cell_type": "code",
   "execution_count": 42,
   "metadata": {},
   "outputs": [
    {
     "name": "stdout",
     "output_type": "stream",
     "text": [
      "WARNING:tensorflow:From <ipython-input-42-05c42a87947c>:2: Sequential.predict_classes (from tensorflow.python.keras.engine.sequential) is deprecated and will be removed after 2021-01-01.\n",
      "Instructions for updating:\n",
      "Please use instead:* `np.argmax(model.predict(x), axis=-1)`,   if your model does multi-class classification   (e.g. if it uses a `softmax` last-layer activation).* `(model.predict(x) > 0.5).astype(\"int32\")`,   if your model does binary classification   (e.g. if it uses a `sigmoid` last-layer activation).\n"
     ]
    },
    {
     "data": {
      "text/plain": [
       "array([9, 2, 1, 1, 6])"
      ]
     },
     "execution_count": 42,
     "metadata": {},
     "output_type": "execute_result"
    }
   ],
   "source": [
    "# Vamos gravar as previsões das 5 imagens\n",
    "y_pred = modelo.predict_classes(X_new)\n",
    "y_pred"
   ]
  },
  {
   "cell_type": "code",
   "execution_count": 43,
   "metadata": {},
   "outputs": [
    {
     "data": {
      "text/plain": [
       "array(['Ankle boot', 'Pullover', 'Trouser', 'Trouser', 'Shirt'],\n",
       "      dtype='<U11')"
      ]
     },
     "execution_count": 43,
     "metadata": {},
     "output_type": "execute_result"
    }
   ],
   "source": [
    "# E então extraímos os nomes das classes associados a cada previsão\n",
    "np.array(nomes_classes)[y_pred]"
   ]
  },
  {
   "cell_type": "markdown",
   "metadata": {},
   "source": [
    "Vamos plotar as previsões."
   ]
  },
  {
   "cell_type": "code",
   "execution_count": 44,
   "metadata": {},
   "outputs": [
    {
     "name": "stdout",
     "output_type": "stream",
     "text": [
      "Salvando a imagem... plot_previsoes_fashion_mnist_images\n"
     ]
    },
    {
     "data": {
      "image/png": "[encoded data removed]",
      "text/plain": [
       "<Figure size 576x360 with 5 Axes>"
      ]
     },
     "metadata": {
      "needs_background": "light"
     },
     "output_type": "display_data"
    }
   ],
   "source": [
    "# Plot\n",
    "plt.figure(figsize = (8, 5))\n",
    "for index, image in enumerate(X_new):\n",
    "    plt.subplot(1, 5, index + 1)\n",
    "    plt.imshow(image, cmap = \"binary\", interpolation = \"nearest\")\n",
    "    plt.axis('off')\n",
    "    plt.title(nomes_classes[y_teste[index]], fontsize = 12)\n",
    "plt.subplots_adjust(wspace = 0.2, hspace = 0.5)\n",
    "salva_imagem('plot_previsoes_fashion_mnist_images', tight_layout = False)\n",
    "plt.show()"
   ]
  },
  {
   "cell_type": "markdown",
   "metadata": {},
   "source": [
    "Previsões feitas com sucesso!"
   ]
  },
  {
   "cell_type": "markdown",
   "metadata": {},
   "source": [
    "# Fim"
   ]
  }
 ],
 "metadata": {
  "kernelspec": {
   "display_name": "Python 3 (ipykernel)",
   "language": "python",
   "name": "python3"
  },
  "language_info": {
   "codemirror_mode": {
    "name": "ipython",
    "version": 3
   },
   "file_extension": ".py",
   "mimetype": "text/x-python",
   "name": "python",
   "nbconvert_exporter": "python",
   "pygments_lexer": "ipython3",
   "version": "3.9.13"
  },
  "nav_menu": {
   "height": "264px",
   "width": "369px"
  },
  "toc": {
   "navigate_menu": true,
   "number_sections": true,
   "sideBar": true,
   "threshold": 6,
   "toc_cell": false,
   "toc_section_display": "block",
   "toc_window_display": false
  }
 },
 "nbformat": 4,
 "nbformat_minor": 4
}
