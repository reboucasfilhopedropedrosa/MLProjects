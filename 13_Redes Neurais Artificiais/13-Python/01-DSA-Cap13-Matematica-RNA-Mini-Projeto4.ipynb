{
 "cells": [
  {
   "cell_type": "markdown",
   "metadata": {},
   "source": [
    "# <font color='blue'>Data Science Academy - Machine Learning</font>\n",
    "\n",
    "# <font color='blue'>Capítulo 13</font>"
   ]
  },
  {
   "cell_type": "code",
   "execution_count": 1,
   "metadata": {},
   "outputs": [
    {
     "name": "stdout",
     "output_type": "stream",
     "text": [
      "Versão da Linguagem Python Usada Neste Jupyter Notebook: 3.7.6\n"
     ]
    }
   ],
   "source": [
    "# Versão da Linguagem Python\n",
    "from platform import python_version\n",
    "print('Versão da Linguagem Python Usada Neste Jupyter Notebook:', python_version())"
   ]
  },
  {
   "cell_type": "markdown",
   "metadata": {},
   "source": [
    "## A Matemática das Redes Neurais Artificiais\n",
    "\n",
    "### Construindo a Rede Neural com Programação e Matemática"
   ]
  },
  {
   "cell_type": "markdown",
   "metadata": {},
   "source": [
    "![title](imagens/math.png)"
   ]
  },
  {
   "cell_type": "markdown",
   "metadata": {},
   "source": [
    "Teremos 2 Partes:\n",
    "\n",
    "- Parte 1 - Vamos construir uma rede neural artificial somente com operações matemáticas\n",
    "- Parte 2 - Vamos treinar a rede para Prever a Ocorrência de Câncer"
   ]
  },
  {
   "cell_type": "markdown",
   "metadata": {},
   "source": [
    "## A Arquitetura de Redes Neurais Artificiais"
   ]
  },
  {
   "cell_type": "markdown",
   "metadata": {},
   "source": [
    "Uma rede neural típica é constituída por um conjunto de neurônios interligados, infuenciando uns aos outros formando um sistema maior, capaz de armazenar conhecimento adquirido por meio de exemplos apresentados e, assim, podendo realizar inferências sobre novos conjuntos de dados. Vejamos a arquitetura de redes neurais artificiais.\n",
    "\n",
    "As redes neurais são comumente apresentadas como um grafo orientado, onde os vértices são os neurônios e as arestas as sinapses. A direção das arestas informa o tipo de alimentação, ou seja, como os neurônios são alimentados (recebem sinais de entrada). As redes neurais derivam seu poder devido a sua estrutura massiva e paralela e a habilidade de aprender por experiência. Essa experiência é transmitida por meio de exemplos obtidos do mundo real, definidos como um conjunto de características formados por dados de entrada e de saída. Se apresentamos esses dados de entrada e saída à rede, estamos diante de aprendizagem supervsionada e caso apresentemos apenas os dados de entrada, estamos diante de aprendizagem não supervisionada!\n",
    "\n",
    "O conhecimento obtido pela rede através dos exemplos é armazenado na forma de pesos das conexões, os quais serão ajustados a fim de tomar decisões corretas a partir de novas entradas, ou seja, novas situações do mundo real não conhecidas pela rede. O processo de ajuste dos pesos sinapticos é realizado pelo algoritmo de aprendizagem, responsável em armazenar na rede o conhecimento do mundo real obtido atraves de exemplos. Existem vários algoritmos de aprendizagem, dentre eles o backpropagation que é o algoritmo mais utilizado.\n",
    "\n",
    "![title](imagens/nnet.png)"
   ]
  },
  {
   "cell_type": "markdown",
   "metadata": {},
   "source": [
    "### Importando os Pacotes"
   ]
  },
  {
   "cell_type": "code",
   "execution_count": 2,
   "metadata": {},
   "outputs": [],
   "source": [
    "# Para atualizar um pacote, execute o comando abaixo no terminal ou prompt de comando:\n",
    "# pip install -U nome_pacote\n",
    "\n",
    "# Para instalar a versão exata de um pacote, execute o comando abaixo no terminal ou prompt de comando:\n",
    "# pip install nome_pacote==versão_desejada\n",
    "\n",
    "# Depois de instalar ou atualizar o pacote, reinicie o jupyter notebook."
   ]
  },
  {
   "cell_type": "code",
   "execution_count": 3,
   "metadata": {},
   "outputs": [],
   "source": [
    "# Instala o pacote watermark. \n",
    "# Esse pacote é usado para gravar as versões de outros pacotes usados neste jupyter notebook.\n",
    "!pip install -q -U watermark"
   ]
  },
  {
   "cell_type": "code",
   "execution_count": 4,
   "metadata": {},
   "outputs": [],
   "source": [
    "# Por enquanto precisaremos somente do NumPy\n",
    "import numpy as np"
   ]
  },
  {
   "cell_type": "code",
   "execution_count": 5,
   "metadata": {},
   "outputs": [
    {
     "name": "stdout",
     "output_type": "stream",
     "text": [
      "numpy 1.18.5\n",
      "Data Science Academy\n"
     ]
    }
   ],
   "source": [
    "# Versões dos pacotes usados neste jupyter notebook\n",
    "%reload_ext watermark\n",
    "%watermark -a \"Data Science Academy\" --iversions"
   ]
  },
  {
   "cell_type": "markdown",
   "metadata": {},
   "source": [
    "### Parte 1 - Implementando Uma Rede Neural Artificial Somente com Fórmulas Matemáticas (Sem Frameworks)"
   ]
  },
  {
   "cell_type": "markdown",
   "metadata": {},
   "source": [
    "Faça a leitura do manual em pdf no próximo item de aprendizagem: Parâmetros x Hiperparâmetros."
   ]
  },
  {
   "cell_type": "markdown",
   "metadata": {},
   "source": [
    "### Parte 1A - Forward Propagation\n",
    "\n",
    "https://arxiv.org/pdf/1905.07490.pdf"
   ]
  },
  {
   "cell_type": "markdown",
   "metadata": {},
   "source": [
    "![title](imagens/nn.png)"
   ]
  },
  {
   "cell_type": "markdown",
   "metadata": {},
   "source": [
    "Faça a leitura do manual em pdf no próximo item de aprendizagem: Por Que Inicializamos os Pesos de Um Modelo de Rede Neural?"
   ]
  },
  {
   "cell_type": "markdown",
   "metadata": {},
   "source": [
    "### Desenvolvendo a Função Para Inicialização de Pesos"
   ]
  },
  {
   "cell_type": "code",
   "execution_count": 6,
   "metadata": {},
   "outputs": [],
   "source": [
    "# Função para inicialização randômica dos parâmetros do modelo\n",
    "def inicializa_parametros(dims_camada_entrada):\n",
    "    \n",
    "    # Dicionário para os parâmetros\n",
    "    parameters = {}\n",
    "    \n",
    "    # Comprimento das dimensões das camadas\n",
    "    comp = len(dims_camada_entrada)\n",
    "    \n",
    "    # Loop pelo comprimento\n",
    "    for i in range(1, comp):\n",
    "        \n",
    "        # Inicialização da matriz de pesos\n",
    "        parameters[\"W\" + str(i)] = np.random.randn(dims_camada_entrada[i], dims_camada_entrada[i - 1]) * 0.01\n",
    "        \n",
    "        # Inicialização do bias\n",
    "        parameters[\"b\" + str(i)] = np.zeros((dims_camada_entrada[i], 1))\n",
    "    \n",
    "    return parameters"
   ]
  },
  {
   "cell_type": "markdown",
   "metadata": {},
   "source": [
    "### Desenvolvendo a Função Sigmóide\n",
    "\n",
    "A principal razão pela qual usamos a função sigmóide é porque ela permite converter números para valores entre 0 e 1. \n",
    "\n",
    "Portanto, é especialmente usada para modelos em que temos que prever a probabilidade como uma saída. Como a probabilidade de qualquer coisa existir apenas entre o intervalo de 0 e 1, sigmoide é a escolha certa. Algumas caracterísiticas da função sigmóide:\n",
    "\n",
    "- A função é diferenciável. Isso significa que podemos encontrar a inclinação da curva sigmóide em dois pontos.\n",
    "- A função sigmóide logística pode fazer com que uma rede neural fique presa no momento do treinamento.\n",
    "- A função softmax é uma função de ativação logística mais generalizada, utilizada para a classificação em várias classes."
   ]
  },
  {
   "cell_type": "markdown",
   "metadata": {},
   "source": [
    "![title](imagens/sigmoid.png)"
   ]
  },
  {
   "cell_type": "markdown",
   "metadata": {},
   "source": [
    "Se a função parecer muito abstrata ou estranha para você, não se preocupe muito com detalhes como o número de Euler e ou como alguém criou essa função. Para aqueles que não são conhecedores de matemática, a única coisa importante sobre a função sigmóide é primeiro, sua curva e, segundo, sua derivada. Aqui estão mais alguns detalhes:\n",
    "\n",
    "- **A função sigmóide produz resultados semelhantes aos da função de passo (Step Function) em que a saída está entre 0 e 1. A curva cruza 0,5 a z = 0, e podemos definir regras para a função de ativação, como: Se a saída do neurônio sigmóide for maior que ou igual a 0,5, gera 1; se a saída for menor que 0,5, gera 0.**\n",
    "\n",
    "\n",
    "- A função sigmóide é suave e possui uma derivada simples de σ(z) * (1 - σ (z)), que é diferenciável em qualquer lugar da curva. \n",
    "\n",
    "\n",
    "- Se z for muito negativo, a saída será aproximadamente 0; se z for muito positivo, a saída é aproximadamente 1; mas em torno de z = 0, onde z não é muito grande nem muito pequeno, temos um desvio relativamente maior à medida que z muda."
   ]
  },
  {
   "cell_type": "markdown",
   "metadata": {},
   "source": [
    "**Afinal, O Que é Derivada?**\n",
    "\n",
    "![title](imagens/derivada.png)"
   ]
  },
  {
   "cell_type": "markdown",
   "metadata": {},
   "source": [
    "No Cálculo, a derivada em um ponto de uma função y = f(x) representa a taxa de variação instantânea de y em relação a x neste ponto. \n",
    "\n",
    "Um exemplo típico é a função velocidade que representa a taxa de variação (derivada) da função espaço. Do mesmo modo, a função aceleração é a derivada da função velocidade. Geometricamente, a derivada no ponto x = a de y = f(x) representa a inclinação da reta tangente ao gráfico desta função no ponto (a, f(a)).\n",
    "\n",
    "A função que a cada ponto x associa a derivada neste ponto de f(x) é chamada de função derivada de f(x)."
   ]
  },
  {
   "cell_type": "markdown",
   "metadata": {},
   "source": [
    "![title](imagens/derivada.gif)"
   ]
  },
  {
   "cell_type": "markdown",
   "metadata": {},
   "source": [
    "Em cada ponto, a derivada de f(x) é a tangente do ângulo que a reta tangente à curva faz em relação ao eixo das abscissas. A reta é sempre tangente à curva azul; a tangente do ângulo que ela faz com o eixo das abscissas é a derivada. Note-se que a derivada é positiva quando verde, negativa quando vermelha, e zero quando preta.\n",
    "\n",
    "A derivada de uma função y = f(x) num ponto x = x0, é igual ao valor da tangente trigonométrica do ângulo formado pela tangente geométrica à curva representativa de y=f(x), no ponto x = x0, ou seja, a derivada é o coeficiente angular da reta tangente ao gráfico da função no ponto x0.\n",
    "\n",
    "A função derivada é representada por f'(x)."
   ]
  },
  {
   "cell_type": "code",
   "execution_count": 7,
   "metadata": {},
   "outputs": [],
   "source": [
    "# Função sigmóide\n",
    "def sigmoid(Z):\n",
    "    A = 1 / (1 + np.exp(-Z))\n",
    "    return A, Z"
   ]
  },
  {
   "cell_type": "markdown",
   "metadata": {},
   "source": [
    "### Desenvolvendo a Função ReLU\n",
    "\n",
    "Para usar a descida de gradiente estocástico com retropropagação de erros para treinar redes neurais profundas, é necessária uma função de ativação que se assemelhe e atue como uma função linear, mas é, de fato, uma função não linear que permite que relacionamentos complexos nos dados sejam aprendidos.\n",
    "\n",
    "A solução é usar a função de ativação linear retificada ou ReL para abreviar. Um nó ou unidade que implementa essa função de ativação é chamado de unidade de ativação linear retificada ou ReLU, para abreviar. Frequentemente, as redes que usam a função retificadora para as camadas ocultas são chamadas de redes retificadas.\n",
    "\n",
    "A função ReLU é definida como 𝑓(𝑥) = max (0, 𝑥). Normalmente, ela é aplicada elemento a elemento à saída de alguma outra função, como um produto de vetor e matriz. \n",
    "\n",
    "A adoção da ReLU pode ser facilmente considerada um dos marcos na revolução do aprendizado profundo, por ex. as técnicas que agora permitem o desenvolvimento rotineiro de redes neurais muito profundas.\n",
    "\n",
    "A derivada da função linear retificada também é fácil de calcular. **A derivada da função de ativação é necessária ao atualizar os pesos de um nó como parte da retropropagação de erro.**\n",
    "\n",
    "A derivada da função é a inclinação. A inclinação para valores negativos é 0,0 e a inclinação para valores positivos é 1,0.\n",
    "\n",
    "Tradicionalmente, o campo das redes neurais evitou qualquer função de ativação que não fosse completamente diferenciável, talvez adiando a adoção da função linear retificada e de outras funções lineares. Tecnicamente, não podemos calcular a derivada quando a entrada é 0,0; portanto, podemos assumir que é zero. Este não é um problema na prática.\n",
    "\n",
    "Os gradientes das ativações tangentes e hiperbólicas são menores que a porção positiva da ReLU. Isso significa que a parte positiva é atualizada mais rapidamente à medida que o treinamento avança. No entanto, isso tem um custo. O gradiente 0 no lado esquerdo tem seu próprio problema, chamado \"neurônios mortos\", no qual uma atualização de gradiente define os valores recebidos para uma ReLU, de modo que a saída é sempre zero; unidades ReLU modificadas, como ELU (ou Leaky ReLU, ou PReLU, etc.) podem melhorar isso."
   ]
  },
  {
   "cell_type": "markdown",
   "metadata": {},
   "source": [
    "![title](imagens/relu.png)"
   ]
  },
  {
   "cell_type": "code",
   "execution_count": 8,
   "metadata": {},
   "outputs": [],
   "source": [
    "# Função de ativação ReLu (Rectified Linear Unit)\n",
    "def relu(Z):\n",
    "    A = abs(Z * (Z > 0))\n",
    "    return A, Z"
   ]
  },
  {
   "cell_type": "markdown",
   "metadata": {},
   "source": [
    "![title](imagens/net-relu.png)"
   ]
  },
  {
   "cell_type": "markdown",
   "metadata": {},
   "source": [
    "### Desenvolvendo a Ativação Linear"
   ]
  },
  {
   "cell_type": "code",
   "execution_count": 9,
   "metadata": {},
   "outputs": [],
   "source": [
    "# Operação de ativação\n",
    "# A é a matriz com os dados de entrada\n",
    "# W é a matriz de pesos\n",
    "# b é o bias\n",
    "def linear_activation(A, W, b):\n",
    "    Z = np.dot(W, A) + b\n",
    "    cache = (A, W, b)\n",
    "    return Z, cache"
   ]
  },
  {
   "cell_type": "markdown",
   "metadata": {},
   "source": [
    "### Construindo o Processo de Forward Propagation"
   ]
  },
  {
   "cell_type": "code",
   "execution_count": 10,
   "metadata": {},
   "outputs": [],
   "source": [
    "# Movimento para frente (forward)\n",
    "def forward(A_prev, W, b, activation):\n",
    "    \n",
    "    # Se a função de ativação for Sigmoid, entramos neste bloco\n",
    "    if activation == \"sigmoid\":\n",
    "        Z, linear_cache = linear_activation(A_prev, W, b)\n",
    "        A, activation_cache = sigmoid(Z)\n",
    "        \n",
    "    # Se não, se for ReLu, entramos neste bloco    \n",
    "    elif activation == \"relu\":\n",
    "        Z, linear_cache = linear_activation(A_prev, W, b)\n",
    "        A, activation_cache = relu(Z)\n",
    "        \n",
    "    cache = (linear_cache, activation_cache)\n",
    "    \n",
    "    return A, cache"
   ]
  },
  {
   "cell_type": "markdown",
   "metadata": {},
   "source": [
    "### Combinando Ativação e Propagação"
   ]
  },
  {
   "cell_type": "code",
   "execution_count": 11,
   "metadata": {},
   "outputs": [],
   "source": [
    "# Propagação para frente\n",
    "def forward_propagation(X, parameters):\n",
    "    \n",
    "    # Lista de valores anteriores (cache)\n",
    "    caches = []\n",
    "    \n",
    "    # Dados de entrada\n",
    "    A = X\n",
    "    \n",
    "    # Comprimento dos parâmetros\n",
    "    L = len(parameters) // 2\n",
    "   \n",
    "    # Loop\n",
    "    for i in range(1, L):\n",
    "      \n",
    "        # Guarda o valor prévio de A\n",
    "        A_prev = A\n",
    "        \n",
    "        # Executa o forward\n",
    "        A, cache = forward(A_prev, parameters[\"W\" + str(i)], parameters[\"b\" + str(i)], activation = \"relu\")\n",
    "        \n",
    "        # Grava o cache\n",
    "        caches.append(cache)\n",
    "    \n",
    "    # Saída na última camada\n",
    "    A_last, cache = forward(A, parameters[\"W\" + str(L)], parameters[\"b\" + str(L)], activation = \"sigmoid\")\n",
    "    \n",
    "    # Grava o cache\n",
    "    caches.append(cache)\n",
    "    \n",
    "    return(A_last, caches)"
   ]
  },
  {
   "cell_type": "markdown",
   "metadata": {},
   "source": [
    "### Desenvolvendo a Função de Custo"
   ]
  },
  {
   "cell_type": "markdown",
   "metadata": {},
   "source": [
    "![title](imagens/custo.png)"
   ]
  },
  {
   "cell_type": "code",
   "execution_count": 12,
   "metadata": {},
   "outputs": [],
   "source": [
    "# Função de custo (ou função de erro)\n",
    "def calcula_custo(A_last, Y):\n",
    "    \n",
    "    # Ajusta o shape de Y para obter seu comprimento (total de elementos)\n",
    "    m = Y.shape[1]\n",
    "    \n",
    "    # Calcula o custo comparando valor real e previso\n",
    "    custo = (-1 / m) * np.sum((Y * np.log(A_last)) + ((1 - Y) * np.log(1 - A_last)))\n",
    "    \n",
    "    # Ajusta o shape do custo\n",
    "    custo = np.squeeze(custo)\n",
    "    \n",
    "    return(custo)"
   ]
  },
  {
   "cell_type": "markdown",
   "metadata": {},
   "source": [
    "### Parte 1B - Backward Propagation"
   ]
  },
  {
   "cell_type": "markdown",
   "metadata": {},
   "source": [
    "![title](imagens/backpropagation.png)"
   ]
  },
  {
   "cell_type": "markdown",
   "metadata": {},
   "source": [
    "### Desenvolvendo o Backward Propagation - Função Sigmóide Backward"
   ]
  },
  {
   "cell_type": "code",
   "execution_count": 13,
   "metadata": {},
   "outputs": [],
   "source": [
    "# Função sigmoid para o backpropagation \n",
    "# Fazemos o cálculo da derivada pois não queremos o valor completo da função, mas sim sua variação\n",
    "def sigmoid_backward(da, Z):\n",
    "    \n",
    "    # Calculamos a derivada de Z\n",
    "    dg = (1 / (1 + np.exp(-Z))) * (1 - (1 / (1 + np.exp(-Z))))\n",
    "    \n",
    "    # Encontramos a mudança na derivada de z\n",
    "    dz = da * dg\n",
    "    return dz\n",
    "\n",
    "# Compare com a função sigmoid do forward propagation\n",
    "# A = 1 / (1 + np.exp(-Z))"
   ]
  },
  {
   "cell_type": "markdown",
   "metadata": {},
   "source": [
    "### Desenvolvendo o Backward Propagation - Função ReLu Backward"
   ]
  },
  {
   "cell_type": "code",
   "execution_count": 14,
   "metadata": {},
   "outputs": [],
   "source": [
    "# Função relu para o backpropagation \n",
    "# Fazemos o cálculo da derivada pois não queremos o valor completo da função, mas sim sua variação\n",
    "def relu_backward(da, Z):\n",
    "    \n",
    "    dg = 1 * ( Z >= 0)\n",
    "    dz = da * dg\n",
    "    return dz\n",
    "\n",
    "# Compare com a função relu do forward propagation:\n",
    "# A = abs(Z * (Z > 0))"
   ]
  },
  {
   "cell_type": "markdown",
   "metadata": {},
   "source": [
    "### Desenvolvendo o Backward Propagation - Ativação Linear Backward"
   ]
  },
  {
   "cell_type": "code",
   "execution_count": 15,
   "metadata": {},
   "outputs": [],
   "source": [
    "# Ativação linear para o backpropagation\n",
    "def linear_backward_function(dz, cache):\n",
    "    \n",
    "    # Recebe os valores do cache (memória)\n",
    "    A_prev, W, b = cache\n",
    "    \n",
    "    # Shape de m\n",
    "    m = A_prev.shape[1]\n",
    "    \n",
    "    # Calcula a derivada de W (resultado da operação com dz)\n",
    "    dW = (1 / m) * np.dot(dz, A_prev.T)\n",
    "    \n",
    "    # Calcula a derivada de b (resultado da operação com dz)\n",
    "    db = (1 / m) * np.sum(dz, axis = 1, keepdims = True)\n",
    "    \n",
    "    # Calcula a derivada da operação\n",
    "    dA_prev = np.dot(W.T, dz)\n",
    "    \n",
    "    return dA_prev, dW, db"
   ]
  },
  {
   "cell_type": "markdown",
   "metadata": {},
   "source": [
    "### Desenvolvendo o Backward Propagation - Ativação Linear Backward"
   ]
  },
  {
   "cell_type": "code",
   "execution_count": 16,
   "metadata": {},
   "outputs": [],
   "source": [
    "# Função que define o tipo de ativação (relu ou sigmoid)\n",
    "def linear_activation_backward(dA, cache, activation):\n",
    "    \n",
    "    # Extrai o cache\n",
    "    linear_cache, activation_cache = cache\n",
    "    \n",
    "    # Verifica se a ativação é relu\n",
    "    if activation == \"relu\":\n",
    "        dZ = relu_backward(dA, activation_cache)\n",
    "        dA_prev, dW, db = linear_backward_function(dZ, linear_cache)\n",
    "        \n",
    "    # Verifica se a ativação é sigmoid\n",
    "    if activation == \"sigmoid\":\n",
    "        dZ = sigmoid_backward(dA, activation_cache)\n",
    "        dA_prev, dW, db = linear_backward_function(dZ, linear_cache)\n",
    "        \n",
    "    return dA_prev, dW, db"
   ]
  },
  {
   "cell_type": "markdown",
   "metadata": {},
   "source": [
    "### Combinando Ativação e Retropropagação - Algoritmo Backpropagation"
   ]
  },
  {
   "cell_type": "code",
   "execution_count": 17,
   "metadata": {},
   "outputs": [],
   "source": [
    "# Algoritmo Backpropagation (calcula os gradientes para atualização dos pesos)\n",
    "# AL = Valor previsto no Forward\n",
    "# Y = Valor real\n",
    "def backward_propagation(AL, Y, caches):\n",
    "    \n",
    "    # Dicionário para os gradientes\n",
    "    grads = {}\n",
    "    \n",
    "    # Comprimento dos dados (que estão no cache)\n",
    "    L = len(caches)\n",
    "    \n",
    "    # Extrai o comprimento para o valor de m\n",
    "    m = AL.shape[1]\n",
    "    \n",
    "    # Ajusta o shape de Y\n",
    "    Y = Y.reshape(AL.shape)\n",
    "    \n",
    "    # Calcula a derivada da previsão final da rede (feita ao final do Forward Propagation)\n",
    "    dAL = -((Y / AL) - ((1 - Y) / (1 - AL)))\n",
    "    \n",
    "    # Captura o valor corrente do cache\n",
    "    current_cache = caches[L - 1]\n",
    "    \n",
    "    # Gera a lista de gradiente para os dados, os pesos e o bias\n",
    "    # Fazemos isso uma vez, pois estamos na parte final da rede, iniciando o caminho de volta\n",
    "    grads[\"dA\" + str(L - 1)], grads[\"dW\" + str(L)], grads[\"db\" + str(L)] = linear_activation_backward(dAL, current_cache, activation = \"sigmoid\")\n",
    "    \n",
    "    # Loop para calcular a derivada durante as ativações lineares com a relu\n",
    "    for l in reversed(range(L - 1)):\n",
    "        \n",
    "        # Cache atual\n",
    "        current_cache = caches[l]\n",
    "        \n",
    "        # Calcula as derivadas\n",
    "        dA_prev, dW, db = linear_activation_backward(grads[\"dA\" + str(l + 1)], current_cache, activation = \"relu\")\n",
    "        \n",
    "        # Alimenta os gradientes na lista, usando o índice respectivo\n",
    "        grads[\"dA\" + str(l)] = dA_prev\n",
    "        grads[\"dW\" + str(l + 1)] = dW\n",
    "        grads[\"db\" + str(l + 1)] = db\n",
    "        \n",
    "    return grads"
   ]
  },
  {
   "cell_type": "markdown",
   "metadata": {},
   "source": [
    "### Gradientes e Atualização dos Pesos"
   ]
  },
  {
   "cell_type": "code",
   "execution_count": 18,
   "metadata": {},
   "outputs": [],
   "source": [
    "# Função de atualização de pesos\n",
    "def atualiza_pesos(parameters, grads, learning_rate):\n",
    "    \n",
    "    # Comprimento da estrutura de dados com os parâmetros (pesos e bias)\n",
    "    L = len(parameters)//2\n",
    "    \n",
    "    # Loop para atualização dos pesos\n",
    "    for l in range(L):\n",
    "        \n",
    "        # Atualização dos pesos\n",
    "        parameters[\"W\" + str(l + 1)] = parameters[\"W\" + str(l + 1)] - (learning_rate * grads[\"dW\" + str(l + 1)])\n",
    "        \n",
    "        # Atualização do bias\n",
    "        parameters[\"b\" + str(l + 1)] = parameters[\"b\" + str(l + 1)] - (learning_rate * grads[\"db\" + str(l + 1)])\n",
    "    \n",
    "    return parameters"
   ]
  },
  {
   "cell_type": "markdown",
   "metadata": {},
   "source": [
    "### Implementando a Rede Completa"
   ]
  },
  {
   "cell_type": "code",
   "execution_count": 19,
   "metadata": {},
   "outputs": [],
   "source": [
    "# Modelo completo da rede neural\n",
    "def modeloNN(X, Y, dims_camada_entrada, learning_rate = 0.0075, num_iterations = 100):\n",
    "    \n",
    "    # Lista para receber o custo a cada época de treinamento\n",
    "    custos = []\n",
    "    \n",
    "    # Inicializa os parâmetros\n",
    "    parametros = inicializa_parametros(dims_camada_entrada)\n",
    "    \n",
    "    # Loop pelo número de iterações (épocas)\n",
    "    for i in range(num_iterations):\n",
    "        \n",
    "        # Forward Propagation\n",
    "        AL, caches = forward_propagation(X, parametros)\n",
    "        \n",
    "        # Calcula o custo\n",
    "        custo = calcula_custo(AL, Y)\n",
    "        \n",
    "        # Backward Propagation\n",
    "        # Nota: ao invés de AL e Y, poderíamos passar somente o valor do custo\n",
    "        # Estamos passando o valor de AL e Y para fique claro didaticamente o que está sendo feito\n",
    "        gradientes = backward_propagation(AL, Y, caches)\n",
    "        \n",
    "        # Atualiza os pesos\n",
    "        parametros = atualiza_pesos(parametros, gradientes, learning_rate)\n",
    "        \n",
    "        # Print do valor intermediário do custo\n",
    "        # A redução do custo indica o aprendizado do modelo\n",
    "        if i % 10 == 0:\n",
    "            print(\"Custo Após \" + str(i) + \" iterações é \" + str(custo))\n",
    "            custos.append(custo)\n",
    "            \n",
    "    return parametros, custos "
   ]
  },
  {
   "cell_type": "code",
   "execution_count": 20,
   "metadata": {},
   "outputs": [],
   "source": [
    "# Função para fazer as previsões\n",
    "# Não precisamos do Backpropagation pois ao fazer previsões como o modelo treinado, \n",
    "# teremos os melhores valores de pesos (parametros)\n",
    "def predict(X, parametros):\n",
    "    AL, caches = forward_propagation(X, parametros)\n",
    "    return AL"
   ]
  },
  {
   "cell_type": "markdown",
   "metadata": {},
   "source": [
    "### Parte 2 - Vamos treinar a rede para Prever a Ocorrência de Câncer"
   ]
  },
  {
   "cell_type": "markdown",
   "metadata": {},
   "source": [
    "### Mini-Projeto 4 - Usando a Rede Neural Para Prever a Ocorrência de Câncer"
   ]
  },
  {
   "cell_type": "code",
   "execution_count": 21,
   "metadata": {},
   "outputs": [],
   "source": [
    "# Imports\n",
    "import sklearn\n",
    "import numpy as np\n",
    "import pandas as pd\n",
    "import matplotlib\n",
    "import matplotlib.pyplot as plt\n",
    "from sklearn.datasets import load_breast_cancer\n",
    "from sklearn.model_selection import train_test_split\n",
    "from sklearn.metrics import classification_report"
   ]
  },
  {
   "cell_type": "code",
   "execution_count": 22,
   "metadata": {},
   "outputs": [
    {
     "name": "stdout",
     "output_type": "stream",
     "text": [
      "pandas     1.0.4\n",
      "numpy      1.18.5\n",
      "matplotlib 3.2.1\n",
      "sklearn    0.23.1\n",
      "Data Science Academy\n"
     ]
    }
   ],
   "source": [
    "# Versões dos pacotes usados neste jupyter notebook\n",
    "%reload_ext watermark\n",
    "%watermark -a \"Data Science Academy\" --iversions"
   ]
  },
  {
   "cell_type": "markdown",
   "metadata": {},
   "source": [
    "### Carregando os Dados\n",
    "\n",
    "https://scikit-learn.org/stable/datasets/index.html#breast-cancer-dataset"
   ]
  },
  {
   "cell_type": "code",
   "execution_count": 23,
   "metadata": {},
   "outputs": [],
   "source": [
    "# Carregamos o objeto completo\n",
    "temp = load_breast_cancer()"
   ]
  },
  {
   "cell_type": "code",
   "execution_count": 24,
   "metadata": {},
   "outputs": [
    {
     "data": {
      "text/plain": [
       "sklearn.utils.Bunch"
      ]
     },
     "execution_count": 24,
     "metadata": {},
     "output_type": "execute_result"
    }
   ],
   "source": [
    "# Tipo do objeto\n",
    "type(temp)"
   ]
  },
  {
   "cell_type": "code",
   "execution_count": 25,
   "metadata": {},
   "outputs": [
    {
     "data": {
      "text/plain": [
       "{'data': array([[1.799e+01, 1.038e+01, 1.228e+02, ..., 2.654e-01, 4.601e-01,\n",
       "         1.189e-01],\n",
       "        [2.057e+01, 1.777e+01, 1.329e+02, ..., 1.860e-01, 2.750e-01,\n",
       "         8.902e-02],\n",
       "        [1.969e+01, 2.125e+01, 1.300e+02, ..., 2.430e-01, 3.613e-01,\n",
       "         8.758e-02],\n",
       "        ...,\n",
       "        [1.660e+01, 2.808e+01, 1.083e+02, ..., 1.418e-01, 2.218e-01,\n",
       "         7.820e-02],\n",
       "        [2.060e+01, 2.933e+01, 1.401e+02, ..., 2.650e-01, 4.087e-01,\n",
       "         1.240e-01],\n",
       "        [7.760e+00, 2.454e+01, 4.792e+01, ..., 0.000e+00, 2.871e-01,\n",
       "         7.039e-02]]),\n",
       " 'target': array([0, 0, 0, 0, 0, 0, 0, 0, 0, 0, 0, 0, 0, 0, 0, 0, 0, 0, 0, 1, 1, 1,\n",
       "        0, 0, 0, 0, 0, 0, 0, 0, 0, 0, 0, 0, 0, 0, 0, 1, 0, 0, 0, 0, 0, 0,\n",
       "        0, 0, 1, 0, 1, 1, 1, 1, 1, 0, 0, 1, 0, 0, 1, 1, 1, 1, 0, 1, 0, 0,\n",
       "        1, 1, 1, 1, 0, 1, 0, 0, 1, 0, 1, 0, 0, 1, 1, 1, 0, 0, 1, 0, 0, 0,\n",
       "        1, 1, 1, 0, 1, 1, 0, 0, 1, 1, 1, 0, 0, 1, 1, 1, 1, 0, 1, 1, 0, 1,\n",
       "        1, 1, 1, 1, 1, 1, 1, 0, 0, 0, 1, 0, 0, 1, 1, 1, 0, 0, 1, 0, 1, 0,\n",
       "        0, 1, 0, 0, 1, 1, 0, 1, 1, 0, 1, 1, 1, 1, 0, 1, 1, 1, 1, 1, 1, 1,\n",
       "        1, 1, 0, 1, 1, 1, 1, 0, 0, 1, 0, 1, 1, 0, 0, 1, 1, 0, 0, 1, 1, 1,\n",
       "        1, 0, 1, 1, 0, 0, 0, 1, 0, 1, 0, 1, 1, 1, 0, 1, 1, 0, 0, 1, 0, 0,\n",
       "        0, 0, 1, 0, 0, 0, 1, 0, 1, 0, 1, 1, 0, 1, 0, 0, 0, 0, 1, 1, 0, 0,\n",
       "        1, 1, 1, 0, 1, 1, 1, 1, 1, 0, 0, 1, 1, 0, 1, 1, 0, 0, 1, 0, 1, 1,\n",
       "        1, 1, 0, 1, 1, 1, 1, 1, 0, 1, 0, 0, 0, 0, 0, 0, 0, 0, 0, 0, 0, 0,\n",
       "        0, 0, 1, 1, 1, 1, 1, 1, 0, 1, 0, 1, 1, 0, 1, 1, 0, 1, 0, 0, 1, 1,\n",
       "        1, 1, 1, 1, 1, 1, 1, 1, 1, 1, 1, 0, 1, 1, 0, 1, 0, 1, 1, 1, 1, 1,\n",
       "        1, 1, 1, 1, 1, 1, 1, 1, 1, 0, 1, 1, 1, 0, 1, 0, 1, 1, 1, 1, 0, 0,\n",
       "        0, 1, 1, 1, 1, 0, 1, 0, 1, 0, 1, 1, 1, 0, 1, 1, 1, 1, 1, 1, 1, 0,\n",
       "        0, 0, 1, 1, 1, 1, 1, 1, 1, 1, 1, 1, 1, 0, 0, 1, 0, 0, 0, 1, 0, 0,\n",
       "        1, 1, 1, 1, 1, 0, 1, 1, 1, 1, 1, 0, 1, 1, 1, 0, 1, 1, 0, 0, 1, 1,\n",
       "        1, 1, 1, 1, 0, 1, 1, 1, 1, 1, 1, 1, 0, 1, 1, 1, 1, 1, 0, 1, 1, 0,\n",
       "        1, 1, 1, 1, 1, 1, 1, 1, 1, 1, 1, 1, 0, 1, 0, 0, 1, 0, 1, 1, 1, 1,\n",
       "        1, 0, 1, 1, 0, 1, 0, 1, 1, 0, 1, 0, 1, 1, 1, 1, 1, 1, 1, 1, 0, 0,\n",
       "        1, 1, 1, 1, 1, 1, 0, 1, 1, 1, 1, 1, 1, 1, 1, 1, 1, 0, 1, 1, 1, 1,\n",
       "        1, 1, 1, 0, 1, 0, 1, 1, 0, 1, 1, 1, 1, 1, 0, 0, 1, 0, 1, 0, 1, 1,\n",
       "        1, 1, 1, 0, 1, 1, 0, 1, 0, 1, 0, 0, 1, 1, 1, 0, 1, 1, 1, 1, 1, 1,\n",
       "        1, 1, 1, 1, 1, 0, 1, 0, 0, 1, 1, 1, 1, 1, 1, 1, 1, 1, 1, 1, 1, 1,\n",
       "        1, 1, 1, 1, 1, 1, 1, 1, 1, 1, 1, 1, 0, 0, 0, 0, 0, 0, 1]),\n",
       " 'frame': None,\n",
       " 'target_names': array(['malignant', 'benign'], dtype='<U9'),\n",
       " 'DESCR': '.. _breast_cancer_dataset:\\n\\nBreast cancer wisconsin (diagnostic) dataset\\n--------------------------------------------\\n\\n**Data Set Characteristics:**\\n\\n    :Number of Instances: 569\\n\\n    :Number of Attributes: 30 numeric, predictive attributes and the class\\n\\n    :Attribute Information:\\n        - radius (mean of distances from center to points on the perimeter)\\n        - texture (standard deviation of gray-scale values)\\n        - perimeter\\n        - area\\n        - smoothness (local variation in radius lengths)\\n        - compactness (perimeter^2 / area - 1.0)\\n        - concavity (severity of concave portions of the contour)\\n        - concave points (number of concave portions of the contour)\\n        - symmetry\\n        - fractal dimension (\"coastline approximation\" - 1)\\n\\n        The mean, standard error, and \"worst\" or largest (mean of the three\\n        worst/largest values) of these features were computed for each image,\\n        resulting in 30 features.  For instance, field 0 is Mean Radius, field\\n        10 is Radius SE, field 20 is Worst Radius.\\n\\n        - class:\\n                - WDBC-Malignant\\n                - WDBC-Benign\\n\\n    :Summary Statistics:\\n\\n    ===================================== ====== ======\\n                                           Min    Max\\n    ===================================== ====== ======\\n    radius (mean):                        6.981  28.11\\n    texture (mean):                       9.71   39.28\\n    perimeter (mean):                     43.79  188.5\\n    area (mean):                          143.5  2501.0\\n    smoothness (mean):                    0.053  0.163\\n    compactness (mean):                   0.019  0.345\\n    concavity (mean):                     0.0    0.427\\n    concave points (mean):                0.0    0.201\\n    symmetry (mean):                      0.106  0.304\\n    fractal dimension (mean):             0.05   0.097\\n    radius (standard error):              0.112  2.873\\n    texture (standard error):             0.36   4.885\\n    perimeter (standard error):           0.757  21.98\\n    area (standard error):                6.802  542.2\\n    smoothness (standard error):          0.002  0.031\\n    compactness (standard error):         0.002  0.135\\n    concavity (standard error):           0.0    0.396\\n    concave points (standard error):      0.0    0.053\\n    symmetry (standard error):            0.008  0.079\\n    fractal dimension (standard error):   0.001  0.03\\n    radius (worst):                       7.93   36.04\\n    texture (worst):                      12.02  49.54\\n    perimeter (worst):                    50.41  251.2\\n    area (worst):                         185.2  4254.0\\n    smoothness (worst):                   0.071  0.223\\n    compactness (worst):                  0.027  1.058\\n    concavity (worst):                    0.0    1.252\\n    concave points (worst):               0.0    0.291\\n    symmetry (worst):                     0.156  0.664\\n    fractal dimension (worst):            0.055  0.208\\n    ===================================== ====== ======\\n\\n    :Missing Attribute Values: None\\n\\n    :Class Distribution: 212 - Malignant, 357 - Benign\\n\\n    :Creator:  Dr. William H. Wolberg, W. Nick Street, Olvi L. Mangasarian\\n\\n    :Donor: Nick Street\\n\\n    :Date: November, 1995\\n\\nThis is a copy of UCI ML Breast Cancer Wisconsin (Diagnostic) datasets.\\nhttps://goo.gl/U2Uwz2\\n\\nFeatures are computed from a digitized image of a fine needle\\naspirate (FNA) of a breast mass.  They describe\\ncharacteristics of the cell nuclei present in the image.\\n\\nSeparating plane described above was obtained using\\nMultisurface Method-Tree (MSM-T) [K. P. Bennett, \"Decision Tree\\nConstruction Via Linear Programming.\" Proceedings of the 4th\\nMidwest Artificial Intelligence and Cognitive Science Society,\\npp. 97-101, 1992], a classification method which uses linear\\nprogramming to construct a decision tree.  Relevant features\\nwere selected using an exhaustive search in the space of 1-4\\nfeatures and 1-3 separating planes.\\n\\nThe actual linear program used to obtain the separating plane\\nin the 3-dimensional space is that described in:\\n[K. P. Bennett and O. L. Mangasarian: \"Robust Linear\\nProgramming Discrimination of Two Linearly Inseparable Sets\",\\nOptimization Methods and Software 1, 1992, 23-34].\\n\\nThis database is also available through the UW CS ftp server:\\n\\nftp ftp.cs.wisc.edu\\ncd math-prog/cpo-dataset/machine-learn/WDBC/\\n\\n.. topic:: References\\n\\n   - W.N. Street, W.H. Wolberg and O.L. Mangasarian. Nuclear feature extraction \\n     for breast tumor diagnosis. IS&T/SPIE 1993 International Symposium on \\n     Electronic Imaging: Science and Technology, volume 1905, pages 861-870,\\n     San Jose, CA, 1993.\\n   - O.L. Mangasarian, W.N. Street and W.H. Wolberg. Breast cancer diagnosis and \\n     prognosis via linear programming. Operations Research, 43(4), pages 570-577, \\n     July-August 1995.\\n   - W.H. Wolberg, W.N. Street, and O.L. Mangasarian. Machine learning techniques\\n     to diagnose breast cancer from fine-needle aspirates. Cancer Letters 77 (1994) \\n     163-171.',\n",
       " 'feature_names': array(['mean radius', 'mean texture', 'mean perimeter', 'mean area',\n",
       "        'mean smoothness', 'mean compactness', 'mean concavity',\n",
       "        'mean concave points', 'mean symmetry', 'mean fractal dimension',\n",
       "        'radius error', 'texture error', 'perimeter error', 'area error',\n",
       "        'smoothness error', 'compactness error', 'concavity error',\n",
       "        'concave points error', 'symmetry error',\n",
       "        'fractal dimension error', 'worst radius', 'worst texture',\n",
       "        'worst perimeter', 'worst area', 'worst smoothness',\n",
       "        'worst compactness', 'worst concavity', 'worst concave points',\n",
       "        'worst symmetry', 'worst fractal dimension'], dtype='<U23'),\n",
       " 'filename': '/Users/dmpm/opt/anaconda3/lib/python3.7/site-packages/sklearn/datasets/data/breast_cancer.csv'}"
      ]
     },
     "execution_count": 25,
     "metadata": {},
     "output_type": "execute_result"
    }
   ],
   "source": [
    "# Visualiza o objeto\n",
    "temp"
   ]
  },
  {
   "cell_type": "code",
   "execution_count": 26,
   "metadata": {},
   "outputs": [],
   "source": [
    "# Carregamos o dataset\n",
    "dados = pd.DataFrame(columns = load_breast_cancer()[\"feature_names\"], data = load_breast_cancer()[\"data\"])"
   ]
  },
  {
   "cell_type": "code",
   "execution_count": 27,
   "metadata": {},
   "outputs": [
    {
     "data": {
      "text/plain": [
       "(569, 30)"
      ]
     },
     "execution_count": 27,
     "metadata": {},
     "output_type": "execute_result"
    }
   ],
   "source": [
    "# Shape\n",
    "dados.shape"
   ]
  },
  {
   "cell_type": "code",
   "execution_count": 28,
   "metadata": {},
   "outputs": [
    {
     "data": {
      "text/html": [
       "<div>\n",
       "<style scoped>\n",
       "    .dataframe tbody tr th:only-of-type {\n",
       "        vertical-align: middle;\n",
       "    }\n",
       "\n",
       "    .dataframe tbody tr th {\n",
       "        vertical-align: top;\n",
       "    }\n",
       "\n",
       "    .dataframe thead th {\n",
       "        text-align: right;\n",
       "    }\n",
       "</style>\n",
       "<table border=\"1\" class=\"dataframe\">\n",
       "  <thead>\n",
       "    <tr style=\"text-align: right;\">\n",
       "      <th></th>\n",
       "      <th>mean radius</th>\n",
       "      <th>mean texture</th>\n",
       "      <th>mean perimeter</th>\n",
       "      <th>mean area</th>\n",
       "      <th>mean smoothness</th>\n",
       "      <th>mean compactness</th>\n",
       "      <th>mean concavity</th>\n",
       "      <th>mean concave points</th>\n",
       "      <th>mean symmetry</th>\n",
       "      <th>mean fractal dimension</th>\n",
       "      <th>...</th>\n",
       "      <th>worst radius</th>\n",
       "      <th>worst texture</th>\n",
       "      <th>worst perimeter</th>\n",
       "      <th>worst area</th>\n",
       "      <th>worst smoothness</th>\n",
       "      <th>worst compactness</th>\n",
       "      <th>worst concavity</th>\n",
       "      <th>worst concave points</th>\n",
       "      <th>worst symmetry</th>\n",
       "      <th>worst fractal dimension</th>\n",
       "    </tr>\n",
       "  </thead>\n",
       "  <tbody>\n",
       "    <tr>\n",
       "      <th>0</th>\n",
       "      <td>17.99</td>\n",
       "      <td>10.38</td>\n",
       "      <td>122.80</td>\n",
       "      <td>1001.0</td>\n",
       "      <td>0.11840</td>\n",
       "      <td>0.27760</td>\n",
       "      <td>0.3001</td>\n",
       "      <td>0.14710</td>\n",
       "      <td>0.2419</td>\n",
       "      <td>0.07871</td>\n",
       "      <td>...</td>\n",
       "      <td>25.38</td>\n",
       "      <td>17.33</td>\n",
       "      <td>184.60</td>\n",
       "      <td>2019.0</td>\n",
       "      <td>0.1622</td>\n",
       "      <td>0.6656</td>\n",
       "      <td>0.7119</td>\n",
       "      <td>0.2654</td>\n",
       "      <td>0.4601</td>\n",
       "      <td>0.11890</td>\n",
       "    </tr>\n",
       "    <tr>\n",
       "      <th>1</th>\n",
       "      <td>20.57</td>\n",
       "      <td>17.77</td>\n",
       "      <td>132.90</td>\n",
       "      <td>1326.0</td>\n",
       "      <td>0.08474</td>\n",
       "      <td>0.07864</td>\n",
       "      <td>0.0869</td>\n",
       "      <td>0.07017</td>\n",
       "      <td>0.1812</td>\n",
       "      <td>0.05667</td>\n",
       "      <td>...</td>\n",
       "      <td>24.99</td>\n",
       "      <td>23.41</td>\n",
       "      <td>158.80</td>\n",
       "      <td>1956.0</td>\n",
       "      <td>0.1238</td>\n",
       "      <td>0.1866</td>\n",
       "      <td>0.2416</td>\n",
       "      <td>0.1860</td>\n",
       "      <td>0.2750</td>\n",
       "      <td>0.08902</td>\n",
       "    </tr>\n",
       "    <tr>\n",
       "      <th>2</th>\n",
       "      <td>19.69</td>\n",
       "      <td>21.25</td>\n",
       "      <td>130.00</td>\n",
       "      <td>1203.0</td>\n",
       "      <td>0.10960</td>\n",
       "      <td>0.15990</td>\n",
       "      <td>0.1974</td>\n",
       "      <td>0.12790</td>\n",
       "      <td>0.2069</td>\n",
       "      <td>0.05999</td>\n",
       "      <td>...</td>\n",
       "      <td>23.57</td>\n",
       "      <td>25.53</td>\n",
       "      <td>152.50</td>\n",
       "      <td>1709.0</td>\n",
       "      <td>0.1444</td>\n",
       "      <td>0.4245</td>\n",
       "      <td>0.4504</td>\n",
       "      <td>0.2430</td>\n",
       "      <td>0.3613</td>\n",
       "      <td>0.08758</td>\n",
       "    </tr>\n",
       "    <tr>\n",
       "      <th>3</th>\n",
       "      <td>11.42</td>\n",
       "      <td>20.38</td>\n",
       "      <td>77.58</td>\n",
       "      <td>386.1</td>\n",
       "      <td>0.14250</td>\n",
       "      <td>0.28390</td>\n",
       "      <td>0.2414</td>\n",
       "      <td>0.10520</td>\n",
       "      <td>0.2597</td>\n",
       "      <td>0.09744</td>\n",
       "      <td>...</td>\n",
       "      <td>14.91</td>\n",
       "      <td>26.50</td>\n",
       "      <td>98.87</td>\n",
       "      <td>567.7</td>\n",
       "      <td>0.2098</td>\n",
       "      <td>0.8663</td>\n",
       "      <td>0.6869</td>\n",
       "      <td>0.2575</td>\n",
       "      <td>0.6638</td>\n",
       "      <td>0.17300</td>\n",
       "    </tr>\n",
       "    <tr>\n",
       "      <th>4</th>\n",
       "      <td>20.29</td>\n",
       "      <td>14.34</td>\n",
       "      <td>135.10</td>\n",
       "      <td>1297.0</td>\n",
       "      <td>0.10030</td>\n",
       "      <td>0.13280</td>\n",
       "      <td>0.1980</td>\n",
       "      <td>0.10430</td>\n",
       "      <td>0.1809</td>\n",
       "      <td>0.05883</td>\n",
       "      <td>...</td>\n",
       "      <td>22.54</td>\n",
       "      <td>16.67</td>\n",
       "      <td>152.20</td>\n",
       "      <td>1575.0</td>\n",
       "      <td>0.1374</td>\n",
       "      <td>0.2050</td>\n",
       "      <td>0.4000</td>\n",
       "      <td>0.1625</td>\n",
       "      <td>0.2364</td>\n",
       "      <td>0.07678</td>\n",
       "    </tr>\n",
       "  </tbody>\n",
       "</table>\n",
       "<p>5 rows × 30 columns</p>\n",
       "</div>"
      ],
      "text/plain": [
       "   mean radius  mean texture  mean perimeter  mean area  mean smoothness  \\\n",
       "0        17.99         10.38          122.80     1001.0          0.11840   \n",
       "1        20.57         17.77          132.90     1326.0          0.08474   \n",
       "2        19.69         21.25          130.00     1203.0          0.10960   \n",
       "3        11.42         20.38           77.58      386.1          0.14250   \n",
       "4        20.29         14.34          135.10     1297.0          0.10030   \n",
       "\n",
       "   mean compactness  mean concavity  mean concave points  mean symmetry  \\\n",
       "0           0.27760          0.3001              0.14710         0.2419   \n",
       "1           0.07864          0.0869              0.07017         0.1812   \n",
       "2           0.15990          0.1974              0.12790         0.2069   \n",
       "3           0.28390          0.2414              0.10520         0.2597   \n",
       "4           0.13280          0.1980              0.10430         0.1809   \n",
       "\n",
       "   mean fractal dimension  ...  worst radius  worst texture  worst perimeter  \\\n",
       "0                 0.07871  ...         25.38          17.33           184.60   \n",
       "1                 0.05667  ...         24.99          23.41           158.80   \n",
       "2                 0.05999  ...         23.57          25.53           152.50   \n",
       "3                 0.09744  ...         14.91          26.50            98.87   \n",
       "4                 0.05883  ...         22.54          16.67           152.20   \n",
       "\n",
       "   worst area  worst smoothness  worst compactness  worst concavity  \\\n",
       "0      2019.0            0.1622             0.6656           0.7119   \n",
       "1      1956.0            0.1238             0.1866           0.2416   \n",
       "2      1709.0            0.1444             0.4245           0.4504   \n",
       "3       567.7            0.2098             0.8663           0.6869   \n",
       "4      1575.0            0.1374             0.2050           0.4000   \n",
       "\n",
       "   worst concave points  worst symmetry  worst fractal dimension  \n",
       "0                0.2654          0.4601                  0.11890  \n",
       "1                0.1860          0.2750                  0.08902  \n",
       "2                0.2430          0.3613                  0.08758  \n",
       "3                0.2575          0.6638                  0.17300  \n",
       "4                0.1625          0.2364                  0.07678  \n",
       "\n",
       "[5 rows x 30 columns]"
      ]
     },
     "execution_count": 28,
     "metadata": {},
     "output_type": "execute_result"
    }
   ],
   "source": [
    "# Visualiza os dados\n",
    "dados.head()"
   ]
  },
  {
   "cell_type": "code",
   "execution_count": 29,
   "metadata": {},
   "outputs": [
    {
     "data": {
      "text/plain": [
       "mean radius                False\n",
       "mean texture               False\n",
       "mean perimeter             False\n",
       "mean area                  False\n",
       "mean smoothness            False\n",
       "mean compactness           False\n",
       "mean concavity             False\n",
       "mean concave points        False\n",
       "mean symmetry              False\n",
       "mean fractal dimension     False\n",
       "radius error               False\n",
       "texture error              False\n",
       "perimeter error            False\n",
       "area error                 False\n",
       "smoothness error           False\n",
       "compactness error          False\n",
       "concavity error            False\n",
       "concave points error       False\n",
       "symmetry error             False\n",
       "fractal dimension error    False\n",
       "worst radius               False\n",
       "worst texture              False\n",
       "worst perimeter            False\n",
       "worst area                 False\n",
       "worst smoothness           False\n",
       "worst compactness          False\n",
       "worst concavity            False\n",
       "worst concave points       False\n",
       "worst symmetry             False\n",
       "worst fractal dimension    False\n",
       "dtype: bool"
      ]
     },
     "execution_count": 29,
     "metadata": {},
     "output_type": "execute_result"
    }
   ],
   "source": [
    "# Verifica se temos valores ausentes\n",
    "dados.isnull().any()"
   ]
  },
  {
   "cell_type": "code",
   "execution_count": 30,
   "metadata": {},
   "outputs": [],
   "source": [
    "# Separa a variável target\n",
    "target = load_breast_cancer()[\"target\"]"
   ]
  },
  {
   "cell_type": "code",
   "execution_count": 31,
   "metadata": {},
   "outputs": [
    {
     "data": {
      "text/plain": [
       "numpy.ndarray"
      ]
     },
     "execution_count": 31,
     "metadata": {},
     "output_type": "execute_result"
    }
   ],
   "source": [
    "type(target)"
   ]
  },
  {
   "cell_type": "code",
   "execution_count": 32,
   "metadata": {},
   "outputs": [
    {
     "data": {
      "text/plain": [
       "array([0, 0, 0, 0, 0, 0, 0, 0, 0, 0, 0, 0, 0, 0, 0, 0, 0, 0, 0, 1, 1, 1,\n",
       "       0, 0, 0, 0, 0, 0, 0, 0, 0, 0, 0, 0, 0, 0, 0, 1, 0, 0, 0, 0, 0, 0,\n",
       "       0, 0, 1, 0, 1, 1, 1, 1, 1, 0, 0, 1, 0, 0, 1, 1, 1, 1, 0, 1, 0, 0,\n",
       "       1, 1, 1, 1, 0, 1, 0, 0, 1, 0, 1, 0, 0, 1, 1, 1, 0, 0, 1, 0, 0, 0,\n",
       "       1, 1, 1, 0, 1, 1, 0, 0, 1, 1, 1, 0, 0, 1, 1, 1, 1, 0, 1, 1, 0, 1,\n",
       "       1, 1, 1, 1, 1, 1, 1, 0, 0, 0, 1, 0, 0, 1, 1, 1, 0, 0, 1, 0, 1, 0,\n",
       "       0, 1, 0, 0, 1, 1, 0, 1, 1, 0, 1, 1, 1, 1, 0, 1, 1, 1, 1, 1, 1, 1,\n",
       "       1, 1, 0, 1, 1, 1, 1, 0, 0, 1, 0, 1, 1, 0, 0, 1, 1, 0, 0, 1, 1, 1,\n",
       "       1, 0, 1, 1, 0, 0, 0, 1, 0, 1, 0, 1, 1, 1, 0, 1, 1, 0, 0, 1, 0, 0,\n",
       "       0, 0, 1, 0, 0, 0, 1, 0, 1, 0, 1, 1, 0, 1, 0, 0, 0, 0, 1, 1, 0, 0,\n",
       "       1, 1, 1, 0, 1, 1, 1, 1, 1, 0, 0, 1, 1, 0, 1, 1, 0, 0, 1, 0, 1, 1,\n",
       "       1, 1, 0, 1, 1, 1, 1, 1, 0, 1, 0, 0, 0, 0, 0, 0, 0, 0, 0, 0, 0, 0,\n",
       "       0, 0, 1, 1, 1, 1, 1, 1, 0, 1, 0, 1, 1, 0, 1, 1, 0, 1, 0, 0, 1, 1,\n",
       "       1, 1, 1, 1, 1, 1, 1, 1, 1, 1, 1, 0, 1, 1, 0, 1, 0, 1, 1, 1, 1, 1,\n",
       "       1, 1, 1, 1, 1, 1, 1, 1, 1, 0, 1, 1, 1, 0, 1, 0, 1, 1, 1, 1, 0, 0,\n",
       "       0, 1, 1, 1, 1, 0, 1, 0, 1, 0, 1, 1, 1, 0, 1, 1, 1, 1, 1, 1, 1, 0,\n",
       "       0, 0, 1, 1, 1, 1, 1, 1, 1, 1, 1, 1, 1, 0, 0, 1, 0, 0, 0, 1, 0, 0,\n",
       "       1, 1, 1, 1, 1, 0, 1, 1, 1, 1, 1, 0, 1, 1, 1, 0, 1, 1, 0, 0, 1, 1,\n",
       "       1, 1, 1, 1, 0, 1, 1, 1, 1, 1, 1, 1, 0, 1, 1, 1, 1, 1, 0, 1, 1, 0,\n",
       "       1, 1, 1, 1, 1, 1, 1, 1, 1, 1, 1, 1, 0, 1, 0, 0, 1, 0, 1, 1, 1, 1,\n",
       "       1, 0, 1, 1, 0, 1, 0, 1, 1, 0, 1, 0, 1, 1, 1, 1, 1, 1, 1, 1, 0, 0,\n",
       "       1, 1, 1, 1, 1, 1, 0, 1, 1, 1, 1, 1, 1, 1, 1, 1, 1, 0, 1, 1, 1, 1,\n",
       "       1, 1, 1, 0, 1, 0, 1, 1, 0, 1, 1, 1, 1, 1, 0, 0, 1, 0, 1, 0, 1, 1,\n",
       "       1, 1, 1, 0, 1, 1, 0, 1, 0, 1, 0, 0, 1, 1, 1, 0, 1, 1, 1, 1, 1, 1,\n",
       "       1, 1, 1, 1, 1, 0, 1, 0, 0, 1, 1, 1, 1, 1, 1, 1, 1, 1, 1, 1, 1, 1,\n",
       "       1, 1, 1, 1, 1, 1, 1, 1, 1, 1, 1, 1, 0, 0, 0, 0, 0, 0, 1])"
      ]
     },
     "execution_count": 32,
     "metadata": {},
     "output_type": "execute_result"
    }
   ],
   "source": [
    "# Visualiza a variável\n",
    "target"
   ]
  },
  {
   "cell_type": "code",
   "execution_count": 33,
   "metadata": {},
   "outputs": [
    {
     "data": {
      "text/plain": [
       "357"
      ]
     },
     "execution_count": 33,
     "metadata": {},
     "output_type": "execute_result"
    }
   ],
   "source": [
    "# Total de registros por classe - Câncer Benigno\n",
    "np.count_nonzero(target == 1)"
   ]
  },
  {
   "cell_type": "code",
   "execution_count": 34,
   "metadata": {},
   "outputs": [
    {
     "data": {
      "text/plain": [
       "212"
      ]
     },
     "execution_count": 34,
     "metadata": {},
     "output_type": "execute_result"
    }
   ],
   "source": [
    "# Total de registros por classe - Câncer Maligno\n",
    "np.count_nonzero(target == 0)"
   ]
  },
  {
   "cell_type": "code",
   "execution_count": 35,
   "metadata": {},
   "outputs": [],
   "source": [
    "# Vamos extrair os labels\n",
    "\n",
    "# Dicionário para os labels\n",
    "labels = {}\n",
    "\n",
    "# Nomes das classes da variável target\n",
    "target_names = load_breast_cancer()[\"target_names\"]\n",
    "\n",
    "# Mapeamento\n",
    "for i in range(len(target_names)):\n",
    "    labels.update({i:target_names[i]})"
   ]
  },
  {
   "cell_type": "code",
   "execution_count": 36,
   "metadata": {},
   "outputs": [
    {
     "data": {
      "text/plain": [
       "{0: 'malignant', 1: 'benign'}"
      ]
     },
     "execution_count": 36,
     "metadata": {},
     "output_type": "execute_result"
    }
   ],
   "source": [
    "# Visualiza os labels\n",
    "labels"
   ]
  },
  {
   "cell_type": "code",
   "execution_count": 37,
   "metadata": {},
   "outputs": [],
   "source": [
    "# Agora preparamos as variáveis preditoras em X\n",
    "X = np.array(dados)"
   ]
  },
  {
   "cell_type": "code",
   "execution_count": 38,
   "metadata": {},
   "outputs": [
    {
     "data": {
      "text/plain": [
       "array([[1.799e+01, 1.038e+01, 1.228e+02, ..., 2.654e-01, 4.601e-01,\n",
       "        1.189e-01],\n",
       "       [2.057e+01, 1.777e+01, 1.329e+02, ..., 1.860e-01, 2.750e-01,\n",
       "        8.902e-02],\n",
       "       [1.969e+01, 2.125e+01, 1.300e+02, ..., 2.430e-01, 3.613e-01,\n",
       "        8.758e-02],\n",
       "       ...,\n",
       "       [1.660e+01, 2.808e+01, 1.083e+02, ..., 1.418e-01, 2.218e-01,\n",
       "        7.820e-02],\n",
       "       [2.060e+01, 2.933e+01, 1.401e+02, ..., 2.650e-01, 4.087e-01,\n",
       "        1.240e-01],\n",
       "       [7.760e+00, 2.454e+01, 4.792e+01, ..., 0.000e+00, 2.871e-01,\n",
       "        7.039e-02]])"
      ]
     },
     "execution_count": 38,
     "metadata": {},
     "output_type": "execute_result"
    }
   ],
   "source": [
    "# Visualiza os dados de entrada\n",
    "X"
   ]
  },
  {
   "cell_type": "code",
   "execution_count": 39,
   "metadata": {},
   "outputs": [],
   "source": [
    "# Dividimos os dados de entrada e saída em treino e teste\n",
    "X_treino, X_teste, y_treino, y_teste = train_test_split(X, target, test_size = 0.15, shuffle = True)"
   ]
  },
  {
   "cell_type": "code",
   "execution_count": 40,
   "metadata": {},
   "outputs": [
    {
     "name": "stdout",
     "output_type": "stream",
     "text": [
      "(483, 30)\n",
      "(483,)\n"
     ]
    }
   ],
   "source": [
    "# Shape dos dados de treino\n",
    "print(X_treino.shape)\n",
    "print(y_treino.shape)"
   ]
  },
  {
   "cell_type": "code",
   "execution_count": 41,
   "metadata": {},
   "outputs": [
    {
     "name": "stdout",
     "output_type": "stream",
     "text": [
      "(86, 30)\n",
      "(86,)\n"
     ]
    }
   ],
   "source": [
    "# Shape dos dados de teste\n",
    "print(X_teste.shape)\n",
    "print(y_teste.shape)"
   ]
  },
  {
   "cell_type": "code",
   "execution_count": 42,
   "metadata": {},
   "outputs": [],
   "source": [
    "# Ajusta o shape dos dados de entrada\n",
    "X_treino = X_treino.T\n",
    "X_teste = X_teste.T"
   ]
  },
  {
   "cell_type": "code",
   "execution_count": 43,
   "metadata": {},
   "outputs": [
    {
     "name": "stdout",
     "output_type": "stream",
     "text": [
      "(30, 483)\n",
      "(30, 86)\n"
     ]
    }
   ],
   "source": [
    "print(X_treino.shape)\n",
    "print(X_teste.shape)"
   ]
  },
  {
   "cell_type": "code",
   "execution_count": 44,
   "metadata": {},
   "outputs": [],
   "source": [
    "# Precisamos ajustar também os dados de saída\n",
    "y_treino = y_treino.reshape(1, len(y_treino))\n",
    "y_teste = y_teste.reshape(1, len(y_teste))"
   ]
  },
  {
   "cell_type": "code",
   "execution_count": 45,
   "metadata": {},
   "outputs": [
    {
     "name": "stdout",
     "output_type": "stream",
     "text": [
      "(1, 483)\n",
      "(1, 86)\n"
     ]
    }
   ],
   "source": [
    "print(y_treino.shape)\n",
    "print(y_teste.shape)"
   ]
  },
  {
   "cell_type": "code",
   "execution_count": 46,
   "metadata": {},
   "outputs": [],
   "source": [
    "# Variável com as dimensões de entrada para oo número de neurônios \n",
    "dims_camada_entrada = [X_treino.shape[0], 50, 20, 5, 1]"
   ]
  },
  {
   "cell_type": "code",
   "execution_count": 47,
   "metadata": {},
   "outputs": [
    {
     "data": {
      "text/plain": [
       "[30, 50, 20, 5, 1]"
      ]
     },
     "execution_count": 47,
     "metadata": {},
     "output_type": "execute_result"
    }
   ],
   "source": [
    "dims_camada_entrada"
   ]
  },
  {
   "cell_type": "code",
   "execution_count": 48,
   "metadata": {},
   "outputs": [
    {
     "name": "stdout",
     "output_type": "stream",
     "text": [
      "\n",
      "Iniciando o Treinamento.\n",
      "\n",
      "Custo Após 0 iterações é 0.6931476406502155\n",
      "Custo Após 10 iterações é 0.691952058571055\n",
      "Custo Após 20 iterações é 0.6908004648396447\n",
      "Custo Após 30 iterações é 0.6896912557906087\n",
      "Custo Após 40 iterações é 0.6886228386144225\n",
      "Custo Após 50 iterações é 0.6875937091874144\n",
      "Custo Após 60 iterações é 0.6866023979961501\n",
      "Custo Após 70 iterações é 0.685647439703171\n",
      "Custo Após 80 iterações é 0.6847275151985815\n",
      "Custo Após 90 iterações é 0.6838416818239441\n",
      "Custo Após 100 iterações é 0.6829886176189033\n",
      "Custo Após 110 iterações é 0.6821668800750234\n",
      "Custo Após 120 iterações é 0.6813752749822874\n",
      "Custo Após 130 iterações é 0.680612675905404\n",
      "Custo Após 140 iterações é 0.679877997441771\n",
      "Custo Após 150 iterações é 0.6791701992715387\n",
      "Custo Após 160 iterações é 0.6784882769293755\n",
      "Custo Após 170 iterações é 0.6778312600186481\n",
      "Custo Após 180 iterações é 0.6771982065391267\n",
      "Custo Após 190 iterações é 0.6765882206082318\n",
      "Custo Após 200 iterações é 0.6760004422088514\n",
      "Custo Após 210 iterações é 0.6754340359610417\n",
      "Custo Após 220 iterações é 0.6748882072569696\n",
      "Custo Após 230 iterações é 0.6743621817606651\n",
      "Custo Após 240 iterações é 0.6738551759317413\n",
      "Custo Após 250 iterações é 0.6733664709901399\n",
      "Custo Após 260 iterações é 0.6728952881122785\n",
      "Custo Após 270 iterações é 0.672440618570723\n",
      "Custo Após 280 iterações é 0.6720008518347905\n",
      "Custo Após 290 iterações é 0.6715749707560172\n",
      "Custo Após 300 iterações é 0.6711651155931097\n",
      "Custo Após 310 iterações é 0.6707704207890578\n",
      "Custo Após 320 iterações é 0.6703896728557653\n",
      "Custo Após 330 iterações é 0.6700221618512406\n",
      "Custo Após 340 iterações é 0.6696672951339914\n",
      "Custo Após 350 iterações é 0.6693245031474817\n",
      "Custo Após 360 iterações é 0.6689932363228224\n",
      "Custo Após 370 iterações é 0.6686729569347019\n",
      "Custo Após 380 iterações é 0.6683631402822903\n",
      "Custo Após 390 iterações é 0.6680632636332896\n",
      "Custo Após 400 iterações é 0.667772887467237\n",
      "Custo Após 410 iterações é 0.6674915051485254\n",
      "Custo Após 420 iterações é 0.6672189637953126\n",
      "Custo Após 430 iterações é 0.6669550644409611\n",
      "Custo Após 440 iterações é 0.6666990150083489\n",
      "Custo Após 450 iterações é 0.666450102281154\n",
      "Custo Após 460 iterações é 0.6662078933833698\n",
      "Custo Após 470 iterações é 0.6659717754703701\n",
      "Custo Após 480 iterações é 0.6657410509631942\n",
      "Custo Após 490 iterações é 0.6655150187226874\n",
      "Custo Após 500 iterações é 0.6652928967680941\n",
      "Custo Após 510 iterações é 0.6650738602579594\n",
      "Custo Após 520 iterações é 0.6648567865149719\n",
      "Custo Após 530 iterações é 0.6646406016313899\n",
      "Custo Após 540 iterações é 0.6644240132709063\n",
      "Custo Após 550 iterações é 0.6642055999086717\n",
      "Custo Após 560 iterações é 0.6639835544395875\n",
      "Custo Após 570 iterações é 0.6637552313922309\n",
      "Custo Após 580 iterações é 0.6635176382023388\n",
      "Custo Após 590 iterações é 0.6632667556265394\n",
      "Custo Após 600 iterações é 0.6629969100311983\n",
      "Custo Após 610 iterações é 0.6627004727573991\n",
      "Custo Após 620 iterações é 0.6623673542225558\n",
      "Custo Após 630 iterações é 0.6619827139055074\n",
      "Custo Após 640 iterações é 0.6615249771941676\n",
      "Custo Após 650 iterações é 0.6609615056223904\n",
      "Custo Após 660 iterações é 0.6602409430241959\n",
      "Custo Após 670 iterações é 0.6592798787592491\n",
      "Custo Após 680 iterações é 0.6579361809596446\n",
      "Custo Após 690 iterações é 0.6559578416945021\n",
      "Custo Após 700 iterações é 0.6528869475565141\n",
      "Custo Após 710 iterações é 0.647882898806773\n",
      "Custo Após 720 iterações é 0.6395986175071753\n",
      "Custo Após 730 iterações é 0.6271927014852727\n",
      "Custo Após 740 iterações é 0.6144692613889596\n",
      "Custo Após 750 iterações é 0.6075028396068999\n",
      "Custo Após 760 iterações é 0.604107423615444\n",
      "Custo Após 770 iterações é 0.6013182620658889\n",
      "Custo Após 780 iterações é 0.5985586269149596\n",
      "Custo Após 790 iterações é 0.5957695708601733\n",
      "Custo Após 800 iterações é 0.5929386988834645\n",
      "Custo Após 810 iterações é 0.5900561032402286\n",
      "Custo Após 820 iterações é 0.5871108556856729\n",
      "Custo Após 830 iterações é 0.5840877580940889\n",
      "Custo Após 840 iterações é 0.5809676650948269\n",
      "Custo Após 850 iterações é 0.5777264365115397\n",
      "Custo Após 860 iterações é 0.5743325702824413\n",
      "Custo Após 870 iterações é 0.5707445015777981\n",
      "Custo Após 880 iterações é 0.5669076276594015\n",
      "Custo Após 890 iterações é 0.5627434273388648\n",
      "Custo Após 900 iterações é 0.558142929951616\n",
      "Custo Após 910 iterações é 0.5529513939828474\n",
      "Custo Após 920 iterações é 0.5469457753359923\n",
      "Custo Após 930 iterações é 0.5398029028078242\n",
      "Custo Após 940 iterações é 0.5310611130382339\n",
      "Custo Após 950 iterações é 0.5200766778609608\n",
      "Custo Após 960 iterações é 0.5060052784849373\n",
      "Custo Após 970 iterações é 0.48793820994429665\n",
      "Custo Após 980 iterações é 0.4662395903053009\n",
      "Custo Após 990 iterações é 0.44381420079057504\n",
      "Custo Após 1000 iterações é 0.4239365606683611\n",
      "Custo Após 1010 iterações é 0.4816087487901606\n",
      "Custo Após 1020 iterações é 0.49618608846024187\n",
      "Custo Após 1030 iterações é 0.46683402154436826\n",
      "Custo Após 1040 iterações é 0.4554237900426966\n",
      "Custo Após 1050 iterações é 0.44910126867077055\n",
      "Custo Após 1060 iterações é 0.4416825302443011\n",
      "Custo Após 1070 iterações é 0.43692807249343607\n",
      "Custo Após 1080 iterações é 0.4323795349685668\n",
      "Custo Após 1090 iterações é 0.42612361322900183\n",
      "Custo Após 1100 iterações é 0.4192503907260112\n",
      "Custo Após 1110 iterações é 0.41288732632906516\n",
      "Custo Após 1120 iterações é 0.4079417745682632\n",
      "Custo Após 1130 iterações é 0.3972867432937064\n",
      "Custo Após 1140 iterações é 0.3942029229157125\n",
      "Custo Após 1150 iterações é 0.38982819098289395\n",
      "Custo Após 1160 iterações é 0.3848531937733197\n",
      "Custo Após 1170 iterações é 0.38039756875723296\n",
      "Custo Após 1180 iterações é 0.37651990138490693\n",
      "Custo Após 1190 iterações é 0.372578207223134\n",
      "Custo Após 1200 iterações é 0.36787310484608954\n",
      "Custo Após 1210 iterações é 0.36927305322564385\n",
      "Custo Após 1220 iterações é 0.36336174798104864\n",
      "Custo Após 1230 iterações é 0.36275479260740007\n",
      "Custo Após 1240 iterações é 0.36302819793018576\n",
      "Custo Após 1250 iterações é 0.35685037426931393\n",
      "Custo Após 1260 iterações é 0.35894586489495744\n",
      "Custo Após 1270 iterações é 0.3502081910796239\n",
      "Custo Após 1280 iterações é 0.3537287678783088\n",
      "Custo Após 1290 iterações é 0.3465186813617026\n",
      "Custo Após 1300 iterações é 0.34085041312431874\n",
      "Custo Após 1310 iterações é 0.33683469720530895\n",
      "Custo Após 1320 iterações é 0.3445755765907392\n",
      "Custo Após 1330 iterações é 0.3321253225004764\n",
      "Custo Após 1340 iterações é 0.3349676364076305\n",
      "Custo Após 1350 iterações é 0.32884609124305675\n",
      "Custo Após 1360 iterações é 0.32601249716045466\n",
      "Custo Após 1370 iterações é 0.32824439785908777\n",
      "Custo Após 1380 iterações é 0.32475765651044847\n",
      "Custo Após 1390 iterações é 0.32078615472281075\n",
      "Custo Após 1400 iterações é 0.3228069113129338\n",
      "Custo Após 1410 iterações é 0.3247419848656581\n",
      "Custo Após 1420 iterações é 0.3183282932030277\n",
      "Custo Após 1430 iterações é 0.31579481197647824\n",
      "Custo Após 1440 iterações é 0.32098544506490245\n",
      "Custo Após 1450 iterações é 0.3171880600495709\n",
      "Custo Após 1460 iterações é 0.31518872794945446\n",
      "Custo Após 1470 iterações é 0.3086076557636402\n",
      "Custo Após 1480 iterações é 0.3135645252767108\n",
      "Custo Após 1490 iterações é 0.3155510368554444\n",
      "Custo Após 1500 iterações é 0.313464269659032\n",
      "Custo Após 1510 iterações é 0.31340394279065176\n",
      "Custo Após 1520 iterações é 0.3038358318121501\n",
      "Custo Após 1530 iterações é 0.3076708943430388\n",
      "Custo Após 1540 iterações é 0.30319222633634385\n",
      "Custo Após 1550 iterações é 0.3010947231233529\n",
      "Custo Após 1560 iterações é 0.301990911329644\n",
      "Custo Após 1570 iterações é 0.29887836690576425\n",
      "Custo Após 1580 iterações é 0.3045088602982162\n",
      "Custo Após 1590 iterações é 0.302258766817219\n",
      "Custo Após 1600 iterações é 0.2977981306186077\n",
      "Custo Após 1610 iterações é 0.2988336355450556\n",
      "Custo Após 1620 iterações é 0.29853225977309833\n",
      "Custo Após 1630 iterações é 0.29596623294586455\n",
      "Custo Após 1640 iterações é 0.2952060294977649\n",
      "Custo Após 1650 iterações é 0.2933152106676087\n",
      "Custo Após 1660 iterações é 0.29381502867840253\n",
      "Custo Após 1670 iterações é 0.2907184553535729\n",
      "Custo Após 1680 iterações é 0.28848966093697154\n",
      "Custo Após 1690 iterações é 0.28305394718577753\n",
      "Custo Após 1700 iterações é 0.27460752097179675\n",
      "Custo Após 1710 iterações é 0.2737850456568282\n",
      "Custo Após 1720 iterações é 0.2730081115913256\n",
      "Custo Após 1730 iterações é 0.27419364120525014\n",
      "Custo Após 1740 iterações é 0.26836113521970795\n",
      "Custo Após 1750 iterações é 0.26690412697608223\n",
      "Custo Após 1760 iterações é 0.2670574689969758\n",
      "Custo Após 1770 iterações é 0.2654873524127135\n",
      "Custo Após 1780 iterações é 0.26604123649835393\n",
      "Custo Após 1790 iterações é 0.26729353811270756\n",
      "Custo Após 1800 iterações é 0.267870374931559\n",
      "Custo Após 1810 iterações é 0.26547779504376967\n",
      "Custo Após 1820 iterações é 0.26363800898457723\n",
      "Custo Após 1830 iterações é 0.26198194827837906\n",
      "Custo Após 1840 iterações é 0.26379281777848057\n",
      "Custo Após 1850 iterações é 0.2635303106753809\n",
      "Custo Após 1860 iterações é 0.26499606827912064\n",
      "Custo Após 1870 iterações é 0.2633514361064284\n"
     ]
    },
    {
     "name": "stdout",
     "output_type": "stream",
     "text": [
      "Custo Após 1880 iterações é 0.26330742140940283\n",
      "Custo Após 1890 iterações é 0.26111180305410997\n",
      "Custo Após 1900 iterações é 0.2600071657337202\n",
      "Custo Após 1910 iterações é 0.2615594606940393\n",
      "Custo Após 1920 iterações é 0.2597973053297311\n",
      "Custo Após 1930 iterações é 0.2582239453036231\n",
      "Custo Após 1940 iterações é 0.2583219837825213\n",
      "Custo Após 1950 iterações é 0.2560125093077447\n",
      "Custo Após 1960 iterações é 0.2510825751504093\n",
      "Custo Após 1970 iterações é 0.25180102408291194\n",
      "Custo Após 1980 iterações é 0.2505372671225331\n",
      "Custo Após 1990 iterações é 0.25000551528125997\n",
      "Custo Após 2000 iterações é 0.25033395541590703\n",
      "Custo Após 2010 iterações é 0.24976886124404288\n",
      "Custo Após 2020 iterações é 0.247491970505273\n",
      "Custo Após 2030 iterações é 0.24788389609877945\n",
      "Custo Após 2040 iterações é 0.2469567136651066\n",
      "Custo Após 2050 iterações é 0.2475631429772688\n",
      "Custo Após 2060 iterações é 0.24782623391450975\n",
      "Custo Após 2070 iterações é 0.24567576201901312\n",
      "Custo Após 2080 iterações é 0.24355171043695376\n",
      "Custo Após 2090 iterações é 0.24495477354301648\n",
      "Custo Após 2100 iterações é 0.2442468279710732\n",
      "Custo Após 2110 iterações é 0.24361663542590659\n",
      "Custo Após 2120 iterações é 0.24216879046038017\n",
      "Custo Após 2130 iterações é 0.24233020156302\n",
      "Custo Após 2140 iterações é 0.2411296264139778\n",
      "Custo Após 2150 iterações é 0.24093589701734375\n",
      "Custo Após 2160 iterações é 0.24000574734992464\n",
      "Custo Após 2170 iterações é 0.23991833416149852\n",
      "Custo Após 2180 iterações é 0.23890999345600553\n",
      "Custo Após 2190 iterações é 0.23892207169945465\n",
      "Custo Após 2200 iterações é 0.24160600195613566\n",
      "Custo Após 2210 iterações é 0.24808331878892154\n",
      "Custo Após 2220 iterações é 0.24592990457148525\n",
      "Custo Após 2230 iterações é 0.24688891999118726\n",
      "Custo Após 2240 iterações é 0.2466955854267962\n",
      "Custo Após 2250 iterações é 0.24786275304920669\n",
      "Custo Após 2260 iterações é 0.24851669725004388\n",
      "Custo Após 2270 iterações é 0.2479097491860102\n",
      "Custo Após 2280 iterações é 0.24651822633610937\n",
      "Custo Após 2290 iterações é 0.2452653791241325\n",
      "Custo Após 2300 iterações é 0.23170531917950213\n",
      "Custo Após 2310 iterações é 0.23010788814292843\n",
      "Custo Após 2320 iterações é 0.2303790191902684\n",
      "Custo Após 2330 iterações é 0.2297221141379281\n",
      "Custo Após 2340 iterações é 0.23257299766312997\n",
      "Custo Após 2350 iterações é 0.23216652495984505\n",
      "Custo Após 2360 iterações é 0.23214787808164022\n",
      "Custo Após 2370 iterações é 0.2353201622556971\n",
      "Custo Após 2380 iterações é 0.24999695503819439\n",
      "Custo Após 2390 iterações é 0.26186301016985647\n",
      "Custo Após 2400 iterações é 0.2674939369490622\n",
      "Custo Após 2410 iterações é 0.26208679382367905\n",
      "Custo Após 2420 iterações é 0.24610698171890233\n",
      "Custo Após 2430 iterações é 0.2277245971962891\n",
      "Custo Após 2440 iterações é 0.22541189224083605\n",
      "Custo Após 2450 iterações é 0.2250865560780759\n",
      "Custo Após 2460 iterações é 0.22347985213672872\n",
      "Custo Após 2470 iterações é 0.22637541857227503\n",
      "Custo Após 2480 iterações é 0.2272618598381584\n",
      "Custo Após 2490 iterações é 0.22883349238942471\n",
      "Custo Após 2500 iterações é 0.2291721163765658\n",
      "Custo Após 2510 iterações é 0.23494473649017503\n",
      "Custo Após 2520 iterações é 0.300413681693296\n",
      "Custo Após 2530 iterações é 0.2809387059864048\n",
      "Custo Após 2540 iterações é 0.25839334551472126\n",
      "Custo Após 2550 iterações é 0.22347767244926312\n",
      "Custo Após 2560 iterações é 0.22366913904124228\n",
      "Custo Após 2570 iterações é 0.22781294679629982\n",
      "Custo Após 2580 iterações é 0.2330648287270625\n",
      "Custo Após 2590 iterações é 0.25081661986277703\n",
      "Custo Após 2600 iterações é 0.28004285769801535\n",
      "Custo Após 2610 iterações é 0.22847174064461376\n",
      "Custo Após 2620 iterações é 0.2293016315770207\n",
      "Custo Após 2630 iterações é 0.23388865026019398\n",
      "Custo Após 2640 iterações é 0.23496055444787822\n",
      "Custo Após 2650 iterações é 0.23858850121101652\n",
      "Custo Após 2660 iterações é 0.24085157117338182\n",
      "Custo Após 2670 iterações é 0.24518084782127572\n",
      "Custo Após 2680 iterações é 0.24183284541085945\n",
      "Custo Após 2690 iterações é 0.23869605864265248\n",
      "Custo Após 2700 iterações é 0.24144063793769127\n",
      "Custo Após 2710 iterações é 0.23412012827471196\n",
      "Custo Após 2720 iterações é 0.2360327348345205\n",
      "Custo Após 2730 iterações é 0.24070916525797523\n",
      "Custo Após 2740 iterações é 0.24058048615919922\n",
      "Custo Após 2750 iterações é 0.23738699130299473\n",
      "Custo Após 2760 iterações é 0.23344191359421448\n",
      "Custo Após 2770 iterações é 0.22995248778381294\n",
      "Custo Após 2780 iterações é 0.23443878757703618\n",
      "Custo Após 2790 iterações é 0.2343212427311503\n",
      "Custo Após 2800 iterações é 0.21708881239353142\n",
      "Custo Após 2810 iterações é 0.20992508929537973\n",
      "Custo Após 2820 iterações é 0.23391766410939263\n",
      "Custo Após 2830 iterações é 0.26040440215030425\n",
      "Custo Após 2840 iterações é 0.2092411465127295\n",
      "Custo Após 2850 iterações é 0.20083259541532472\n",
      "Custo Após 2860 iterações é 0.21653099703377043\n",
      "Custo Após 2870 iterações é 0.2719057096637936\n",
      "Custo Após 2880 iterações é 0.20956535705637386\n",
      "Custo Após 2890 iterações é 0.1969498699887256\n",
      "Custo Após 2900 iterações é 0.20829214952807187\n",
      "Custo Após 2910 iterações é 0.2728979737920327\n",
      "Custo Após 2920 iterações é 0.21383808974454444\n",
      "Custo Após 2930 iterações é 0.19453101751555116\n",
      "Custo Após 2940 iterações é 0.19425448282031182\n",
      "Custo Após 2950 iterações é 0.21741001542950394\n",
      "Custo Após 2960 iterações é 0.28349530014285157\n",
      "Custo Após 2970 iterações é 0.19648400124075\n",
      "Custo Após 2980 iterações é 0.1902289549615386\n",
      "Custo Após 2990 iterações é 0.19088009401925252\n",
      "\n",
      "Treinamento Concluído.\n",
      "\n"
     ]
    }
   ],
   "source": [
    "# Treinamento do modelo\n",
    "\n",
    "print(\"\\nIniciando o Treinamento.\\n\")\n",
    "\n",
    "parametros, custo = modeloNN(X = X_treino, \n",
    "                             Y = y_treino, \n",
    "                             dims_camada_entrada = dims_camada_entrada, \n",
    "                             num_iterations = 3000, \n",
    "                             learning_rate = 0.0075)\n",
    "\n",
    "print(\"\\nTreinamento Concluído.\\n\")"
   ]
  },
  {
   "cell_type": "code",
   "execution_count": 49,
   "metadata": {},
   "outputs": [
    {
     "data": {
      "text/plain": [
       "[<matplotlib.lines.Line2D at 0x7fb6abfbad90>]"
      ]
     },
     "execution_count": 49,
     "metadata": {},
     "output_type": "execute_result"
    },
    {
     "data": {
      "image/png": "[encoded data removed]",
      "text/plain": [
       "<Figure size 432x288 with 1 Axes>"
      ]
     },
     "metadata": {
      "needs_background": "light"
     },
     "output_type": "display_data"
    }
   ],
   "source": [
    "# Plot do erro durante o treinamento\n",
    "plt.plot(custo)"
   ]
  },
  {
   "cell_type": "code",
   "execution_count": 50,
   "metadata": {},
   "outputs": [],
   "source": [
    "# Previsões com os dados de treino\n",
    "y_pred_treino = predict(X_treino, parametros)"
   ]
  },
  {
   "cell_type": "code",
   "execution_count": 51,
   "metadata": {},
   "outputs": [
    {
     "data": {
      "text/plain": [
       "array([[1.07033507e-04, 9.10743181e-01, 8.12126367e-03, 9.61330707e-01,\n",
       "        9.64133125e-01, 9.36331571e-01, 9.50283202e-01, 9.60114533e-01,\n",
       "        9.52738986e-01, 9.70564987e-01, 3.23991384e-06, 9.53260556e-01,\n",
       "        8.45117752e-03, 1.34440081e-08, 7.60250226e-01, 9.56897405e-01,\n",
       "        1.09677466e-03, 9.47886768e-01, 2.83203787e-01, 9.51485155e-01,\n",
       "        4.62617725e-02, 9.78291518e-01, 7.80271755e-03, 9.56966921e-01,\n",
       "        9.44799679e-01, 1.42131544e-04, 1.79278265e-01, 9.26422264e-01,\n",
       "        9.60472796e-01, 9.52170698e-01, 9.37462520e-01, 8.81372935e-01,\n",
       "        6.78466090e-13, 7.98936887e-02, 2.23081812e-01, 9.65541983e-01,\n",
       "        6.69544338e-01, 9.20896325e-01, 9.59986633e-01, 9.07978194e-01,\n",
       "        9.60795619e-01, 9.56940366e-01, 2.84549111e-04, 9.40242937e-01,\n",
       "        2.70232540e-08, 4.94800067e-01, 9.37888962e-01, 8.62166796e-01,\n",
       "        9.41614331e-01, 9.02734863e-01, 5.36052325e-03, 2.50519366e-03,\n",
       "        9.61667033e-01, 8.92080153e-01, 9.48678380e-05, 9.62196901e-01,\n",
       "        9.52938355e-01, 1.17711868e-01, 4.68034019e-03, 2.86031524e-04,\n",
       "        2.41297503e-08, 2.58960301e-04, 9.47928759e-01, 5.90780288e-05,\n",
       "        8.63493242e-01, 3.55635760e-09, 9.49144501e-01, 9.45248582e-01,\n",
       "        8.91000760e-01, 8.73501640e-01, 9.62037782e-01, 9.64148245e-01,\n",
       "        8.79063275e-01, 6.42476942e-03, 9.46954492e-01, 9.54332504e-01,\n",
       "        4.94846207e-04, 8.51015794e-01, 4.98332676e-05, 9.25965162e-01,\n",
       "        8.74212501e-01, 1.43624433e-02, 9.53725138e-01, 9.31799690e-01,\n",
       "        2.98246876e-01, 9.56395109e-01, 1.05279259e-03, 9.40533328e-01,\n",
       "        7.03725233e-02, 5.60297457e-01, 9.59761867e-01, 8.13102307e-01,\n",
       "        9.64198524e-01, 9.49562651e-01, 1.74115238e-05, 9.22761500e-01,\n",
       "        8.43333492e-01, 7.03801234e-01, 9.54538668e-01, 2.08470776e-11,\n",
       "        8.02569811e-01, 4.91949534e-02, 9.56284223e-01, 1.34275726e-01,\n",
       "        9.53675866e-01, 8.62334794e-01, 9.67525690e-01, 9.57668894e-01,\n",
       "        7.36438766e-01, 9.72414174e-01, 8.69515927e-01, 1.98810059e-03,\n",
       "        1.34412094e-03, 9.51986600e-01, 9.56884925e-01, 8.35280911e-01,\n",
       "        8.87023235e-01, 9.68160470e-01, 9.13619030e-01, 8.81419328e-01,\n",
       "        2.04470344e-03, 9.01245249e-01, 9.23667784e-01, 1.04679367e-01,\n",
       "        9.45864491e-01, 9.58688425e-01, 1.19813308e-07, 3.00122011e-02,\n",
       "        9.38649108e-01, 9.65579413e-01, 8.62017801e-01, 1.47032874e-01,\n",
       "        4.28030024e-01, 8.98649981e-06, 1.89735196e-03, 7.40449559e-01,\n",
       "        3.42603975e-03, 9.61690950e-01, 9.34591877e-01, 2.48947036e-02,\n",
       "        9.68517878e-01, 9.58573706e-01, 9.54710449e-01, 9.44146308e-01,\n",
       "        5.90108550e-01, 9.57341388e-01, 9.43195305e-01, 9.65590329e-01,\n",
       "        8.69198546e-03, 7.93386265e-01, 5.82330324e-01, 6.23788443e-02,\n",
       "        9.55980954e-01, 8.52300801e-01, 9.60870937e-01, 9.65347958e-01,\n",
       "        9.44791148e-01, 6.06144838e-01, 9.54322803e-01, 1.80346976e-03,\n",
       "        8.87457658e-01, 9.44051503e-01, 2.90608725e-01, 9.28943867e-01,\n",
       "        9.19668801e-01, 9.60587203e-01, 9.61018879e-01, 1.56695197e-07,\n",
       "        2.14290301e-02, 9.50022042e-01, 9.66888194e-01, 4.78708456e-02,\n",
       "        7.03736820e-11, 3.77760696e-03, 8.49118638e-01, 9.38727152e-01,\n",
       "        1.39405424e-03, 1.61695517e-07, 9.49492443e-01, 8.96649790e-01,\n",
       "        9.59433464e-01, 9.73419783e-01, 9.52159562e-01, 9.61014380e-01,\n",
       "        2.58453589e-02, 5.44960895e-01, 8.20504428e-01, 5.25569468e-25,\n",
       "        9.49197755e-01, 8.71649209e-01, 8.83908580e-01, 8.68012881e-01,\n",
       "        9.41403613e-01, 9.63148503e-01, 1.80466933e-14, 9.33061445e-01,\n",
       "        9.00407430e-01, 8.30419646e-01, 9.19708485e-01, 9.65011528e-01,\n",
       "        9.63049072e-01, 9.59556154e-01, 9.67761001e-01, 9.13303257e-01,\n",
       "        2.71598551e-01, 9.58723350e-01, 9.33784558e-01, 9.60051015e-01,\n",
       "        9.57044733e-01, 7.43386487e-02, 9.65857288e-01, 3.61935673e-04,\n",
       "        9.11921945e-01, 9.47900439e-01, 5.40802784e-04, 9.65767661e-01,\n",
       "        9.42949280e-01, 7.28449990e-15, 9.77771192e-01, 1.75781917e-01,\n",
       "        9.68339822e-01, 9.74854142e-01, 9.62776837e-01, 9.49817329e-01,\n",
       "        3.21281024e-01, 6.57164739e-02, 9.37315294e-01, 4.38626397e-08,\n",
       "        6.95814201e-04, 6.25900253e-04, 1.42020149e-04, 8.62033591e-01,\n",
       "        4.65754881e-15, 3.02885130e-05, 9.47622678e-01, 4.52853356e-02,\n",
       "        1.67057432e-01, 9.60161679e-01, 2.71533984e-01, 3.64830216e-06,\n",
       "        3.67354510e-01, 3.41737457e-04, 9.61819267e-01, 9.28146039e-01,\n",
       "        2.69852835e-05, 4.29678713e-20, 9.05312912e-01, 9.46334869e-01,\n",
       "        9.68365994e-01, 1.92002470e-04, 7.87530853e-01, 9.50040266e-01,\n",
       "        1.38763265e-04, 9.71941328e-06, 1.75485872e-02, 9.03330268e-01,\n",
       "        9.64815288e-01, 9.23835668e-01, 2.96373289e-11, 9.71963392e-01,\n",
       "        8.03411761e-05, 9.69103966e-01, 9.76704496e-01, 9.70636835e-01,\n",
       "        9.61594658e-01, 9.50573654e-01, 9.67120385e-01, 9.66287743e-01,\n",
       "        2.02352238e-02, 9.63327874e-01, 8.85202741e-01, 9.65752853e-01,\n",
       "        2.04879001e-07, 9.00545754e-01, 9.74263472e-01, 1.49225073e-07,\n",
       "        4.27247227e-07, 9.65864720e-01, 9.67200396e-01, 9.66870257e-01,\n",
       "        4.91726647e-01, 4.34000116e-02, 9.61652502e-01, 9.40029939e-01,\n",
       "        2.61020107e-01, 9.07711821e-01, 9.47660839e-01, 9.68669579e-01,\n",
       "        4.61623761e-01, 9.60413020e-01, 8.12776672e-06, 9.45612077e-01,\n",
       "        1.46711116e-03, 9.70437630e-01, 9.50992256e-01, 9.46771391e-01,\n",
       "        9.70309225e-01, 8.89142036e-01, 1.25653003e-01, 2.39071424e-01,\n",
       "        9.51021149e-01, 9.65663266e-01, 6.33792743e-01, 9.54512614e-01,\n",
       "        9.48621770e-01, 6.78534021e-01, 9.52321655e-01, 6.82026817e-01,\n",
       "        9.71481873e-01, 9.19626774e-01, 5.07174029e-11, 6.57903919e-01,\n",
       "        9.64567160e-01, 9.63121573e-01, 9.67014654e-01, 9.32164937e-01,\n",
       "        7.29671161e-02, 9.62596237e-01, 9.62940617e-01, 3.44701263e-09,\n",
       "        9.55527698e-01, 9.55231331e-01, 2.69577291e-02, 8.85915967e-01,\n",
       "        7.54583940e-01, 1.45358184e-02, 2.07267747e-04, 1.14205744e-02,\n",
       "        9.63847854e-01, 9.69881366e-01, 3.97303257e-05, 9.65328004e-01,\n",
       "        2.00845278e-03, 9.55737581e-01, 9.68943250e-01, 9.13064745e-01,\n",
       "        9.53477751e-01, 9.63128806e-01, 3.37921273e-06, 9.60331701e-01,\n",
       "        7.24250277e-01, 9.48716242e-01, 9.61819930e-01, 9.62173169e-01,\n",
       "        9.44890065e-01, 9.49736005e-01, 9.69648950e-01, 9.61286131e-01,\n",
       "        3.69425941e-04, 9.49003584e-01, 1.14845378e-06, 9.69575314e-01,\n",
       "        9.55051721e-01, 9.51622634e-01, 9.46785994e-01, 8.98379661e-01,\n",
       "        9.65168826e-01, 9.40278012e-01, 9.15315945e-01, 8.10258322e-01,\n",
       "        9.30497622e-01, 3.43280280e-01, 9.48401600e-01, 8.60609956e-01,\n",
       "        6.89098192e-10, 5.05248175e-01, 8.80788896e-02, 1.50580708e-06,\n",
       "        1.13073836e-24, 9.45693460e-01, 9.53078994e-01, 8.90912760e-01,\n",
       "        9.40665670e-01, 9.44396818e-01, 8.02082025e-02, 9.66261089e-01,\n",
       "        9.48398775e-01, 9.14129766e-01, 9.41129643e-01, 5.61750923e-01,\n",
       "        9.64217193e-01, 2.66800646e-01, 9.40366241e-01, 9.63781228e-01,\n",
       "        9.40449269e-01, 8.84352666e-01, 9.67106177e-01, 9.35721161e-01,\n",
       "        9.32146899e-01, 1.12143765e-03, 1.62112617e-02, 6.13931822e-01,\n",
       "        9.63683591e-01, 9.49994871e-01, 9.60943253e-01, 8.35367642e-01,\n",
       "        9.61709564e-01, 8.89370164e-01, 1.17267896e-03, 8.69730879e-01,\n",
       "        9.69336468e-01, 9.73766074e-01, 9.32903725e-01, 9.70803040e-01,\n",
       "        9.54942735e-01, 9.58837378e-01, 9.65215853e-01, 9.34459174e-01,\n",
       "        9.72240652e-01, 7.27732333e-02, 9.64671646e-01, 9.61283407e-01,\n",
       "        9.63046204e-01, 1.16094585e-01, 9.45678214e-01, 3.12623263e-14,\n",
       "        8.94849440e-01, 9.49877687e-01, 9.23859004e-01, 8.64536371e-01,\n",
       "        2.02989893e-03, 9.65142151e-01, 9.22622119e-01, 9.69958263e-01,\n",
       "        9.69538871e-01, 9.63948157e-01, 9.23678594e-01, 9.48844245e-01,\n",
       "        9.47793888e-01, 9.42050096e-01, 9.56950867e-01, 3.37823311e-06,\n",
       "        9.43584999e-01, 9.49108347e-01, 9.39246714e-01, 9.30550500e-01,\n",
       "        2.17585067e-02, 9.44517294e-01, 1.72720883e-07, 9.32014992e-01,\n",
       "        9.24629661e-01, 2.98350418e-04, 9.70135773e-08, 4.95616341e-01,\n",
       "        9.55855140e-01, 9.69945191e-01, 9.13201845e-01, 4.49137901e-03,\n",
       "        9.54262303e-01, 9.60845626e-01, 7.69866293e-01, 9.36592782e-01,\n",
       "        9.42530484e-01, 8.47032239e-01, 9.70414607e-01, 3.70898086e-04,\n",
       "        1.28451156e-04, 9.49877580e-01, 9.29338376e-01, 9.08730455e-01,\n",
       "        9.49092477e-01, 9.63737504e-14, 9.63950874e-01, 9.58351456e-01,\n",
       "        3.40014652e-01, 9.47938122e-01, 4.88651481e-01, 9.64996438e-01,\n",
       "        2.29863480e-06, 9.38277992e-01, 9.46582207e-01, 1.83861401e-04,\n",
       "        9.48136359e-01, 1.74376608e-02, 9.54052362e-01, 9.46553822e-01,\n",
       "        9.49152441e-01, 9.63166516e-01, 9.68917466e-01, 5.63952222e-07,\n",
       "        9.66898151e-01, 2.29941135e-04, 1.86536053e-03]])"
      ]
     },
     "execution_count": 51,
     "metadata": {},
     "output_type": "execute_result"
    }
   ],
   "source": [
    "# Visualiza as previsões\n",
    "y_pred_treino"
   ]
  },
  {
   "cell_type": "code",
   "execution_count": 52,
   "metadata": {},
   "outputs": [],
   "source": [
    "# Ajustamos o shape em treino\n",
    "y_pred_treino = y_pred_treino.reshape(-1)\n",
    "y_treino = y_treino.reshape(-1)"
   ]
  },
  {
   "cell_type": "code",
   "execution_count": 53,
   "metadata": {},
   "outputs": [
    {
     "data": {
      "text/plain": [
       "array([False,  True, False,  True,  True,  True,  True,  True,  True,\n",
       "        True, False,  True, False, False,  True,  True, False,  True,\n",
       "       False,  True, False,  True, False,  True,  True, False, False,\n",
       "        True,  True,  True,  True,  True, False, False, False,  True,\n",
       "        True,  True,  True,  True,  True,  True, False,  True, False,\n",
       "       False,  True,  True,  True,  True, False, False,  True,  True,\n",
       "       False,  True,  True, False, False, False, False, False,  True,\n",
       "       False,  True, False,  True,  True,  True,  True,  True,  True,\n",
       "        True, False,  True,  True, False,  True, False,  True,  True,\n",
       "       False,  True,  True, False,  True, False,  True, False,  True,\n",
       "        True,  True,  True,  True, False,  True,  True,  True,  True,\n",
       "       False,  True, False,  True, False,  True,  True,  True,  True,\n",
       "        True,  True,  True, False, False,  True,  True,  True,  True,\n",
       "        True,  True,  True, False,  True,  True, False,  True,  True,\n",
       "       False, False,  True,  True,  True, False, False, False, False,\n",
       "        True, False,  True,  True, False,  True,  True,  True,  True,\n",
       "        True,  True,  True,  True, False,  True,  True, False,  True,\n",
       "        True,  True,  True,  True,  True,  True, False,  True,  True,\n",
       "       False,  True,  True,  True,  True, False, False,  True,  True,\n",
       "       False, False, False,  True,  True, False, False,  True,  True,\n",
       "        True,  True,  True,  True, False,  True,  True, False,  True,\n",
       "        True,  True,  True,  True,  True, False,  True,  True,  True,\n",
       "        True,  True,  True,  True,  True,  True, False,  True,  True,\n",
       "        True,  True, False,  True, False,  True,  True, False,  True,\n",
       "        True, False,  True, False,  True,  True,  True,  True, False,\n",
       "       False,  True, False, False, False, False,  True, False, False,\n",
       "        True, False, False,  True, False, False, False, False,  True,\n",
       "        True, False, False,  True,  True,  True, False,  True,  True,\n",
       "       False, False, False,  True,  True,  True, False,  True, False,\n",
       "        True,  True,  True,  True,  True,  True,  True, False,  True,\n",
       "        True,  True, False,  True,  True, False, False,  True,  True,\n",
       "        True, False, False,  True,  True, False,  True,  True,  True,\n",
       "       False,  True, False,  True, False,  True,  True,  True,  True,\n",
       "        True, False, False,  True,  True,  True,  True,  True,  True,\n",
       "        True,  True,  True,  True, False,  True,  True,  True,  True,\n",
       "        True, False,  True,  True, False,  True,  True, False,  True,\n",
       "        True, False, False, False,  True,  True, False,  True, False,\n",
       "        True,  True,  True,  True,  True, False,  True,  True,  True,\n",
       "        True,  True,  True,  True,  True,  True, False,  True, False,\n",
       "        True,  True,  True,  True,  True,  True,  True,  True,  True,\n",
       "        True, False,  True,  True, False,  True, False, False, False,\n",
       "        True,  True,  True,  True,  True, False,  True,  True,  True,\n",
       "        True,  True,  True, False,  True,  True,  True,  True,  True,\n",
       "        True,  True, False, False,  True,  True,  True,  True,  True,\n",
       "        True,  True, False,  True,  True,  True,  True,  True,  True,\n",
       "        True,  True,  True,  True, False,  True,  True,  True, False,\n",
       "        True, False,  True,  True,  True,  True, False,  True,  True,\n",
       "        True,  True,  True,  True,  True,  True,  True,  True, False,\n",
       "        True,  True,  True,  True, False,  True, False,  True,  True,\n",
       "       False, False, False,  True,  True,  True, False,  True,  True,\n",
       "        True,  True,  True,  True,  True, False, False,  True,  True,\n",
       "        True,  True, False,  True,  True, False,  True, False,  True,\n",
       "       False,  True,  True, False,  True, False,  True,  True,  True,\n",
       "        True,  True, False,  True, False, False])"
      ]
     },
     "execution_count": 53,
     "metadata": {},
     "output_type": "execute_result"
    }
   ],
   "source": [
    "y_pred_treino > 0.5"
   ]
  },
  {
   "cell_type": "code",
   "execution_count": 54,
   "metadata": {},
   "outputs": [],
   "source": [
    "# Convertemos as previsões para o valor binário de classe \n",
    "# (0 ou 1, usando como threshold o valor de 0.5 da probabilidade)\n",
    "y_pred_treino = 1 * (y_pred_treino > 0.5)"
   ]
  },
  {
   "cell_type": "code",
   "execution_count": 55,
   "metadata": {},
   "outputs": [
    {
     "data": {
      "text/plain": [
       "array([0, 1, 0, 1, 1, 1, 1, 1, 1, 1, 0, 1, 0, 0, 1, 1, 0, 1, 0, 1, 0, 1,\n",
       "       0, 1, 1, 0, 0, 1, 1, 1, 1, 1, 0, 0, 0, 1, 1, 1, 1, 1, 1, 1, 0, 1,\n",
       "       0, 0, 1, 1, 1, 1, 0, 0, 1, 1, 0, 1, 1, 0, 0, 0, 0, 0, 1, 0, 1, 0,\n",
       "       1, 1, 1, 1, 1, 1, 1, 0, 1, 1, 0, 1, 0, 1, 1, 0, 1, 1, 0, 1, 0, 1,\n",
       "       0, 1, 1, 1, 1, 1, 0, 1, 1, 1, 1, 0, 1, 0, 1, 0, 1, 1, 1, 1, 1, 1,\n",
       "       1, 0, 0, 1, 1, 1, 1, 1, 1, 1, 0, 1, 1, 0, 1, 1, 0, 0, 1, 1, 1, 0,\n",
       "       0, 0, 0, 1, 0, 1, 1, 0, 1, 1, 1, 1, 1, 1, 1, 1, 0, 1, 1, 0, 1, 1,\n",
       "       1, 1, 1, 1, 1, 0, 1, 1, 0, 1, 1, 1, 1, 0, 0, 1, 1, 0, 0, 0, 1, 1,\n",
       "       0, 0, 1, 1, 1, 1, 1, 1, 0, 1, 1, 0, 1, 1, 1, 1, 1, 1, 0, 1, 1, 1,\n",
       "       1, 1, 1, 1, 1, 1, 0, 1, 1, 1, 1, 0, 1, 0, 1, 1, 0, 1, 1, 0, 1, 0,\n",
       "       1, 1, 1, 1, 0, 0, 1, 0, 0, 0, 0, 1, 0, 0, 1, 0, 0, 1, 0, 0, 0, 0,\n",
       "       1, 1, 0, 0, 1, 1, 1, 0, 1, 1, 0, 0, 0, 1, 1, 1, 0, 1, 0, 1, 1, 1,\n",
       "       1, 1, 1, 1, 0, 1, 1, 1, 0, 1, 1, 0, 0, 1, 1, 1, 0, 0, 1, 1, 0, 1,\n",
       "       1, 1, 0, 1, 0, 1, 0, 1, 1, 1, 1, 1, 0, 0, 1, 1, 1, 1, 1, 1, 1, 1,\n",
       "       1, 1, 0, 1, 1, 1, 1, 1, 0, 1, 1, 0, 1, 1, 0, 1, 1, 0, 0, 0, 1, 1,\n",
       "       0, 1, 0, 1, 1, 1, 1, 1, 0, 1, 1, 1, 1, 1, 1, 1, 1, 1, 0, 1, 0, 1,\n",
       "       1, 1, 1, 1, 1, 1, 1, 1, 1, 0, 1, 1, 0, 1, 0, 0, 0, 1, 1, 1, 1, 1,\n",
       "       0, 1, 1, 1, 1, 1, 1, 0, 1, 1, 1, 1, 1, 1, 1, 0, 0, 1, 1, 1, 1, 1,\n",
       "       1, 1, 0, 1, 1, 1, 1, 1, 1, 1, 1, 1, 1, 0, 1, 1, 1, 0, 1, 0, 1, 1,\n",
       "       1, 1, 0, 1, 1, 1, 1, 1, 1, 1, 1, 1, 1, 0, 1, 1, 1, 1, 0, 1, 0, 1,\n",
       "       1, 0, 0, 0, 1, 1, 1, 0, 1, 1, 1, 1, 1, 1, 1, 0, 0, 1, 1, 1, 1, 0,\n",
       "       1, 1, 0, 1, 0, 1, 0, 1, 1, 0, 1, 0, 1, 1, 1, 1, 1, 0, 1, 0, 0])"
      ]
     },
     "execution_count": 55,
     "metadata": {},
     "output_type": "execute_result"
    }
   ],
   "source": [
    "y_pred_treino"
   ]
  },
  {
   "cell_type": "code",
   "execution_count": 56,
   "metadata": {},
   "outputs": [],
   "source": [
    "# Calculamos a acurácia comparando valor real com valor previsto\n",
    "acc_treino = sum(1 * (y_pred_treino == y_treino)) / len(y_pred_treino) * 100"
   ]
  },
  {
   "cell_type": "code",
   "execution_count": 57,
   "metadata": {},
   "outputs": [
    {
     "name": "stdout",
     "output_type": "stream",
     "text": [
      "Acurácia nos dados de treino: 92.54658385093167\n"
     ]
    }
   ],
   "source": [
    "print(\"Acurácia nos dados de treino: \" + str(acc_treino))"
   ]
  },
  {
   "cell_type": "code",
   "execution_count": 58,
   "metadata": {},
   "outputs": [
    {
     "name": "stdout",
     "output_type": "stream",
     "text": [
      "              precision    recall  f1-score   support\n",
      "\n",
      "     Maligno       0.99      0.81      0.89       180\n",
      "     Benigno       0.90      0.99      0.94       303\n",
      "\n",
      "    accuracy                           0.93       483\n",
      "   macro avg       0.94      0.90      0.92       483\n",
      "weighted avg       0.93      0.93      0.92       483\n",
      "\n"
     ]
    }
   ],
   "source": [
    "print(classification_report(y_treino, y_pred_treino, target_names = ['Maligno', 'Benigno']))"
   ]
  },
  {
   "cell_type": "code",
   "execution_count": 59,
   "metadata": {},
   "outputs": [],
   "source": [
    "# Previsões com o modelo usando dados de teste\n",
    "y_pred_teste = predict(X_teste, parametros)"
   ]
  },
  {
   "cell_type": "code",
   "execution_count": 60,
   "metadata": {},
   "outputs": [
    {
     "data": {
      "text/plain": [
       "array([[9.67767501e-01, 9.60440539e-01, 9.19000337e-01, 9.47218979e-01,\n",
       "        5.96433029e-01, 7.74220546e-01, 5.67083073e-11, 8.54958571e-01,\n",
       "        1.37332383e-03, 9.74976483e-01, 9.54678491e-01, 9.62535119e-01,\n",
       "        8.52426153e-07, 6.66755283e-04, 8.72467152e-01, 2.33715371e-01,\n",
       "        9.67450142e-01, 9.65788699e-01, 9.58612208e-01, 9.60597058e-01,\n",
       "        9.67422312e-01, 4.16514122e-02, 9.61881493e-01, 9.71167982e-01,\n",
       "        9.55988592e-01, 9.69081276e-01, 9.48619340e-01, 9.66624710e-01,\n",
       "        9.42186424e-01, 7.11507808e-01, 9.49818887e-01, 4.94890228e-04,\n",
       "        4.13451880e-04, 8.94316428e-01, 9.48951848e-01, 5.93260927e-01,\n",
       "        1.86345643e-01, 9.12255095e-01, 9.52872256e-01, 9.50865211e-01,\n",
       "        9.34036664e-01, 9.50985992e-01, 9.42416527e-01, 9.67723023e-01,\n",
       "        9.52904320e-01, 9.64248310e-01, 6.79476681e-01, 9.71621895e-01,\n",
       "        9.64969335e-01, 3.73587367e-01, 5.79511451e-01, 9.18591318e-01,\n",
       "        9.40137460e-01, 2.58079845e-01, 9.68465005e-01, 9.49494432e-01,\n",
       "        5.52748585e-05, 9.38106199e-01, 6.08343912e-05, 2.64931337e-02,\n",
       "        2.52737176e-01, 9.78964487e-01, 9.47655118e-01, 7.18487100e-01,\n",
       "        9.40959297e-01, 9.71676822e-01, 9.64020331e-01, 8.63461286e-01,\n",
       "        9.56822320e-01, 9.03586336e-01, 8.18075909e-01, 9.59522705e-01,\n",
       "        9.15381050e-01, 9.44633316e-01, 9.72500654e-01, 7.95404163e-01,\n",
       "        9.52619678e-01, 9.35527229e-05, 7.22057816e-03, 6.71820437e-13,\n",
       "        8.30171219e-14, 8.59092530e-01, 9.17312202e-01, 8.99063604e-01,\n",
       "        3.96103343e-01, 9.45384994e-01]])"
      ]
     },
     "execution_count": 60,
     "metadata": {},
     "output_type": "execute_result"
    }
   ],
   "source": [
    "# Visualiza os dados\n",
    "y_pred_teste"
   ]
  },
  {
   "cell_type": "code",
   "execution_count": 61,
   "metadata": {},
   "outputs": [],
   "source": [
    "# Ajustamos os shapes\n",
    "y_pred_teste = y_pred_teste.reshape(-1)\n",
    "y_teste = y_teste.reshape(-1)"
   ]
  },
  {
   "cell_type": "code",
   "execution_count": 62,
   "metadata": {},
   "outputs": [],
   "source": [
    "# Convertemos as previsões para o valor binário de classe\n",
    "y_pred_teste = 1 * (y_pred_teste > 0.5)"
   ]
  },
  {
   "cell_type": "code",
   "execution_count": 63,
   "metadata": {},
   "outputs": [
    {
     "data": {
      "text/plain": [
       "array([1, 1, 1, 1, 1, 1, 0, 1, 0, 1, 1, 1, 0, 0, 1, 0, 1, 1, 1, 1, 1, 0,\n",
       "       1, 1, 1, 1, 1, 1, 1, 1, 1, 0, 0, 1, 1, 1, 0, 1, 1, 1, 1, 1, 1, 1,\n",
       "       1, 1, 1, 1, 1, 0, 1, 1, 1, 0, 1, 1, 0, 1, 0, 0, 0, 1, 1, 1, 1, 1,\n",
       "       1, 1, 1, 1, 1, 1, 1, 1, 1, 1, 1, 0, 0, 0, 0, 1, 1, 1, 0, 1])"
      ]
     },
     "execution_count": 63,
     "metadata": {},
     "output_type": "execute_result"
    }
   ],
   "source": [
    "# Visualizamos as previsões\n",
    "y_pred_teste"
   ]
  },
  {
   "cell_type": "code",
   "execution_count": 64,
   "metadata": {},
   "outputs": [],
   "source": [
    "# Calculamos a acurácia\n",
    "acuracia = sum(1 * (y_pred_teste == y_teste)) / len(y_pred_teste) * 100"
   ]
  },
  {
   "cell_type": "code",
   "execution_count": 65,
   "metadata": {},
   "outputs": [
    {
     "name": "stdout",
     "output_type": "stream",
     "text": [
      "Acurácia nos dados de teste: 83.72093023255815\n"
     ]
    }
   ],
   "source": [
    "print(\"Acurácia nos dados de teste: \" + str(acuracia))"
   ]
  },
  {
   "cell_type": "code",
   "execution_count": 66,
   "metadata": {},
   "outputs": [
    {
     "name": "stdout",
     "output_type": "stream",
     "text": [
      "              precision    recall  f1-score   support\n",
      "\n",
      "     Maligno       0.95      0.59      0.73        32\n",
      "     Benigno       0.80      0.98      0.88        54\n",
      "\n",
      "    accuracy                           0.84        86\n",
      "   macro avg       0.88      0.79      0.81        86\n",
      "weighted avg       0.86      0.84      0.83        86\n",
      "\n"
     ]
    }
   ],
   "source": [
    "print(classification_report(y_teste, y_pred_teste, target_names = ['Maligno', 'Benigno']))"
   ]
  },
  {
   "cell_type": "markdown",
   "metadata": {},
   "source": [
    "# Fim"
   ]
  }
 ],
 "metadata": {
  "kernelspec": {
   "display_name": "Python 3",
   "language": "python",
   "name": "python3"
  },
  "language_info": {
   "codemirror_mode": {
    "name": "ipython",
    "version": 3
   },
   "file_extension": ".py",
   "mimetype": "text/x-python",
   "name": "python",
   "nbconvert_exporter": "python",
   "pygments_lexer": "ipython3",
   "version": "3.7.6"
  }
 },
 "nbformat": 4,
 "nbformat_minor": 4
}
